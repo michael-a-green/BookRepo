{
 "cells": [
  {
   "cell_type": "markdown",
   "source": [
    "# Chapter 2 Notebook\n",
    "Just some code I wrote as I followed along in chapter 2 of [_Practical Time Series Analysis_](https://www.amazon.com/dp/1492041653/ref=cm_sw_em_r_mt_dp_3YTN6VJT9KEB682ZV1FC)\n"
   ],
   "metadata": {
    "collapsed": false,
    "pycharm": {
     "name": "#%% md\n"
    }
   }
  },
  {
   "cell_type": "code",
   "execution_count": 1,
   "metadata": {
    "collapsed": true
   },
   "outputs": [],
   "source": [
    "import numpy as np\n",
    "import pandas as pd\n",
    "import matplotlib.pyplot as plt\n",
    "\n",
    "import datetime\n",
    "from dateutil.relativedelta import relativedelta\n",
    "\n",
    "import math\n",
    "import random"
   ]
  },
  {
   "cell_type": "code",
   "execution_count": 2,
   "outputs": [],
   "source": [
    "RAND_SEED=42\n"
   ],
   "metadata": {
    "collapsed": false,
    "pycharm": {
     "name": "#%%\n"
    }
   }
  },
  {
   "cell_type": "code",
   "execution_count": 3,
   "outputs": [],
   "source": [
    "YearJoined_df = pd.read_csv(\"/Users/magreen/Dropbox/PERSONAL/Documents/Practical_Time_Series_Analysis/git/BookRepo/Ch02/data/year_joined.csv\")\n",
    "emails_df = pd.read_csv(\"/Users/magreen/Dropbox/PERSONAL/Documents/Practical_Time_Series_Analysis/git/BookRepo/Ch02/data/emails.csv\")\n",
    "donations_df = pd.read_csv(\"/Users/magreen/Dropbox/PERSONAL/Documents/Practical_Time_Series_Analysis/git/BookRepo/Ch02/data/donations.csv\")\n"
   ],
   "metadata": {
    "collapsed": false,
    "pycharm": {
     "name": "#%%\n"
    }
   }
  },
  {
   "cell_type": "code",
   "execution_count": 4,
   "outputs": [
    {
     "data": {
      "text/plain": "(2676, 3)"
     },
     "execution_count": 4,
     "metadata": {},
     "output_type": "execute_result"
    }
   ],
   "source": [
    "donations_df.shape\n"
   ],
   "metadata": {
    "collapsed": false,
    "pycharm": {
     "name": "#%%\n"
    }
   }
  },
  {
   "cell_type": "code",
   "execution_count": 5,
   "outputs": [
    {
     "name": "stdout",
     "output_type": "stream",
     "text": [
      "<class 'pandas.core.frame.DataFrame'>\n",
      "RangeIndex: 2676 entries, 0 to 2675\n",
      "Data columns (total 3 columns):\n",
      " #   Column     Non-Null Count  Dtype  \n",
      "---  ------     --------------  -----  \n",
      " 0   amount     2676 non-null   float64\n",
      " 1   timestamp  2676 non-null   object \n",
      " 2   user       2676 non-null   float64\n",
      "dtypes: float64(2), object(1)\n",
      "memory usage: 62.8+ KB\n"
     ]
    }
   ],
   "source": [
    "donations_df.info()"
   ],
   "metadata": {
    "collapsed": false,
    "pycharm": {
     "name": "#%%\n"
    }
   }
  },
  {
   "cell_type": "code",
   "execution_count": 6,
   "outputs": [
    {
     "data": {
      "text/plain": "            amount         user\ncount  2676.000000  2676.000000\nmean    178.447309   477.896114\nstd     370.440543   287.538612\nmin      25.000000     0.000000\n25%      25.000000   220.000000\n50%      50.000000   474.000000\n75%      75.000000   711.250000\nmax    2000.000000   998.000000",
      "text/html": "<div>\n<style scoped>\n    .dataframe tbody tr th:only-of-type {\n        vertical-align: middle;\n    }\n\n    .dataframe tbody tr th {\n        vertical-align: top;\n    }\n\n    .dataframe thead th {\n        text-align: right;\n    }\n</style>\n<table border=\"1\" class=\"dataframe\">\n  <thead>\n    <tr style=\"text-align: right;\">\n      <th></th>\n      <th>amount</th>\n      <th>user</th>\n    </tr>\n  </thead>\n  <tbody>\n    <tr>\n      <th>count</th>\n      <td>2676.000000</td>\n      <td>2676.000000</td>\n    </tr>\n    <tr>\n      <th>mean</th>\n      <td>178.447309</td>\n      <td>477.896114</td>\n    </tr>\n    <tr>\n      <th>std</th>\n      <td>370.440543</td>\n      <td>287.538612</td>\n    </tr>\n    <tr>\n      <th>min</th>\n      <td>25.000000</td>\n      <td>0.000000</td>\n    </tr>\n    <tr>\n      <th>25%</th>\n      <td>25.000000</td>\n      <td>220.000000</td>\n    </tr>\n    <tr>\n      <th>50%</th>\n      <td>50.000000</td>\n      <td>474.000000</td>\n    </tr>\n    <tr>\n      <th>75%</th>\n      <td>75.000000</td>\n      <td>711.250000</td>\n    </tr>\n    <tr>\n      <th>max</th>\n      <td>2000.000000</td>\n      <td>998.000000</td>\n    </tr>\n  </tbody>\n</table>\n</div>"
     },
     "execution_count": 6,
     "metadata": {},
     "output_type": "execute_result"
    }
   ],
   "source": [
    "donations_df.describe()"
   ],
   "metadata": {
    "collapsed": false,
    "pycharm": {
     "name": "#%%\n"
    }
   }
  },
  {
   "cell_type": "code",
   "execution_count": 7,
   "outputs": [
    {
     "data": {
      "text/plain": "   amount            timestamp  user\n0    25.0  2017-11-12 11:13:44   0.0\n1    50.0  2015-08-25 19:01:45   0.0\n2    25.0  2015-03-26 12:03:47   0.0\n3    50.0  2016-07-06 12:24:55   0.0\n4    50.0  2016-05-11 18:13:04   1.0",
      "text/html": "<div>\n<style scoped>\n    .dataframe tbody tr th:only-of-type {\n        vertical-align: middle;\n    }\n\n    .dataframe tbody tr th {\n        vertical-align: top;\n    }\n\n    .dataframe thead th {\n        text-align: right;\n    }\n</style>\n<table border=\"1\" class=\"dataframe\">\n  <thead>\n    <tr style=\"text-align: right;\">\n      <th></th>\n      <th>amount</th>\n      <th>timestamp</th>\n      <th>user</th>\n    </tr>\n  </thead>\n  <tbody>\n    <tr>\n      <th>0</th>\n      <td>25.0</td>\n      <td>2017-11-12 11:13:44</td>\n      <td>0.0</td>\n    </tr>\n    <tr>\n      <th>1</th>\n      <td>50.0</td>\n      <td>2015-08-25 19:01:45</td>\n      <td>0.0</td>\n    </tr>\n    <tr>\n      <th>2</th>\n      <td>25.0</td>\n      <td>2015-03-26 12:03:47</td>\n      <td>0.0</td>\n    </tr>\n    <tr>\n      <th>3</th>\n      <td>50.0</td>\n      <td>2016-07-06 12:24:55</td>\n      <td>0.0</td>\n    </tr>\n    <tr>\n      <th>4</th>\n      <td>50.0</td>\n      <td>2016-05-11 18:13:04</td>\n      <td>1.0</td>\n    </tr>\n  </tbody>\n</table>\n</div>"
     },
     "execution_count": 7,
     "metadata": {},
     "output_type": "execute_result"
    }
   ],
   "source": [
    "donations_df.head()"
   ],
   "metadata": {
    "collapsed": false,
    "pycharm": {
     "name": "#%%\n"
    }
   }
  },
  {
   "cell_type": "code",
   "execution_count": 8,
   "outputs": [
    {
     "data": {
      "text/plain": "(1000, 3)"
     },
     "execution_count": 8,
     "metadata": {},
     "output_type": "execute_result"
    }
   ],
   "source": [
    "YearJoined_df.shape\n"
   ],
   "metadata": {
    "collapsed": false,
    "pycharm": {
     "name": "#%%\n"
    }
   }
  },
  {
   "cell_type": "code",
   "execution_count": 9,
   "outputs": [
    {
     "name": "stdout",
     "output_type": "stream",
     "text": [
      "<class 'pandas.core.frame.DataFrame'>\n",
      "RangeIndex: 1000 entries, 0 to 999\n",
      "Data columns (total 3 columns):\n",
      " #   Column      Non-Null Count  Dtype \n",
      "---  ------      --------------  ----- \n",
      " 0   user        1000 non-null   int64 \n",
      " 1   userStats   1000 non-null   object\n",
      " 2   yearJoined  1000 non-null   int64 \n",
      "dtypes: int64(2), object(1)\n",
      "memory usage: 23.6+ KB\n"
     ]
    }
   ],
   "source": [
    "YearJoined_df.info()"
   ],
   "metadata": {
    "collapsed": false,
    "pycharm": {
     "name": "#%%\n"
    }
   }
  },
  {
   "cell_type": "code",
   "execution_count": 10,
   "outputs": [
    {
     "data": {
      "text/plain": "              user  yearJoined\ncount  1000.000000  1000.00000\nmean    499.500000  2016.74100\nstd     288.819436     1.27967\nmin       0.000000  2014.00000\n25%     249.750000  2016.00000\n50%     499.500000  2017.00000\n75%     749.250000  2018.00000\nmax     999.000000  2018.00000",
      "text/html": "<div>\n<style scoped>\n    .dataframe tbody tr th:only-of-type {\n        vertical-align: middle;\n    }\n\n    .dataframe tbody tr th {\n        vertical-align: top;\n    }\n\n    .dataframe thead th {\n        text-align: right;\n    }\n</style>\n<table border=\"1\" class=\"dataframe\">\n  <thead>\n    <tr style=\"text-align: right;\">\n      <th></th>\n      <th>user</th>\n      <th>yearJoined</th>\n    </tr>\n  </thead>\n  <tbody>\n    <tr>\n      <th>count</th>\n      <td>1000.000000</td>\n      <td>1000.00000</td>\n    </tr>\n    <tr>\n      <th>mean</th>\n      <td>499.500000</td>\n      <td>2016.74100</td>\n    </tr>\n    <tr>\n      <th>std</th>\n      <td>288.819436</td>\n      <td>1.27967</td>\n    </tr>\n    <tr>\n      <th>min</th>\n      <td>0.000000</td>\n      <td>2014.00000</td>\n    </tr>\n    <tr>\n      <th>25%</th>\n      <td>249.750000</td>\n      <td>2016.00000</td>\n    </tr>\n    <tr>\n      <th>50%</th>\n      <td>499.500000</td>\n      <td>2017.00000</td>\n    </tr>\n    <tr>\n      <th>75%</th>\n      <td>749.250000</td>\n      <td>2018.00000</td>\n    </tr>\n    <tr>\n      <th>max</th>\n      <td>999.000000</td>\n      <td>2018.00000</td>\n    </tr>\n  </tbody>\n</table>\n</div>"
     },
     "execution_count": 10,
     "metadata": {},
     "output_type": "execute_result"
    }
   ],
   "source": [
    "YearJoined_df.describe()"
   ],
   "metadata": {
    "collapsed": false,
    "pycharm": {
     "name": "#%%\n"
    }
   }
  },
  {
   "cell_type": "code",
   "execution_count": 11,
   "outputs": [
    {
     "data": {
      "text/plain": "   user userStats  yearJoined\n0     0    silver        2014\n1     1    silver        2015\n2     2    silver        2016\n3     3    bronze        2018\n4     4    silver        2018",
      "text/html": "<div>\n<style scoped>\n    .dataframe tbody tr th:only-of-type {\n        vertical-align: middle;\n    }\n\n    .dataframe tbody tr th {\n        vertical-align: top;\n    }\n\n    .dataframe thead th {\n        text-align: right;\n    }\n</style>\n<table border=\"1\" class=\"dataframe\">\n  <thead>\n    <tr style=\"text-align: right;\">\n      <th></th>\n      <th>user</th>\n      <th>userStats</th>\n      <th>yearJoined</th>\n    </tr>\n  </thead>\n  <tbody>\n    <tr>\n      <th>0</th>\n      <td>0</td>\n      <td>silver</td>\n      <td>2014</td>\n    </tr>\n    <tr>\n      <th>1</th>\n      <td>1</td>\n      <td>silver</td>\n      <td>2015</td>\n    </tr>\n    <tr>\n      <th>2</th>\n      <td>2</td>\n      <td>silver</td>\n      <td>2016</td>\n    </tr>\n    <tr>\n      <th>3</th>\n      <td>3</td>\n      <td>bronze</td>\n      <td>2018</td>\n    </tr>\n    <tr>\n      <th>4</th>\n      <td>4</td>\n      <td>silver</td>\n      <td>2018</td>\n    </tr>\n  </tbody>\n</table>\n</div>"
     },
     "execution_count": 11,
     "metadata": {},
     "output_type": "execute_result"
    }
   ],
   "source": [
    "YearJoined_df.head()\n"
   ],
   "metadata": {
    "collapsed": false,
    "pycharm": {
     "name": "#%%\n"
    }
   }
  },
  {
   "cell_type": "code",
   "execution_count": 12,
   "outputs": [
    {
     "data": {
      "text/plain": "(25488, 3)"
     },
     "execution_count": 12,
     "metadata": {},
     "output_type": "execute_result"
    }
   ],
   "source": [
    "emails_df.shape"
   ],
   "metadata": {
    "collapsed": false,
    "pycharm": {
     "name": "#%%\n"
    }
   }
  },
  {
   "cell_type": "code",
   "execution_count": 13,
   "outputs": [
    {
     "name": "stdout",
     "output_type": "stream",
     "text": [
      "<class 'pandas.core.frame.DataFrame'>\n",
      "RangeIndex: 25488 entries, 0 to 25487\n",
      "Data columns (total 3 columns):\n",
      " #   Column        Non-Null Count  Dtype  \n",
      "---  ------        --------------  -----  \n",
      " 0   emailsOpened  25488 non-null  float64\n",
      " 1   user          25488 non-null  float64\n",
      " 2   week          25488 non-null  object \n",
      "dtypes: float64(2), object(1)\n",
      "memory usage: 597.5+ KB\n"
     ]
    }
   ],
   "source": [
    "emails_df.info()"
   ],
   "metadata": {
    "collapsed": false,
    "pycharm": {
     "name": "#%%\n"
    }
   }
  },
  {
   "cell_type": "code",
   "execution_count": 14,
   "outputs": [
    {
     "data": {
      "text/plain": "       emailsOpened          user\ncount  25488.000000  25488.000000\nmean       2.403327    498.902935\nstd        0.799071    282.308236\nmin        1.000000      1.000000\n25%        2.000000    252.000000\n50%        3.000000    518.000000\n75%        3.000000    727.000000\nmax        3.000000    998.000000",
      "text/html": "<div>\n<style scoped>\n    .dataframe tbody tr th:only-of-type {\n        vertical-align: middle;\n    }\n\n    .dataframe tbody tr th {\n        vertical-align: top;\n    }\n\n    .dataframe thead th {\n        text-align: right;\n    }\n</style>\n<table border=\"1\" class=\"dataframe\">\n  <thead>\n    <tr style=\"text-align: right;\">\n      <th></th>\n      <th>emailsOpened</th>\n      <th>user</th>\n    </tr>\n  </thead>\n  <tbody>\n    <tr>\n      <th>count</th>\n      <td>25488.000000</td>\n      <td>25488.000000</td>\n    </tr>\n    <tr>\n      <th>mean</th>\n      <td>2.403327</td>\n      <td>498.902935</td>\n    </tr>\n    <tr>\n      <th>std</th>\n      <td>0.799071</td>\n      <td>282.308236</td>\n    </tr>\n    <tr>\n      <th>min</th>\n      <td>1.000000</td>\n      <td>1.000000</td>\n    </tr>\n    <tr>\n      <th>25%</th>\n      <td>2.000000</td>\n      <td>252.000000</td>\n    </tr>\n    <tr>\n      <th>50%</th>\n      <td>3.000000</td>\n      <td>518.000000</td>\n    </tr>\n    <tr>\n      <th>75%</th>\n      <td>3.000000</td>\n      <td>727.000000</td>\n    </tr>\n    <tr>\n      <th>max</th>\n      <td>3.000000</td>\n      <td>998.000000</td>\n    </tr>\n  </tbody>\n</table>\n</div>"
     },
     "execution_count": 14,
     "metadata": {},
     "output_type": "execute_result"
    }
   ],
   "source": [
    "emails_df.describe()"
   ],
   "metadata": {
    "collapsed": false,
    "pycharm": {
     "name": "#%%\n"
    }
   }
  },
  {
   "cell_type": "code",
   "execution_count": 15,
   "outputs": [
    {
     "data": {
      "text/plain": "   emailsOpened  user                 week\n0           3.0   1.0  2015-06-29 00:00:00\n1           2.0   1.0  2015-07-13 00:00:00\n2           2.0   1.0  2015-07-20 00:00:00\n3           3.0   1.0  2015-07-27 00:00:00\n4           1.0   1.0  2015-08-03 00:00:00",
      "text/html": "<div>\n<style scoped>\n    .dataframe tbody tr th:only-of-type {\n        vertical-align: middle;\n    }\n\n    .dataframe tbody tr th {\n        vertical-align: top;\n    }\n\n    .dataframe thead th {\n        text-align: right;\n    }\n</style>\n<table border=\"1\" class=\"dataframe\">\n  <thead>\n    <tr style=\"text-align: right;\">\n      <th></th>\n      <th>emailsOpened</th>\n      <th>user</th>\n      <th>week</th>\n    </tr>\n  </thead>\n  <tbody>\n    <tr>\n      <th>0</th>\n      <td>3.0</td>\n      <td>1.0</td>\n      <td>2015-06-29 00:00:00</td>\n    </tr>\n    <tr>\n      <th>1</th>\n      <td>2.0</td>\n      <td>1.0</td>\n      <td>2015-07-13 00:00:00</td>\n    </tr>\n    <tr>\n      <th>2</th>\n      <td>2.0</td>\n      <td>1.0</td>\n      <td>2015-07-20 00:00:00</td>\n    </tr>\n    <tr>\n      <th>3</th>\n      <td>3.0</td>\n      <td>1.0</td>\n      <td>2015-07-27 00:00:00</td>\n    </tr>\n    <tr>\n      <th>4</th>\n      <td>1.0</td>\n      <td>1.0</td>\n      <td>2015-08-03 00:00:00</td>\n    </tr>\n  </tbody>\n</table>\n</div>"
     },
     "execution_count": 15,
     "metadata": {},
     "output_type": "execute_result"
    }
   ],
   "source": [
    "emails_df.head()\n"
   ],
   "metadata": {
    "collapsed": false,
    "pycharm": {
     "name": "#%%\n"
    }
   }
  },
  {
   "cell_type": "code",
   "execution_count": 16,
   "outputs": [
    {
     "data": {
      "text/plain": "user\n0    1\n1    1\n2    1\n3    1\n4    1\nName: userStats, dtype: int64"
     },
     "execution_count": 16,
     "metadata": {},
     "output_type": "execute_result"
    }
   ],
   "source": [
    "No_of_Diff_Stats_per_Users_df = YearJoined_df.groupby(\"user\")[\"userStats\"].count()\n",
    "No_of_Diff_Stats_per_Users_df.head()\n"
   ],
   "metadata": {
    "collapsed": false,
    "pycharm": {
     "name": "#%%\n"
    }
   }
  },
  {
   "cell_type": "code",
   "execution_count": 17,
   "outputs": [
    {
     "data": {
      "text/plain": "Series([], Name: userStats, dtype: int64)"
     },
     "execution_count": 17,
     "metadata": {},
     "output_type": "execute_result"
    }
   ],
   "source": [
    "No_of_Diff_Stats_per_Users_df[No_of_Diff_Stats_per_Users_df > 1]\n"
   ],
   "metadata": {
    "collapsed": false,
    "pycharm": {
     "name": "#%%\n"
    }
   }
  },
  {
   "cell_type": "markdown",
   "source": [
    "**None** of the users had anymore than 1 status\n",
    "\n",
    "Does any member have more than one entry in `YearJoined_df`?\n",
    "\n"
   ],
   "metadata": {
    "collapsed": false
   }
  },
  {
   "cell_type": "code",
   "execution_count": 18,
   "outputs": [
    {
     "data": {
      "text/plain": "           yearJoined\nuserStats            \n1                1000",
      "text/html": "<div>\n<style scoped>\n    .dataframe tbody tr th:only-of-type {\n        vertical-align: middle;\n    }\n\n    .dataframe tbody tr th {\n        vertical-align: top;\n    }\n\n    .dataframe thead th {\n        text-align: right;\n    }\n</style>\n<table border=\"1\" class=\"dataframe\">\n  <thead>\n    <tr style=\"text-align: right;\">\n      <th></th>\n      <th>yearJoined</th>\n    </tr>\n    <tr>\n      <th>userStats</th>\n      <th></th>\n    </tr>\n  </thead>\n  <tbody>\n    <tr>\n      <th>1</th>\n      <td>1000</td>\n    </tr>\n  </tbody>\n</table>\n</div>"
     },
     "execution_count": 18,
     "metadata": {},
     "output_type": "execute_result"
    }
   ],
   "source": [
    "YearJoined_df.groupby(\"user\").count().groupby(\"userStats\").count()\n",
    "\n"
   ],
   "metadata": {
    "collapsed": false,
    "pycharm": {
     "name": "#%%\n"
    }
   }
  },
  {
   "cell_type": "code",
   "execution_count": 19,
   "outputs": [
    {
     "data": {
      "text/plain": "1000"
     },
     "execution_count": 19,
     "metadata": {},
     "output_type": "execute_result"
    }
   ],
   "source": [
    "YearJoined_df[\"user\"].count()\n"
   ],
   "metadata": {
    "collapsed": false,
    "pycharm": {
     "name": "#%%\n"
    }
   }
  },
  {
   "cell_type": "markdown",
   "source": [
    "1000 different users and only 1000 different status\n"
   ],
   "metadata": {
    "collapsed": false,
    "pycharm": {
     "name": "#%% md\n"
    }
   }
  },
  {
   "cell_type": "markdown",
   "source": [
    "Any weeks with 0 opened emails?\n",
    "\n"
   ],
   "metadata": {
    "collapsed": false,
    "pycharm": {
     "name": "#%% md\n"
    }
   }
  },
  {
   "cell_type": "code",
   "execution_count": 20,
   "outputs": [
    {
     "data": {
      "text/plain": "Empty DataFrame\nColumns: [emailsOpened, user, week]\nIndex: []",
      "text/html": "<div>\n<style scoped>\n    .dataframe tbody tr th:only-of-type {\n        vertical-align: middle;\n    }\n\n    .dataframe tbody tr th {\n        vertical-align: top;\n    }\n\n    .dataframe thead th {\n        text-align: right;\n    }\n</style>\n<table border=\"1\" class=\"dataframe\">\n  <thead>\n    <tr style=\"text-align: right;\">\n      <th></th>\n      <th>emailsOpened</th>\n      <th>user</th>\n      <th>week</th>\n    </tr>\n  </thead>\n  <tbody>\n  </tbody>\n</table>\n</div>"
     },
     "execution_count": 20,
     "metadata": {},
     "output_type": "execute_result"
    }
   ],
   "source": [
    "emails_df[emails_df[\"emailsOpened\"] < 1]\n"
   ],
   "metadata": {
    "collapsed": false,
    "pycharm": {
     "name": "#%%\n"
    }
   }
  },
  {
   "cell_type": "markdown",
   "source": [
    "There are zero. So either there is an entry for every possible week per user or there are missing weeks, that will have to be assumed to be zero\n",
    "\n",
    "Below is a list of the number of emails opened per week for a single user\n"
   ],
   "metadata": {
    "collapsed": false,
    "pycharm": {
     "name": "#%% md\n"
    }
   }
  },
  {
   "cell_type": "code",
   "execution_count": 21,
   "outputs": [
    {
     "data": {
      "text/plain": "       emailsOpened   user                 week\n25464           1.0  998.0  2017-12-04 00:00:00\n25465           3.0  998.0  2017-12-11 00:00:00\n25466           3.0  998.0  2017-12-18 00:00:00\n25467           3.0  998.0  2018-01-01 00:00:00\n25468           3.0  998.0  2018-01-08 00:00:00\n25469           2.0  998.0  2018-01-15 00:00:00\n25470           3.0  998.0  2018-01-22 00:00:00\n25471           2.0  998.0  2018-01-29 00:00:00\n25472           3.0  998.0  2018-02-05 00:00:00\n25473           3.0  998.0  2018-02-12 00:00:00\n25474           3.0  998.0  2018-02-19 00:00:00\n25475           2.0  998.0  2018-02-26 00:00:00\n25476           2.0  998.0  2018-03-05 00:00:00\n25477           3.0  998.0  2018-03-12 00:00:00\n25478           2.0  998.0  2018-03-19 00:00:00\n25479           2.0  998.0  2018-03-26 00:00:00\n25480           3.0  998.0  2018-04-02 00:00:00\n25481           3.0  998.0  2018-04-09 00:00:00\n25482           3.0  998.0  2018-04-16 00:00:00\n25483           3.0  998.0  2018-04-30 00:00:00\n25484           3.0  998.0  2018-05-07 00:00:00\n25485           3.0  998.0  2018-05-14 00:00:00\n25486           3.0  998.0  2018-05-21 00:00:00\n25487           3.0  998.0  2018-05-28 00:00:00",
      "text/html": "<div>\n<style scoped>\n    .dataframe tbody tr th:only-of-type {\n        vertical-align: middle;\n    }\n\n    .dataframe tbody tr th {\n        vertical-align: top;\n    }\n\n    .dataframe thead th {\n        text-align: right;\n    }\n</style>\n<table border=\"1\" class=\"dataframe\">\n  <thead>\n    <tr style=\"text-align: right;\">\n      <th></th>\n      <th>emailsOpened</th>\n      <th>user</th>\n      <th>week</th>\n    </tr>\n  </thead>\n  <tbody>\n    <tr>\n      <th>25464</th>\n      <td>1.0</td>\n      <td>998.0</td>\n      <td>2017-12-04 00:00:00</td>\n    </tr>\n    <tr>\n      <th>25465</th>\n      <td>3.0</td>\n      <td>998.0</td>\n      <td>2017-12-11 00:00:00</td>\n    </tr>\n    <tr>\n      <th>25466</th>\n      <td>3.0</td>\n      <td>998.0</td>\n      <td>2017-12-18 00:00:00</td>\n    </tr>\n    <tr>\n      <th>25467</th>\n      <td>3.0</td>\n      <td>998.0</td>\n      <td>2018-01-01 00:00:00</td>\n    </tr>\n    <tr>\n      <th>25468</th>\n      <td>3.0</td>\n      <td>998.0</td>\n      <td>2018-01-08 00:00:00</td>\n    </tr>\n    <tr>\n      <th>25469</th>\n      <td>2.0</td>\n      <td>998.0</td>\n      <td>2018-01-15 00:00:00</td>\n    </tr>\n    <tr>\n      <th>25470</th>\n      <td>3.0</td>\n      <td>998.0</td>\n      <td>2018-01-22 00:00:00</td>\n    </tr>\n    <tr>\n      <th>25471</th>\n      <td>2.0</td>\n      <td>998.0</td>\n      <td>2018-01-29 00:00:00</td>\n    </tr>\n    <tr>\n      <th>25472</th>\n      <td>3.0</td>\n      <td>998.0</td>\n      <td>2018-02-05 00:00:00</td>\n    </tr>\n    <tr>\n      <th>25473</th>\n      <td>3.0</td>\n      <td>998.0</td>\n      <td>2018-02-12 00:00:00</td>\n    </tr>\n    <tr>\n      <th>25474</th>\n      <td>3.0</td>\n      <td>998.0</td>\n      <td>2018-02-19 00:00:00</td>\n    </tr>\n    <tr>\n      <th>25475</th>\n      <td>2.0</td>\n      <td>998.0</td>\n      <td>2018-02-26 00:00:00</td>\n    </tr>\n    <tr>\n      <th>25476</th>\n      <td>2.0</td>\n      <td>998.0</td>\n      <td>2018-03-05 00:00:00</td>\n    </tr>\n    <tr>\n      <th>25477</th>\n      <td>3.0</td>\n      <td>998.0</td>\n      <td>2018-03-12 00:00:00</td>\n    </tr>\n    <tr>\n      <th>25478</th>\n      <td>2.0</td>\n      <td>998.0</td>\n      <td>2018-03-19 00:00:00</td>\n    </tr>\n    <tr>\n      <th>25479</th>\n      <td>2.0</td>\n      <td>998.0</td>\n      <td>2018-03-26 00:00:00</td>\n    </tr>\n    <tr>\n      <th>25480</th>\n      <td>3.0</td>\n      <td>998.0</td>\n      <td>2018-04-02 00:00:00</td>\n    </tr>\n    <tr>\n      <th>25481</th>\n      <td>3.0</td>\n      <td>998.0</td>\n      <td>2018-04-09 00:00:00</td>\n    </tr>\n    <tr>\n      <th>25482</th>\n      <td>3.0</td>\n      <td>998.0</td>\n      <td>2018-04-16 00:00:00</td>\n    </tr>\n    <tr>\n      <th>25483</th>\n      <td>3.0</td>\n      <td>998.0</td>\n      <td>2018-04-30 00:00:00</td>\n    </tr>\n    <tr>\n      <th>25484</th>\n      <td>3.0</td>\n      <td>998.0</td>\n      <td>2018-05-07 00:00:00</td>\n    </tr>\n    <tr>\n      <th>25485</th>\n      <td>3.0</td>\n      <td>998.0</td>\n      <td>2018-05-14 00:00:00</td>\n    </tr>\n    <tr>\n      <th>25486</th>\n      <td>3.0</td>\n      <td>998.0</td>\n      <td>2018-05-21 00:00:00</td>\n    </tr>\n    <tr>\n      <th>25487</th>\n      <td>3.0</td>\n      <td>998.0</td>\n      <td>2018-05-28 00:00:00</td>\n    </tr>\n  </tbody>\n</table>\n</div>"
     },
     "execution_count": 21,
     "metadata": {},
     "output_type": "execute_result"
    }
   ],
   "source": [
    "emails_df[emails_df[\"user\"] == 998]"
   ],
   "metadata": {
    "collapsed": false,
    "pycharm": {
     "name": "#%%\n"
    }
   }
  },
  {
   "cell_type": "markdown",
   "source": [
    "There are some weeks missing.\n",
    "\n",
    "Let's see how many weeks are missing\n",
    "\n",
    "First create new columns that have the `week` column as a `datetime` objects\n",
    "\n"
   ],
   "metadata": {
    "collapsed": false,
    "pycharm": {
     "name": "#%% md\n"
    }
   }
  },
  {
   "cell_type": "code",
   "execution_count": 22,
   "outputs": [],
   "source": [
    "emails_df[\"week_dt\"] = pd.to_datetime(emails_df[\"week\"])\n"
   ],
   "metadata": {
    "collapsed": false,
    "pycharm": {
     "name": "#%%\n"
    }
   }
  },
  {
   "cell_type": "code",
   "execution_count": 23,
   "outputs": [
    {
     "name": "stdout",
     "output_type": "stream",
     "text": [
      "<class 'pandas.core.frame.DataFrame'>\n",
      "RangeIndex: 25488 entries, 0 to 25487\n",
      "Data columns (total 4 columns):\n",
      " #   Column        Non-Null Count  Dtype         \n",
      "---  ------        --------------  -----         \n",
      " 0   emailsOpened  25488 non-null  float64       \n",
      " 1   user          25488 non-null  float64       \n",
      " 2   week          25488 non-null  object        \n",
      " 3   week_dt       25488 non-null  datetime64[ns]\n",
      "dtypes: datetime64[ns](1), float64(2), object(1)\n",
      "memory usage: 796.6+ KB\n"
     ]
    }
   ],
   "source": [
    "emails_df.info()\n"
   ],
   "metadata": {
    "collapsed": false,
    "pycharm": {
     "name": "#%%\n"
    }
   }
  },
  {
   "cell_type": "code",
   "execution_count": 24,
   "outputs": [
    {
     "name": "stdout",
     "output_type": "stream",
     "text": [
      "26.0  weeks\n"
     ]
    }
   ],
   "source": [
    "# how many weeks starting from the earliest to latest dates in the dataframe for a single user\n",
    "print(((max(emails_df[emails_df[\"user\"] == 998].week_dt) - min(emails_df[emails_df[\"user\"] == 998].week_dt)).days)/7 + 1,\" weeks\")"
   ],
   "metadata": {
    "collapsed": false,
    "pycharm": {
     "name": "#%%\n"
    }
   }
  },
  {
   "cell_type": "code",
   "execution_count": 25,
   "outputs": [
    {
     "data": {
      "text/plain": "24"
     },
     "execution_count": 25,
     "metadata": {},
     "output_type": "execute_result"
    }
   ],
   "source": [
    "# how many different weeks are *actually* in the dataframe\n",
    "emails_df[emails_df[\"user\"] == 998].shape[0]"
   ],
   "metadata": {
    "collapsed": false,
    "pycharm": {
     "name": "#%%\n"
    }
   }
  },
  {
   "cell_type": "markdown",
   "source": [
    "So there are 26 weeks between the earliest and latest entries in `emails_df` for user 998 but only 24 different weekly entries in the data frame for user 998\n",
    "\n",
    "Books says to input 0 for all missing weeks between the time of the earliest entry and the latest entry\n",
    "\n",
    "Using all of the weekly timestamps in `email_df` create a new list of indices, one index per unique `week_dt` value found in `email_df` across all users\n"
   ],
   "metadata": {
    "collapsed": false,
    "pycharm": {
     "name": "#%% md\n"
    }
   }
  },
  {
   "cell_type": "code",
   "execution_count": 26,
   "outputs": [],
   "source": [
    "all_indices = pd.MultiIndex.from_product((set(emails_df.week_dt),set(emails_df.user)))\n"
   ],
   "metadata": {
    "collapsed": false,
    "pycharm": {
     "name": "#%%\n"
    }
   }
  },
  {
   "cell_type": "code",
   "execution_count": 27,
   "outputs": [
    {
     "data": {
      "text/plain": "MultiIndex([('2015-03-30',   1.0),\n            ('2015-03-30',   3.0),\n            ('2015-03-30',   5.0),\n            ('2015-03-30',   6.0),\n            ('2015-03-30',   9.0),\n            ('2015-03-30',  10.0),\n            ('2015-03-30',  14.0),\n            ('2015-03-30',  16.0),\n            ('2015-03-30',  20.0),\n            ('2015-03-30',  21.0),\n            ...\n            ('2017-09-18', 973.0),\n            ('2017-09-18', 977.0),\n            ('2017-09-18', 982.0),\n            ('2017-09-18', 984.0),\n            ('2017-09-18', 987.0),\n            ('2017-09-18', 991.0),\n            ('2017-09-18', 992.0),\n            ('2017-09-18', 993.0),\n            ('2017-09-18', 995.0),\n            ('2017-09-18', 998.0)],\n           length=93247)"
     },
     "execution_count": 27,
     "metadata": {},
     "output_type": "execute_result"
    }
   ],
   "source": [
    "all_indices\n"
   ],
   "metadata": {
    "collapsed": false,
    "pycharm": {
     "name": "#%%\n"
    }
   }
  },
  {
   "cell_type": "markdown",
   "source": [
    "Create a new data frame where each user has events for the same set of week time stamps. If the time stamp for a user is not found in `email_df` it will be assigned 0 for `emailOpened`"
   ],
   "metadata": {
    "collapsed": false,
    "pycharm": {
     "name": "#%% md\n"
    }
   }
  },
  {
   "cell_type": "code",
   "execution_count": 28,
   "outputs": [],
   "source": [
    "emails_all_df = emails_df.set_index([\"week_dt\",\"user\"]).reindex(all_indices, fill_value=0).reset_index()\n"
   ],
   "metadata": {
    "collapsed": false,
    "pycharm": {
     "name": "#%%\n"
    }
   }
  },
  {
   "cell_type": "code",
   "execution_count": 29,
   "outputs": [
    {
     "data": {
      "text/plain": "     level_0  level_1  emailsOpened week\n0 2015-03-30      1.0           0.0    0\n1 2015-03-30      3.0           0.0    0\n2 2015-03-30      5.0           0.0    0\n3 2015-03-30      6.0           0.0    0\n4 2015-03-30      9.0           0.0    0",
      "text/html": "<div>\n<style scoped>\n    .dataframe tbody tr th:only-of-type {\n        vertical-align: middle;\n    }\n\n    .dataframe tbody tr th {\n        vertical-align: top;\n    }\n\n    .dataframe thead th {\n        text-align: right;\n    }\n</style>\n<table border=\"1\" class=\"dataframe\">\n  <thead>\n    <tr style=\"text-align: right;\">\n      <th></th>\n      <th>level_0</th>\n      <th>level_1</th>\n      <th>emailsOpened</th>\n      <th>week</th>\n    </tr>\n  </thead>\n  <tbody>\n    <tr>\n      <th>0</th>\n      <td>2015-03-30</td>\n      <td>1.0</td>\n      <td>0.0</td>\n      <td>0</td>\n    </tr>\n    <tr>\n      <th>1</th>\n      <td>2015-03-30</td>\n      <td>3.0</td>\n      <td>0.0</td>\n      <td>0</td>\n    </tr>\n    <tr>\n      <th>2</th>\n      <td>2015-03-30</td>\n      <td>5.0</td>\n      <td>0.0</td>\n      <td>0</td>\n    </tr>\n    <tr>\n      <th>3</th>\n      <td>2015-03-30</td>\n      <td>6.0</td>\n      <td>0.0</td>\n      <td>0</td>\n    </tr>\n    <tr>\n      <th>4</th>\n      <td>2015-03-30</td>\n      <td>9.0</td>\n      <td>0.0</td>\n      <td>0</td>\n    </tr>\n  </tbody>\n</table>\n</div>"
     },
     "execution_count": 29,
     "metadata": {},
     "output_type": "execute_result"
    }
   ],
   "source": [
    "emails_all_df.head()\n"
   ],
   "metadata": {
    "collapsed": false,
    "pycharm": {
     "name": "#%%\n"
    }
   }
  },
  {
   "cell_type": "code",
   "execution_count": 30,
   "outputs": [
    {
     "name": "stdout",
     "output_type": "stream",
     "text": [
      "<class 'pandas.core.frame.DataFrame'>\n",
      "RangeIndex: 93247 entries, 0 to 93246\n",
      "Data columns (total 4 columns):\n",
      " #   Column        Non-Null Count  Dtype         \n",
      "---  ------        --------------  -----         \n",
      " 0   level_0       93247 non-null  datetime64[ns]\n",
      " 1   level_1       93247 non-null  float64       \n",
      " 2   emailsOpened  93247 non-null  float64       \n",
      " 3   week          93247 non-null  object        \n",
      "dtypes: datetime64[ns](1), float64(2), object(1)\n",
      "memory usage: 2.8+ MB\n"
     ]
    }
   ],
   "source": [
    "emails_all_df.info()"
   ],
   "metadata": {
    "collapsed": false,
    "pycharm": {
     "name": "#%%\n"
    }
   }
  },
  {
   "cell_type": "code",
   "execution_count": 31,
   "outputs": [],
   "source": [
    "#renaming the columns\n",
    "emails_all_df.columns = [\"week_dt\",\"user\",\"emailsOpened\",\"to_be_dropped\"]"
   ],
   "metadata": {
    "collapsed": false,
    "pycharm": {
     "name": "#%%\n"
    }
   }
  },
  {
   "cell_type": "code",
   "execution_count": 32,
   "outputs": [
    {
     "data": {
      "text/plain": "     week_dt  user  emailsOpened to_be_dropped\n0 2015-03-30   1.0           0.0             0\n1 2015-03-30   3.0           0.0             0\n2 2015-03-30   5.0           0.0             0\n3 2015-03-30   6.0           0.0             0\n4 2015-03-30   9.0           0.0             0",
      "text/html": "<div>\n<style scoped>\n    .dataframe tbody tr th:only-of-type {\n        vertical-align: middle;\n    }\n\n    .dataframe tbody tr th {\n        vertical-align: top;\n    }\n\n    .dataframe thead th {\n        text-align: right;\n    }\n</style>\n<table border=\"1\" class=\"dataframe\">\n  <thead>\n    <tr style=\"text-align: right;\">\n      <th></th>\n      <th>week_dt</th>\n      <th>user</th>\n      <th>emailsOpened</th>\n      <th>to_be_dropped</th>\n    </tr>\n  </thead>\n  <tbody>\n    <tr>\n      <th>0</th>\n      <td>2015-03-30</td>\n      <td>1.0</td>\n      <td>0.0</td>\n      <td>0</td>\n    </tr>\n    <tr>\n      <th>1</th>\n      <td>2015-03-30</td>\n      <td>3.0</td>\n      <td>0.0</td>\n      <td>0</td>\n    </tr>\n    <tr>\n      <th>2</th>\n      <td>2015-03-30</td>\n      <td>5.0</td>\n      <td>0.0</td>\n      <td>0</td>\n    </tr>\n    <tr>\n      <th>3</th>\n      <td>2015-03-30</td>\n      <td>6.0</td>\n      <td>0.0</td>\n      <td>0</td>\n    </tr>\n    <tr>\n      <th>4</th>\n      <td>2015-03-30</td>\n      <td>9.0</td>\n      <td>0.0</td>\n      <td>0</td>\n    </tr>\n  </tbody>\n</table>\n</div>"
     },
     "execution_count": 32,
     "metadata": {},
     "output_type": "execute_result"
    }
   ],
   "source": [
    "emails_all_df.head()\n"
   ],
   "metadata": {
    "collapsed": false,
    "pycharm": {
     "name": "#%%\n"
    }
   }
  },
  {
   "cell_type": "code",
   "execution_count": 33,
   "outputs": [],
   "source": [
    "emails_all_df.drop([\"to_be_dropped\"],axis=1,inplace=True)"
   ],
   "metadata": {
    "collapsed": false,
    "pycharm": {
     "name": "#%%\n"
    }
   }
  },
  {
   "cell_type": "code",
   "execution_count": 34,
   "outputs": [
    {
     "data": {
      "text/plain": "     week_dt  user  emailsOpened\n0 2015-03-30   1.0           0.0\n1 2015-03-30   3.0           0.0\n2 2015-03-30   5.0           0.0\n3 2015-03-30   6.0           0.0\n4 2015-03-30   9.0           0.0",
      "text/html": "<div>\n<style scoped>\n    .dataframe tbody tr th:only-of-type {\n        vertical-align: middle;\n    }\n\n    .dataframe tbody tr th {\n        vertical-align: top;\n    }\n\n    .dataframe thead th {\n        text-align: right;\n    }\n</style>\n<table border=\"1\" class=\"dataframe\">\n  <thead>\n    <tr style=\"text-align: right;\">\n      <th></th>\n      <th>week_dt</th>\n      <th>user</th>\n      <th>emailsOpened</th>\n    </tr>\n  </thead>\n  <tbody>\n    <tr>\n      <th>0</th>\n      <td>2015-03-30</td>\n      <td>1.0</td>\n      <td>0.0</td>\n    </tr>\n    <tr>\n      <th>1</th>\n      <td>2015-03-30</td>\n      <td>3.0</td>\n      <td>0.0</td>\n    </tr>\n    <tr>\n      <th>2</th>\n      <td>2015-03-30</td>\n      <td>5.0</td>\n      <td>0.0</td>\n    </tr>\n    <tr>\n      <th>3</th>\n      <td>2015-03-30</td>\n      <td>6.0</td>\n      <td>0.0</td>\n    </tr>\n    <tr>\n      <th>4</th>\n      <td>2015-03-30</td>\n      <td>9.0</td>\n      <td>0.0</td>\n    </tr>\n  </tbody>\n</table>\n</div>"
     },
     "execution_count": 34,
     "metadata": {},
     "output_type": "execute_result"
    }
   ],
   "source": [
    "emails_all_df.head()"
   ],
   "metadata": {
    "collapsed": false,
    "pycharm": {
     "name": "#%%\n"
    }
   }
  },
  {
   "cell_type": "code",
   "execution_count": 35,
   "outputs": [
    {
     "data": {
      "text/plain": "(93247, 3)"
     },
     "execution_count": 35,
     "metadata": {},
     "output_type": "execute_result"
    }
   ],
   "source": [
    "emails_all_df.shape"
   ],
   "metadata": {
    "collapsed": false,
    "pycharm": {
     "name": "#%%\n"
    }
   }
  },
  {
   "cell_type": "markdown",
   "source": [
    "But it's possible that there are now dates with 0 in them for a user before the date at which said user had `emailsOpened > 0`\n",
    "This analysis assumes that all such dates should not exist for the user\n"
   ],
   "metadata": {
    "collapsed": false,
    "pycharm": {
     "name": "#%% md\n"
    }
   }
  },
  {
   "cell_type": "code",
   "execution_count": 36,
   "outputs": [],
   "source": [
    "#first create a list of cut-off dates\n",
    "cut_off_dates_df = emails_all_df.groupby(\"user\").week_dt.agg([\"min\",\"max\"]).reset_index()\n"
   ],
   "metadata": {
    "collapsed": false,
    "pycharm": {
     "name": "#%%\n"
    }
   }
  },
  {
   "cell_type": "code",
   "execution_count": 37,
   "outputs": [
    {
     "name": "stdout",
     "output_type": "stream",
     "text": [
      "<class 'pandas.core.frame.DataFrame'>\n",
      "RangeIndex: 539 entries, 0 to 538\n",
      "Data columns (total 3 columns):\n",
      " #   Column  Non-Null Count  Dtype         \n",
      "---  ------  --------------  -----         \n",
      " 0   user    539 non-null    float64       \n",
      " 1   min     539 non-null    datetime64[ns]\n",
      " 2   max     539 non-null    datetime64[ns]\n",
      "dtypes: datetime64[ns](2), float64(1)\n",
      "memory usage: 12.8 KB\n"
     ]
    }
   ],
   "source": [
    "cut_off_dates_df.info()"
   ],
   "metadata": {
    "collapsed": false,
    "pycharm": {
     "name": "#%%\n"
    }
   }
  },
  {
   "cell_type": "code",
   "execution_count": 38,
   "outputs": [],
   "source": [
    "cut_off_dates_df = cut_off_dates_df.reset_index()"
   ],
   "metadata": {
    "collapsed": false,
    "pycharm": {
     "name": "#%%\n"
    }
   }
  },
  {
   "cell_type": "code",
   "execution_count": 39,
   "outputs": [
    {
     "data": {
      "text/plain": "     index   user        min        max\n0        0    1.0 2015-02-09 2018-05-28\n1        1    3.0 2015-02-09 2018-05-28\n2        2    5.0 2015-02-09 2018-05-28\n3        3    6.0 2015-02-09 2018-05-28\n4        4    9.0 2015-02-09 2018-05-28\n..     ...    ...        ...        ...\n534    534  991.0 2015-02-09 2018-05-28\n535    535  992.0 2015-02-09 2018-05-28\n536    536  993.0 2015-02-09 2018-05-28\n537    537  995.0 2015-02-09 2018-05-28\n538    538  998.0 2015-02-09 2018-05-28\n\n[539 rows x 4 columns]",
      "text/html": "<div>\n<style scoped>\n    .dataframe tbody tr th:only-of-type {\n        vertical-align: middle;\n    }\n\n    .dataframe tbody tr th {\n        vertical-align: top;\n    }\n\n    .dataframe thead th {\n        text-align: right;\n    }\n</style>\n<table border=\"1\" class=\"dataframe\">\n  <thead>\n    <tr style=\"text-align: right;\">\n      <th></th>\n      <th>index</th>\n      <th>user</th>\n      <th>min</th>\n      <th>max</th>\n    </tr>\n  </thead>\n  <tbody>\n    <tr>\n      <th>0</th>\n      <td>0</td>\n      <td>1.0</td>\n      <td>2015-02-09</td>\n      <td>2018-05-28</td>\n    </tr>\n    <tr>\n      <th>1</th>\n      <td>1</td>\n      <td>3.0</td>\n      <td>2015-02-09</td>\n      <td>2018-05-28</td>\n    </tr>\n    <tr>\n      <th>2</th>\n      <td>2</td>\n      <td>5.0</td>\n      <td>2015-02-09</td>\n      <td>2018-05-28</td>\n    </tr>\n    <tr>\n      <th>3</th>\n      <td>3</td>\n      <td>6.0</td>\n      <td>2015-02-09</td>\n      <td>2018-05-28</td>\n    </tr>\n    <tr>\n      <th>4</th>\n      <td>4</td>\n      <td>9.0</td>\n      <td>2015-02-09</td>\n      <td>2018-05-28</td>\n    </tr>\n    <tr>\n      <th>...</th>\n      <td>...</td>\n      <td>...</td>\n      <td>...</td>\n      <td>...</td>\n    </tr>\n    <tr>\n      <th>534</th>\n      <td>534</td>\n      <td>991.0</td>\n      <td>2015-02-09</td>\n      <td>2018-05-28</td>\n    </tr>\n    <tr>\n      <th>535</th>\n      <td>535</td>\n      <td>992.0</td>\n      <td>2015-02-09</td>\n      <td>2018-05-28</td>\n    </tr>\n    <tr>\n      <th>536</th>\n      <td>536</td>\n      <td>993.0</td>\n      <td>2015-02-09</td>\n      <td>2018-05-28</td>\n    </tr>\n    <tr>\n      <th>537</th>\n      <td>537</td>\n      <td>995.0</td>\n      <td>2015-02-09</td>\n      <td>2018-05-28</td>\n    </tr>\n    <tr>\n      <th>538</th>\n      <td>538</td>\n      <td>998.0</td>\n      <td>2015-02-09</td>\n      <td>2018-05-28</td>\n    </tr>\n  </tbody>\n</table>\n<p>539 rows × 4 columns</p>\n</div>"
     },
     "execution_count": 39,
     "metadata": {},
     "output_type": "execute_result"
    }
   ],
   "source": [
    "cut_off_dates_df"
   ],
   "metadata": {
    "collapsed": false,
    "pycharm": {
     "name": "#%%\n"
    }
   }
  },
  {
   "cell_type": "code",
   "execution_count": 40,
   "outputs": [
    {
     "name": "stderr",
     "output_type": "stream",
     "text": [
      "<ipython-input-40-9df018e460c4>:10: UserWarning: Boolean Series key will be reindexed to match DataFrame index.\n",
      "  emails_all_df.drop(emails_all_df[member_selector][emails_all_df.week_dt < start_date].index,inplace=True)\n",
      "<ipython-input-40-9df018e460c4>:11: UserWarning: Boolean Series key will be reindexed to match DataFrame index.\n",
      "  emails_all_df.drop(emails_all_df[member_selector][emails_all_df.week_dt > end_date].index, inplace=True)\n",
      "<ipython-input-40-9df018e460c4>:10: UserWarning: Boolean Series key will be reindexed to match DataFrame index.\n",
      "  emails_all_df.drop(emails_all_df[member_selector][emails_all_df.week_dt < start_date].index,inplace=True)\n",
      "<ipython-input-40-9df018e460c4>:11: UserWarning: Boolean Series key will be reindexed to match DataFrame index.\n",
      "  emails_all_df.drop(emails_all_df[member_selector][emails_all_df.week_dt > end_date].index, inplace=True)\n",
      "<ipython-input-40-9df018e460c4>:10: UserWarning: Boolean Series key will be reindexed to match DataFrame index.\n",
      "  emails_all_df.drop(emails_all_df[member_selector][emails_all_df.week_dt < start_date].index,inplace=True)\n",
      "<ipython-input-40-9df018e460c4>:11: UserWarning: Boolean Series key will be reindexed to match DataFrame index.\n",
      "  emails_all_df.drop(emails_all_df[member_selector][emails_all_df.week_dt > end_date].index, inplace=True)\n",
      "<ipython-input-40-9df018e460c4>:10: UserWarning: Boolean Series key will be reindexed to match DataFrame index.\n",
      "  emails_all_df.drop(emails_all_df[member_selector][emails_all_df.week_dt < start_date].index,inplace=True)\n",
      "<ipython-input-40-9df018e460c4>:11: UserWarning: Boolean Series key will be reindexed to match DataFrame index.\n",
      "  emails_all_df.drop(emails_all_df[member_selector][emails_all_df.week_dt > end_date].index, inplace=True)\n",
      "<ipython-input-40-9df018e460c4>:10: UserWarning: Boolean Series key will be reindexed to match DataFrame index.\n",
      "  emails_all_df.drop(emails_all_df[member_selector][emails_all_df.week_dt < start_date].index,inplace=True)\n",
      "<ipython-input-40-9df018e460c4>:11: UserWarning: Boolean Series key will be reindexed to match DataFrame index.\n",
      "  emails_all_df.drop(emails_all_df[member_selector][emails_all_df.week_dt > end_date].index, inplace=True)\n",
      "<ipython-input-40-9df018e460c4>:10: UserWarning: Boolean Series key will be reindexed to match DataFrame index.\n",
      "  emails_all_df.drop(emails_all_df[member_selector][emails_all_df.week_dt < start_date].index,inplace=True)\n",
      "<ipython-input-40-9df018e460c4>:11: UserWarning: Boolean Series key will be reindexed to match DataFrame index.\n",
      "  emails_all_df.drop(emails_all_df[member_selector][emails_all_df.week_dt > end_date].index, inplace=True)\n",
      "<ipython-input-40-9df018e460c4>:10: UserWarning: Boolean Series key will be reindexed to match DataFrame index.\n",
      "  emails_all_df.drop(emails_all_df[member_selector][emails_all_df.week_dt < start_date].index,inplace=True)\n",
      "<ipython-input-40-9df018e460c4>:11: UserWarning: Boolean Series key will be reindexed to match DataFrame index.\n",
      "  emails_all_df.drop(emails_all_df[member_selector][emails_all_df.week_dt > end_date].index, inplace=True)\n",
      "<ipython-input-40-9df018e460c4>:10: UserWarning: Boolean Series key will be reindexed to match DataFrame index.\n",
      "  emails_all_df.drop(emails_all_df[member_selector][emails_all_df.week_dt < start_date].index,inplace=True)\n",
      "<ipython-input-40-9df018e460c4>:11: UserWarning: Boolean Series key will be reindexed to match DataFrame index.\n",
      "  emails_all_df.drop(emails_all_df[member_selector][emails_all_df.week_dt > end_date].index, inplace=True)\n",
      "<ipython-input-40-9df018e460c4>:10: UserWarning: Boolean Series key will be reindexed to match DataFrame index.\n",
      "  emails_all_df.drop(emails_all_df[member_selector][emails_all_df.week_dt < start_date].index,inplace=True)\n",
      "<ipython-input-40-9df018e460c4>:11: UserWarning: Boolean Series key will be reindexed to match DataFrame index.\n",
      "  emails_all_df.drop(emails_all_df[member_selector][emails_all_df.week_dt > end_date].index, inplace=True)\n",
      "<ipython-input-40-9df018e460c4>:10: UserWarning: Boolean Series key will be reindexed to match DataFrame index.\n",
      "  emails_all_df.drop(emails_all_df[member_selector][emails_all_df.week_dt < start_date].index,inplace=True)\n",
      "<ipython-input-40-9df018e460c4>:11: UserWarning: Boolean Series key will be reindexed to match DataFrame index.\n",
      "  emails_all_df.drop(emails_all_df[member_selector][emails_all_df.week_dt > end_date].index, inplace=True)\n",
      "<ipython-input-40-9df018e460c4>:10: UserWarning: Boolean Series key will be reindexed to match DataFrame index.\n",
      "  emails_all_df.drop(emails_all_df[member_selector][emails_all_df.week_dt < start_date].index,inplace=True)\n",
      "<ipython-input-40-9df018e460c4>:11: UserWarning: Boolean Series key will be reindexed to match DataFrame index.\n",
      "  emails_all_df.drop(emails_all_df[member_selector][emails_all_df.week_dt > end_date].index, inplace=True)\n",
      "<ipython-input-40-9df018e460c4>:10: UserWarning: Boolean Series key will be reindexed to match DataFrame index.\n",
      "  emails_all_df.drop(emails_all_df[member_selector][emails_all_df.week_dt < start_date].index,inplace=True)\n",
      "<ipython-input-40-9df018e460c4>:11: UserWarning: Boolean Series key will be reindexed to match DataFrame index.\n",
      "  emails_all_df.drop(emails_all_df[member_selector][emails_all_df.week_dt > end_date].index, inplace=True)\n",
      "<ipython-input-40-9df018e460c4>:10: UserWarning: Boolean Series key will be reindexed to match DataFrame index.\n",
      "  emails_all_df.drop(emails_all_df[member_selector][emails_all_df.week_dt < start_date].index,inplace=True)\n",
      "<ipython-input-40-9df018e460c4>:11: UserWarning: Boolean Series key will be reindexed to match DataFrame index.\n",
      "  emails_all_df.drop(emails_all_df[member_selector][emails_all_df.week_dt > end_date].index, inplace=True)\n",
      "<ipython-input-40-9df018e460c4>:10: UserWarning: Boolean Series key will be reindexed to match DataFrame index.\n",
      "  emails_all_df.drop(emails_all_df[member_selector][emails_all_df.week_dt < start_date].index,inplace=True)\n",
      "<ipython-input-40-9df018e460c4>:11: UserWarning: Boolean Series key will be reindexed to match DataFrame index.\n",
      "  emails_all_df.drop(emails_all_df[member_selector][emails_all_df.week_dt > end_date].index, inplace=True)\n",
      "<ipython-input-40-9df018e460c4>:10: UserWarning: Boolean Series key will be reindexed to match DataFrame index.\n",
      "  emails_all_df.drop(emails_all_df[member_selector][emails_all_df.week_dt < start_date].index,inplace=True)\n",
      "<ipython-input-40-9df018e460c4>:11: UserWarning: Boolean Series key will be reindexed to match DataFrame index.\n",
      "  emails_all_df.drop(emails_all_df[member_selector][emails_all_df.week_dt > end_date].index, inplace=True)\n",
      "<ipython-input-40-9df018e460c4>:10: UserWarning: Boolean Series key will be reindexed to match DataFrame index.\n",
      "  emails_all_df.drop(emails_all_df[member_selector][emails_all_df.week_dt < start_date].index,inplace=True)\n",
      "<ipython-input-40-9df018e460c4>:11: UserWarning: Boolean Series key will be reindexed to match DataFrame index.\n",
      "  emails_all_df.drop(emails_all_df[member_selector][emails_all_df.week_dt > end_date].index, inplace=True)\n",
      "<ipython-input-40-9df018e460c4>:10: UserWarning: Boolean Series key will be reindexed to match DataFrame index.\n",
      "  emails_all_df.drop(emails_all_df[member_selector][emails_all_df.week_dt < start_date].index,inplace=True)\n",
      "<ipython-input-40-9df018e460c4>:11: UserWarning: Boolean Series key will be reindexed to match DataFrame index.\n",
      "  emails_all_df.drop(emails_all_df[member_selector][emails_all_df.week_dt > end_date].index, inplace=True)\n",
      "<ipython-input-40-9df018e460c4>:10: UserWarning: Boolean Series key will be reindexed to match DataFrame index.\n",
      "  emails_all_df.drop(emails_all_df[member_selector][emails_all_df.week_dt < start_date].index,inplace=True)\n",
      "<ipython-input-40-9df018e460c4>:11: UserWarning: Boolean Series key will be reindexed to match DataFrame index.\n",
      "  emails_all_df.drop(emails_all_df[member_selector][emails_all_df.week_dt > end_date].index, inplace=True)\n",
      "<ipython-input-40-9df018e460c4>:10: UserWarning: Boolean Series key will be reindexed to match DataFrame index.\n",
      "  emails_all_df.drop(emails_all_df[member_selector][emails_all_df.week_dt < start_date].index,inplace=True)\n",
      "<ipython-input-40-9df018e460c4>:11: UserWarning: Boolean Series key will be reindexed to match DataFrame index.\n",
      "  emails_all_df.drop(emails_all_df[member_selector][emails_all_df.week_dt > end_date].index, inplace=True)\n",
      "<ipython-input-40-9df018e460c4>:10: UserWarning: Boolean Series key will be reindexed to match DataFrame index.\n",
      "  emails_all_df.drop(emails_all_df[member_selector][emails_all_df.week_dt < start_date].index,inplace=True)\n",
      "<ipython-input-40-9df018e460c4>:11: UserWarning: Boolean Series key will be reindexed to match DataFrame index.\n",
      "  emails_all_df.drop(emails_all_df[member_selector][emails_all_df.week_dt > end_date].index, inplace=True)\n",
      "<ipython-input-40-9df018e460c4>:10: UserWarning: Boolean Series key will be reindexed to match DataFrame index.\n",
      "  emails_all_df.drop(emails_all_df[member_selector][emails_all_df.week_dt < start_date].index,inplace=True)\n",
      "<ipython-input-40-9df018e460c4>:11: UserWarning: Boolean Series key will be reindexed to match DataFrame index.\n",
      "  emails_all_df.drop(emails_all_df[member_selector][emails_all_df.week_dt > end_date].index, inplace=True)\n",
      "<ipython-input-40-9df018e460c4>:10: UserWarning: Boolean Series key will be reindexed to match DataFrame index.\n",
      "  emails_all_df.drop(emails_all_df[member_selector][emails_all_df.week_dt < start_date].index,inplace=True)\n",
      "<ipython-input-40-9df018e460c4>:11: UserWarning: Boolean Series key will be reindexed to match DataFrame index.\n",
      "  emails_all_df.drop(emails_all_df[member_selector][emails_all_df.week_dt > end_date].index, inplace=True)\n",
      "<ipython-input-40-9df018e460c4>:10: UserWarning: Boolean Series key will be reindexed to match DataFrame index.\n",
      "  emails_all_df.drop(emails_all_df[member_selector][emails_all_df.week_dt < start_date].index,inplace=True)\n",
      "<ipython-input-40-9df018e460c4>:11: UserWarning: Boolean Series key will be reindexed to match DataFrame index.\n",
      "  emails_all_df.drop(emails_all_df[member_selector][emails_all_df.week_dt > end_date].index, inplace=True)\n",
      "<ipython-input-40-9df018e460c4>:10: UserWarning: Boolean Series key will be reindexed to match DataFrame index.\n",
      "  emails_all_df.drop(emails_all_df[member_selector][emails_all_df.week_dt < start_date].index,inplace=True)\n",
      "<ipython-input-40-9df018e460c4>:11: UserWarning: Boolean Series key will be reindexed to match DataFrame index.\n",
      "  emails_all_df.drop(emails_all_df[member_selector][emails_all_df.week_dt > end_date].index, inplace=True)\n",
      "<ipython-input-40-9df018e460c4>:10: UserWarning: Boolean Series key will be reindexed to match DataFrame index.\n",
      "  emails_all_df.drop(emails_all_df[member_selector][emails_all_df.week_dt < start_date].index,inplace=True)\n",
      "<ipython-input-40-9df018e460c4>:11: UserWarning: Boolean Series key will be reindexed to match DataFrame index.\n",
      "  emails_all_df.drop(emails_all_df[member_selector][emails_all_df.week_dt > end_date].index, inplace=True)\n",
      "<ipython-input-40-9df018e460c4>:10: UserWarning: Boolean Series key will be reindexed to match DataFrame index.\n",
      "  emails_all_df.drop(emails_all_df[member_selector][emails_all_df.week_dt < start_date].index,inplace=True)\n",
      "<ipython-input-40-9df018e460c4>:11: UserWarning: Boolean Series key will be reindexed to match DataFrame index.\n",
      "  emails_all_df.drop(emails_all_df[member_selector][emails_all_df.week_dt > end_date].index, inplace=True)\n",
      "<ipython-input-40-9df018e460c4>:10: UserWarning: Boolean Series key will be reindexed to match DataFrame index.\n",
      "  emails_all_df.drop(emails_all_df[member_selector][emails_all_df.week_dt < start_date].index,inplace=True)\n",
      "<ipython-input-40-9df018e460c4>:11: UserWarning: Boolean Series key will be reindexed to match DataFrame index.\n",
      "  emails_all_df.drop(emails_all_df[member_selector][emails_all_df.week_dt > end_date].index, inplace=True)\n",
      "<ipython-input-40-9df018e460c4>:10: UserWarning: Boolean Series key will be reindexed to match DataFrame index.\n",
      "  emails_all_df.drop(emails_all_df[member_selector][emails_all_df.week_dt < start_date].index,inplace=True)\n",
      "<ipython-input-40-9df018e460c4>:11: UserWarning: Boolean Series key will be reindexed to match DataFrame index.\n",
      "  emails_all_df.drop(emails_all_df[member_selector][emails_all_df.week_dt > end_date].index, inplace=True)\n",
      "<ipython-input-40-9df018e460c4>:10: UserWarning: Boolean Series key will be reindexed to match DataFrame index.\n",
      "  emails_all_df.drop(emails_all_df[member_selector][emails_all_df.week_dt < start_date].index,inplace=True)\n",
      "<ipython-input-40-9df018e460c4>:11: UserWarning: Boolean Series key will be reindexed to match DataFrame index.\n",
      "  emails_all_df.drop(emails_all_df[member_selector][emails_all_df.week_dt > end_date].index, inplace=True)\n",
      "<ipython-input-40-9df018e460c4>:10: UserWarning: Boolean Series key will be reindexed to match DataFrame index.\n",
      "  emails_all_df.drop(emails_all_df[member_selector][emails_all_df.week_dt < start_date].index,inplace=True)\n",
      "<ipython-input-40-9df018e460c4>:11: UserWarning: Boolean Series key will be reindexed to match DataFrame index.\n",
      "  emails_all_df.drop(emails_all_df[member_selector][emails_all_df.week_dt > end_date].index, inplace=True)\n",
      "<ipython-input-40-9df018e460c4>:10: UserWarning: Boolean Series key will be reindexed to match DataFrame index.\n",
      "  emails_all_df.drop(emails_all_df[member_selector][emails_all_df.week_dt < start_date].index,inplace=True)\n",
      "<ipython-input-40-9df018e460c4>:11: UserWarning: Boolean Series key will be reindexed to match DataFrame index.\n",
      "  emails_all_df.drop(emails_all_df[member_selector][emails_all_df.week_dt > end_date].index, inplace=True)\n",
      "<ipython-input-40-9df018e460c4>:10: UserWarning: Boolean Series key will be reindexed to match DataFrame index.\n",
      "  emails_all_df.drop(emails_all_df[member_selector][emails_all_df.week_dt < start_date].index,inplace=True)\n",
      "<ipython-input-40-9df018e460c4>:11: UserWarning: Boolean Series key will be reindexed to match DataFrame index.\n",
      "  emails_all_df.drop(emails_all_df[member_selector][emails_all_df.week_dt > end_date].index, inplace=True)\n",
      "<ipython-input-40-9df018e460c4>:10: UserWarning: Boolean Series key will be reindexed to match DataFrame index.\n",
      "  emails_all_df.drop(emails_all_df[member_selector][emails_all_df.week_dt < start_date].index,inplace=True)\n",
      "<ipython-input-40-9df018e460c4>:11: UserWarning: Boolean Series key will be reindexed to match DataFrame index.\n",
      "  emails_all_df.drop(emails_all_df[member_selector][emails_all_df.week_dt > end_date].index, inplace=True)\n",
      "<ipython-input-40-9df018e460c4>:10: UserWarning: Boolean Series key will be reindexed to match DataFrame index.\n",
      "  emails_all_df.drop(emails_all_df[member_selector][emails_all_df.week_dt < start_date].index,inplace=True)\n",
      "<ipython-input-40-9df018e460c4>:11: UserWarning: Boolean Series key will be reindexed to match DataFrame index.\n",
      "  emails_all_df.drop(emails_all_df[member_selector][emails_all_df.week_dt > end_date].index, inplace=True)\n",
      "<ipython-input-40-9df018e460c4>:10: UserWarning: Boolean Series key will be reindexed to match DataFrame index.\n",
      "  emails_all_df.drop(emails_all_df[member_selector][emails_all_df.week_dt < start_date].index,inplace=True)\n",
      "<ipython-input-40-9df018e460c4>:11: UserWarning: Boolean Series key will be reindexed to match DataFrame index.\n",
      "  emails_all_df.drop(emails_all_df[member_selector][emails_all_df.week_dt > end_date].index, inplace=True)\n",
      "<ipython-input-40-9df018e460c4>:10: UserWarning: Boolean Series key will be reindexed to match DataFrame index.\n",
      "  emails_all_df.drop(emails_all_df[member_selector][emails_all_df.week_dt < start_date].index,inplace=True)\n",
      "<ipython-input-40-9df018e460c4>:11: UserWarning: Boolean Series key will be reindexed to match DataFrame index.\n",
      "  emails_all_df.drop(emails_all_df[member_selector][emails_all_df.week_dt > end_date].index, inplace=True)\n",
      "<ipython-input-40-9df018e460c4>:10: UserWarning: Boolean Series key will be reindexed to match DataFrame index.\n",
      "  emails_all_df.drop(emails_all_df[member_selector][emails_all_df.week_dt < start_date].index,inplace=True)\n",
      "<ipython-input-40-9df018e460c4>:11: UserWarning: Boolean Series key will be reindexed to match DataFrame index.\n",
      "  emails_all_df.drop(emails_all_df[member_selector][emails_all_df.week_dt > end_date].index, inplace=True)\n",
      "<ipython-input-40-9df018e460c4>:10: UserWarning: Boolean Series key will be reindexed to match DataFrame index.\n",
      "  emails_all_df.drop(emails_all_df[member_selector][emails_all_df.week_dt < start_date].index,inplace=True)\n",
      "<ipython-input-40-9df018e460c4>:11: UserWarning: Boolean Series key will be reindexed to match DataFrame index.\n",
      "  emails_all_df.drop(emails_all_df[member_selector][emails_all_df.week_dt > end_date].index, inplace=True)\n",
      "<ipython-input-40-9df018e460c4>:10: UserWarning: Boolean Series key will be reindexed to match DataFrame index.\n",
      "  emails_all_df.drop(emails_all_df[member_selector][emails_all_df.week_dt < start_date].index,inplace=True)\n",
      "<ipython-input-40-9df018e460c4>:11: UserWarning: Boolean Series key will be reindexed to match DataFrame index.\n",
      "  emails_all_df.drop(emails_all_df[member_selector][emails_all_df.week_dt > end_date].index, inplace=True)\n",
      "<ipython-input-40-9df018e460c4>:10: UserWarning: Boolean Series key will be reindexed to match DataFrame index.\n",
      "  emails_all_df.drop(emails_all_df[member_selector][emails_all_df.week_dt < start_date].index,inplace=True)\n",
      "<ipython-input-40-9df018e460c4>:11: UserWarning: Boolean Series key will be reindexed to match DataFrame index.\n",
      "  emails_all_df.drop(emails_all_df[member_selector][emails_all_df.week_dt > end_date].index, inplace=True)\n",
      "<ipython-input-40-9df018e460c4>:10: UserWarning: Boolean Series key will be reindexed to match DataFrame index.\n",
      "  emails_all_df.drop(emails_all_df[member_selector][emails_all_df.week_dt < start_date].index,inplace=True)\n",
      "<ipython-input-40-9df018e460c4>:11: UserWarning: Boolean Series key will be reindexed to match DataFrame index.\n",
      "  emails_all_df.drop(emails_all_df[member_selector][emails_all_df.week_dt > end_date].index, inplace=True)\n",
      "<ipython-input-40-9df018e460c4>:10: UserWarning: Boolean Series key will be reindexed to match DataFrame index.\n",
      "  emails_all_df.drop(emails_all_df[member_selector][emails_all_df.week_dt < start_date].index,inplace=True)\n",
      "<ipython-input-40-9df018e460c4>:11: UserWarning: Boolean Series key will be reindexed to match DataFrame index.\n",
      "  emails_all_df.drop(emails_all_df[member_selector][emails_all_df.week_dt > end_date].index, inplace=True)\n",
      "<ipython-input-40-9df018e460c4>:10: UserWarning: Boolean Series key will be reindexed to match DataFrame index.\n",
      "  emails_all_df.drop(emails_all_df[member_selector][emails_all_df.week_dt < start_date].index,inplace=True)\n",
      "<ipython-input-40-9df018e460c4>:11: UserWarning: Boolean Series key will be reindexed to match DataFrame index.\n",
      "  emails_all_df.drop(emails_all_df[member_selector][emails_all_df.week_dt > end_date].index, inplace=True)\n",
      "<ipython-input-40-9df018e460c4>:10: UserWarning: Boolean Series key will be reindexed to match DataFrame index.\n",
      "  emails_all_df.drop(emails_all_df[member_selector][emails_all_df.week_dt < start_date].index,inplace=True)\n",
      "<ipython-input-40-9df018e460c4>:11: UserWarning: Boolean Series key will be reindexed to match DataFrame index.\n",
      "  emails_all_df.drop(emails_all_df[member_selector][emails_all_df.week_dt > end_date].index, inplace=True)\n",
      "<ipython-input-40-9df018e460c4>:10: UserWarning: Boolean Series key will be reindexed to match DataFrame index.\n",
      "  emails_all_df.drop(emails_all_df[member_selector][emails_all_df.week_dt < start_date].index,inplace=True)\n",
      "<ipython-input-40-9df018e460c4>:11: UserWarning: Boolean Series key will be reindexed to match DataFrame index.\n",
      "  emails_all_df.drop(emails_all_df[member_selector][emails_all_df.week_dt > end_date].index, inplace=True)\n",
      "<ipython-input-40-9df018e460c4>:10: UserWarning: Boolean Series key will be reindexed to match DataFrame index.\n",
      "  emails_all_df.drop(emails_all_df[member_selector][emails_all_df.week_dt < start_date].index,inplace=True)\n",
      "<ipython-input-40-9df018e460c4>:11: UserWarning: Boolean Series key will be reindexed to match DataFrame index.\n",
      "  emails_all_df.drop(emails_all_df[member_selector][emails_all_df.week_dt > end_date].index, inplace=True)\n",
      "<ipython-input-40-9df018e460c4>:10: UserWarning: Boolean Series key will be reindexed to match DataFrame index.\n",
      "  emails_all_df.drop(emails_all_df[member_selector][emails_all_df.week_dt < start_date].index,inplace=True)\n",
      "<ipython-input-40-9df018e460c4>:11: UserWarning: Boolean Series key will be reindexed to match DataFrame index.\n",
      "  emails_all_df.drop(emails_all_df[member_selector][emails_all_df.week_dt > end_date].index, inplace=True)\n",
      "<ipython-input-40-9df018e460c4>:10: UserWarning: Boolean Series key will be reindexed to match DataFrame index.\n",
      "  emails_all_df.drop(emails_all_df[member_selector][emails_all_df.week_dt < start_date].index,inplace=True)\n",
      "<ipython-input-40-9df018e460c4>:11: UserWarning: Boolean Series key will be reindexed to match DataFrame index.\n",
      "  emails_all_df.drop(emails_all_df[member_selector][emails_all_df.week_dt > end_date].index, inplace=True)\n",
      "<ipython-input-40-9df018e460c4>:10: UserWarning: Boolean Series key will be reindexed to match DataFrame index.\n",
      "  emails_all_df.drop(emails_all_df[member_selector][emails_all_df.week_dt < start_date].index,inplace=True)\n",
      "<ipython-input-40-9df018e460c4>:11: UserWarning: Boolean Series key will be reindexed to match DataFrame index.\n",
      "  emails_all_df.drop(emails_all_df[member_selector][emails_all_df.week_dt > end_date].index, inplace=True)\n",
      "<ipython-input-40-9df018e460c4>:10: UserWarning: Boolean Series key will be reindexed to match DataFrame index.\n",
      "  emails_all_df.drop(emails_all_df[member_selector][emails_all_df.week_dt < start_date].index,inplace=True)\n",
      "<ipython-input-40-9df018e460c4>:11: UserWarning: Boolean Series key will be reindexed to match DataFrame index.\n",
      "  emails_all_df.drop(emails_all_df[member_selector][emails_all_df.week_dt > end_date].index, inplace=True)\n",
      "<ipython-input-40-9df018e460c4>:10: UserWarning: Boolean Series key will be reindexed to match DataFrame index.\n",
      "  emails_all_df.drop(emails_all_df[member_selector][emails_all_df.week_dt < start_date].index,inplace=True)\n",
      "<ipython-input-40-9df018e460c4>:11: UserWarning: Boolean Series key will be reindexed to match DataFrame index.\n",
      "  emails_all_df.drop(emails_all_df[member_selector][emails_all_df.week_dt > end_date].index, inplace=True)\n",
      "<ipython-input-40-9df018e460c4>:10: UserWarning: Boolean Series key will be reindexed to match DataFrame index.\n",
      "  emails_all_df.drop(emails_all_df[member_selector][emails_all_df.week_dt < start_date].index,inplace=True)\n",
      "<ipython-input-40-9df018e460c4>:11: UserWarning: Boolean Series key will be reindexed to match DataFrame index.\n",
      "  emails_all_df.drop(emails_all_df[member_selector][emails_all_df.week_dt > end_date].index, inplace=True)\n",
      "<ipython-input-40-9df018e460c4>:10: UserWarning: Boolean Series key will be reindexed to match DataFrame index.\n",
      "  emails_all_df.drop(emails_all_df[member_selector][emails_all_df.week_dt < start_date].index,inplace=True)\n",
      "<ipython-input-40-9df018e460c4>:11: UserWarning: Boolean Series key will be reindexed to match DataFrame index.\n",
      "  emails_all_df.drop(emails_all_df[member_selector][emails_all_df.week_dt > end_date].index, inplace=True)\n",
      "<ipython-input-40-9df018e460c4>:10: UserWarning: Boolean Series key will be reindexed to match DataFrame index.\n",
      "  emails_all_df.drop(emails_all_df[member_selector][emails_all_df.week_dt < start_date].index,inplace=True)\n",
      "<ipython-input-40-9df018e460c4>:11: UserWarning: Boolean Series key will be reindexed to match DataFrame index.\n",
      "  emails_all_df.drop(emails_all_df[member_selector][emails_all_df.week_dt > end_date].index, inplace=True)\n",
      "<ipython-input-40-9df018e460c4>:10: UserWarning: Boolean Series key will be reindexed to match DataFrame index.\n",
      "  emails_all_df.drop(emails_all_df[member_selector][emails_all_df.week_dt < start_date].index,inplace=True)\n",
      "<ipython-input-40-9df018e460c4>:11: UserWarning: Boolean Series key will be reindexed to match DataFrame index.\n",
      "  emails_all_df.drop(emails_all_df[member_selector][emails_all_df.week_dt > end_date].index, inplace=True)\n",
      "<ipython-input-40-9df018e460c4>:10: UserWarning: Boolean Series key will be reindexed to match DataFrame index.\n",
      "  emails_all_df.drop(emails_all_df[member_selector][emails_all_df.week_dt < start_date].index,inplace=True)\n",
      "<ipython-input-40-9df018e460c4>:11: UserWarning: Boolean Series key will be reindexed to match DataFrame index.\n",
      "  emails_all_df.drop(emails_all_df[member_selector][emails_all_df.week_dt > end_date].index, inplace=True)\n",
      "<ipython-input-40-9df018e460c4>:10: UserWarning: Boolean Series key will be reindexed to match DataFrame index.\n",
      "  emails_all_df.drop(emails_all_df[member_selector][emails_all_df.week_dt < start_date].index,inplace=True)\n",
      "<ipython-input-40-9df018e460c4>:11: UserWarning: Boolean Series key will be reindexed to match DataFrame index.\n",
      "  emails_all_df.drop(emails_all_df[member_selector][emails_all_df.week_dt > end_date].index, inplace=True)\n",
      "<ipython-input-40-9df018e460c4>:10: UserWarning: Boolean Series key will be reindexed to match DataFrame index.\n",
      "  emails_all_df.drop(emails_all_df[member_selector][emails_all_df.week_dt < start_date].index,inplace=True)\n",
      "<ipython-input-40-9df018e460c4>:11: UserWarning: Boolean Series key will be reindexed to match DataFrame index.\n",
      "  emails_all_df.drop(emails_all_df[member_selector][emails_all_df.week_dt > end_date].index, inplace=True)\n",
      "<ipython-input-40-9df018e460c4>:10: UserWarning: Boolean Series key will be reindexed to match DataFrame index.\n",
      "  emails_all_df.drop(emails_all_df[member_selector][emails_all_df.week_dt < start_date].index,inplace=True)\n",
      "<ipython-input-40-9df018e460c4>:11: UserWarning: Boolean Series key will be reindexed to match DataFrame index.\n",
      "  emails_all_df.drop(emails_all_df[member_selector][emails_all_df.week_dt > end_date].index, inplace=True)\n",
      "<ipython-input-40-9df018e460c4>:10: UserWarning: Boolean Series key will be reindexed to match DataFrame index.\n",
      "  emails_all_df.drop(emails_all_df[member_selector][emails_all_df.week_dt < start_date].index,inplace=True)\n",
      "<ipython-input-40-9df018e460c4>:11: UserWarning: Boolean Series key will be reindexed to match DataFrame index.\n",
      "  emails_all_df.drop(emails_all_df[member_selector][emails_all_df.week_dt > end_date].index, inplace=True)\n",
      "<ipython-input-40-9df018e460c4>:10: UserWarning: Boolean Series key will be reindexed to match DataFrame index.\n",
      "  emails_all_df.drop(emails_all_df[member_selector][emails_all_df.week_dt < start_date].index,inplace=True)\n",
      "<ipython-input-40-9df018e460c4>:11: UserWarning: Boolean Series key will be reindexed to match DataFrame index.\n",
      "  emails_all_df.drop(emails_all_df[member_selector][emails_all_df.week_dt > end_date].index, inplace=True)\n",
      "<ipython-input-40-9df018e460c4>:10: UserWarning: Boolean Series key will be reindexed to match DataFrame index.\n",
      "  emails_all_df.drop(emails_all_df[member_selector][emails_all_df.week_dt < start_date].index,inplace=True)\n",
      "<ipython-input-40-9df018e460c4>:11: UserWarning: Boolean Series key will be reindexed to match DataFrame index.\n",
      "  emails_all_df.drop(emails_all_df[member_selector][emails_all_df.week_dt > end_date].index, inplace=True)\n",
      "<ipython-input-40-9df018e460c4>:10: UserWarning: Boolean Series key will be reindexed to match DataFrame index.\n",
      "  emails_all_df.drop(emails_all_df[member_selector][emails_all_df.week_dt < start_date].index,inplace=True)\n",
      "<ipython-input-40-9df018e460c4>:11: UserWarning: Boolean Series key will be reindexed to match DataFrame index.\n",
      "  emails_all_df.drop(emails_all_df[member_selector][emails_all_df.week_dt > end_date].index, inplace=True)\n",
      "<ipython-input-40-9df018e460c4>:10: UserWarning: Boolean Series key will be reindexed to match DataFrame index.\n",
      "  emails_all_df.drop(emails_all_df[member_selector][emails_all_df.week_dt < start_date].index,inplace=True)\n",
      "<ipython-input-40-9df018e460c4>:11: UserWarning: Boolean Series key will be reindexed to match DataFrame index.\n",
      "  emails_all_df.drop(emails_all_df[member_selector][emails_all_df.week_dt > end_date].index, inplace=True)\n",
      "<ipython-input-40-9df018e460c4>:10: UserWarning: Boolean Series key will be reindexed to match DataFrame index.\n",
      "  emails_all_df.drop(emails_all_df[member_selector][emails_all_df.week_dt < start_date].index,inplace=True)\n",
      "<ipython-input-40-9df018e460c4>:11: UserWarning: Boolean Series key will be reindexed to match DataFrame index.\n",
      "  emails_all_df.drop(emails_all_df[member_selector][emails_all_df.week_dt > end_date].index, inplace=True)\n",
      "<ipython-input-40-9df018e460c4>:10: UserWarning: Boolean Series key will be reindexed to match DataFrame index.\n",
      "  emails_all_df.drop(emails_all_df[member_selector][emails_all_df.week_dt < start_date].index,inplace=True)\n",
      "<ipython-input-40-9df018e460c4>:11: UserWarning: Boolean Series key will be reindexed to match DataFrame index.\n",
      "  emails_all_df.drop(emails_all_df[member_selector][emails_all_df.week_dt > end_date].index, inplace=True)\n",
      "<ipython-input-40-9df018e460c4>:10: UserWarning: Boolean Series key will be reindexed to match DataFrame index.\n",
      "  emails_all_df.drop(emails_all_df[member_selector][emails_all_df.week_dt < start_date].index,inplace=True)\n",
      "<ipython-input-40-9df018e460c4>:11: UserWarning: Boolean Series key will be reindexed to match DataFrame index.\n",
      "  emails_all_df.drop(emails_all_df[member_selector][emails_all_df.week_dt > end_date].index, inplace=True)\n",
      "<ipython-input-40-9df018e460c4>:10: UserWarning: Boolean Series key will be reindexed to match DataFrame index.\n",
      "  emails_all_df.drop(emails_all_df[member_selector][emails_all_df.week_dt < start_date].index,inplace=True)\n",
      "<ipython-input-40-9df018e460c4>:11: UserWarning: Boolean Series key will be reindexed to match DataFrame index.\n",
      "  emails_all_df.drop(emails_all_df[member_selector][emails_all_df.week_dt > end_date].index, inplace=True)\n",
      "<ipython-input-40-9df018e460c4>:10: UserWarning: Boolean Series key will be reindexed to match DataFrame index.\n",
      "  emails_all_df.drop(emails_all_df[member_selector][emails_all_df.week_dt < start_date].index,inplace=True)\n",
      "<ipython-input-40-9df018e460c4>:11: UserWarning: Boolean Series key will be reindexed to match DataFrame index.\n",
      "  emails_all_df.drop(emails_all_df[member_selector][emails_all_df.week_dt > end_date].index, inplace=True)\n",
      "<ipython-input-40-9df018e460c4>:10: UserWarning: Boolean Series key will be reindexed to match DataFrame index.\n",
      "  emails_all_df.drop(emails_all_df[member_selector][emails_all_df.week_dt < start_date].index,inplace=True)\n",
      "<ipython-input-40-9df018e460c4>:11: UserWarning: Boolean Series key will be reindexed to match DataFrame index.\n",
      "  emails_all_df.drop(emails_all_df[member_selector][emails_all_df.week_dt > end_date].index, inplace=True)\n",
      "<ipython-input-40-9df018e460c4>:10: UserWarning: Boolean Series key will be reindexed to match DataFrame index.\n",
      "  emails_all_df.drop(emails_all_df[member_selector][emails_all_df.week_dt < start_date].index,inplace=True)\n",
      "<ipython-input-40-9df018e460c4>:11: UserWarning: Boolean Series key will be reindexed to match DataFrame index.\n",
      "  emails_all_df.drop(emails_all_df[member_selector][emails_all_df.week_dt > end_date].index, inplace=True)\n",
      "<ipython-input-40-9df018e460c4>:10: UserWarning: Boolean Series key will be reindexed to match DataFrame index.\n",
      "  emails_all_df.drop(emails_all_df[member_selector][emails_all_df.week_dt < start_date].index,inplace=True)\n",
      "<ipython-input-40-9df018e460c4>:11: UserWarning: Boolean Series key will be reindexed to match DataFrame index.\n",
      "  emails_all_df.drop(emails_all_df[member_selector][emails_all_df.week_dt > end_date].index, inplace=True)\n",
      "<ipython-input-40-9df018e460c4>:10: UserWarning: Boolean Series key will be reindexed to match DataFrame index.\n",
      "  emails_all_df.drop(emails_all_df[member_selector][emails_all_df.week_dt < start_date].index,inplace=True)\n",
      "<ipython-input-40-9df018e460c4>:11: UserWarning: Boolean Series key will be reindexed to match DataFrame index.\n",
      "  emails_all_df.drop(emails_all_df[member_selector][emails_all_df.week_dt > end_date].index, inplace=True)\n",
      "<ipython-input-40-9df018e460c4>:10: UserWarning: Boolean Series key will be reindexed to match DataFrame index.\n",
      "  emails_all_df.drop(emails_all_df[member_selector][emails_all_df.week_dt < start_date].index,inplace=True)\n",
      "<ipython-input-40-9df018e460c4>:11: UserWarning: Boolean Series key will be reindexed to match DataFrame index.\n",
      "  emails_all_df.drop(emails_all_df[member_selector][emails_all_df.week_dt > end_date].index, inplace=True)\n",
      "<ipython-input-40-9df018e460c4>:10: UserWarning: Boolean Series key will be reindexed to match DataFrame index.\n",
      "  emails_all_df.drop(emails_all_df[member_selector][emails_all_df.week_dt < start_date].index,inplace=True)\n",
      "<ipython-input-40-9df018e460c4>:11: UserWarning: Boolean Series key will be reindexed to match DataFrame index.\n",
      "  emails_all_df.drop(emails_all_df[member_selector][emails_all_df.week_dt > end_date].index, inplace=True)\n",
      "<ipython-input-40-9df018e460c4>:10: UserWarning: Boolean Series key will be reindexed to match DataFrame index.\n",
      "  emails_all_df.drop(emails_all_df[member_selector][emails_all_df.week_dt < start_date].index,inplace=True)\n",
      "<ipython-input-40-9df018e460c4>:11: UserWarning: Boolean Series key will be reindexed to match DataFrame index.\n",
      "  emails_all_df.drop(emails_all_df[member_selector][emails_all_df.week_dt > end_date].index, inplace=True)\n",
      "<ipython-input-40-9df018e460c4>:10: UserWarning: Boolean Series key will be reindexed to match DataFrame index.\n",
      "  emails_all_df.drop(emails_all_df[member_selector][emails_all_df.week_dt < start_date].index,inplace=True)\n",
      "<ipython-input-40-9df018e460c4>:11: UserWarning: Boolean Series key will be reindexed to match DataFrame index.\n",
      "  emails_all_df.drop(emails_all_df[member_selector][emails_all_df.week_dt > end_date].index, inplace=True)\n",
      "<ipython-input-40-9df018e460c4>:10: UserWarning: Boolean Series key will be reindexed to match DataFrame index.\n",
      "  emails_all_df.drop(emails_all_df[member_selector][emails_all_df.week_dt < start_date].index,inplace=True)\n",
      "<ipython-input-40-9df018e460c4>:11: UserWarning: Boolean Series key will be reindexed to match DataFrame index.\n",
      "  emails_all_df.drop(emails_all_df[member_selector][emails_all_df.week_dt > end_date].index, inplace=True)\n",
      "<ipython-input-40-9df018e460c4>:10: UserWarning: Boolean Series key will be reindexed to match DataFrame index.\n",
      "  emails_all_df.drop(emails_all_df[member_selector][emails_all_df.week_dt < start_date].index,inplace=True)\n",
      "<ipython-input-40-9df018e460c4>:11: UserWarning: Boolean Series key will be reindexed to match DataFrame index.\n",
      "  emails_all_df.drop(emails_all_df[member_selector][emails_all_df.week_dt > end_date].index, inplace=True)\n",
      "<ipython-input-40-9df018e460c4>:10: UserWarning: Boolean Series key will be reindexed to match DataFrame index.\n",
      "  emails_all_df.drop(emails_all_df[member_selector][emails_all_df.week_dt < start_date].index,inplace=True)\n",
      "<ipython-input-40-9df018e460c4>:11: UserWarning: Boolean Series key will be reindexed to match DataFrame index.\n",
      "  emails_all_df.drop(emails_all_df[member_selector][emails_all_df.week_dt > end_date].index, inplace=True)\n",
      "<ipython-input-40-9df018e460c4>:10: UserWarning: Boolean Series key will be reindexed to match DataFrame index.\n",
      "  emails_all_df.drop(emails_all_df[member_selector][emails_all_df.week_dt < start_date].index,inplace=True)\n",
      "<ipython-input-40-9df018e460c4>:11: UserWarning: Boolean Series key will be reindexed to match DataFrame index.\n",
      "  emails_all_df.drop(emails_all_df[member_selector][emails_all_df.week_dt > end_date].index, inplace=True)\n",
      "<ipython-input-40-9df018e460c4>:10: UserWarning: Boolean Series key will be reindexed to match DataFrame index.\n",
      "  emails_all_df.drop(emails_all_df[member_selector][emails_all_df.week_dt < start_date].index,inplace=True)\n",
      "<ipython-input-40-9df018e460c4>:11: UserWarning: Boolean Series key will be reindexed to match DataFrame index.\n",
      "  emails_all_df.drop(emails_all_df[member_selector][emails_all_df.week_dt > end_date].index, inplace=True)\n",
      "<ipython-input-40-9df018e460c4>:10: UserWarning: Boolean Series key will be reindexed to match DataFrame index.\n",
      "  emails_all_df.drop(emails_all_df[member_selector][emails_all_df.week_dt < start_date].index,inplace=True)\n",
      "<ipython-input-40-9df018e460c4>:11: UserWarning: Boolean Series key will be reindexed to match DataFrame index.\n",
      "  emails_all_df.drop(emails_all_df[member_selector][emails_all_df.week_dt > end_date].index, inplace=True)\n",
      "<ipython-input-40-9df018e460c4>:10: UserWarning: Boolean Series key will be reindexed to match DataFrame index.\n",
      "  emails_all_df.drop(emails_all_df[member_selector][emails_all_df.week_dt < start_date].index,inplace=True)\n",
      "<ipython-input-40-9df018e460c4>:11: UserWarning: Boolean Series key will be reindexed to match DataFrame index.\n",
      "  emails_all_df.drop(emails_all_df[member_selector][emails_all_df.week_dt > end_date].index, inplace=True)\n",
      "<ipython-input-40-9df018e460c4>:10: UserWarning: Boolean Series key will be reindexed to match DataFrame index.\n",
      "  emails_all_df.drop(emails_all_df[member_selector][emails_all_df.week_dt < start_date].index,inplace=True)\n",
      "<ipython-input-40-9df018e460c4>:11: UserWarning: Boolean Series key will be reindexed to match DataFrame index.\n",
      "  emails_all_df.drop(emails_all_df[member_selector][emails_all_df.week_dt > end_date].index, inplace=True)\n",
      "<ipython-input-40-9df018e460c4>:10: UserWarning: Boolean Series key will be reindexed to match DataFrame index.\n",
      "  emails_all_df.drop(emails_all_df[member_selector][emails_all_df.week_dt < start_date].index,inplace=True)\n",
      "<ipython-input-40-9df018e460c4>:11: UserWarning: Boolean Series key will be reindexed to match DataFrame index.\n",
      "  emails_all_df.drop(emails_all_df[member_selector][emails_all_df.week_dt > end_date].index, inplace=True)\n",
      "<ipython-input-40-9df018e460c4>:10: UserWarning: Boolean Series key will be reindexed to match DataFrame index.\n",
      "  emails_all_df.drop(emails_all_df[member_selector][emails_all_df.week_dt < start_date].index,inplace=True)\n",
      "<ipython-input-40-9df018e460c4>:11: UserWarning: Boolean Series key will be reindexed to match DataFrame index.\n",
      "  emails_all_df.drop(emails_all_df[member_selector][emails_all_df.week_dt > end_date].index, inplace=True)\n",
      "<ipython-input-40-9df018e460c4>:10: UserWarning: Boolean Series key will be reindexed to match DataFrame index.\n",
      "  emails_all_df.drop(emails_all_df[member_selector][emails_all_df.week_dt < start_date].index,inplace=True)\n",
      "<ipython-input-40-9df018e460c4>:11: UserWarning: Boolean Series key will be reindexed to match DataFrame index.\n",
      "  emails_all_df.drop(emails_all_df[member_selector][emails_all_df.week_dt > end_date].index, inplace=True)\n",
      "<ipython-input-40-9df018e460c4>:10: UserWarning: Boolean Series key will be reindexed to match DataFrame index.\n",
      "  emails_all_df.drop(emails_all_df[member_selector][emails_all_df.week_dt < start_date].index,inplace=True)\n",
      "<ipython-input-40-9df018e460c4>:11: UserWarning: Boolean Series key will be reindexed to match DataFrame index.\n",
      "  emails_all_df.drop(emails_all_df[member_selector][emails_all_df.week_dt > end_date].index, inplace=True)\n",
      "<ipython-input-40-9df018e460c4>:10: UserWarning: Boolean Series key will be reindexed to match DataFrame index.\n",
      "  emails_all_df.drop(emails_all_df[member_selector][emails_all_df.week_dt < start_date].index,inplace=True)\n",
      "<ipython-input-40-9df018e460c4>:11: UserWarning: Boolean Series key will be reindexed to match DataFrame index.\n",
      "  emails_all_df.drop(emails_all_df[member_selector][emails_all_df.week_dt > end_date].index, inplace=True)\n",
      "<ipython-input-40-9df018e460c4>:10: UserWarning: Boolean Series key will be reindexed to match DataFrame index.\n",
      "  emails_all_df.drop(emails_all_df[member_selector][emails_all_df.week_dt < start_date].index,inplace=True)\n",
      "<ipython-input-40-9df018e460c4>:11: UserWarning: Boolean Series key will be reindexed to match DataFrame index.\n",
      "  emails_all_df.drop(emails_all_df[member_selector][emails_all_df.week_dt > end_date].index, inplace=True)\n",
      "<ipython-input-40-9df018e460c4>:10: UserWarning: Boolean Series key will be reindexed to match DataFrame index.\n",
      "  emails_all_df.drop(emails_all_df[member_selector][emails_all_df.week_dt < start_date].index,inplace=True)\n",
      "<ipython-input-40-9df018e460c4>:11: UserWarning: Boolean Series key will be reindexed to match DataFrame index.\n",
      "  emails_all_df.drop(emails_all_df[member_selector][emails_all_df.week_dt > end_date].index, inplace=True)\n",
      "<ipython-input-40-9df018e460c4>:10: UserWarning: Boolean Series key will be reindexed to match DataFrame index.\n",
      "  emails_all_df.drop(emails_all_df[member_selector][emails_all_df.week_dt < start_date].index,inplace=True)\n",
      "<ipython-input-40-9df018e460c4>:11: UserWarning: Boolean Series key will be reindexed to match DataFrame index.\n",
      "  emails_all_df.drop(emails_all_df[member_selector][emails_all_df.week_dt > end_date].index, inplace=True)\n",
      "<ipython-input-40-9df018e460c4>:10: UserWarning: Boolean Series key will be reindexed to match DataFrame index.\n",
      "  emails_all_df.drop(emails_all_df[member_selector][emails_all_df.week_dt < start_date].index,inplace=True)\n",
      "<ipython-input-40-9df018e460c4>:11: UserWarning: Boolean Series key will be reindexed to match DataFrame index.\n",
      "  emails_all_df.drop(emails_all_df[member_selector][emails_all_df.week_dt > end_date].index, inplace=True)\n",
      "<ipython-input-40-9df018e460c4>:10: UserWarning: Boolean Series key will be reindexed to match DataFrame index.\n",
      "  emails_all_df.drop(emails_all_df[member_selector][emails_all_df.week_dt < start_date].index,inplace=True)\n",
      "<ipython-input-40-9df018e460c4>:11: UserWarning: Boolean Series key will be reindexed to match DataFrame index.\n",
      "  emails_all_df.drop(emails_all_df[member_selector][emails_all_df.week_dt > end_date].index, inplace=True)\n",
      "<ipython-input-40-9df018e460c4>:10: UserWarning: Boolean Series key will be reindexed to match DataFrame index.\n",
      "  emails_all_df.drop(emails_all_df[member_selector][emails_all_df.week_dt < start_date].index,inplace=True)\n",
      "<ipython-input-40-9df018e460c4>:11: UserWarning: Boolean Series key will be reindexed to match DataFrame index.\n",
      "  emails_all_df.drop(emails_all_df[member_selector][emails_all_df.week_dt > end_date].index, inplace=True)\n",
      "<ipython-input-40-9df018e460c4>:10: UserWarning: Boolean Series key will be reindexed to match DataFrame index.\n",
      "  emails_all_df.drop(emails_all_df[member_selector][emails_all_df.week_dt < start_date].index,inplace=True)\n",
      "<ipython-input-40-9df018e460c4>:11: UserWarning: Boolean Series key will be reindexed to match DataFrame index.\n",
      "  emails_all_df.drop(emails_all_df[member_selector][emails_all_df.week_dt > end_date].index, inplace=True)\n",
      "<ipython-input-40-9df018e460c4>:10: UserWarning: Boolean Series key will be reindexed to match DataFrame index.\n",
      "  emails_all_df.drop(emails_all_df[member_selector][emails_all_df.week_dt < start_date].index,inplace=True)\n",
      "<ipython-input-40-9df018e460c4>:11: UserWarning: Boolean Series key will be reindexed to match DataFrame index.\n",
      "  emails_all_df.drop(emails_all_df[member_selector][emails_all_df.week_dt > end_date].index, inplace=True)\n",
      "<ipython-input-40-9df018e460c4>:10: UserWarning: Boolean Series key will be reindexed to match DataFrame index.\n",
      "  emails_all_df.drop(emails_all_df[member_selector][emails_all_df.week_dt < start_date].index,inplace=True)\n",
      "<ipython-input-40-9df018e460c4>:11: UserWarning: Boolean Series key will be reindexed to match DataFrame index.\n",
      "  emails_all_df.drop(emails_all_df[member_selector][emails_all_df.week_dt > end_date].index, inplace=True)\n",
      "<ipython-input-40-9df018e460c4>:10: UserWarning: Boolean Series key will be reindexed to match DataFrame index.\n",
      "  emails_all_df.drop(emails_all_df[member_selector][emails_all_df.week_dt < start_date].index,inplace=True)\n",
      "<ipython-input-40-9df018e460c4>:11: UserWarning: Boolean Series key will be reindexed to match DataFrame index.\n",
      "  emails_all_df.drop(emails_all_df[member_selector][emails_all_df.week_dt > end_date].index, inplace=True)\n",
      "<ipython-input-40-9df018e460c4>:10: UserWarning: Boolean Series key will be reindexed to match DataFrame index.\n",
      "  emails_all_df.drop(emails_all_df[member_selector][emails_all_df.week_dt < start_date].index,inplace=True)\n",
      "<ipython-input-40-9df018e460c4>:11: UserWarning: Boolean Series key will be reindexed to match DataFrame index.\n",
      "  emails_all_df.drop(emails_all_df[member_selector][emails_all_df.week_dt > end_date].index, inplace=True)\n",
      "<ipython-input-40-9df018e460c4>:10: UserWarning: Boolean Series key will be reindexed to match DataFrame index.\n",
      "  emails_all_df.drop(emails_all_df[member_selector][emails_all_df.week_dt < start_date].index,inplace=True)\n",
      "<ipython-input-40-9df018e460c4>:11: UserWarning: Boolean Series key will be reindexed to match DataFrame index.\n",
      "  emails_all_df.drop(emails_all_df[member_selector][emails_all_df.week_dt > end_date].index, inplace=True)\n",
      "<ipython-input-40-9df018e460c4>:10: UserWarning: Boolean Series key will be reindexed to match DataFrame index.\n",
      "  emails_all_df.drop(emails_all_df[member_selector][emails_all_df.week_dt < start_date].index,inplace=True)\n",
      "<ipython-input-40-9df018e460c4>:11: UserWarning: Boolean Series key will be reindexed to match DataFrame index.\n",
      "  emails_all_df.drop(emails_all_df[member_selector][emails_all_df.week_dt > end_date].index, inplace=True)\n",
      "<ipython-input-40-9df018e460c4>:10: UserWarning: Boolean Series key will be reindexed to match DataFrame index.\n",
      "  emails_all_df.drop(emails_all_df[member_selector][emails_all_df.week_dt < start_date].index,inplace=True)\n",
      "<ipython-input-40-9df018e460c4>:11: UserWarning: Boolean Series key will be reindexed to match DataFrame index.\n",
      "  emails_all_df.drop(emails_all_df[member_selector][emails_all_df.week_dt > end_date].index, inplace=True)\n",
      "<ipython-input-40-9df018e460c4>:10: UserWarning: Boolean Series key will be reindexed to match DataFrame index.\n",
      "  emails_all_df.drop(emails_all_df[member_selector][emails_all_df.week_dt < start_date].index,inplace=True)\n",
      "<ipython-input-40-9df018e460c4>:11: UserWarning: Boolean Series key will be reindexed to match DataFrame index.\n",
      "  emails_all_df.drop(emails_all_df[member_selector][emails_all_df.week_dt > end_date].index, inplace=True)\n",
      "<ipython-input-40-9df018e460c4>:10: UserWarning: Boolean Series key will be reindexed to match DataFrame index.\n",
      "  emails_all_df.drop(emails_all_df[member_selector][emails_all_df.week_dt < start_date].index,inplace=True)\n",
      "<ipython-input-40-9df018e460c4>:11: UserWarning: Boolean Series key will be reindexed to match DataFrame index.\n",
      "  emails_all_df.drop(emails_all_df[member_selector][emails_all_df.week_dt > end_date].index, inplace=True)\n",
      "<ipython-input-40-9df018e460c4>:10: UserWarning: Boolean Series key will be reindexed to match DataFrame index.\n",
      "  emails_all_df.drop(emails_all_df[member_selector][emails_all_df.week_dt < start_date].index,inplace=True)\n",
      "<ipython-input-40-9df018e460c4>:11: UserWarning: Boolean Series key will be reindexed to match DataFrame index.\n",
      "  emails_all_df.drop(emails_all_df[member_selector][emails_all_df.week_dt > end_date].index, inplace=True)\n",
      "<ipython-input-40-9df018e460c4>:10: UserWarning: Boolean Series key will be reindexed to match DataFrame index.\n",
      "  emails_all_df.drop(emails_all_df[member_selector][emails_all_df.week_dt < start_date].index,inplace=True)\n",
      "<ipython-input-40-9df018e460c4>:11: UserWarning: Boolean Series key will be reindexed to match DataFrame index.\n",
      "  emails_all_df.drop(emails_all_df[member_selector][emails_all_df.week_dt > end_date].index, inplace=True)\n",
      "<ipython-input-40-9df018e460c4>:10: UserWarning: Boolean Series key will be reindexed to match DataFrame index.\n",
      "  emails_all_df.drop(emails_all_df[member_selector][emails_all_df.week_dt < start_date].index,inplace=True)\n",
      "<ipython-input-40-9df018e460c4>:11: UserWarning: Boolean Series key will be reindexed to match DataFrame index.\n",
      "  emails_all_df.drop(emails_all_df[member_selector][emails_all_df.week_dt > end_date].index, inplace=True)\n",
      "<ipython-input-40-9df018e460c4>:10: UserWarning: Boolean Series key will be reindexed to match DataFrame index.\n",
      "  emails_all_df.drop(emails_all_df[member_selector][emails_all_df.week_dt < start_date].index,inplace=True)\n",
      "<ipython-input-40-9df018e460c4>:11: UserWarning: Boolean Series key will be reindexed to match DataFrame index.\n",
      "  emails_all_df.drop(emails_all_df[member_selector][emails_all_df.week_dt > end_date].index, inplace=True)\n",
      "<ipython-input-40-9df018e460c4>:10: UserWarning: Boolean Series key will be reindexed to match DataFrame index.\n",
      "  emails_all_df.drop(emails_all_df[member_selector][emails_all_df.week_dt < start_date].index,inplace=True)\n",
      "<ipython-input-40-9df018e460c4>:11: UserWarning: Boolean Series key will be reindexed to match DataFrame index.\n",
      "  emails_all_df.drop(emails_all_df[member_selector][emails_all_df.week_dt > end_date].index, inplace=True)\n",
      "<ipython-input-40-9df018e460c4>:10: UserWarning: Boolean Series key will be reindexed to match DataFrame index.\n",
      "  emails_all_df.drop(emails_all_df[member_selector][emails_all_df.week_dt < start_date].index,inplace=True)\n",
      "<ipython-input-40-9df018e460c4>:11: UserWarning: Boolean Series key will be reindexed to match DataFrame index.\n",
      "  emails_all_df.drop(emails_all_df[member_selector][emails_all_df.week_dt > end_date].index, inplace=True)\n",
      "<ipython-input-40-9df018e460c4>:10: UserWarning: Boolean Series key will be reindexed to match DataFrame index.\n",
      "  emails_all_df.drop(emails_all_df[member_selector][emails_all_df.week_dt < start_date].index,inplace=True)\n",
      "<ipython-input-40-9df018e460c4>:11: UserWarning: Boolean Series key will be reindexed to match DataFrame index.\n",
      "  emails_all_df.drop(emails_all_df[member_selector][emails_all_df.week_dt > end_date].index, inplace=True)\n",
      "<ipython-input-40-9df018e460c4>:10: UserWarning: Boolean Series key will be reindexed to match DataFrame index.\n",
      "  emails_all_df.drop(emails_all_df[member_selector][emails_all_df.week_dt < start_date].index,inplace=True)\n",
      "<ipython-input-40-9df018e460c4>:11: UserWarning: Boolean Series key will be reindexed to match DataFrame index.\n",
      "  emails_all_df.drop(emails_all_df[member_selector][emails_all_df.week_dt > end_date].index, inplace=True)\n",
      "<ipython-input-40-9df018e460c4>:10: UserWarning: Boolean Series key will be reindexed to match DataFrame index.\n",
      "  emails_all_df.drop(emails_all_df[member_selector][emails_all_df.week_dt < start_date].index,inplace=True)\n",
      "<ipython-input-40-9df018e460c4>:11: UserWarning: Boolean Series key will be reindexed to match DataFrame index.\n",
      "  emails_all_df.drop(emails_all_df[member_selector][emails_all_df.week_dt > end_date].index, inplace=True)\n",
      "<ipython-input-40-9df018e460c4>:10: UserWarning: Boolean Series key will be reindexed to match DataFrame index.\n",
      "  emails_all_df.drop(emails_all_df[member_selector][emails_all_df.week_dt < start_date].index,inplace=True)\n",
      "<ipython-input-40-9df018e460c4>:11: UserWarning: Boolean Series key will be reindexed to match DataFrame index.\n",
      "  emails_all_df.drop(emails_all_df[member_selector][emails_all_df.week_dt > end_date].index, inplace=True)\n",
      "<ipython-input-40-9df018e460c4>:10: UserWarning: Boolean Series key will be reindexed to match DataFrame index.\n",
      "  emails_all_df.drop(emails_all_df[member_selector][emails_all_df.week_dt < start_date].index,inplace=True)\n",
      "<ipython-input-40-9df018e460c4>:11: UserWarning: Boolean Series key will be reindexed to match DataFrame index.\n",
      "  emails_all_df.drop(emails_all_df[member_selector][emails_all_df.week_dt > end_date].index, inplace=True)\n",
      "<ipython-input-40-9df018e460c4>:10: UserWarning: Boolean Series key will be reindexed to match DataFrame index.\n",
      "  emails_all_df.drop(emails_all_df[member_selector][emails_all_df.week_dt < start_date].index,inplace=True)\n",
      "<ipython-input-40-9df018e460c4>:11: UserWarning: Boolean Series key will be reindexed to match DataFrame index.\n",
      "  emails_all_df.drop(emails_all_df[member_selector][emails_all_df.week_dt > end_date].index, inplace=True)\n",
      "<ipython-input-40-9df018e460c4>:10: UserWarning: Boolean Series key will be reindexed to match DataFrame index.\n",
      "  emails_all_df.drop(emails_all_df[member_selector][emails_all_df.week_dt < start_date].index,inplace=True)\n",
      "<ipython-input-40-9df018e460c4>:11: UserWarning: Boolean Series key will be reindexed to match DataFrame index.\n",
      "  emails_all_df.drop(emails_all_df[member_selector][emails_all_df.week_dt > end_date].index, inplace=True)\n",
      "<ipython-input-40-9df018e460c4>:10: UserWarning: Boolean Series key will be reindexed to match DataFrame index.\n",
      "  emails_all_df.drop(emails_all_df[member_selector][emails_all_df.week_dt < start_date].index,inplace=True)\n",
      "<ipython-input-40-9df018e460c4>:11: UserWarning: Boolean Series key will be reindexed to match DataFrame index.\n",
      "  emails_all_df.drop(emails_all_df[member_selector][emails_all_df.week_dt > end_date].index, inplace=True)\n",
      "<ipython-input-40-9df018e460c4>:10: UserWarning: Boolean Series key will be reindexed to match DataFrame index.\n",
      "  emails_all_df.drop(emails_all_df[member_selector][emails_all_df.week_dt < start_date].index,inplace=True)\n",
      "<ipython-input-40-9df018e460c4>:11: UserWarning: Boolean Series key will be reindexed to match DataFrame index.\n",
      "  emails_all_df.drop(emails_all_df[member_selector][emails_all_df.week_dt > end_date].index, inplace=True)\n",
      "<ipython-input-40-9df018e460c4>:10: UserWarning: Boolean Series key will be reindexed to match DataFrame index.\n",
      "  emails_all_df.drop(emails_all_df[member_selector][emails_all_df.week_dt < start_date].index,inplace=True)\n",
      "<ipython-input-40-9df018e460c4>:11: UserWarning: Boolean Series key will be reindexed to match DataFrame index.\n",
      "  emails_all_df.drop(emails_all_df[member_selector][emails_all_df.week_dt > end_date].index, inplace=True)\n",
      "<ipython-input-40-9df018e460c4>:10: UserWarning: Boolean Series key will be reindexed to match DataFrame index.\n",
      "  emails_all_df.drop(emails_all_df[member_selector][emails_all_df.week_dt < start_date].index,inplace=True)\n",
      "<ipython-input-40-9df018e460c4>:11: UserWarning: Boolean Series key will be reindexed to match DataFrame index.\n",
      "  emails_all_df.drop(emails_all_df[member_selector][emails_all_df.week_dt > end_date].index, inplace=True)\n",
      "<ipython-input-40-9df018e460c4>:10: UserWarning: Boolean Series key will be reindexed to match DataFrame index.\n",
      "  emails_all_df.drop(emails_all_df[member_selector][emails_all_df.week_dt < start_date].index,inplace=True)\n",
      "<ipython-input-40-9df018e460c4>:11: UserWarning: Boolean Series key will be reindexed to match DataFrame index.\n",
      "  emails_all_df.drop(emails_all_df[member_selector][emails_all_df.week_dt > end_date].index, inplace=True)\n",
      "<ipython-input-40-9df018e460c4>:10: UserWarning: Boolean Series key will be reindexed to match DataFrame index.\n",
      "  emails_all_df.drop(emails_all_df[member_selector][emails_all_df.week_dt < start_date].index,inplace=True)\n",
      "<ipython-input-40-9df018e460c4>:11: UserWarning: Boolean Series key will be reindexed to match DataFrame index.\n",
      "  emails_all_df.drop(emails_all_df[member_selector][emails_all_df.week_dt > end_date].index, inplace=True)\n",
      "<ipython-input-40-9df018e460c4>:10: UserWarning: Boolean Series key will be reindexed to match DataFrame index.\n",
      "  emails_all_df.drop(emails_all_df[member_selector][emails_all_df.week_dt < start_date].index,inplace=True)\n",
      "<ipython-input-40-9df018e460c4>:11: UserWarning: Boolean Series key will be reindexed to match DataFrame index.\n",
      "  emails_all_df.drop(emails_all_df[member_selector][emails_all_df.week_dt > end_date].index, inplace=True)\n",
      "<ipython-input-40-9df018e460c4>:10: UserWarning: Boolean Series key will be reindexed to match DataFrame index.\n",
      "  emails_all_df.drop(emails_all_df[member_selector][emails_all_df.week_dt < start_date].index,inplace=True)\n",
      "<ipython-input-40-9df018e460c4>:11: UserWarning: Boolean Series key will be reindexed to match DataFrame index.\n",
      "  emails_all_df.drop(emails_all_df[member_selector][emails_all_df.week_dt > end_date].index, inplace=True)\n",
      "<ipython-input-40-9df018e460c4>:10: UserWarning: Boolean Series key will be reindexed to match DataFrame index.\n",
      "  emails_all_df.drop(emails_all_df[member_selector][emails_all_df.week_dt < start_date].index,inplace=True)\n",
      "<ipython-input-40-9df018e460c4>:11: UserWarning: Boolean Series key will be reindexed to match DataFrame index.\n",
      "  emails_all_df.drop(emails_all_df[member_selector][emails_all_df.week_dt > end_date].index, inplace=True)\n",
      "<ipython-input-40-9df018e460c4>:10: UserWarning: Boolean Series key will be reindexed to match DataFrame index.\n",
      "  emails_all_df.drop(emails_all_df[member_selector][emails_all_df.week_dt < start_date].index,inplace=True)\n",
      "<ipython-input-40-9df018e460c4>:11: UserWarning: Boolean Series key will be reindexed to match DataFrame index.\n",
      "  emails_all_df.drop(emails_all_df[member_selector][emails_all_df.week_dt > end_date].index, inplace=True)\n",
      "<ipython-input-40-9df018e460c4>:10: UserWarning: Boolean Series key will be reindexed to match DataFrame index.\n",
      "  emails_all_df.drop(emails_all_df[member_selector][emails_all_df.week_dt < start_date].index,inplace=True)\n",
      "<ipython-input-40-9df018e460c4>:11: UserWarning: Boolean Series key will be reindexed to match DataFrame index.\n",
      "  emails_all_df.drop(emails_all_df[member_selector][emails_all_df.week_dt > end_date].index, inplace=True)\n",
      "<ipython-input-40-9df018e460c4>:10: UserWarning: Boolean Series key will be reindexed to match DataFrame index.\n",
      "  emails_all_df.drop(emails_all_df[member_selector][emails_all_df.week_dt < start_date].index,inplace=True)\n",
      "<ipython-input-40-9df018e460c4>:11: UserWarning: Boolean Series key will be reindexed to match DataFrame index.\n",
      "  emails_all_df.drop(emails_all_df[member_selector][emails_all_df.week_dt > end_date].index, inplace=True)\n",
      "<ipython-input-40-9df018e460c4>:10: UserWarning: Boolean Series key will be reindexed to match DataFrame index.\n",
      "  emails_all_df.drop(emails_all_df[member_selector][emails_all_df.week_dt < start_date].index,inplace=True)\n",
      "<ipython-input-40-9df018e460c4>:11: UserWarning: Boolean Series key will be reindexed to match DataFrame index.\n",
      "  emails_all_df.drop(emails_all_df[member_selector][emails_all_df.week_dt > end_date].index, inplace=True)\n",
      "<ipython-input-40-9df018e460c4>:10: UserWarning: Boolean Series key will be reindexed to match DataFrame index.\n",
      "  emails_all_df.drop(emails_all_df[member_selector][emails_all_df.week_dt < start_date].index,inplace=True)\n",
      "<ipython-input-40-9df018e460c4>:11: UserWarning: Boolean Series key will be reindexed to match DataFrame index.\n",
      "  emails_all_df.drop(emails_all_df[member_selector][emails_all_df.week_dt > end_date].index, inplace=True)\n",
      "<ipython-input-40-9df018e460c4>:10: UserWarning: Boolean Series key will be reindexed to match DataFrame index.\n",
      "  emails_all_df.drop(emails_all_df[member_selector][emails_all_df.week_dt < start_date].index,inplace=True)\n",
      "<ipython-input-40-9df018e460c4>:11: UserWarning: Boolean Series key will be reindexed to match DataFrame index.\n",
      "  emails_all_df.drop(emails_all_df[member_selector][emails_all_df.week_dt > end_date].index, inplace=True)\n",
      "<ipython-input-40-9df018e460c4>:10: UserWarning: Boolean Series key will be reindexed to match DataFrame index.\n",
      "  emails_all_df.drop(emails_all_df[member_selector][emails_all_df.week_dt < start_date].index,inplace=True)\n",
      "<ipython-input-40-9df018e460c4>:11: UserWarning: Boolean Series key will be reindexed to match DataFrame index.\n",
      "  emails_all_df.drop(emails_all_df[member_selector][emails_all_df.week_dt > end_date].index, inplace=True)\n",
      "<ipython-input-40-9df018e460c4>:10: UserWarning: Boolean Series key will be reindexed to match DataFrame index.\n",
      "  emails_all_df.drop(emails_all_df[member_selector][emails_all_df.week_dt < start_date].index,inplace=True)\n",
      "<ipython-input-40-9df018e460c4>:11: UserWarning: Boolean Series key will be reindexed to match DataFrame index.\n",
      "  emails_all_df.drop(emails_all_df[member_selector][emails_all_df.week_dt > end_date].index, inplace=True)\n",
      "<ipython-input-40-9df018e460c4>:10: UserWarning: Boolean Series key will be reindexed to match DataFrame index.\n",
      "  emails_all_df.drop(emails_all_df[member_selector][emails_all_df.week_dt < start_date].index,inplace=True)\n",
      "<ipython-input-40-9df018e460c4>:11: UserWarning: Boolean Series key will be reindexed to match DataFrame index.\n",
      "  emails_all_df.drop(emails_all_df[member_selector][emails_all_df.week_dt > end_date].index, inplace=True)\n",
      "<ipython-input-40-9df018e460c4>:10: UserWarning: Boolean Series key will be reindexed to match DataFrame index.\n",
      "  emails_all_df.drop(emails_all_df[member_selector][emails_all_df.week_dt < start_date].index,inplace=True)\n",
      "<ipython-input-40-9df018e460c4>:11: UserWarning: Boolean Series key will be reindexed to match DataFrame index.\n",
      "  emails_all_df.drop(emails_all_df[member_selector][emails_all_df.week_dt > end_date].index, inplace=True)\n",
      "<ipython-input-40-9df018e460c4>:10: UserWarning: Boolean Series key will be reindexed to match DataFrame index.\n",
      "  emails_all_df.drop(emails_all_df[member_selector][emails_all_df.week_dt < start_date].index,inplace=True)\n",
      "<ipython-input-40-9df018e460c4>:11: UserWarning: Boolean Series key will be reindexed to match DataFrame index.\n",
      "  emails_all_df.drop(emails_all_df[member_selector][emails_all_df.week_dt > end_date].index, inplace=True)\n",
      "<ipython-input-40-9df018e460c4>:10: UserWarning: Boolean Series key will be reindexed to match DataFrame index.\n",
      "  emails_all_df.drop(emails_all_df[member_selector][emails_all_df.week_dt < start_date].index,inplace=True)\n",
      "<ipython-input-40-9df018e460c4>:11: UserWarning: Boolean Series key will be reindexed to match DataFrame index.\n",
      "  emails_all_df.drop(emails_all_df[member_selector][emails_all_df.week_dt > end_date].index, inplace=True)\n",
      "<ipython-input-40-9df018e460c4>:10: UserWarning: Boolean Series key will be reindexed to match DataFrame index.\n",
      "  emails_all_df.drop(emails_all_df[member_selector][emails_all_df.week_dt < start_date].index,inplace=True)\n",
      "<ipython-input-40-9df018e460c4>:11: UserWarning: Boolean Series key will be reindexed to match DataFrame index.\n",
      "  emails_all_df.drop(emails_all_df[member_selector][emails_all_df.week_dt > end_date].index, inplace=True)\n",
      "<ipython-input-40-9df018e460c4>:10: UserWarning: Boolean Series key will be reindexed to match DataFrame index.\n",
      "  emails_all_df.drop(emails_all_df[member_selector][emails_all_df.week_dt < start_date].index,inplace=True)\n",
      "<ipython-input-40-9df018e460c4>:11: UserWarning: Boolean Series key will be reindexed to match DataFrame index.\n",
      "  emails_all_df.drop(emails_all_df[member_selector][emails_all_df.week_dt > end_date].index, inplace=True)\n",
      "<ipython-input-40-9df018e460c4>:10: UserWarning: Boolean Series key will be reindexed to match DataFrame index.\n",
      "  emails_all_df.drop(emails_all_df[member_selector][emails_all_df.week_dt < start_date].index,inplace=True)\n",
      "<ipython-input-40-9df018e460c4>:11: UserWarning: Boolean Series key will be reindexed to match DataFrame index.\n",
      "  emails_all_df.drop(emails_all_df[member_selector][emails_all_df.week_dt > end_date].index, inplace=True)\n",
      "<ipython-input-40-9df018e460c4>:10: UserWarning: Boolean Series key will be reindexed to match DataFrame index.\n",
      "  emails_all_df.drop(emails_all_df[member_selector][emails_all_df.week_dt < start_date].index,inplace=True)\n",
      "<ipython-input-40-9df018e460c4>:11: UserWarning: Boolean Series key will be reindexed to match DataFrame index.\n",
      "  emails_all_df.drop(emails_all_df[member_selector][emails_all_df.week_dt > end_date].index, inplace=True)\n",
      "<ipython-input-40-9df018e460c4>:10: UserWarning: Boolean Series key will be reindexed to match DataFrame index.\n",
      "  emails_all_df.drop(emails_all_df[member_selector][emails_all_df.week_dt < start_date].index,inplace=True)\n",
      "<ipython-input-40-9df018e460c4>:11: UserWarning: Boolean Series key will be reindexed to match DataFrame index.\n",
      "  emails_all_df.drop(emails_all_df[member_selector][emails_all_df.week_dt > end_date].index, inplace=True)\n",
      "<ipython-input-40-9df018e460c4>:10: UserWarning: Boolean Series key will be reindexed to match DataFrame index.\n",
      "  emails_all_df.drop(emails_all_df[member_selector][emails_all_df.week_dt < start_date].index,inplace=True)\n",
      "<ipython-input-40-9df018e460c4>:11: UserWarning: Boolean Series key will be reindexed to match DataFrame index.\n",
      "  emails_all_df.drop(emails_all_df[member_selector][emails_all_df.week_dt > end_date].index, inplace=True)\n",
      "<ipython-input-40-9df018e460c4>:10: UserWarning: Boolean Series key will be reindexed to match DataFrame index.\n",
      "  emails_all_df.drop(emails_all_df[member_selector][emails_all_df.week_dt < start_date].index,inplace=True)\n",
      "<ipython-input-40-9df018e460c4>:11: UserWarning: Boolean Series key will be reindexed to match DataFrame index.\n",
      "  emails_all_df.drop(emails_all_df[member_selector][emails_all_df.week_dt > end_date].index, inplace=True)\n",
      "<ipython-input-40-9df018e460c4>:10: UserWarning: Boolean Series key will be reindexed to match DataFrame index.\n",
      "  emails_all_df.drop(emails_all_df[member_selector][emails_all_df.week_dt < start_date].index,inplace=True)\n",
      "<ipython-input-40-9df018e460c4>:11: UserWarning: Boolean Series key will be reindexed to match DataFrame index.\n",
      "  emails_all_df.drop(emails_all_df[member_selector][emails_all_df.week_dt > end_date].index, inplace=True)\n",
      "<ipython-input-40-9df018e460c4>:10: UserWarning: Boolean Series key will be reindexed to match DataFrame index.\n",
      "  emails_all_df.drop(emails_all_df[member_selector][emails_all_df.week_dt < start_date].index,inplace=True)\n",
      "<ipython-input-40-9df018e460c4>:11: UserWarning: Boolean Series key will be reindexed to match DataFrame index.\n",
      "  emails_all_df.drop(emails_all_df[member_selector][emails_all_df.week_dt > end_date].index, inplace=True)\n",
      "<ipython-input-40-9df018e460c4>:10: UserWarning: Boolean Series key will be reindexed to match DataFrame index.\n",
      "  emails_all_df.drop(emails_all_df[member_selector][emails_all_df.week_dt < start_date].index,inplace=True)\n",
      "<ipython-input-40-9df018e460c4>:11: UserWarning: Boolean Series key will be reindexed to match DataFrame index.\n",
      "  emails_all_df.drop(emails_all_df[member_selector][emails_all_df.week_dt > end_date].index, inplace=True)\n",
      "<ipython-input-40-9df018e460c4>:10: UserWarning: Boolean Series key will be reindexed to match DataFrame index.\n",
      "  emails_all_df.drop(emails_all_df[member_selector][emails_all_df.week_dt < start_date].index,inplace=True)\n",
      "<ipython-input-40-9df018e460c4>:11: UserWarning: Boolean Series key will be reindexed to match DataFrame index.\n",
      "  emails_all_df.drop(emails_all_df[member_selector][emails_all_df.week_dt > end_date].index, inplace=True)\n",
      "<ipython-input-40-9df018e460c4>:10: UserWarning: Boolean Series key will be reindexed to match DataFrame index.\n",
      "  emails_all_df.drop(emails_all_df[member_selector][emails_all_df.week_dt < start_date].index,inplace=True)\n",
      "<ipython-input-40-9df018e460c4>:11: UserWarning: Boolean Series key will be reindexed to match DataFrame index.\n",
      "  emails_all_df.drop(emails_all_df[member_selector][emails_all_df.week_dt > end_date].index, inplace=True)\n",
      "<ipython-input-40-9df018e460c4>:10: UserWarning: Boolean Series key will be reindexed to match DataFrame index.\n",
      "  emails_all_df.drop(emails_all_df[member_selector][emails_all_df.week_dt < start_date].index,inplace=True)\n",
      "<ipython-input-40-9df018e460c4>:11: UserWarning: Boolean Series key will be reindexed to match DataFrame index.\n",
      "  emails_all_df.drop(emails_all_df[member_selector][emails_all_df.week_dt > end_date].index, inplace=True)\n",
      "<ipython-input-40-9df018e460c4>:10: UserWarning: Boolean Series key will be reindexed to match DataFrame index.\n",
      "  emails_all_df.drop(emails_all_df[member_selector][emails_all_df.week_dt < start_date].index,inplace=True)\n",
      "<ipython-input-40-9df018e460c4>:11: UserWarning: Boolean Series key will be reindexed to match DataFrame index.\n",
      "  emails_all_df.drop(emails_all_df[member_selector][emails_all_df.week_dt > end_date].index, inplace=True)\n",
      "<ipython-input-40-9df018e460c4>:10: UserWarning: Boolean Series key will be reindexed to match DataFrame index.\n",
      "  emails_all_df.drop(emails_all_df[member_selector][emails_all_df.week_dt < start_date].index,inplace=True)\n",
      "<ipython-input-40-9df018e460c4>:11: UserWarning: Boolean Series key will be reindexed to match DataFrame index.\n",
      "  emails_all_df.drop(emails_all_df[member_selector][emails_all_df.week_dt > end_date].index, inplace=True)\n",
      "<ipython-input-40-9df018e460c4>:10: UserWarning: Boolean Series key will be reindexed to match DataFrame index.\n",
      "  emails_all_df.drop(emails_all_df[member_selector][emails_all_df.week_dt < start_date].index,inplace=True)\n",
      "<ipython-input-40-9df018e460c4>:11: UserWarning: Boolean Series key will be reindexed to match DataFrame index.\n",
      "  emails_all_df.drop(emails_all_df[member_selector][emails_all_df.week_dt > end_date].index, inplace=True)\n",
      "<ipython-input-40-9df018e460c4>:10: UserWarning: Boolean Series key will be reindexed to match DataFrame index.\n",
      "  emails_all_df.drop(emails_all_df[member_selector][emails_all_df.week_dt < start_date].index,inplace=True)\n",
      "<ipython-input-40-9df018e460c4>:11: UserWarning: Boolean Series key will be reindexed to match DataFrame index.\n",
      "  emails_all_df.drop(emails_all_df[member_selector][emails_all_df.week_dt > end_date].index, inplace=True)\n",
      "<ipython-input-40-9df018e460c4>:10: UserWarning: Boolean Series key will be reindexed to match DataFrame index.\n",
      "  emails_all_df.drop(emails_all_df[member_selector][emails_all_df.week_dt < start_date].index,inplace=True)\n",
      "<ipython-input-40-9df018e460c4>:11: UserWarning: Boolean Series key will be reindexed to match DataFrame index.\n",
      "  emails_all_df.drop(emails_all_df[member_selector][emails_all_df.week_dt > end_date].index, inplace=True)\n",
      "<ipython-input-40-9df018e460c4>:10: UserWarning: Boolean Series key will be reindexed to match DataFrame index.\n",
      "  emails_all_df.drop(emails_all_df[member_selector][emails_all_df.week_dt < start_date].index,inplace=True)\n",
      "<ipython-input-40-9df018e460c4>:11: UserWarning: Boolean Series key will be reindexed to match DataFrame index.\n",
      "  emails_all_df.drop(emails_all_df[member_selector][emails_all_df.week_dt > end_date].index, inplace=True)\n",
      "<ipython-input-40-9df018e460c4>:10: UserWarning: Boolean Series key will be reindexed to match DataFrame index.\n",
      "  emails_all_df.drop(emails_all_df[member_selector][emails_all_df.week_dt < start_date].index,inplace=True)\n",
      "<ipython-input-40-9df018e460c4>:11: UserWarning: Boolean Series key will be reindexed to match DataFrame index.\n",
      "  emails_all_df.drop(emails_all_df[member_selector][emails_all_df.week_dt > end_date].index, inplace=True)\n",
      "<ipython-input-40-9df018e460c4>:10: UserWarning: Boolean Series key will be reindexed to match DataFrame index.\n",
      "  emails_all_df.drop(emails_all_df[member_selector][emails_all_df.week_dt < start_date].index,inplace=True)\n",
      "<ipython-input-40-9df018e460c4>:11: UserWarning: Boolean Series key will be reindexed to match DataFrame index.\n",
      "  emails_all_df.drop(emails_all_df[member_selector][emails_all_df.week_dt > end_date].index, inplace=True)\n",
      "<ipython-input-40-9df018e460c4>:10: UserWarning: Boolean Series key will be reindexed to match DataFrame index.\n",
      "  emails_all_df.drop(emails_all_df[member_selector][emails_all_df.week_dt < start_date].index,inplace=True)\n",
      "<ipython-input-40-9df018e460c4>:11: UserWarning: Boolean Series key will be reindexed to match DataFrame index.\n",
      "  emails_all_df.drop(emails_all_df[member_selector][emails_all_df.week_dt > end_date].index, inplace=True)\n",
      "<ipython-input-40-9df018e460c4>:10: UserWarning: Boolean Series key will be reindexed to match DataFrame index.\n",
      "  emails_all_df.drop(emails_all_df[member_selector][emails_all_df.week_dt < start_date].index,inplace=True)\n",
      "<ipython-input-40-9df018e460c4>:11: UserWarning: Boolean Series key will be reindexed to match DataFrame index.\n",
      "  emails_all_df.drop(emails_all_df[member_selector][emails_all_df.week_dt > end_date].index, inplace=True)\n",
      "<ipython-input-40-9df018e460c4>:10: UserWarning: Boolean Series key will be reindexed to match DataFrame index.\n",
      "  emails_all_df.drop(emails_all_df[member_selector][emails_all_df.week_dt < start_date].index,inplace=True)\n",
      "<ipython-input-40-9df018e460c4>:11: UserWarning: Boolean Series key will be reindexed to match DataFrame index.\n",
      "  emails_all_df.drop(emails_all_df[member_selector][emails_all_df.week_dt > end_date].index, inplace=True)\n",
      "<ipython-input-40-9df018e460c4>:10: UserWarning: Boolean Series key will be reindexed to match DataFrame index.\n",
      "  emails_all_df.drop(emails_all_df[member_selector][emails_all_df.week_dt < start_date].index,inplace=True)\n",
      "<ipython-input-40-9df018e460c4>:11: UserWarning: Boolean Series key will be reindexed to match DataFrame index.\n",
      "  emails_all_df.drop(emails_all_df[member_selector][emails_all_df.week_dt > end_date].index, inplace=True)\n",
      "<ipython-input-40-9df018e460c4>:10: UserWarning: Boolean Series key will be reindexed to match DataFrame index.\n",
      "  emails_all_df.drop(emails_all_df[member_selector][emails_all_df.week_dt < start_date].index,inplace=True)\n",
      "<ipython-input-40-9df018e460c4>:11: UserWarning: Boolean Series key will be reindexed to match DataFrame index.\n",
      "  emails_all_df.drop(emails_all_df[member_selector][emails_all_df.week_dt > end_date].index, inplace=True)\n",
      "<ipython-input-40-9df018e460c4>:10: UserWarning: Boolean Series key will be reindexed to match DataFrame index.\n",
      "  emails_all_df.drop(emails_all_df[member_selector][emails_all_df.week_dt < start_date].index,inplace=True)\n",
      "<ipython-input-40-9df018e460c4>:11: UserWarning: Boolean Series key will be reindexed to match DataFrame index.\n",
      "  emails_all_df.drop(emails_all_df[member_selector][emails_all_df.week_dt > end_date].index, inplace=True)\n",
      "<ipython-input-40-9df018e460c4>:10: UserWarning: Boolean Series key will be reindexed to match DataFrame index.\n",
      "  emails_all_df.drop(emails_all_df[member_selector][emails_all_df.week_dt < start_date].index,inplace=True)\n",
      "<ipython-input-40-9df018e460c4>:11: UserWarning: Boolean Series key will be reindexed to match DataFrame index.\n",
      "  emails_all_df.drop(emails_all_df[member_selector][emails_all_df.week_dt > end_date].index, inplace=True)\n",
      "<ipython-input-40-9df018e460c4>:10: UserWarning: Boolean Series key will be reindexed to match DataFrame index.\n",
      "  emails_all_df.drop(emails_all_df[member_selector][emails_all_df.week_dt < start_date].index,inplace=True)\n",
      "<ipython-input-40-9df018e460c4>:11: UserWarning: Boolean Series key will be reindexed to match DataFrame index.\n",
      "  emails_all_df.drop(emails_all_df[member_selector][emails_all_df.week_dt > end_date].index, inplace=True)\n",
      "<ipython-input-40-9df018e460c4>:10: UserWarning: Boolean Series key will be reindexed to match DataFrame index.\n",
      "  emails_all_df.drop(emails_all_df[member_selector][emails_all_df.week_dt < start_date].index,inplace=True)\n",
      "<ipython-input-40-9df018e460c4>:11: UserWarning: Boolean Series key will be reindexed to match DataFrame index.\n",
      "  emails_all_df.drop(emails_all_df[member_selector][emails_all_df.week_dt > end_date].index, inplace=True)\n",
      "<ipython-input-40-9df018e460c4>:10: UserWarning: Boolean Series key will be reindexed to match DataFrame index.\n",
      "  emails_all_df.drop(emails_all_df[member_selector][emails_all_df.week_dt < start_date].index,inplace=True)\n",
      "<ipython-input-40-9df018e460c4>:11: UserWarning: Boolean Series key will be reindexed to match DataFrame index.\n",
      "  emails_all_df.drop(emails_all_df[member_selector][emails_all_df.week_dt > end_date].index, inplace=True)\n",
      "<ipython-input-40-9df018e460c4>:10: UserWarning: Boolean Series key will be reindexed to match DataFrame index.\n",
      "  emails_all_df.drop(emails_all_df[member_selector][emails_all_df.week_dt < start_date].index,inplace=True)\n",
      "<ipython-input-40-9df018e460c4>:11: UserWarning: Boolean Series key will be reindexed to match DataFrame index.\n",
      "  emails_all_df.drop(emails_all_df[member_selector][emails_all_df.week_dt > end_date].index, inplace=True)\n",
      "<ipython-input-40-9df018e460c4>:10: UserWarning: Boolean Series key will be reindexed to match DataFrame index.\n",
      "  emails_all_df.drop(emails_all_df[member_selector][emails_all_df.week_dt < start_date].index,inplace=True)\n",
      "<ipython-input-40-9df018e460c4>:11: UserWarning: Boolean Series key will be reindexed to match DataFrame index.\n",
      "  emails_all_df.drop(emails_all_df[member_selector][emails_all_df.week_dt > end_date].index, inplace=True)\n",
      "<ipython-input-40-9df018e460c4>:10: UserWarning: Boolean Series key will be reindexed to match DataFrame index.\n",
      "  emails_all_df.drop(emails_all_df[member_selector][emails_all_df.week_dt < start_date].index,inplace=True)\n",
      "<ipython-input-40-9df018e460c4>:11: UserWarning: Boolean Series key will be reindexed to match DataFrame index.\n",
      "  emails_all_df.drop(emails_all_df[member_selector][emails_all_df.week_dt > end_date].index, inplace=True)\n",
      "<ipython-input-40-9df018e460c4>:10: UserWarning: Boolean Series key will be reindexed to match DataFrame index.\n",
      "  emails_all_df.drop(emails_all_df[member_selector][emails_all_df.week_dt < start_date].index,inplace=True)\n",
      "<ipython-input-40-9df018e460c4>:11: UserWarning: Boolean Series key will be reindexed to match DataFrame index.\n",
      "  emails_all_df.drop(emails_all_df[member_selector][emails_all_df.week_dt > end_date].index, inplace=True)\n",
      "<ipython-input-40-9df018e460c4>:10: UserWarning: Boolean Series key will be reindexed to match DataFrame index.\n",
      "  emails_all_df.drop(emails_all_df[member_selector][emails_all_df.week_dt < start_date].index,inplace=True)\n",
      "<ipython-input-40-9df018e460c4>:11: UserWarning: Boolean Series key will be reindexed to match DataFrame index.\n",
      "  emails_all_df.drop(emails_all_df[member_selector][emails_all_df.week_dt > end_date].index, inplace=True)\n",
      "<ipython-input-40-9df018e460c4>:10: UserWarning: Boolean Series key will be reindexed to match DataFrame index.\n",
      "  emails_all_df.drop(emails_all_df[member_selector][emails_all_df.week_dt < start_date].index,inplace=True)\n",
      "<ipython-input-40-9df018e460c4>:11: UserWarning: Boolean Series key will be reindexed to match DataFrame index.\n",
      "  emails_all_df.drop(emails_all_df[member_selector][emails_all_df.week_dt > end_date].index, inplace=True)\n",
      "<ipython-input-40-9df018e460c4>:10: UserWarning: Boolean Series key will be reindexed to match DataFrame index.\n",
      "  emails_all_df.drop(emails_all_df[member_selector][emails_all_df.week_dt < start_date].index,inplace=True)\n",
      "<ipython-input-40-9df018e460c4>:11: UserWarning: Boolean Series key will be reindexed to match DataFrame index.\n",
      "  emails_all_df.drop(emails_all_df[member_selector][emails_all_df.week_dt > end_date].index, inplace=True)\n",
      "<ipython-input-40-9df018e460c4>:10: UserWarning: Boolean Series key will be reindexed to match DataFrame index.\n",
      "  emails_all_df.drop(emails_all_df[member_selector][emails_all_df.week_dt < start_date].index,inplace=True)\n",
      "<ipython-input-40-9df018e460c4>:11: UserWarning: Boolean Series key will be reindexed to match DataFrame index.\n",
      "  emails_all_df.drop(emails_all_df[member_selector][emails_all_df.week_dt > end_date].index, inplace=True)\n",
      "<ipython-input-40-9df018e460c4>:10: UserWarning: Boolean Series key will be reindexed to match DataFrame index.\n",
      "  emails_all_df.drop(emails_all_df[member_selector][emails_all_df.week_dt < start_date].index,inplace=True)\n",
      "<ipython-input-40-9df018e460c4>:11: UserWarning: Boolean Series key will be reindexed to match DataFrame index.\n",
      "  emails_all_df.drop(emails_all_df[member_selector][emails_all_df.week_dt > end_date].index, inplace=True)\n",
      "<ipython-input-40-9df018e460c4>:10: UserWarning: Boolean Series key will be reindexed to match DataFrame index.\n",
      "  emails_all_df.drop(emails_all_df[member_selector][emails_all_df.week_dt < start_date].index,inplace=True)\n",
      "<ipython-input-40-9df018e460c4>:11: UserWarning: Boolean Series key will be reindexed to match DataFrame index.\n",
      "  emails_all_df.drop(emails_all_df[member_selector][emails_all_df.week_dt > end_date].index, inplace=True)\n",
      "<ipython-input-40-9df018e460c4>:10: UserWarning: Boolean Series key will be reindexed to match DataFrame index.\n",
      "  emails_all_df.drop(emails_all_df[member_selector][emails_all_df.week_dt < start_date].index,inplace=True)\n",
      "<ipython-input-40-9df018e460c4>:11: UserWarning: Boolean Series key will be reindexed to match DataFrame index.\n",
      "  emails_all_df.drop(emails_all_df[member_selector][emails_all_df.week_dt > end_date].index, inplace=True)\n",
      "<ipython-input-40-9df018e460c4>:10: UserWarning: Boolean Series key will be reindexed to match DataFrame index.\n",
      "  emails_all_df.drop(emails_all_df[member_selector][emails_all_df.week_dt < start_date].index,inplace=True)\n",
      "<ipython-input-40-9df018e460c4>:11: UserWarning: Boolean Series key will be reindexed to match DataFrame index.\n",
      "  emails_all_df.drop(emails_all_df[member_selector][emails_all_df.week_dt > end_date].index, inplace=True)\n",
      "<ipython-input-40-9df018e460c4>:10: UserWarning: Boolean Series key will be reindexed to match DataFrame index.\n",
      "  emails_all_df.drop(emails_all_df[member_selector][emails_all_df.week_dt < start_date].index,inplace=True)\n",
      "<ipython-input-40-9df018e460c4>:11: UserWarning: Boolean Series key will be reindexed to match DataFrame index.\n",
      "  emails_all_df.drop(emails_all_df[member_selector][emails_all_df.week_dt > end_date].index, inplace=True)\n",
      "<ipython-input-40-9df018e460c4>:10: UserWarning: Boolean Series key will be reindexed to match DataFrame index.\n",
      "  emails_all_df.drop(emails_all_df[member_selector][emails_all_df.week_dt < start_date].index,inplace=True)\n",
      "<ipython-input-40-9df018e460c4>:11: UserWarning: Boolean Series key will be reindexed to match DataFrame index.\n",
      "  emails_all_df.drop(emails_all_df[member_selector][emails_all_df.week_dt > end_date].index, inplace=True)\n",
      "<ipython-input-40-9df018e460c4>:10: UserWarning: Boolean Series key will be reindexed to match DataFrame index.\n",
      "  emails_all_df.drop(emails_all_df[member_selector][emails_all_df.week_dt < start_date].index,inplace=True)\n",
      "<ipython-input-40-9df018e460c4>:11: UserWarning: Boolean Series key will be reindexed to match DataFrame index.\n",
      "  emails_all_df.drop(emails_all_df[member_selector][emails_all_df.week_dt > end_date].index, inplace=True)\n",
      "<ipython-input-40-9df018e460c4>:10: UserWarning: Boolean Series key will be reindexed to match DataFrame index.\n",
      "  emails_all_df.drop(emails_all_df[member_selector][emails_all_df.week_dt < start_date].index,inplace=True)\n",
      "<ipython-input-40-9df018e460c4>:11: UserWarning: Boolean Series key will be reindexed to match DataFrame index.\n",
      "  emails_all_df.drop(emails_all_df[member_selector][emails_all_df.week_dt > end_date].index, inplace=True)\n",
      "<ipython-input-40-9df018e460c4>:10: UserWarning: Boolean Series key will be reindexed to match DataFrame index.\n",
      "  emails_all_df.drop(emails_all_df[member_selector][emails_all_df.week_dt < start_date].index,inplace=True)\n",
      "<ipython-input-40-9df018e460c4>:11: UserWarning: Boolean Series key will be reindexed to match DataFrame index.\n",
      "  emails_all_df.drop(emails_all_df[member_selector][emails_all_df.week_dt > end_date].index, inplace=True)\n",
      "<ipython-input-40-9df018e460c4>:10: UserWarning: Boolean Series key will be reindexed to match DataFrame index.\n",
      "  emails_all_df.drop(emails_all_df[member_selector][emails_all_df.week_dt < start_date].index,inplace=True)\n",
      "<ipython-input-40-9df018e460c4>:11: UserWarning: Boolean Series key will be reindexed to match DataFrame index.\n",
      "  emails_all_df.drop(emails_all_df[member_selector][emails_all_df.week_dt > end_date].index, inplace=True)\n",
      "<ipython-input-40-9df018e460c4>:10: UserWarning: Boolean Series key will be reindexed to match DataFrame index.\n",
      "  emails_all_df.drop(emails_all_df[member_selector][emails_all_df.week_dt < start_date].index,inplace=True)\n",
      "<ipython-input-40-9df018e460c4>:11: UserWarning: Boolean Series key will be reindexed to match DataFrame index.\n",
      "  emails_all_df.drop(emails_all_df[member_selector][emails_all_df.week_dt > end_date].index, inplace=True)\n",
      "<ipython-input-40-9df018e460c4>:10: UserWarning: Boolean Series key will be reindexed to match DataFrame index.\n",
      "  emails_all_df.drop(emails_all_df[member_selector][emails_all_df.week_dt < start_date].index,inplace=True)\n",
      "<ipython-input-40-9df018e460c4>:11: UserWarning: Boolean Series key will be reindexed to match DataFrame index.\n",
      "  emails_all_df.drop(emails_all_df[member_selector][emails_all_df.week_dt > end_date].index, inplace=True)\n",
      "<ipython-input-40-9df018e460c4>:10: UserWarning: Boolean Series key will be reindexed to match DataFrame index.\n",
      "  emails_all_df.drop(emails_all_df[member_selector][emails_all_df.week_dt < start_date].index,inplace=True)\n",
      "<ipython-input-40-9df018e460c4>:11: UserWarning: Boolean Series key will be reindexed to match DataFrame index.\n",
      "  emails_all_df.drop(emails_all_df[member_selector][emails_all_df.week_dt > end_date].index, inplace=True)\n",
      "<ipython-input-40-9df018e460c4>:10: UserWarning: Boolean Series key will be reindexed to match DataFrame index.\n",
      "  emails_all_df.drop(emails_all_df[member_selector][emails_all_df.week_dt < start_date].index,inplace=True)\n",
      "<ipython-input-40-9df018e460c4>:11: UserWarning: Boolean Series key will be reindexed to match DataFrame index.\n",
      "  emails_all_df.drop(emails_all_df[member_selector][emails_all_df.week_dt > end_date].index, inplace=True)\n",
      "<ipython-input-40-9df018e460c4>:10: UserWarning: Boolean Series key will be reindexed to match DataFrame index.\n",
      "  emails_all_df.drop(emails_all_df[member_selector][emails_all_df.week_dt < start_date].index,inplace=True)\n",
      "<ipython-input-40-9df018e460c4>:11: UserWarning: Boolean Series key will be reindexed to match DataFrame index.\n",
      "  emails_all_df.drop(emails_all_df[member_selector][emails_all_df.week_dt > end_date].index, inplace=True)\n",
      "<ipython-input-40-9df018e460c4>:10: UserWarning: Boolean Series key will be reindexed to match DataFrame index.\n",
      "  emails_all_df.drop(emails_all_df[member_selector][emails_all_df.week_dt < start_date].index,inplace=True)\n",
      "<ipython-input-40-9df018e460c4>:11: UserWarning: Boolean Series key will be reindexed to match DataFrame index.\n",
      "  emails_all_df.drop(emails_all_df[member_selector][emails_all_df.week_dt > end_date].index, inplace=True)\n",
      "<ipython-input-40-9df018e460c4>:10: UserWarning: Boolean Series key will be reindexed to match DataFrame index.\n",
      "  emails_all_df.drop(emails_all_df[member_selector][emails_all_df.week_dt < start_date].index,inplace=True)\n",
      "<ipython-input-40-9df018e460c4>:11: UserWarning: Boolean Series key will be reindexed to match DataFrame index.\n",
      "  emails_all_df.drop(emails_all_df[member_selector][emails_all_df.week_dt > end_date].index, inplace=True)\n",
      "<ipython-input-40-9df018e460c4>:10: UserWarning: Boolean Series key will be reindexed to match DataFrame index.\n",
      "  emails_all_df.drop(emails_all_df[member_selector][emails_all_df.week_dt < start_date].index,inplace=True)\n",
      "<ipython-input-40-9df018e460c4>:11: UserWarning: Boolean Series key will be reindexed to match DataFrame index.\n",
      "  emails_all_df.drop(emails_all_df[member_selector][emails_all_df.week_dt > end_date].index, inplace=True)\n",
      "<ipython-input-40-9df018e460c4>:10: UserWarning: Boolean Series key will be reindexed to match DataFrame index.\n",
      "  emails_all_df.drop(emails_all_df[member_selector][emails_all_df.week_dt < start_date].index,inplace=True)\n",
      "<ipython-input-40-9df018e460c4>:11: UserWarning: Boolean Series key will be reindexed to match DataFrame index.\n",
      "  emails_all_df.drop(emails_all_df[member_selector][emails_all_df.week_dt > end_date].index, inplace=True)\n",
      "<ipython-input-40-9df018e460c4>:10: UserWarning: Boolean Series key will be reindexed to match DataFrame index.\n",
      "  emails_all_df.drop(emails_all_df[member_selector][emails_all_df.week_dt < start_date].index,inplace=True)\n",
      "<ipython-input-40-9df018e460c4>:11: UserWarning: Boolean Series key will be reindexed to match DataFrame index.\n",
      "  emails_all_df.drop(emails_all_df[member_selector][emails_all_df.week_dt > end_date].index, inplace=True)\n",
      "<ipython-input-40-9df018e460c4>:10: UserWarning: Boolean Series key will be reindexed to match DataFrame index.\n",
      "  emails_all_df.drop(emails_all_df[member_selector][emails_all_df.week_dt < start_date].index,inplace=True)\n",
      "<ipython-input-40-9df018e460c4>:11: UserWarning: Boolean Series key will be reindexed to match DataFrame index.\n",
      "  emails_all_df.drop(emails_all_df[member_selector][emails_all_df.week_dt > end_date].index, inplace=True)\n",
      "<ipython-input-40-9df018e460c4>:10: UserWarning: Boolean Series key will be reindexed to match DataFrame index.\n",
      "  emails_all_df.drop(emails_all_df[member_selector][emails_all_df.week_dt < start_date].index,inplace=True)\n",
      "<ipython-input-40-9df018e460c4>:11: UserWarning: Boolean Series key will be reindexed to match DataFrame index.\n",
      "  emails_all_df.drop(emails_all_df[member_selector][emails_all_df.week_dt > end_date].index, inplace=True)\n",
      "<ipython-input-40-9df018e460c4>:10: UserWarning: Boolean Series key will be reindexed to match DataFrame index.\n",
      "  emails_all_df.drop(emails_all_df[member_selector][emails_all_df.week_dt < start_date].index,inplace=True)\n",
      "<ipython-input-40-9df018e460c4>:11: UserWarning: Boolean Series key will be reindexed to match DataFrame index.\n",
      "  emails_all_df.drop(emails_all_df[member_selector][emails_all_df.week_dt > end_date].index, inplace=True)\n",
      "<ipython-input-40-9df018e460c4>:10: UserWarning: Boolean Series key will be reindexed to match DataFrame index.\n",
      "  emails_all_df.drop(emails_all_df[member_selector][emails_all_df.week_dt < start_date].index,inplace=True)\n",
      "<ipython-input-40-9df018e460c4>:11: UserWarning: Boolean Series key will be reindexed to match DataFrame index.\n",
      "  emails_all_df.drop(emails_all_df[member_selector][emails_all_df.week_dt > end_date].index, inplace=True)\n",
      "<ipython-input-40-9df018e460c4>:10: UserWarning: Boolean Series key will be reindexed to match DataFrame index.\n",
      "  emails_all_df.drop(emails_all_df[member_selector][emails_all_df.week_dt < start_date].index,inplace=True)\n",
      "<ipython-input-40-9df018e460c4>:11: UserWarning: Boolean Series key will be reindexed to match DataFrame index.\n",
      "  emails_all_df.drop(emails_all_df[member_selector][emails_all_df.week_dt > end_date].index, inplace=True)\n",
      "<ipython-input-40-9df018e460c4>:10: UserWarning: Boolean Series key will be reindexed to match DataFrame index.\n",
      "  emails_all_df.drop(emails_all_df[member_selector][emails_all_df.week_dt < start_date].index,inplace=True)\n",
      "<ipython-input-40-9df018e460c4>:11: UserWarning: Boolean Series key will be reindexed to match DataFrame index.\n",
      "  emails_all_df.drop(emails_all_df[member_selector][emails_all_df.week_dt > end_date].index, inplace=True)\n",
      "<ipython-input-40-9df018e460c4>:10: UserWarning: Boolean Series key will be reindexed to match DataFrame index.\n",
      "  emails_all_df.drop(emails_all_df[member_selector][emails_all_df.week_dt < start_date].index,inplace=True)\n",
      "<ipython-input-40-9df018e460c4>:11: UserWarning: Boolean Series key will be reindexed to match DataFrame index.\n",
      "  emails_all_df.drop(emails_all_df[member_selector][emails_all_df.week_dt > end_date].index, inplace=True)\n",
      "<ipython-input-40-9df018e460c4>:10: UserWarning: Boolean Series key will be reindexed to match DataFrame index.\n",
      "  emails_all_df.drop(emails_all_df[member_selector][emails_all_df.week_dt < start_date].index,inplace=True)\n",
      "<ipython-input-40-9df018e460c4>:11: UserWarning: Boolean Series key will be reindexed to match DataFrame index.\n",
      "  emails_all_df.drop(emails_all_df[member_selector][emails_all_df.week_dt > end_date].index, inplace=True)\n",
      "<ipython-input-40-9df018e460c4>:10: UserWarning: Boolean Series key will be reindexed to match DataFrame index.\n",
      "  emails_all_df.drop(emails_all_df[member_selector][emails_all_df.week_dt < start_date].index,inplace=True)\n",
      "<ipython-input-40-9df018e460c4>:11: UserWarning: Boolean Series key will be reindexed to match DataFrame index.\n",
      "  emails_all_df.drop(emails_all_df[member_selector][emails_all_df.week_dt > end_date].index, inplace=True)\n",
      "<ipython-input-40-9df018e460c4>:10: UserWarning: Boolean Series key will be reindexed to match DataFrame index.\n",
      "  emails_all_df.drop(emails_all_df[member_selector][emails_all_df.week_dt < start_date].index,inplace=True)\n",
      "<ipython-input-40-9df018e460c4>:11: UserWarning: Boolean Series key will be reindexed to match DataFrame index.\n",
      "  emails_all_df.drop(emails_all_df[member_selector][emails_all_df.week_dt > end_date].index, inplace=True)\n",
      "<ipython-input-40-9df018e460c4>:10: UserWarning: Boolean Series key will be reindexed to match DataFrame index.\n",
      "  emails_all_df.drop(emails_all_df[member_selector][emails_all_df.week_dt < start_date].index,inplace=True)\n",
      "<ipython-input-40-9df018e460c4>:11: UserWarning: Boolean Series key will be reindexed to match DataFrame index.\n",
      "  emails_all_df.drop(emails_all_df[member_selector][emails_all_df.week_dt > end_date].index, inplace=True)\n",
      "<ipython-input-40-9df018e460c4>:10: UserWarning: Boolean Series key will be reindexed to match DataFrame index.\n",
      "  emails_all_df.drop(emails_all_df[member_selector][emails_all_df.week_dt < start_date].index,inplace=True)\n",
      "<ipython-input-40-9df018e460c4>:11: UserWarning: Boolean Series key will be reindexed to match DataFrame index.\n",
      "  emails_all_df.drop(emails_all_df[member_selector][emails_all_df.week_dt > end_date].index, inplace=True)\n",
      "<ipython-input-40-9df018e460c4>:10: UserWarning: Boolean Series key will be reindexed to match DataFrame index.\n",
      "  emails_all_df.drop(emails_all_df[member_selector][emails_all_df.week_dt < start_date].index,inplace=True)\n",
      "<ipython-input-40-9df018e460c4>:11: UserWarning: Boolean Series key will be reindexed to match DataFrame index.\n",
      "  emails_all_df.drop(emails_all_df[member_selector][emails_all_df.week_dt > end_date].index, inplace=True)\n",
      "<ipython-input-40-9df018e460c4>:10: UserWarning: Boolean Series key will be reindexed to match DataFrame index.\n",
      "  emails_all_df.drop(emails_all_df[member_selector][emails_all_df.week_dt < start_date].index,inplace=True)\n",
      "<ipython-input-40-9df018e460c4>:11: UserWarning: Boolean Series key will be reindexed to match DataFrame index.\n",
      "  emails_all_df.drop(emails_all_df[member_selector][emails_all_df.week_dt > end_date].index, inplace=True)\n",
      "<ipython-input-40-9df018e460c4>:10: UserWarning: Boolean Series key will be reindexed to match DataFrame index.\n",
      "  emails_all_df.drop(emails_all_df[member_selector][emails_all_df.week_dt < start_date].index,inplace=True)\n",
      "<ipython-input-40-9df018e460c4>:11: UserWarning: Boolean Series key will be reindexed to match DataFrame index.\n",
      "  emails_all_df.drop(emails_all_df[member_selector][emails_all_df.week_dt > end_date].index, inplace=True)\n",
      "<ipython-input-40-9df018e460c4>:10: UserWarning: Boolean Series key will be reindexed to match DataFrame index.\n",
      "  emails_all_df.drop(emails_all_df[member_selector][emails_all_df.week_dt < start_date].index,inplace=True)\n",
      "<ipython-input-40-9df018e460c4>:11: UserWarning: Boolean Series key will be reindexed to match DataFrame index.\n",
      "  emails_all_df.drop(emails_all_df[member_selector][emails_all_df.week_dt > end_date].index, inplace=True)\n",
      "<ipython-input-40-9df018e460c4>:10: UserWarning: Boolean Series key will be reindexed to match DataFrame index.\n",
      "  emails_all_df.drop(emails_all_df[member_selector][emails_all_df.week_dt < start_date].index,inplace=True)\n",
      "<ipython-input-40-9df018e460c4>:11: UserWarning: Boolean Series key will be reindexed to match DataFrame index.\n",
      "  emails_all_df.drop(emails_all_df[member_selector][emails_all_df.week_dt > end_date].index, inplace=True)\n",
      "<ipython-input-40-9df018e460c4>:10: UserWarning: Boolean Series key will be reindexed to match DataFrame index.\n",
      "  emails_all_df.drop(emails_all_df[member_selector][emails_all_df.week_dt < start_date].index,inplace=True)\n",
      "<ipython-input-40-9df018e460c4>:11: UserWarning: Boolean Series key will be reindexed to match DataFrame index.\n",
      "  emails_all_df.drop(emails_all_df[member_selector][emails_all_df.week_dt > end_date].index, inplace=True)\n",
      "<ipython-input-40-9df018e460c4>:10: UserWarning: Boolean Series key will be reindexed to match DataFrame index.\n",
      "  emails_all_df.drop(emails_all_df[member_selector][emails_all_df.week_dt < start_date].index,inplace=True)\n",
      "<ipython-input-40-9df018e460c4>:11: UserWarning: Boolean Series key will be reindexed to match DataFrame index.\n",
      "  emails_all_df.drop(emails_all_df[member_selector][emails_all_df.week_dt > end_date].index, inplace=True)\n",
      "<ipython-input-40-9df018e460c4>:10: UserWarning: Boolean Series key will be reindexed to match DataFrame index.\n",
      "  emails_all_df.drop(emails_all_df[member_selector][emails_all_df.week_dt < start_date].index,inplace=True)\n",
      "<ipython-input-40-9df018e460c4>:11: UserWarning: Boolean Series key will be reindexed to match DataFrame index.\n",
      "  emails_all_df.drop(emails_all_df[member_selector][emails_all_df.week_dt > end_date].index, inplace=True)\n",
      "<ipython-input-40-9df018e460c4>:10: UserWarning: Boolean Series key will be reindexed to match DataFrame index.\n",
      "  emails_all_df.drop(emails_all_df[member_selector][emails_all_df.week_dt < start_date].index,inplace=True)\n",
      "<ipython-input-40-9df018e460c4>:11: UserWarning: Boolean Series key will be reindexed to match DataFrame index.\n",
      "  emails_all_df.drop(emails_all_df[member_selector][emails_all_df.week_dt > end_date].index, inplace=True)\n",
      "<ipython-input-40-9df018e460c4>:10: UserWarning: Boolean Series key will be reindexed to match DataFrame index.\n",
      "  emails_all_df.drop(emails_all_df[member_selector][emails_all_df.week_dt < start_date].index,inplace=True)\n",
      "<ipython-input-40-9df018e460c4>:11: UserWarning: Boolean Series key will be reindexed to match DataFrame index.\n",
      "  emails_all_df.drop(emails_all_df[member_selector][emails_all_df.week_dt > end_date].index, inplace=True)\n",
      "<ipython-input-40-9df018e460c4>:10: UserWarning: Boolean Series key will be reindexed to match DataFrame index.\n",
      "  emails_all_df.drop(emails_all_df[member_selector][emails_all_df.week_dt < start_date].index,inplace=True)\n",
      "<ipython-input-40-9df018e460c4>:11: UserWarning: Boolean Series key will be reindexed to match DataFrame index.\n",
      "  emails_all_df.drop(emails_all_df[member_selector][emails_all_df.week_dt > end_date].index, inplace=True)\n",
      "<ipython-input-40-9df018e460c4>:10: UserWarning: Boolean Series key will be reindexed to match DataFrame index.\n",
      "  emails_all_df.drop(emails_all_df[member_selector][emails_all_df.week_dt < start_date].index,inplace=True)\n",
      "<ipython-input-40-9df018e460c4>:11: UserWarning: Boolean Series key will be reindexed to match DataFrame index.\n",
      "  emails_all_df.drop(emails_all_df[member_selector][emails_all_df.week_dt > end_date].index, inplace=True)\n",
      "<ipython-input-40-9df018e460c4>:10: UserWarning: Boolean Series key will be reindexed to match DataFrame index.\n",
      "  emails_all_df.drop(emails_all_df[member_selector][emails_all_df.week_dt < start_date].index,inplace=True)\n",
      "<ipython-input-40-9df018e460c4>:11: UserWarning: Boolean Series key will be reindexed to match DataFrame index.\n",
      "  emails_all_df.drop(emails_all_df[member_selector][emails_all_df.week_dt > end_date].index, inplace=True)\n",
      "<ipython-input-40-9df018e460c4>:10: UserWarning: Boolean Series key will be reindexed to match DataFrame index.\n",
      "  emails_all_df.drop(emails_all_df[member_selector][emails_all_df.week_dt < start_date].index,inplace=True)\n",
      "<ipython-input-40-9df018e460c4>:11: UserWarning: Boolean Series key will be reindexed to match DataFrame index.\n",
      "  emails_all_df.drop(emails_all_df[member_selector][emails_all_df.week_dt > end_date].index, inplace=True)\n",
      "<ipython-input-40-9df018e460c4>:10: UserWarning: Boolean Series key will be reindexed to match DataFrame index.\n",
      "  emails_all_df.drop(emails_all_df[member_selector][emails_all_df.week_dt < start_date].index,inplace=True)\n",
      "<ipython-input-40-9df018e460c4>:11: UserWarning: Boolean Series key will be reindexed to match DataFrame index.\n",
      "  emails_all_df.drop(emails_all_df[member_selector][emails_all_df.week_dt > end_date].index, inplace=True)\n",
      "<ipython-input-40-9df018e460c4>:10: UserWarning: Boolean Series key will be reindexed to match DataFrame index.\n",
      "  emails_all_df.drop(emails_all_df[member_selector][emails_all_df.week_dt < start_date].index,inplace=True)\n",
      "<ipython-input-40-9df018e460c4>:11: UserWarning: Boolean Series key will be reindexed to match DataFrame index.\n",
      "  emails_all_df.drop(emails_all_df[member_selector][emails_all_df.week_dt > end_date].index, inplace=True)\n",
      "<ipython-input-40-9df018e460c4>:10: UserWarning: Boolean Series key will be reindexed to match DataFrame index.\n",
      "  emails_all_df.drop(emails_all_df[member_selector][emails_all_df.week_dt < start_date].index,inplace=True)\n",
      "<ipython-input-40-9df018e460c4>:11: UserWarning: Boolean Series key will be reindexed to match DataFrame index.\n",
      "  emails_all_df.drop(emails_all_df[member_selector][emails_all_df.week_dt > end_date].index, inplace=True)\n",
      "<ipython-input-40-9df018e460c4>:10: UserWarning: Boolean Series key will be reindexed to match DataFrame index.\n",
      "  emails_all_df.drop(emails_all_df[member_selector][emails_all_df.week_dt < start_date].index,inplace=True)\n",
      "<ipython-input-40-9df018e460c4>:11: UserWarning: Boolean Series key will be reindexed to match DataFrame index.\n",
      "  emails_all_df.drop(emails_all_df[member_selector][emails_all_df.week_dt > end_date].index, inplace=True)\n",
      "<ipython-input-40-9df018e460c4>:10: UserWarning: Boolean Series key will be reindexed to match DataFrame index.\n",
      "  emails_all_df.drop(emails_all_df[member_selector][emails_all_df.week_dt < start_date].index,inplace=True)\n",
      "<ipython-input-40-9df018e460c4>:11: UserWarning: Boolean Series key will be reindexed to match DataFrame index.\n",
      "  emails_all_df.drop(emails_all_df[member_selector][emails_all_df.week_dt > end_date].index, inplace=True)\n",
      "<ipython-input-40-9df018e460c4>:10: UserWarning: Boolean Series key will be reindexed to match DataFrame index.\n",
      "  emails_all_df.drop(emails_all_df[member_selector][emails_all_df.week_dt < start_date].index,inplace=True)\n",
      "<ipython-input-40-9df018e460c4>:11: UserWarning: Boolean Series key will be reindexed to match DataFrame index.\n",
      "  emails_all_df.drop(emails_all_df[member_selector][emails_all_df.week_dt > end_date].index, inplace=True)\n",
      "<ipython-input-40-9df018e460c4>:10: UserWarning: Boolean Series key will be reindexed to match DataFrame index.\n",
      "  emails_all_df.drop(emails_all_df[member_selector][emails_all_df.week_dt < start_date].index,inplace=True)\n",
      "<ipython-input-40-9df018e460c4>:11: UserWarning: Boolean Series key will be reindexed to match DataFrame index.\n",
      "  emails_all_df.drop(emails_all_df[member_selector][emails_all_df.week_dt > end_date].index, inplace=True)\n",
      "<ipython-input-40-9df018e460c4>:10: UserWarning: Boolean Series key will be reindexed to match DataFrame index.\n",
      "  emails_all_df.drop(emails_all_df[member_selector][emails_all_df.week_dt < start_date].index,inplace=True)\n",
      "<ipython-input-40-9df018e460c4>:11: UserWarning: Boolean Series key will be reindexed to match DataFrame index.\n",
      "  emails_all_df.drop(emails_all_df[member_selector][emails_all_df.week_dt > end_date].index, inplace=True)\n",
      "<ipython-input-40-9df018e460c4>:10: UserWarning: Boolean Series key will be reindexed to match DataFrame index.\n",
      "  emails_all_df.drop(emails_all_df[member_selector][emails_all_df.week_dt < start_date].index,inplace=True)\n",
      "<ipython-input-40-9df018e460c4>:11: UserWarning: Boolean Series key will be reindexed to match DataFrame index.\n",
      "  emails_all_df.drop(emails_all_df[member_selector][emails_all_df.week_dt > end_date].index, inplace=True)\n",
      "<ipython-input-40-9df018e460c4>:10: UserWarning: Boolean Series key will be reindexed to match DataFrame index.\n",
      "  emails_all_df.drop(emails_all_df[member_selector][emails_all_df.week_dt < start_date].index,inplace=True)\n",
      "<ipython-input-40-9df018e460c4>:11: UserWarning: Boolean Series key will be reindexed to match DataFrame index.\n",
      "  emails_all_df.drop(emails_all_df[member_selector][emails_all_df.week_dt > end_date].index, inplace=True)\n",
      "<ipython-input-40-9df018e460c4>:10: UserWarning: Boolean Series key will be reindexed to match DataFrame index.\n",
      "  emails_all_df.drop(emails_all_df[member_selector][emails_all_df.week_dt < start_date].index,inplace=True)\n",
      "<ipython-input-40-9df018e460c4>:11: UserWarning: Boolean Series key will be reindexed to match DataFrame index.\n",
      "  emails_all_df.drop(emails_all_df[member_selector][emails_all_df.week_dt > end_date].index, inplace=True)\n",
      "<ipython-input-40-9df018e460c4>:10: UserWarning: Boolean Series key will be reindexed to match DataFrame index.\n",
      "  emails_all_df.drop(emails_all_df[member_selector][emails_all_df.week_dt < start_date].index,inplace=True)\n",
      "<ipython-input-40-9df018e460c4>:11: UserWarning: Boolean Series key will be reindexed to match DataFrame index.\n",
      "  emails_all_df.drop(emails_all_df[member_selector][emails_all_df.week_dt > end_date].index, inplace=True)\n",
      "<ipython-input-40-9df018e460c4>:10: UserWarning: Boolean Series key will be reindexed to match DataFrame index.\n",
      "  emails_all_df.drop(emails_all_df[member_selector][emails_all_df.week_dt < start_date].index,inplace=True)\n",
      "<ipython-input-40-9df018e460c4>:11: UserWarning: Boolean Series key will be reindexed to match DataFrame index.\n",
      "  emails_all_df.drop(emails_all_df[member_selector][emails_all_df.week_dt > end_date].index, inplace=True)\n",
      "<ipython-input-40-9df018e460c4>:10: UserWarning: Boolean Series key will be reindexed to match DataFrame index.\n",
      "  emails_all_df.drop(emails_all_df[member_selector][emails_all_df.week_dt < start_date].index,inplace=True)\n",
      "<ipython-input-40-9df018e460c4>:11: UserWarning: Boolean Series key will be reindexed to match DataFrame index.\n",
      "  emails_all_df.drop(emails_all_df[member_selector][emails_all_df.week_dt > end_date].index, inplace=True)\n",
      "<ipython-input-40-9df018e460c4>:10: UserWarning: Boolean Series key will be reindexed to match DataFrame index.\n",
      "  emails_all_df.drop(emails_all_df[member_selector][emails_all_df.week_dt < start_date].index,inplace=True)\n",
      "<ipython-input-40-9df018e460c4>:11: UserWarning: Boolean Series key will be reindexed to match DataFrame index.\n",
      "  emails_all_df.drop(emails_all_df[member_selector][emails_all_df.week_dt > end_date].index, inplace=True)\n",
      "<ipython-input-40-9df018e460c4>:10: UserWarning: Boolean Series key will be reindexed to match DataFrame index.\n",
      "  emails_all_df.drop(emails_all_df[member_selector][emails_all_df.week_dt < start_date].index,inplace=True)\n",
      "<ipython-input-40-9df018e460c4>:11: UserWarning: Boolean Series key will be reindexed to match DataFrame index.\n",
      "  emails_all_df.drop(emails_all_df[member_selector][emails_all_df.week_dt > end_date].index, inplace=True)\n",
      "<ipython-input-40-9df018e460c4>:10: UserWarning: Boolean Series key will be reindexed to match DataFrame index.\n",
      "  emails_all_df.drop(emails_all_df[member_selector][emails_all_df.week_dt < start_date].index,inplace=True)\n",
      "<ipython-input-40-9df018e460c4>:11: UserWarning: Boolean Series key will be reindexed to match DataFrame index.\n",
      "  emails_all_df.drop(emails_all_df[member_selector][emails_all_df.week_dt > end_date].index, inplace=True)\n",
      "<ipython-input-40-9df018e460c4>:10: UserWarning: Boolean Series key will be reindexed to match DataFrame index.\n",
      "  emails_all_df.drop(emails_all_df[member_selector][emails_all_df.week_dt < start_date].index,inplace=True)\n",
      "<ipython-input-40-9df018e460c4>:11: UserWarning: Boolean Series key will be reindexed to match DataFrame index.\n",
      "  emails_all_df.drop(emails_all_df[member_selector][emails_all_df.week_dt > end_date].index, inplace=True)\n",
      "<ipython-input-40-9df018e460c4>:10: UserWarning: Boolean Series key will be reindexed to match DataFrame index.\n",
      "  emails_all_df.drop(emails_all_df[member_selector][emails_all_df.week_dt < start_date].index,inplace=True)\n",
      "<ipython-input-40-9df018e460c4>:11: UserWarning: Boolean Series key will be reindexed to match DataFrame index.\n",
      "  emails_all_df.drop(emails_all_df[member_selector][emails_all_df.week_dt > end_date].index, inplace=True)\n",
      "<ipython-input-40-9df018e460c4>:10: UserWarning: Boolean Series key will be reindexed to match DataFrame index.\n",
      "  emails_all_df.drop(emails_all_df[member_selector][emails_all_df.week_dt < start_date].index,inplace=True)\n",
      "<ipython-input-40-9df018e460c4>:11: UserWarning: Boolean Series key will be reindexed to match DataFrame index.\n",
      "  emails_all_df.drop(emails_all_df[member_selector][emails_all_df.week_dt > end_date].index, inplace=True)\n",
      "<ipython-input-40-9df018e460c4>:10: UserWarning: Boolean Series key will be reindexed to match DataFrame index.\n",
      "  emails_all_df.drop(emails_all_df[member_selector][emails_all_df.week_dt < start_date].index,inplace=True)\n",
      "<ipython-input-40-9df018e460c4>:11: UserWarning: Boolean Series key will be reindexed to match DataFrame index.\n",
      "  emails_all_df.drop(emails_all_df[member_selector][emails_all_df.week_dt > end_date].index, inplace=True)\n",
      "<ipython-input-40-9df018e460c4>:10: UserWarning: Boolean Series key will be reindexed to match DataFrame index.\n",
      "  emails_all_df.drop(emails_all_df[member_selector][emails_all_df.week_dt < start_date].index,inplace=True)\n",
      "<ipython-input-40-9df018e460c4>:11: UserWarning: Boolean Series key will be reindexed to match DataFrame index.\n",
      "  emails_all_df.drop(emails_all_df[member_selector][emails_all_df.week_dt > end_date].index, inplace=True)\n",
      "<ipython-input-40-9df018e460c4>:10: UserWarning: Boolean Series key will be reindexed to match DataFrame index.\n",
      "  emails_all_df.drop(emails_all_df[member_selector][emails_all_df.week_dt < start_date].index,inplace=True)\n",
      "<ipython-input-40-9df018e460c4>:11: UserWarning: Boolean Series key will be reindexed to match DataFrame index.\n",
      "  emails_all_df.drop(emails_all_df[member_selector][emails_all_df.week_dt > end_date].index, inplace=True)\n",
      "<ipython-input-40-9df018e460c4>:10: UserWarning: Boolean Series key will be reindexed to match DataFrame index.\n",
      "  emails_all_df.drop(emails_all_df[member_selector][emails_all_df.week_dt < start_date].index,inplace=True)\n",
      "<ipython-input-40-9df018e460c4>:11: UserWarning: Boolean Series key will be reindexed to match DataFrame index.\n",
      "  emails_all_df.drop(emails_all_df[member_selector][emails_all_df.week_dt > end_date].index, inplace=True)\n",
      "<ipython-input-40-9df018e460c4>:10: UserWarning: Boolean Series key will be reindexed to match DataFrame index.\n",
      "  emails_all_df.drop(emails_all_df[member_selector][emails_all_df.week_dt < start_date].index,inplace=True)\n",
      "<ipython-input-40-9df018e460c4>:11: UserWarning: Boolean Series key will be reindexed to match DataFrame index.\n",
      "  emails_all_df.drop(emails_all_df[member_selector][emails_all_df.week_dt > end_date].index, inplace=True)\n",
      "<ipython-input-40-9df018e460c4>:10: UserWarning: Boolean Series key will be reindexed to match DataFrame index.\n",
      "  emails_all_df.drop(emails_all_df[member_selector][emails_all_df.week_dt < start_date].index,inplace=True)\n",
      "<ipython-input-40-9df018e460c4>:11: UserWarning: Boolean Series key will be reindexed to match DataFrame index.\n",
      "  emails_all_df.drop(emails_all_df[member_selector][emails_all_df.week_dt > end_date].index, inplace=True)\n",
      "<ipython-input-40-9df018e460c4>:10: UserWarning: Boolean Series key will be reindexed to match DataFrame index.\n",
      "  emails_all_df.drop(emails_all_df[member_selector][emails_all_df.week_dt < start_date].index,inplace=True)\n",
      "<ipython-input-40-9df018e460c4>:11: UserWarning: Boolean Series key will be reindexed to match DataFrame index.\n",
      "  emails_all_df.drop(emails_all_df[member_selector][emails_all_df.week_dt > end_date].index, inplace=True)\n",
      "<ipython-input-40-9df018e460c4>:10: UserWarning: Boolean Series key will be reindexed to match DataFrame index.\n",
      "  emails_all_df.drop(emails_all_df[member_selector][emails_all_df.week_dt < start_date].index,inplace=True)\n",
      "<ipython-input-40-9df018e460c4>:11: UserWarning: Boolean Series key will be reindexed to match DataFrame index.\n",
      "  emails_all_df.drop(emails_all_df[member_selector][emails_all_df.week_dt > end_date].index, inplace=True)\n",
      "<ipython-input-40-9df018e460c4>:10: UserWarning: Boolean Series key will be reindexed to match DataFrame index.\n",
      "  emails_all_df.drop(emails_all_df[member_selector][emails_all_df.week_dt < start_date].index,inplace=True)\n",
      "<ipython-input-40-9df018e460c4>:11: UserWarning: Boolean Series key will be reindexed to match DataFrame index.\n",
      "  emails_all_df.drop(emails_all_df[member_selector][emails_all_df.week_dt > end_date].index, inplace=True)\n",
      "<ipython-input-40-9df018e460c4>:10: UserWarning: Boolean Series key will be reindexed to match DataFrame index.\n",
      "  emails_all_df.drop(emails_all_df[member_selector][emails_all_df.week_dt < start_date].index,inplace=True)\n",
      "<ipython-input-40-9df018e460c4>:11: UserWarning: Boolean Series key will be reindexed to match DataFrame index.\n",
      "  emails_all_df.drop(emails_all_df[member_selector][emails_all_df.week_dt > end_date].index, inplace=True)\n",
      "<ipython-input-40-9df018e460c4>:10: UserWarning: Boolean Series key will be reindexed to match DataFrame index.\n",
      "  emails_all_df.drop(emails_all_df[member_selector][emails_all_df.week_dt < start_date].index,inplace=True)\n",
      "<ipython-input-40-9df018e460c4>:11: UserWarning: Boolean Series key will be reindexed to match DataFrame index.\n",
      "  emails_all_df.drop(emails_all_df[member_selector][emails_all_df.week_dt > end_date].index, inplace=True)\n",
      "<ipython-input-40-9df018e460c4>:10: UserWarning: Boolean Series key will be reindexed to match DataFrame index.\n",
      "  emails_all_df.drop(emails_all_df[member_selector][emails_all_df.week_dt < start_date].index,inplace=True)\n",
      "<ipython-input-40-9df018e460c4>:11: UserWarning: Boolean Series key will be reindexed to match DataFrame index.\n",
      "  emails_all_df.drop(emails_all_df[member_selector][emails_all_df.week_dt > end_date].index, inplace=True)\n",
      "<ipython-input-40-9df018e460c4>:10: UserWarning: Boolean Series key will be reindexed to match DataFrame index.\n",
      "  emails_all_df.drop(emails_all_df[member_selector][emails_all_df.week_dt < start_date].index,inplace=True)\n",
      "<ipython-input-40-9df018e460c4>:11: UserWarning: Boolean Series key will be reindexed to match DataFrame index.\n",
      "  emails_all_df.drop(emails_all_df[member_selector][emails_all_df.week_dt > end_date].index, inplace=True)\n",
      "<ipython-input-40-9df018e460c4>:10: UserWarning: Boolean Series key will be reindexed to match DataFrame index.\n",
      "  emails_all_df.drop(emails_all_df[member_selector][emails_all_df.week_dt < start_date].index,inplace=True)\n",
      "<ipython-input-40-9df018e460c4>:11: UserWarning: Boolean Series key will be reindexed to match DataFrame index.\n",
      "  emails_all_df.drop(emails_all_df[member_selector][emails_all_df.week_dt > end_date].index, inplace=True)\n",
      "<ipython-input-40-9df018e460c4>:10: UserWarning: Boolean Series key will be reindexed to match DataFrame index.\n",
      "  emails_all_df.drop(emails_all_df[member_selector][emails_all_df.week_dt < start_date].index,inplace=True)\n",
      "<ipython-input-40-9df018e460c4>:11: UserWarning: Boolean Series key will be reindexed to match DataFrame index.\n",
      "  emails_all_df.drop(emails_all_df[member_selector][emails_all_df.week_dt > end_date].index, inplace=True)\n",
      "<ipython-input-40-9df018e460c4>:10: UserWarning: Boolean Series key will be reindexed to match DataFrame index.\n",
      "  emails_all_df.drop(emails_all_df[member_selector][emails_all_df.week_dt < start_date].index,inplace=True)\n",
      "<ipython-input-40-9df018e460c4>:11: UserWarning: Boolean Series key will be reindexed to match DataFrame index.\n",
      "  emails_all_df.drop(emails_all_df[member_selector][emails_all_df.week_dt > end_date].index, inplace=True)\n",
      "<ipython-input-40-9df018e460c4>:10: UserWarning: Boolean Series key will be reindexed to match DataFrame index.\n",
      "  emails_all_df.drop(emails_all_df[member_selector][emails_all_df.week_dt < start_date].index,inplace=True)\n",
      "<ipython-input-40-9df018e460c4>:11: UserWarning: Boolean Series key will be reindexed to match DataFrame index.\n",
      "  emails_all_df.drop(emails_all_df[member_selector][emails_all_df.week_dt > end_date].index, inplace=True)\n",
      "<ipython-input-40-9df018e460c4>:10: UserWarning: Boolean Series key will be reindexed to match DataFrame index.\n",
      "  emails_all_df.drop(emails_all_df[member_selector][emails_all_df.week_dt < start_date].index,inplace=True)\n",
      "<ipython-input-40-9df018e460c4>:11: UserWarning: Boolean Series key will be reindexed to match DataFrame index.\n",
      "  emails_all_df.drop(emails_all_df[member_selector][emails_all_df.week_dt > end_date].index, inplace=True)\n",
      "<ipython-input-40-9df018e460c4>:10: UserWarning: Boolean Series key will be reindexed to match DataFrame index.\n",
      "  emails_all_df.drop(emails_all_df[member_selector][emails_all_df.week_dt < start_date].index,inplace=True)\n",
      "<ipython-input-40-9df018e460c4>:11: UserWarning: Boolean Series key will be reindexed to match DataFrame index.\n",
      "  emails_all_df.drop(emails_all_df[member_selector][emails_all_df.week_dt > end_date].index, inplace=True)\n",
      "<ipython-input-40-9df018e460c4>:10: UserWarning: Boolean Series key will be reindexed to match DataFrame index.\n",
      "  emails_all_df.drop(emails_all_df[member_selector][emails_all_df.week_dt < start_date].index,inplace=True)\n",
      "<ipython-input-40-9df018e460c4>:11: UserWarning: Boolean Series key will be reindexed to match DataFrame index.\n",
      "  emails_all_df.drop(emails_all_df[member_selector][emails_all_df.week_dt > end_date].index, inplace=True)\n",
      "<ipython-input-40-9df018e460c4>:10: UserWarning: Boolean Series key will be reindexed to match DataFrame index.\n",
      "  emails_all_df.drop(emails_all_df[member_selector][emails_all_df.week_dt < start_date].index,inplace=True)\n",
      "<ipython-input-40-9df018e460c4>:11: UserWarning: Boolean Series key will be reindexed to match DataFrame index.\n",
      "  emails_all_df.drop(emails_all_df[member_selector][emails_all_df.week_dt > end_date].index, inplace=True)\n",
      "<ipython-input-40-9df018e460c4>:10: UserWarning: Boolean Series key will be reindexed to match DataFrame index.\n",
      "  emails_all_df.drop(emails_all_df[member_selector][emails_all_df.week_dt < start_date].index,inplace=True)\n",
      "<ipython-input-40-9df018e460c4>:11: UserWarning: Boolean Series key will be reindexed to match DataFrame index.\n",
      "  emails_all_df.drop(emails_all_df[member_selector][emails_all_df.week_dt > end_date].index, inplace=True)\n",
      "<ipython-input-40-9df018e460c4>:10: UserWarning: Boolean Series key will be reindexed to match DataFrame index.\n",
      "  emails_all_df.drop(emails_all_df[member_selector][emails_all_df.week_dt < start_date].index,inplace=True)\n",
      "<ipython-input-40-9df018e460c4>:11: UserWarning: Boolean Series key will be reindexed to match DataFrame index.\n",
      "  emails_all_df.drop(emails_all_df[member_selector][emails_all_df.week_dt > end_date].index, inplace=True)\n",
      "<ipython-input-40-9df018e460c4>:10: UserWarning: Boolean Series key will be reindexed to match DataFrame index.\n",
      "  emails_all_df.drop(emails_all_df[member_selector][emails_all_df.week_dt < start_date].index,inplace=True)\n",
      "<ipython-input-40-9df018e460c4>:11: UserWarning: Boolean Series key will be reindexed to match DataFrame index.\n",
      "  emails_all_df.drop(emails_all_df[member_selector][emails_all_df.week_dt > end_date].index, inplace=True)\n",
      "<ipython-input-40-9df018e460c4>:10: UserWarning: Boolean Series key will be reindexed to match DataFrame index.\n",
      "  emails_all_df.drop(emails_all_df[member_selector][emails_all_df.week_dt < start_date].index,inplace=True)\n",
      "<ipython-input-40-9df018e460c4>:11: UserWarning: Boolean Series key will be reindexed to match DataFrame index.\n",
      "  emails_all_df.drop(emails_all_df[member_selector][emails_all_df.week_dt > end_date].index, inplace=True)\n",
      "<ipython-input-40-9df018e460c4>:10: UserWarning: Boolean Series key will be reindexed to match DataFrame index.\n",
      "  emails_all_df.drop(emails_all_df[member_selector][emails_all_df.week_dt < start_date].index,inplace=True)\n",
      "<ipython-input-40-9df018e460c4>:11: UserWarning: Boolean Series key will be reindexed to match DataFrame index.\n",
      "  emails_all_df.drop(emails_all_df[member_selector][emails_all_df.week_dt > end_date].index, inplace=True)\n",
      "<ipython-input-40-9df018e460c4>:10: UserWarning: Boolean Series key will be reindexed to match DataFrame index.\n",
      "  emails_all_df.drop(emails_all_df[member_selector][emails_all_df.week_dt < start_date].index,inplace=True)\n",
      "<ipython-input-40-9df018e460c4>:11: UserWarning: Boolean Series key will be reindexed to match DataFrame index.\n",
      "  emails_all_df.drop(emails_all_df[member_selector][emails_all_df.week_dt > end_date].index, inplace=True)\n",
      "<ipython-input-40-9df018e460c4>:10: UserWarning: Boolean Series key will be reindexed to match DataFrame index.\n",
      "  emails_all_df.drop(emails_all_df[member_selector][emails_all_df.week_dt < start_date].index,inplace=True)\n",
      "<ipython-input-40-9df018e460c4>:11: UserWarning: Boolean Series key will be reindexed to match DataFrame index.\n",
      "  emails_all_df.drop(emails_all_df[member_selector][emails_all_df.week_dt > end_date].index, inplace=True)\n",
      "<ipython-input-40-9df018e460c4>:10: UserWarning: Boolean Series key will be reindexed to match DataFrame index.\n",
      "  emails_all_df.drop(emails_all_df[member_selector][emails_all_df.week_dt < start_date].index,inplace=True)\n",
      "<ipython-input-40-9df018e460c4>:11: UserWarning: Boolean Series key will be reindexed to match DataFrame index.\n",
      "  emails_all_df.drop(emails_all_df[member_selector][emails_all_df.week_dt > end_date].index, inplace=True)\n",
      "<ipython-input-40-9df018e460c4>:10: UserWarning: Boolean Series key will be reindexed to match DataFrame index.\n",
      "  emails_all_df.drop(emails_all_df[member_selector][emails_all_df.week_dt < start_date].index,inplace=True)\n",
      "<ipython-input-40-9df018e460c4>:11: UserWarning: Boolean Series key will be reindexed to match DataFrame index.\n",
      "  emails_all_df.drop(emails_all_df[member_selector][emails_all_df.week_dt > end_date].index, inplace=True)\n",
      "<ipython-input-40-9df018e460c4>:10: UserWarning: Boolean Series key will be reindexed to match DataFrame index.\n",
      "  emails_all_df.drop(emails_all_df[member_selector][emails_all_df.week_dt < start_date].index,inplace=True)\n",
      "<ipython-input-40-9df018e460c4>:11: UserWarning: Boolean Series key will be reindexed to match DataFrame index.\n",
      "  emails_all_df.drop(emails_all_df[member_selector][emails_all_df.week_dt > end_date].index, inplace=True)\n",
      "<ipython-input-40-9df018e460c4>:10: UserWarning: Boolean Series key will be reindexed to match DataFrame index.\n",
      "  emails_all_df.drop(emails_all_df[member_selector][emails_all_df.week_dt < start_date].index,inplace=True)\n",
      "<ipython-input-40-9df018e460c4>:11: UserWarning: Boolean Series key will be reindexed to match DataFrame index.\n",
      "  emails_all_df.drop(emails_all_df[member_selector][emails_all_df.week_dt > end_date].index, inplace=True)\n",
      "<ipython-input-40-9df018e460c4>:10: UserWarning: Boolean Series key will be reindexed to match DataFrame index.\n",
      "  emails_all_df.drop(emails_all_df[member_selector][emails_all_df.week_dt < start_date].index,inplace=True)\n",
      "<ipython-input-40-9df018e460c4>:11: UserWarning: Boolean Series key will be reindexed to match DataFrame index.\n",
      "  emails_all_df.drop(emails_all_df[member_selector][emails_all_df.week_dt > end_date].index, inplace=True)\n",
      "<ipython-input-40-9df018e460c4>:10: UserWarning: Boolean Series key will be reindexed to match DataFrame index.\n",
      "  emails_all_df.drop(emails_all_df[member_selector][emails_all_df.week_dt < start_date].index,inplace=True)\n",
      "<ipython-input-40-9df018e460c4>:11: UserWarning: Boolean Series key will be reindexed to match DataFrame index.\n",
      "  emails_all_df.drop(emails_all_df[member_selector][emails_all_df.week_dt > end_date].index, inplace=True)\n",
      "<ipython-input-40-9df018e460c4>:10: UserWarning: Boolean Series key will be reindexed to match DataFrame index.\n",
      "  emails_all_df.drop(emails_all_df[member_selector][emails_all_df.week_dt < start_date].index,inplace=True)\n",
      "<ipython-input-40-9df018e460c4>:11: UserWarning: Boolean Series key will be reindexed to match DataFrame index.\n",
      "  emails_all_df.drop(emails_all_df[member_selector][emails_all_df.week_dt > end_date].index, inplace=True)\n",
      "<ipython-input-40-9df018e460c4>:10: UserWarning: Boolean Series key will be reindexed to match DataFrame index.\n",
      "  emails_all_df.drop(emails_all_df[member_selector][emails_all_df.week_dt < start_date].index,inplace=True)\n",
      "<ipython-input-40-9df018e460c4>:11: UserWarning: Boolean Series key will be reindexed to match DataFrame index.\n",
      "  emails_all_df.drop(emails_all_df[member_selector][emails_all_df.week_dt > end_date].index, inplace=True)\n",
      "<ipython-input-40-9df018e460c4>:10: UserWarning: Boolean Series key will be reindexed to match DataFrame index.\n",
      "  emails_all_df.drop(emails_all_df[member_selector][emails_all_df.week_dt < start_date].index,inplace=True)\n",
      "<ipython-input-40-9df018e460c4>:11: UserWarning: Boolean Series key will be reindexed to match DataFrame index.\n",
      "  emails_all_df.drop(emails_all_df[member_selector][emails_all_df.week_dt > end_date].index, inplace=True)\n",
      "<ipython-input-40-9df018e460c4>:10: UserWarning: Boolean Series key will be reindexed to match DataFrame index.\n",
      "  emails_all_df.drop(emails_all_df[member_selector][emails_all_df.week_dt < start_date].index,inplace=True)\n",
      "<ipython-input-40-9df018e460c4>:11: UserWarning: Boolean Series key will be reindexed to match DataFrame index.\n",
      "  emails_all_df.drop(emails_all_df[member_selector][emails_all_df.week_dt > end_date].index, inplace=True)\n",
      "<ipython-input-40-9df018e460c4>:10: UserWarning: Boolean Series key will be reindexed to match DataFrame index.\n",
      "  emails_all_df.drop(emails_all_df[member_selector][emails_all_df.week_dt < start_date].index,inplace=True)\n",
      "<ipython-input-40-9df018e460c4>:11: UserWarning: Boolean Series key will be reindexed to match DataFrame index.\n",
      "  emails_all_df.drop(emails_all_df[member_selector][emails_all_df.week_dt > end_date].index, inplace=True)\n",
      "<ipython-input-40-9df018e460c4>:10: UserWarning: Boolean Series key will be reindexed to match DataFrame index.\n",
      "  emails_all_df.drop(emails_all_df[member_selector][emails_all_df.week_dt < start_date].index,inplace=True)\n",
      "<ipython-input-40-9df018e460c4>:11: UserWarning: Boolean Series key will be reindexed to match DataFrame index.\n",
      "  emails_all_df.drop(emails_all_df[member_selector][emails_all_df.week_dt > end_date].index, inplace=True)\n",
      "<ipython-input-40-9df018e460c4>:10: UserWarning: Boolean Series key will be reindexed to match DataFrame index.\n",
      "  emails_all_df.drop(emails_all_df[member_selector][emails_all_df.week_dt < start_date].index,inplace=True)\n",
      "<ipython-input-40-9df018e460c4>:11: UserWarning: Boolean Series key will be reindexed to match DataFrame index.\n",
      "  emails_all_df.drop(emails_all_df[member_selector][emails_all_df.week_dt > end_date].index, inplace=True)\n",
      "<ipython-input-40-9df018e460c4>:10: UserWarning: Boolean Series key will be reindexed to match DataFrame index.\n",
      "  emails_all_df.drop(emails_all_df[member_selector][emails_all_df.week_dt < start_date].index,inplace=True)\n",
      "<ipython-input-40-9df018e460c4>:11: UserWarning: Boolean Series key will be reindexed to match DataFrame index.\n",
      "  emails_all_df.drop(emails_all_df[member_selector][emails_all_df.week_dt > end_date].index, inplace=True)\n",
      "<ipython-input-40-9df018e460c4>:10: UserWarning: Boolean Series key will be reindexed to match DataFrame index.\n",
      "  emails_all_df.drop(emails_all_df[member_selector][emails_all_df.week_dt < start_date].index,inplace=True)\n",
      "<ipython-input-40-9df018e460c4>:11: UserWarning: Boolean Series key will be reindexed to match DataFrame index.\n",
      "  emails_all_df.drop(emails_all_df[member_selector][emails_all_df.week_dt > end_date].index, inplace=True)\n",
      "<ipython-input-40-9df018e460c4>:10: UserWarning: Boolean Series key will be reindexed to match DataFrame index.\n",
      "  emails_all_df.drop(emails_all_df[member_selector][emails_all_df.week_dt < start_date].index,inplace=True)\n",
      "<ipython-input-40-9df018e460c4>:11: UserWarning: Boolean Series key will be reindexed to match DataFrame index.\n",
      "  emails_all_df.drop(emails_all_df[member_selector][emails_all_df.week_dt > end_date].index, inplace=True)\n",
      "<ipython-input-40-9df018e460c4>:10: UserWarning: Boolean Series key will be reindexed to match DataFrame index.\n",
      "  emails_all_df.drop(emails_all_df[member_selector][emails_all_df.week_dt < start_date].index,inplace=True)\n",
      "<ipython-input-40-9df018e460c4>:11: UserWarning: Boolean Series key will be reindexed to match DataFrame index.\n",
      "  emails_all_df.drop(emails_all_df[member_selector][emails_all_df.week_dt > end_date].index, inplace=True)\n",
      "<ipython-input-40-9df018e460c4>:10: UserWarning: Boolean Series key will be reindexed to match DataFrame index.\n",
      "  emails_all_df.drop(emails_all_df[member_selector][emails_all_df.week_dt < start_date].index,inplace=True)\n",
      "<ipython-input-40-9df018e460c4>:11: UserWarning: Boolean Series key will be reindexed to match DataFrame index.\n",
      "  emails_all_df.drop(emails_all_df[member_selector][emails_all_df.week_dt > end_date].index, inplace=True)\n",
      "<ipython-input-40-9df018e460c4>:10: UserWarning: Boolean Series key will be reindexed to match DataFrame index.\n",
      "  emails_all_df.drop(emails_all_df[member_selector][emails_all_df.week_dt < start_date].index,inplace=True)\n",
      "<ipython-input-40-9df018e460c4>:11: UserWarning: Boolean Series key will be reindexed to match DataFrame index.\n",
      "  emails_all_df.drop(emails_all_df[member_selector][emails_all_df.week_dt > end_date].index, inplace=True)\n",
      "<ipython-input-40-9df018e460c4>:10: UserWarning: Boolean Series key will be reindexed to match DataFrame index.\n",
      "  emails_all_df.drop(emails_all_df[member_selector][emails_all_df.week_dt < start_date].index,inplace=True)\n",
      "<ipython-input-40-9df018e460c4>:11: UserWarning: Boolean Series key will be reindexed to match DataFrame index.\n",
      "  emails_all_df.drop(emails_all_df[member_selector][emails_all_df.week_dt > end_date].index, inplace=True)\n",
      "<ipython-input-40-9df018e460c4>:10: UserWarning: Boolean Series key will be reindexed to match DataFrame index.\n",
      "  emails_all_df.drop(emails_all_df[member_selector][emails_all_df.week_dt < start_date].index,inplace=True)\n",
      "<ipython-input-40-9df018e460c4>:11: UserWarning: Boolean Series key will be reindexed to match DataFrame index.\n",
      "  emails_all_df.drop(emails_all_df[member_selector][emails_all_df.week_dt > end_date].index, inplace=True)\n",
      "<ipython-input-40-9df018e460c4>:10: UserWarning: Boolean Series key will be reindexed to match DataFrame index.\n",
      "  emails_all_df.drop(emails_all_df[member_selector][emails_all_df.week_dt < start_date].index,inplace=True)\n",
      "<ipython-input-40-9df018e460c4>:11: UserWarning: Boolean Series key will be reindexed to match DataFrame index.\n",
      "  emails_all_df.drop(emails_all_df[member_selector][emails_all_df.week_dt > end_date].index, inplace=True)\n",
      "<ipython-input-40-9df018e460c4>:10: UserWarning: Boolean Series key will be reindexed to match DataFrame index.\n",
      "  emails_all_df.drop(emails_all_df[member_selector][emails_all_df.week_dt < start_date].index,inplace=True)\n",
      "<ipython-input-40-9df018e460c4>:11: UserWarning: Boolean Series key will be reindexed to match DataFrame index.\n",
      "  emails_all_df.drop(emails_all_df[member_selector][emails_all_df.week_dt > end_date].index, inplace=True)\n",
      "<ipython-input-40-9df018e460c4>:10: UserWarning: Boolean Series key will be reindexed to match DataFrame index.\n",
      "  emails_all_df.drop(emails_all_df[member_selector][emails_all_df.week_dt < start_date].index,inplace=True)\n",
      "<ipython-input-40-9df018e460c4>:11: UserWarning: Boolean Series key will be reindexed to match DataFrame index.\n",
      "  emails_all_df.drop(emails_all_df[member_selector][emails_all_df.week_dt > end_date].index, inplace=True)\n",
      "<ipython-input-40-9df018e460c4>:10: UserWarning: Boolean Series key will be reindexed to match DataFrame index.\n",
      "  emails_all_df.drop(emails_all_df[member_selector][emails_all_df.week_dt < start_date].index,inplace=True)\n",
      "<ipython-input-40-9df018e460c4>:11: UserWarning: Boolean Series key will be reindexed to match DataFrame index.\n",
      "  emails_all_df.drop(emails_all_df[member_selector][emails_all_df.week_dt > end_date].index, inplace=True)\n",
      "<ipython-input-40-9df018e460c4>:10: UserWarning: Boolean Series key will be reindexed to match DataFrame index.\n",
      "  emails_all_df.drop(emails_all_df[member_selector][emails_all_df.week_dt < start_date].index,inplace=True)\n",
      "<ipython-input-40-9df018e460c4>:11: UserWarning: Boolean Series key will be reindexed to match DataFrame index.\n",
      "  emails_all_df.drop(emails_all_df[member_selector][emails_all_df.week_dt > end_date].index, inplace=True)\n",
      "<ipython-input-40-9df018e460c4>:10: UserWarning: Boolean Series key will be reindexed to match DataFrame index.\n",
      "  emails_all_df.drop(emails_all_df[member_selector][emails_all_df.week_dt < start_date].index,inplace=True)\n",
      "<ipython-input-40-9df018e460c4>:11: UserWarning: Boolean Series key will be reindexed to match DataFrame index.\n",
      "  emails_all_df.drop(emails_all_df[member_selector][emails_all_df.week_dt > end_date].index, inplace=True)\n",
      "<ipython-input-40-9df018e460c4>:10: UserWarning: Boolean Series key will be reindexed to match DataFrame index.\n",
      "  emails_all_df.drop(emails_all_df[member_selector][emails_all_df.week_dt < start_date].index,inplace=True)\n",
      "<ipython-input-40-9df018e460c4>:11: UserWarning: Boolean Series key will be reindexed to match DataFrame index.\n",
      "  emails_all_df.drop(emails_all_df[member_selector][emails_all_df.week_dt > end_date].index, inplace=True)\n",
      "<ipython-input-40-9df018e460c4>:10: UserWarning: Boolean Series key will be reindexed to match DataFrame index.\n",
      "  emails_all_df.drop(emails_all_df[member_selector][emails_all_df.week_dt < start_date].index,inplace=True)\n",
      "<ipython-input-40-9df018e460c4>:11: UserWarning: Boolean Series key will be reindexed to match DataFrame index.\n",
      "  emails_all_df.drop(emails_all_df[member_selector][emails_all_df.week_dt > end_date].index, inplace=True)\n",
      "<ipython-input-40-9df018e460c4>:10: UserWarning: Boolean Series key will be reindexed to match DataFrame index.\n",
      "  emails_all_df.drop(emails_all_df[member_selector][emails_all_df.week_dt < start_date].index,inplace=True)\n",
      "<ipython-input-40-9df018e460c4>:11: UserWarning: Boolean Series key will be reindexed to match DataFrame index.\n",
      "  emails_all_df.drop(emails_all_df[member_selector][emails_all_df.week_dt > end_date].index, inplace=True)\n",
      "<ipython-input-40-9df018e460c4>:10: UserWarning: Boolean Series key will be reindexed to match DataFrame index.\n",
      "  emails_all_df.drop(emails_all_df[member_selector][emails_all_df.week_dt < start_date].index,inplace=True)\n",
      "<ipython-input-40-9df018e460c4>:11: UserWarning: Boolean Series key will be reindexed to match DataFrame index.\n",
      "  emails_all_df.drop(emails_all_df[member_selector][emails_all_df.week_dt > end_date].index, inplace=True)\n",
      "<ipython-input-40-9df018e460c4>:10: UserWarning: Boolean Series key will be reindexed to match DataFrame index.\n",
      "  emails_all_df.drop(emails_all_df[member_selector][emails_all_df.week_dt < start_date].index,inplace=True)\n",
      "<ipython-input-40-9df018e460c4>:11: UserWarning: Boolean Series key will be reindexed to match DataFrame index.\n",
      "  emails_all_df.drop(emails_all_df[member_selector][emails_all_df.week_dt > end_date].index, inplace=True)\n",
      "<ipython-input-40-9df018e460c4>:10: UserWarning: Boolean Series key will be reindexed to match DataFrame index.\n",
      "  emails_all_df.drop(emails_all_df[member_selector][emails_all_df.week_dt < start_date].index,inplace=True)\n",
      "<ipython-input-40-9df018e460c4>:11: UserWarning: Boolean Series key will be reindexed to match DataFrame index.\n",
      "  emails_all_df.drop(emails_all_df[member_selector][emails_all_df.week_dt > end_date].index, inplace=True)\n",
      "<ipython-input-40-9df018e460c4>:10: UserWarning: Boolean Series key will be reindexed to match DataFrame index.\n",
      "  emails_all_df.drop(emails_all_df[member_selector][emails_all_df.week_dt < start_date].index,inplace=True)\n",
      "<ipython-input-40-9df018e460c4>:11: UserWarning: Boolean Series key will be reindexed to match DataFrame index.\n",
      "  emails_all_df.drop(emails_all_df[member_selector][emails_all_df.week_dt > end_date].index, inplace=True)\n",
      "<ipython-input-40-9df018e460c4>:10: UserWarning: Boolean Series key will be reindexed to match DataFrame index.\n",
      "  emails_all_df.drop(emails_all_df[member_selector][emails_all_df.week_dt < start_date].index,inplace=True)\n",
      "<ipython-input-40-9df018e460c4>:11: UserWarning: Boolean Series key will be reindexed to match DataFrame index.\n",
      "  emails_all_df.drop(emails_all_df[member_selector][emails_all_df.week_dt > end_date].index, inplace=True)\n",
      "<ipython-input-40-9df018e460c4>:10: UserWarning: Boolean Series key will be reindexed to match DataFrame index.\n",
      "  emails_all_df.drop(emails_all_df[member_selector][emails_all_df.week_dt < start_date].index,inplace=True)\n",
      "<ipython-input-40-9df018e460c4>:11: UserWarning: Boolean Series key will be reindexed to match DataFrame index.\n",
      "  emails_all_df.drop(emails_all_df[member_selector][emails_all_df.week_dt > end_date].index, inplace=True)\n",
      "<ipython-input-40-9df018e460c4>:10: UserWarning: Boolean Series key will be reindexed to match DataFrame index.\n",
      "  emails_all_df.drop(emails_all_df[member_selector][emails_all_df.week_dt < start_date].index,inplace=True)\n",
      "<ipython-input-40-9df018e460c4>:11: UserWarning: Boolean Series key will be reindexed to match DataFrame index.\n",
      "  emails_all_df.drop(emails_all_df[member_selector][emails_all_df.week_dt > end_date].index, inplace=True)\n",
      "<ipython-input-40-9df018e460c4>:10: UserWarning: Boolean Series key will be reindexed to match DataFrame index.\n",
      "  emails_all_df.drop(emails_all_df[member_selector][emails_all_df.week_dt < start_date].index,inplace=True)\n",
      "<ipython-input-40-9df018e460c4>:11: UserWarning: Boolean Series key will be reindexed to match DataFrame index.\n",
      "  emails_all_df.drop(emails_all_df[member_selector][emails_all_df.week_dt > end_date].index, inplace=True)\n",
      "<ipython-input-40-9df018e460c4>:10: UserWarning: Boolean Series key will be reindexed to match DataFrame index.\n",
      "  emails_all_df.drop(emails_all_df[member_selector][emails_all_df.week_dt < start_date].index,inplace=True)\n",
      "<ipython-input-40-9df018e460c4>:11: UserWarning: Boolean Series key will be reindexed to match DataFrame index.\n",
      "  emails_all_df.drop(emails_all_df[member_selector][emails_all_df.week_dt > end_date].index, inplace=True)\n",
      "<ipython-input-40-9df018e460c4>:10: UserWarning: Boolean Series key will be reindexed to match DataFrame index.\n",
      "  emails_all_df.drop(emails_all_df[member_selector][emails_all_df.week_dt < start_date].index,inplace=True)\n",
      "<ipython-input-40-9df018e460c4>:11: UserWarning: Boolean Series key will be reindexed to match DataFrame index.\n",
      "  emails_all_df.drop(emails_all_df[member_selector][emails_all_df.week_dt > end_date].index, inplace=True)\n",
      "<ipython-input-40-9df018e460c4>:10: UserWarning: Boolean Series key will be reindexed to match DataFrame index.\n",
      "  emails_all_df.drop(emails_all_df[member_selector][emails_all_df.week_dt < start_date].index,inplace=True)\n",
      "<ipython-input-40-9df018e460c4>:11: UserWarning: Boolean Series key will be reindexed to match DataFrame index.\n",
      "  emails_all_df.drop(emails_all_df[member_selector][emails_all_df.week_dt > end_date].index, inplace=True)\n",
      "<ipython-input-40-9df018e460c4>:10: UserWarning: Boolean Series key will be reindexed to match DataFrame index.\n",
      "  emails_all_df.drop(emails_all_df[member_selector][emails_all_df.week_dt < start_date].index,inplace=True)\n",
      "<ipython-input-40-9df018e460c4>:11: UserWarning: Boolean Series key will be reindexed to match DataFrame index.\n",
      "  emails_all_df.drop(emails_all_df[member_selector][emails_all_df.week_dt > end_date].index, inplace=True)\n",
      "<ipython-input-40-9df018e460c4>:10: UserWarning: Boolean Series key will be reindexed to match DataFrame index.\n",
      "  emails_all_df.drop(emails_all_df[member_selector][emails_all_df.week_dt < start_date].index,inplace=True)\n",
      "<ipython-input-40-9df018e460c4>:11: UserWarning: Boolean Series key will be reindexed to match DataFrame index.\n",
      "  emails_all_df.drop(emails_all_df[member_selector][emails_all_df.week_dt > end_date].index, inplace=True)\n",
      "<ipython-input-40-9df018e460c4>:10: UserWarning: Boolean Series key will be reindexed to match DataFrame index.\n",
      "  emails_all_df.drop(emails_all_df[member_selector][emails_all_df.week_dt < start_date].index,inplace=True)\n",
      "<ipython-input-40-9df018e460c4>:11: UserWarning: Boolean Series key will be reindexed to match DataFrame index.\n",
      "  emails_all_df.drop(emails_all_df[member_selector][emails_all_df.week_dt > end_date].index, inplace=True)\n",
      "<ipython-input-40-9df018e460c4>:10: UserWarning: Boolean Series key will be reindexed to match DataFrame index.\n",
      "  emails_all_df.drop(emails_all_df[member_selector][emails_all_df.week_dt < start_date].index,inplace=True)\n",
      "<ipython-input-40-9df018e460c4>:11: UserWarning: Boolean Series key will be reindexed to match DataFrame index.\n",
      "  emails_all_df.drop(emails_all_df[member_selector][emails_all_df.week_dt > end_date].index, inplace=True)\n",
      "<ipython-input-40-9df018e460c4>:10: UserWarning: Boolean Series key will be reindexed to match DataFrame index.\n",
      "  emails_all_df.drop(emails_all_df[member_selector][emails_all_df.week_dt < start_date].index,inplace=True)\n",
      "<ipython-input-40-9df018e460c4>:11: UserWarning: Boolean Series key will be reindexed to match DataFrame index.\n",
      "  emails_all_df.drop(emails_all_df[member_selector][emails_all_df.week_dt > end_date].index, inplace=True)\n",
      "<ipython-input-40-9df018e460c4>:10: UserWarning: Boolean Series key will be reindexed to match DataFrame index.\n",
      "  emails_all_df.drop(emails_all_df[member_selector][emails_all_df.week_dt < start_date].index,inplace=True)\n",
      "<ipython-input-40-9df018e460c4>:11: UserWarning: Boolean Series key will be reindexed to match DataFrame index.\n",
      "  emails_all_df.drop(emails_all_df[member_selector][emails_all_df.week_dt > end_date].index, inplace=True)\n",
      "<ipython-input-40-9df018e460c4>:10: UserWarning: Boolean Series key will be reindexed to match DataFrame index.\n",
      "  emails_all_df.drop(emails_all_df[member_selector][emails_all_df.week_dt < start_date].index,inplace=True)\n",
      "<ipython-input-40-9df018e460c4>:11: UserWarning: Boolean Series key will be reindexed to match DataFrame index.\n",
      "  emails_all_df.drop(emails_all_df[member_selector][emails_all_df.week_dt > end_date].index, inplace=True)\n",
      "<ipython-input-40-9df018e460c4>:10: UserWarning: Boolean Series key will be reindexed to match DataFrame index.\n",
      "  emails_all_df.drop(emails_all_df[member_selector][emails_all_df.week_dt < start_date].index,inplace=True)\n",
      "<ipython-input-40-9df018e460c4>:11: UserWarning: Boolean Series key will be reindexed to match DataFrame index.\n",
      "  emails_all_df.drop(emails_all_df[member_selector][emails_all_df.week_dt > end_date].index, inplace=True)\n",
      "<ipython-input-40-9df018e460c4>:10: UserWarning: Boolean Series key will be reindexed to match DataFrame index.\n",
      "  emails_all_df.drop(emails_all_df[member_selector][emails_all_df.week_dt < start_date].index,inplace=True)\n",
      "<ipython-input-40-9df018e460c4>:11: UserWarning: Boolean Series key will be reindexed to match DataFrame index.\n",
      "  emails_all_df.drop(emails_all_df[member_selector][emails_all_df.week_dt > end_date].index, inplace=True)\n",
      "<ipython-input-40-9df018e460c4>:10: UserWarning: Boolean Series key will be reindexed to match DataFrame index.\n",
      "  emails_all_df.drop(emails_all_df[member_selector][emails_all_df.week_dt < start_date].index,inplace=True)\n",
      "<ipython-input-40-9df018e460c4>:11: UserWarning: Boolean Series key will be reindexed to match DataFrame index.\n",
      "  emails_all_df.drop(emails_all_df[member_selector][emails_all_df.week_dt > end_date].index, inplace=True)\n",
      "<ipython-input-40-9df018e460c4>:10: UserWarning: Boolean Series key will be reindexed to match DataFrame index.\n",
      "  emails_all_df.drop(emails_all_df[member_selector][emails_all_df.week_dt < start_date].index,inplace=True)\n",
      "<ipython-input-40-9df018e460c4>:11: UserWarning: Boolean Series key will be reindexed to match DataFrame index.\n",
      "  emails_all_df.drop(emails_all_df[member_selector][emails_all_df.week_dt > end_date].index, inplace=True)\n",
      "<ipython-input-40-9df018e460c4>:10: UserWarning: Boolean Series key will be reindexed to match DataFrame index.\n",
      "  emails_all_df.drop(emails_all_df[member_selector][emails_all_df.week_dt < start_date].index,inplace=True)\n",
      "<ipython-input-40-9df018e460c4>:11: UserWarning: Boolean Series key will be reindexed to match DataFrame index.\n",
      "  emails_all_df.drop(emails_all_df[member_selector][emails_all_df.week_dt > end_date].index, inplace=True)\n",
      "<ipython-input-40-9df018e460c4>:10: UserWarning: Boolean Series key will be reindexed to match DataFrame index.\n",
      "  emails_all_df.drop(emails_all_df[member_selector][emails_all_df.week_dt < start_date].index,inplace=True)\n",
      "<ipython-input-40-9df018e460c4>:11: UserWarning: Boolean Series key will be reindexed to match DataFrame index.\n",
      "  emails_all_df.drop(emails_all_df[member_selector][emails_all_df.week_dt > end_date].index, inplace=True)\n",
      "<ipython-input-40-9df018e460c4>:10: UserWarning: Boolean Series key will be reindexed to match DataFrame index.\n",
      "  emails_all_df.drop(emails_all_df[member_selector][emails_all_df.week_dt < start_date].index,inplace=True)\n",
      "<ipython-input-40-9df018e460c4>:11: UserWarning: Boolean Series key will be reindexed to match DataFrame index.\n",
      "  emails_all_df.drop(emails_all_df[member_selector][emails_all_df.week_dt > end_date].index, inplace=True)\n",
      "<ipython-input-40-9df018e460c4>:10: UserWarning: Boolean Series key will be reindexed to match DataFrame index.\n",
      "  emails_all_df.drop(emails_all_df[member_selector][emails_all_df.week_dt < start_date].index,inplace=True)\n",
      "<ipython-input-40-9df018e460c4>:11: UserWarning: Boolean Series key will be reindexed to match DataFrame index.\n",
      "  emails_all_df.drop(emails_all_df[member_selector][emails_all_df.week_dt > end_date].index, inplace=True)\n",
      "<ipython-input-40-9df018e460c4>:10: UserWarning: Boolean Series key will be reindexed to match DataFrame index.\n",
      "  emails_all_df.drop(emails_all_df[member_selector][emails_all_df.week_dt < start_date].index,inplace=True)\n",
      "<ipython-input-40-9df018e460c4>:11: UserWarning: Boolean Series key will be reindexed to match DataFrame index.\n",
      "  emails_all_df.drop(emails_all_df[member_selector][emails_all_df.week_dt > end_date].index, inplace=True)\n",
      "<ipython-input-40-9df018e460c4>:10: UserWarning: Boolean Series key will be reindexed to match DataFrame index.\n",
      "  emails_all_df.drop(emails_all_df[member_selector][emails_all_df.week_dt < start_date].index,inplace=True)\n",
      "<ipython-input-40-9df018e460c4>:11: UserWarning: Boolean Series key will be reindexed to match DataFrame index.\n",
      "  emails_all_df.drop(emails_all_df[member_selector][emails_all_df.week_dt > end_date].index, inplace=True)\n",
      "<ipython-input-40-9df018e460c4>:10: UserWarning: Boolean Series key will be reindexed to match DataFrame index.\n",
      "  emails_all_df.drop(emails_all_df[member_selector][emails_all_df.week_dt < start_date].index,inplace=True)\n",
      "<ipython-input-40-9df018e460c4>:11: UserWarning: Boolean Series key will be reindexed to match DataFrame index.\n",
      "  emails_all_df.drop(emails_all_df[member_selector][emails_all_df.week_dt > end_date].index, inplace=True)\n",
      "<ipython-input-40-9df018e460c4>:10: UserWarning: Boolean Series key will be reindexed to match DataFrame index.\n",
      "  emails_all_df.drop(emails_all_df[member_selector][emails_all_df.week_dt < start_date].index,inplace=True)\n",
      "<ipython-input-40-9df018e460c4>:11: UserWarning: Boolean Series key will be reindexed to match DataFrame index.\n",
      "  emails_all_df.drop(emails_all_df[member_selector][emails_all_df.week_dt > end_date].index, inplace=True)\n",
      "<ipython-input-40-9df018e460c4>:10: UserWarning: Boolean Series key will be reindexed to match DataFrame index.\n",
      "  emails_all_df.drop(emails_all_df[member_selector][emails_all_df.week_dt < start_date].index,inplace=True)\n",
      "<ipython-input-40-9df018e460c4>:11: UserWarning: Boolean Series key will be reindexed to match DataFrame index.\n",
      "  emails_all_df.drop(emails_all_df[member_selector][emails_all_df.week_dt > end_date].index, inplace=True)\n",
      "<ipython-input-40-9df018e460c4>:10: UserWarning: Boolean Series key will be reindexed to match DataFrame index.\n",
      "  emails_all_df.drop(emails_all_df[member_selector][emails_all_df.week_dt < start_date].index,inplace=True)\n",
      "<ipython-input-40-9df018e460c4>:11: UserWarning: Boolean Series key will be reindexed to match DataFrame index.\n",
      "  emails_all_df.drop(emails_all_df[member_selector][emails_all_df.week_dt > end_date].index, inplace=True)\n",
      "<ipython-input-40-9df018e460c4>:10: UserWarning: Boolean Series key will be reindexed to match DataFrame index.\n",
      "  emails_all_df.drop(emails_all_df[member_selector][emails_all_df.week_dt < start_date].index,inplace=True)\n",
      "<ipython-input-40-9df018e460c4>:11: UserWarning: Boolean Series key will be reindexed to match DataFrame index.\n",
      "  emails_all_df.drop(emails_all_df[member_selector][emails_all_df.week_dt > end_date].index, inplace=True)\n",
      "<ipython-input-40-9df018e460c4>:10: UserWarning: Boolean Series key will be reindexed to match DataFrame index.\n",
      "  emails_all_df.drop(emails_all_df[member_selector][emails_all_df.week_dt < start_date].index,inplace=True)\n",
      "<ipython-input-40-9df018e460c4>:11: UserWarning: Boolean Series key will be reindexed to match DataFrame index.\n",
      "  emails_all_df.drop(emails_all_df[member_selector][emails_all_df.week_dt > end_date].index, inplace=True)\n",
      "<ipython-input-40-9df018e460c4>:10: UserWarning: Boolean Series key will be reindexed to match DataFrame index.\n",
      "  emails_all_df.drop(emails_all_df[member_selector][emails_all_df.week_dt < start_date].index,inplace=True)\n",
      "<ipython-input-40-9df018e460c4>:11: UserWarning: Boolean Series key will be reindexed to match DataFrame index.\n",
      "  emails_all_df.drop(emails_all_df[member_selector][emails_all_df.week_dt > end_date].index, inplace=True)\n",
      "<ipython-input-40-9df018e460c4>:10: UserWarning: Boolean Series key will be reindexed to match DataFrame index.\n",
      "  emails_all_df.drop(emails_all_df[member_selector][emails_all_df.week_dt < start_date].index,inplace=True)\n",
      "<ipython-input-40-9df018e460c4>:11: UserWarning: Boolean Series key will be reindexed to match DataFrame index.\n",
      "  emails_all_df.drop(emails_all_df[member_selector][emails_all_df.week_dt > end_date].index, inplace=True)\n",
      "<ipython-input-40-9df018e460c4>:10: UserWarning: Boolean Series key will be reindexed to match DataFrame index.\n",
      "  emails_all_df.drop(emails_all_df[member_selector][emails_all_df.week_dt < start_date].index,inplace=True)\n",
      "<ipython-input-40-9df018e460c4>:11: UserWarning: Boolean Series key will be reindexed to match DataFrame index.\n",
      "  emails_all_df.drop(emails_all_df[member_selector][emails_all_df.week_dt > end_date].index, inplace=True)\n",
      "<ipython-input-40-9df018e460c4>:10: UserWarning: Boolean Series key will be reindexed to match DataFrame index.\n",
      "  emails_all_df.drop(emails_all_df[member_selector][emails_all_df.week_dt < start_date].index,inplace=True)\n",
      "<ipython-input-40-9df018e460c4>:11: UserWarning: Boolean Series key will be reindexed to match DataFrame index.\n",
      "  emails_all_df.drop(emails_all_df[member_selector][emails_all_df.week_dt > end_date].index, inplace=True)\n",
      "<ipython-input-40-9df018e460c4>:10: UserWarning: Boolean Series key will be reindexed to match DataFrame index.\n",
      "  emails_all_df.drop(emails_all_df[member_selector][emails_all_df.week_dt < start_date].index,inplace=True)\n",
      "<ipython-input-40-9df018e460c4>:11: UserWarning: Boolean Series key will be reindexed to match DataFrame index.\n",
      "  emails_all_df.drop(emails_all_df[member_selector][emails_all_df.week_dt > end_date].index, inplace=True)\n",
      "<ipython-input-40-9df018e460c4>:10: UserWarning: Boolean Series key will be reindexed to match DataFrame index.\n",
      "  emails_all_df.drop(emails_all_df[member_selector][emails_all_df.week_dt < start_date].index,inplace=True)\n",
      "<ipython-input-40-9df018e460c4>:11: UserWarning: Boolean Series key will be reindexed to match DataFrame index.\n",
      "  emails_all_df.drop(emails_all_df[member_selector][emails_all_df.week_dt > end_date].index, inplace=True)\n",
      "<ipython-input-40-9df018e460c4>:10: UserWarning: Boolean Series key will be reindexed to match DataFrame index.\n",
      "  emails_all_df.drop(emails_all_df[member_selector][emails_all_df.week_dt < start_date].index,inplace=True)\n",
      "<ipython-input-40-9df018e460c4>:11: UserWarning: Boolean Series key will be reindexed to match DataFrame index.\n",
      "  emails_all_df.drop(emails_all_df[member_selector][emails_all_df.week_dt > end_date].index, inplace=True)\n",
      "<ipython-input-40-9df018e460c4>:10: UserWarning: Boolean Series key will be reindexed to match DataFrame index.\n",
      "  emails_all_df.drop(emails_all_df[member_selector][emails_all_df.week_dt < start_date].index,inplace=True)\n",
      "<ipython-input-40-9df018e460c4>:11: UserWarning: Boolean Series key will be reindexed to match DataFrame index.\n",
      "  emails_all_df.drop(emails_all_df[member_selector][emails_all_df.week_dt > end_date].index, inplace=True)\n",
      "<ipython-input-40-9df018e460c4>:10: UserWarning: Boolean Series key will be reindexed to match DataFrame index.\n",
      "  emails_all_df.drop(emails_all_df[member_selector][emails_all_df.week_dt < start_date].index,inplace=True)\n",
      "<ipython-input-40-9df018e460c4>:11: UserWarning: Boolean Series key will be reindexed to match DataFrame index.\n",
      "  emails_all_df.drop(emails_all_df[member_selector][emails_all_df.week_dt > end_date].index, inplace=True)\n",
      "<ipython-input-40-9df018e460c4>:10: UserWarning: Boolean Series key will be reindexed to match DataFrame index.\n",
      "  emails_all_df.drop(emails_all_df[member_selector][emails_all_df.week_dt < start_date].index,inplace=True)\n",
      "<ipython-input-40-9df018e460c4>:11: UserWarning: Boolean Series key will be reindexed to match DataFrame index.\n",
      "  emails_all_df.drop(emails_all_df[member_selector][emails_all_df.week_dt > end_date].index, inplace=True)\n",
      "<ipython-input-40-9df018e460c4>:10: UserWarning: Boolean Series key will be reindexed to match DataFrame index.\n",
      "  emails_all_df.drop(emails_all_df[member_selector][emails_all_df.week_dt < start_date].index,inplace=True)\n",
      "<ipython-input-40-9df018e460c4>:11: UserWarning: Boolean Series key will be reindexed to match DataFrame index.\n",
      "  emails_all_df.drop(emails_all_df[member_selector][emails_all_df.week_dt > end_date].index, inplace=True)\n",
      "<ipython-input-40-9df018e460c4>:10: UserWarning: Boolean Series key will be reindexed to match DataFrame index.\n",
      "  emails_all_df.drop(emails_all_df[member_selector][emails_all_df.week_dt < start_date].index,inplace=True)\n",
      "<ipython-input-40-9df018e460c4>:11: UserWarning: Boolean Series key will be reindexed to match DataFrame index.\n",
      "  emails_all_df.drop(emails_all_df[member_selector][emails_all_df.week_dt > end_date].index, inplace=True)\n",
      "<ipython-input-40-9df018e460c4>:10: UserWarning: Boolean Series key will be reindexed to match DataFrame index.\n",
      "  emails_all_df.drop(emails_all_df[member_selector][emails_all_df.week_dt < start_date].index,inplace=True)\n",
      "<ipython-input-40-9df018e460c4>:11: UserWarning: Boolean Series key will be reindexed to match DataFrame index.\n",
      "  emails_all_df.drop(emails_all_df[member_selector][emails_all_df.week_dt > end_date].index, inplace=True)\n",
      "<ipython-input-40-9df018e460c4>:10: UserWarning: Boolean Series key will be reindexed to match DataFrame index.\n",
      "  emails_all_df.drop(emails_all_df[member_selector][emails_all_df.week_dt < start_date].index,inplace=True)\n",
      "<ipython-input-40-9df018e460c4>:11: UserWarning: Boolean Series key will be reindexed to match DataFrame index.\n",
      "  emails_all_df.drop(emails_all_df[member_selector][emails_all_df.week_dt > end_date].index, inplace=True)\n",
      "<ipython-input-40-9df018e460c4>:10: UserWarning: Boolean Series key will be reindexed to match DataFrame index.\n",
      "  emails_all_df.drop(emails_all_df[member_selector][emails_all_df.week_dt < start_date].index,inplace=True)\n",
      "<ipython-input-40-9df018e460c4>:11: UserWarning: Boolean Series key will be reindexed to match DataFrame index.\n",
      "  emails_all_df.drop(emails_all_df[member_selector][emails_all_df.week_dt > end_date].index, inplace=True)\n",
      "<ipython-input-40-9df018e460c4>:10: UserWarning: Boolean Series key will be reindexed to match DataFrame index.\n",
      "  emails_all_df.drop(emails_all_df[member_selector][emails_all_df.week_dt < start_date].index,inplace=True)\n",
      "<ipython-input-40-9df018e460c4>:11: UserWarning: Boolean Series key will be reindexed to match DataFrame index.\n",
      "  emails_all_df.drop(emails_all_df[member_selector][emails_all_df.week_dt > end_date].index, inplace=True)\n",
      "<ipython-input-40-9df018e460c4>:10: UserWarning: Boolean Series key will be reindexed to match DataFrame index.\n",
      "  emails_all_df.drop(emails_all_df[member_selector][emails_all_df.week_dt < start_date].index,inplace=True)\n",
      "<ipython-input-40-9df018e460c4>:11: UserWarning: Boolean Series key will be reindexed to match DataFrame index.\n",
      "  emails_all_df.drop(emails_all_df[member_selector][emails_all_df.week_dt > end_date].index, inplace=True)\n",
      "<ipython-input-40-9df018e460c4>:10: UserWarning: Boolean Series key will be reindexed to match DataFrame index.\n",
      "  emails_all_df.drop(emails_all_df[member_selector][emails_all_df.week_dt < start_date].index,inplace=True)\n",
      "<ipython-input-40-9df018e460c4>:11: UserWarning: Boolean Series key will be reindexed to match DataFrame index.\n",
      "  emails_all_df.drop(emails_all_df[member_selector][emails_all_df.week_dt > end_date].index, inplace=True)\n",
      "<ipython-input-40-9df018e460c4>:10: UserWarning: Boolean Series key will be reindexed to match DataFrame index.\n",
      "  emails_all_df.drop(emails_all_df[member_selector][emails_all_df.week_dt < start_date].index,inplace=True)\n",
      "<ipython-input-40-9df018e460c4>:11: UserWarning: Boolean Series key will be reindexed to match DataFrame index.\n",
      "  emails_all_df.drop(emails_all_df[member_selector][emails_all_df.week_dt > end_date].index, inplace=True)\n",
      "<ipython-input-40-9df018e460c4>:10: UserWarning: Boolean Series key will be reindexed to match DataFrame index.\n",
      "  emails_all_df.drop(emails_all_df[member_selector][emails_all_df.week_dt < start_date].index,inplace=True)\n",
      "<ipython-input-40-9df018e460c4>:11: UserWarning: Boolean Series key will be reindexed to match DataFrame index.\n",
      "  emails_all_df.drop(emails_all_df[member_selector][emails_all_df.week_dt > end_date].index, inplace=True)\n",
      "<ipython-input-40-9df018e460c4>:10: UserWarning: Boolean Series key will be reindexed to match DataFrame index.\n",
      "  emails_all_df.drop(emails_all_df[member_selector][emails_all_df.week_dt < start_date].index,inplace=True)\n",
      "<ipython-input-40-9df018e460c4>:11: UserWarning: Boolean Series key will be reindexed to match DataFrame index.\n",
      "  emails_all_df.drop(emails_all_df[member_selector][emails_all_df.week_dt > end_date].index, inplace=True)\n",
      "<ipython-input-40-9df018e460c4>:10: UserWarning: Boolean Series key will be reindexed to match DataFrame index.\n",
      "  emails_all_df.drop(emails_all_df[member_selector][emails_all_df.week_dt < start_date].index,inplace=True)\n",
      "<ipython-input-40-9df018e460c4>:11: UserWarning: Boolean Series key will be reindexed to match DataFrame index.\n",
      "  emails_all_df.drop(emails_all_df[member_selector][emails_all_df.week_dt > end_date].index, inplace=True)\n",
      "<ipython-input-40-9df018e460c4>:10: UserWarning: Boolean Series key will be reindexed to match DataFrame index.\n",
      "  emails_all_df.drop(emails_all_df[member_selector][emails_all_df.week_dt < start_date].index,inplace=True)\n",
      "<ipython-input-40-9df018e460c4>:11: UserWarning: Boolean Series key will be reindexed to match DataFrame index.\n",
      "  emails_all_df.drop(emails_all_df[member_selector][emails_all_df.week_dt > end_date].index, inplace=True)\n",
      "<ipython-input-40-9df018e460c4>:10: UserWarning: Boolean Series key will be reindexed to match DataFrame index.\n",
      "  emails_all_df.drop(emails_all_df[member_selector][emails_all_df.week_dt < start_date].index,inplace=True)\n",
      "<ipython-input-40-9df018e460c4>:11: UserWarning: Boolean Series key will be reindexed to match DataFrame index.\n",
      "  emails_all_df.drop(emails_all_df[member_selector][emails_all_df.week_dt > end_date].index, inplace=True)\n",
      "<ipython-input-40-9df018e460c4>:10: UserWarning: Boolean Series key will be reindexed to match DataFrame index.\n",
      "  emails_all_df.drop(emails_all_df[member_selector][emails_all_df.week_dt < start_date].index,inplace=True)\n",
      "<ipython-input-40-9df018e460c4>:11: UserWarning: Boolean Series key will be reindexed to match DataFrame index.\n",
      "  emails_all_df.drop(emails_all_df[member_selector][emails_all_df.week_dt > end_date].index, inplace=True)\n",
      "<ipython-input-40-9df018e460c4>:10: UserWarning: Boolean Series key will be reindexed to match DataFrame index.\n",
      "  emails_all_df.drop(emails_all_df[member_selector][emails_all_df.week_dt < start_date].index,inplace=True)\n",
      "<ipython-input-40-9df018e460c4>:11: UserWarning: Boolean Series key will be reindexed to match DataFrame index.\n",
      "  emails_all_df.drop(emails_all_df[member_selector][emails_all_df.week_dt > end_date].index, inplace=True)\n",
      "<ipython-input-40-9df018e460c4>:10: UserWarning: Boolean Series key will be reindexed to match DataFrame index.\n",
      "  emails_all_df.drop(emails_all_df[member_selector][emails_all_df.week_dt < start_date].index,inplace=True)\n",
      "<ipython-input-40-9df018e460c4>:11: UserWarning: Boolean Series key will be reindexed to match DataFrame index.\n",
      "  emails_all_df.drop(emails_all_df[member_selector][emails_all_df.week_dt > end_date].index, inplace=True)\n",
      "<ipython-input-40-9df018e460c4>:10: UserWarning: Boolean Series key will be reindexed to match DataFrame index.\n",
      "  emails_all_df.drop(emails_all_df[member_selector][emails_all_df.week_dt < start_date].index,inplace=True)\n",
      "<ipython-input-40-9df018e460c4>:11: UserWarning: Boolean Series key will be reindexed to match DataFrame index.\n",
      "  emails_all_df.drop(emails_all_df[member_selector][emails_all_df.week_dt > end_date].index, inplace=True)\n",
      "<ipython-input-40-9df018e460c4>:10: UserWarning: Boolean Series key will be reindexed to match DataFrame index.\n",
      "  emails_all_df.drop(emails_all_df[member_selector][emails_all_df.week_dt < start_date].index,inplace=True)\n",
      "<ipython-input-40-9df018e460c4>:11: UserWarning: Boolean Series key will be reindexed to match DataFrame index.\n",
      "  emails_all_df.drop(emails_all_df[member_selector][emails_all_df.week_dt > end_date].index, inplace=True)\n",
      "<ipython-input-40-9df018e460c4>:10: UserWarning: Boolean Series key will be reindexed to match DataFrame index.\n",
      "  emails_all_df.drop(emails_all_df[member_selector][emails_all_df.week_dt < start_date].index,inplace=True)\n",
      "<ipython-input-40-9df018e460c4>:11: UserWarning: Boolean Series key will be reindexed to match DataFrame index.\n",
      "  emails_all_df.drop(emails_all_df[member_selector][emails_all_df.week_dt > end_date].index, inplace=True)\n",
      "<ipython-input-40-9df018e460c4>:10: UserWarning: Boolean Series key will be reindexed to match DataFrame index.\n",
      "  emails_all_df.drop(emails_all_df[member_selector][emails_all_df.week_dt < start_date].index,inplace=True)\n",
      "<ipython-input-40-9df018e460c4>:11: UserWarning: Boolean Series key will be reindexed to match DataFrame index.\n",
      "  emails_all_df.drop(emails_all_df[member_selector][emails_all_df.week_dt > end_date].index, inplace=True)\n",
      "<ipython-input-40-9df018e460c4>:10: UserWarning: Boolean Series key will be reindexed to match DataFrame index.\n",
      "  emails_all_df.drop(emails_all_df[member_selector][emails_all_df.week_dt < start_date].index,inplace=True)\n",
      "<ipython-input-40-9df018e460c4>:11: UserWarning: Boolean Series key will be reindexed to match DataFrame index.\n",
      "  emails_all_df.drop(emails_all_df[member_selector][emails_all_df.week_dt > end_date].index, inplace=True)\n",
      "<ipython-input-40-9df018e460c4>:10: UserWarning: Boolean Series key will be reindexed to match DataFrame index.\n",
      "  emails_all_df.drop(emails_all_df[member_selector][emails_all_df.week_dt < start_date].index,inplace=True)\n",
      "<ipython-input-40-9df018e460c4>:11: UserWarning: Boolean Series key will be reindexed to match DataFrame index.\n",
      "  emails_all_df.drop(emails_all_df[member_selector][emails_all_df.week_dt > end_date].index, inplace=True)\n",
      "<ipython-input-40-9df018e460c4>:10: UserWarning: Boolean Series key will be reindexed to match DataFrame index.\n",
      "  emails_all_df.drop(emails_all_df[member_selector][emails_all_df.week_dt < start_date].index,inplace=True)\n",
      "<ipython-input-40-9df018e460c4>:11: UserWarning: Boolean Series key will be reindexed to match DataFrame index.\n",
      "  emails_all_df.drop(emails_all_df[member_selector][emails_all_df.week_dt > end_date].index, inplace=True)\n",
      "<ipython-input-40-9df018e460c4>:10: UserWarning: Boolean Series key will be reindexed to match DataFrame index.\n",
      "  emails_all_df.drop(emails_all_df[member_selector][emails_all_df.week_dt < start_date].index,inplace=True)\n",
      "<ipython-input-40-9df018e460c4>:11: UserWarning: Boolean Series key will be reindexed to match DataFrame index.\n",
      "  emails_all_df.drop(emails_all_df[member_selector][emails_all_df.week_dt > end_date].index, inplace=True)\n",
      "<ipython-input-40-9df018e460c4>:10: UserWarning: Boolean Series key will be reindexed to match DataFrame index.\n",
      "  emails_all_df.drop(emails_all_df[member_selector][emails_all_df.week_dt < start_date].index,inplace=True)\n",
      "<ipython-input-40-9df018e460c4>:11: UserWarning: Boolean Series key will be reindexed to match DataFrame index.\n",
      "  emails_all_df.drop(emails_all_df[member_selector][emails_all_df.week_dt > end_date].index, inplace=True)\n",
      "<ipython-input-40-9df018e460c4>:10: UserWarning: Boolean Series key will be reindexed to match DataFrame index.\n",
      "  emails_all_df.drop(emails_all_df[member_selector][emails_all_df.week_dt < start_date].index,inplace=True)\n",
      "<ipython-input-40-9df018e460c4>:11: UserWarning: Boolean Series key will be reindexed to match DataFrame index.\n",
      "  emails_all_df.drop(emails_all_df[member_selector][emails_all_df.week_dt > end_date].index, inplace=True)\n",
      "<ipython-input-40-9df018e460c4>:10: UserWarning: Boolean Series key will be reindexed to match DataFrame index.\n",
      "  emails_all_df.drop(emails_all_df[member_selector][emails_all_df.week_dt < start_date].index,inplace=True)\n",
      "<ipython-input-40-9df018e460c4>:11: UserWarning: Boolean Series key will be reindexed to match DataFrame index.\n",
      "  emails_all_df.drop(emails_all_df[member_selector][emails_all_df.week_dt > end_date].index, inplace=True)\n",
      "<ipython-input-40-9df018e460c4>:10: UserWarning: Boolean Series key will be reindexed to match DataFrame index.\n",
      "  emails_all_df.drop(emails_all_df[member_selector][emails_all_df.week_dt < start_date].index,inplace=True)\n",
      "<ipython-input-40-9df018e460c4>:11: UserWarning: Boolean Series key will be reindexed to match DataFrame index.\n",
      "  emails_all_df.drop(emails_all_df[member_selector][emails_all_df.week_dt > end_date].index, inplace=True)\n",
      "<ipython-input-40-9df018e460c4>:10: UserWarning: Boolean Series key will be reindexed to match DataFrame index.\n",
      "  emails_all_df.drop(emails_all_df[member_selector][emails_all_df.week_dt < start_date].index,inplace=True)\n",
      "<ipython-input-40-9df018e460c4>:11: UserWarning: Boolean Series key will be reindexed to match DataFrame index.\n",
      "  emails_all_df.drop(emails_all_df[member_selector][emails_all_df.week_dt > end_date].index, inplace=True)\n",
      "<ipython-input-40-9df018e460c4>:10: UserWarning: Boolean Series key will be reindexed to match DataFrame index.\n",
      "  emails_all_df.drop(emails_all_df[member_selector][emails_all_df.week_dt < start_date].index,inplace=True)\n",
      "<ipython-input-40-9df018e460c4>:11: UserWarning: Boolean Series key will be reindexed to match DataFrame index.\n",
      "  emails_all_df.drop(emails_all_df[member_selector][emails_all_df.week_dt > end_date].index, inplace=True)\n",
      "<ipython-input-40-9df018e460c4>:10: UserWarning: Boolean Series key will be reindexed to match DataFrame index.\n",
      "  emails_all_df.drop(emails_all_df[member_selector][emails_all_df.week_dt < start_date].index,inplace=True)\n",
      "<ipython-input-40-9df018e460c4>:11: UserWarning: Boolean Series key will be reindexed to match DataFrame index.\n",
      "  emails_all_df.drop(emails_all_df[member_selector][emails_all_df.week_dt > end_date].index, inplace=True)\n",
      "<ipython-input-40-9df018e460c4>:10: UserWarning: Boolean Series key will be reindexed to match DataFrame index.\n",
      "  emails_all_df.drop(emails_all_df[member_selector][emails_all_df.week_dt < start_date].index,inplace=True)\n",
      "<ipython-input-40-9df018e460c4>:11: UserWarning: Boolean Series key will be reindexed to match DataFrame index.\n",
      "  emails_all_df.drop(emails_all_df[member_selector][emails_all_df.week_dt > end_date].index, inplace=True)\n",
      "<ipython-input-40-9df018e460c4>:10: UserWarning: Boolean Series key will be reindexed to match DataFrame index.\n",
      "  emails_all_df.drop(emails_all_df[member_selector][emails_all_df.week_dt < start_date].index,inplace=True)\n",
      "<ipython-input-40-9df018e460c4>:11: UserWarning: Boolean Series key will be reindexed to match DataFrame index.\n",
      "  emails_all_df.drop(emails_all_df[member_selector][emails_all_df.week_dt > end_date].index, inplace=True)\n",
      "<ipython-input-40-9df018e460c4>:10: UserWarning: Boolean Series key will be reindexed to match DataFrame index.\n",
      "  emails_all_df.drop(emails_all_df[member_selector][emails_all_df.week_dt < start_date].index,inplace=True)\n",
      "<ipython-input-40-9df018e460c4>:11: UserWarning: Boolean Series key will be reindexed to match DataFrame index.\n",
      "  emails_all_df.drop(emails_all_df[member_selector][emails_all_df.week_dt > end_date].index, inplace=True)\n",
      "<ipython-input-40-9df018e460c4>:10: UserWarning: Boolean Series key will be reindexed to match DataFrame index.\n",
      "  emails_all_df.drop(emails_all_df[member_selector][emails_all_df.week_dt < start_date].index,inplace=True)\n",
      "<ipython-input-40-9df018e460c4>:11: UserWarning: Boolean Series key will be reindexed to match DataFrame index.\n",
      "  emails_all_df.drop(emails_all_df[member_selector][emails_all_df.week_dt > end_date].index, inplace=True)\n",
      "<ipython-input-40-9df018e460c4>:10: UserWarning: Boolean Series key will be reindexed to match DataFrame index.\n",
      "  emails_all_df.drop(emails_all_df[member_selector][emails_all_df.week_dt < start_date].index,inplace=True)\n",
      "<ipython-input-40-9df018e460c4>:11: UserWarning: Boolean Series key will be reindexed to match DataFrame index.\n",
      "  emails_all_df.drop(emails_all_df[member_selector][emails_all_df.week_dt > end_date].index, inplace=True)\n",
      "<ipython-input-40-9df018e460c4>:10: UserWarning: Boolean Series key will be reindexed to match DataFrame index.\n",
      "  emails_all_df.drop(emails_all_df[member_selector][emails_all_df.week_dt < start_date].index,inplace=True)\n",
      "<ipython-input-40-9df018e460c4>:11: UserWarning: Boolean Series key will be reindexed to match DataFrame index.\n",
      "  emails_all_df.drop(emails_all_df[member_selector][emails_all_df.week_dt > end_date].index, inplace=True)\n",
      "<ipython-input-40-9df018e460c4>:10: UserWarning: Boolean Series key will be reindexed to match DataFrame index.\n",
      "  emails_all_df.drop(emails_all_df[member_selector][emails_all_df.week_dt < start_date].index,inplace=True)\n",
      "<ipython-input-40-9df018e460c4>:11: UserWarning: Boolean Series key will be reindexed to match DataFrame index.\n",
      "  emails_all_df.drop(emails_all_df[member_selector][emails_all_df.week_dt > end_date].index, inplace=True)\n",
      "<ipython-input-40-9df018e460c4>:10: UserWarning: Boolean Series key will be reindexed to match DataFrame index.\n",
      "  emails_all_df.drop(emails_all_df[member_selector][emails_all_df.week_dt < start_date].index,inplace=True)\n",
      "<ipython-input-40-9df018e460c4>:11: UserWarning: Boolean Series key will be reindexed to match DataFrame index.\n",
      "  emails_all_df.drop(emails_all_df[member_selector][emails_all_df.week_dt > end_date].index, inplace=True)\n",
      "<ipython-input-40-9df018e460c4>:10: UserWarning: Boolean Series key will be reindexed to match DataFrame index.\n",
      "  emails_all_df.drop(emails_all_df[member_selector][emails_all_df.week_dt < start_date].index,inplace=True)\n",
      "<ipython-input-40-9df018e460c4>:11: UserWarning: Boolean Series key will be reindexed to match DataFrame index.\n",
      "  emails_all_df.drop(emails_all_df[member_selector][emails_all_df.week_dt > end_date].index, inplace=True)\n",
      "<ipython-input-40-9df018e460c4>:10: UserWarning: Boolean Series key will be reindexed to match DataFrame index.\n",
      "  emails_all_df.drop(emails_all_df[member_selector][emails_all_df.week_dt < start_date].index,inplace=True)\n",
      "<ipython-input-40-9df018e460c4>:11: UserWarning: Boolean Series key will be reindexed to match DataFrame index.\n",
      "  emails_all_df.drop(emails_all_df[member_selector][emails_all_df.week_dt > end_date].index, inplace=True)\n",
      "<ipython-input-40-9df018e460c4>:10: UserWarning: Boolean Series key will be reindexed to match DataFrame index.\n",
      "  emails_all_df.drop(emails_all_df[member_selector][emails_all_df.week_dt < start_date].index,inplace=True)\n",
      "<ipython-input-40-9df018e460c4>:11: UserWarning: Boolean Series key will be reindexed to match DataFrame index.\n",
      "  emails_all_df.drop(emails_all_df[member_selector][emails_all_df.week_dt > end_date].index, inplace=True)\n",
      "<ipython-input-40-9df018e460c4>:10: UserWarning: Boolean Series key will be reindexed to match DataFrame index.\n",
      "  emails_all_df.drop(emails_all_df[member_selector][emails_all_df.week_dt < start_date].index,inplace=True)\n",
      "<ipython-input-40-9df018e460c4>:11: UserWarning: Boolean Series key will be reindexed to match DataFrame index.\n",
      "  emails_all_df.drop(emails_all_df[member_selector][emails_all_df.week_dt > end_date].index, inplace=True)\n",
      "<ipython-input-40-9df018e460c4>:10: UserWarning: Boolean Series key will be reindexed to match DataFrame index.\n",
      "  emails_all_df.drop(emails_all_df[member_selector][emails_all_df.week_dt < start_date].index,inplace=True)\n",
      "<ipython-input-40-9df018e460c4>:11: UserWarning: Boolean Series key will be reindexed to match DataFrame index.\n",
      "  emails_all_df.drop(emails_all_df[member_selector][emails_all_df.week_dt > end_date].index, inplace=True)\n",
      "<ipython-input-40-9df018e460c4>:10: UserWarning: Boolean Series key will be reindexed to match DataFrame index.\n",
      "  emails_all_df.drop(emails_all_df[member_selector][emails_all_df.week_dt < start_date].index,inplace=True)\n",
      "<ipython-input-40-9df018e460c4>:11: UserWarning: Boolean Series key will be reindexed to match DataFrame index.\n",
      "  emails_all_df.drop(emails_all_df[member_selector][emails_all_df.week_dt > end_date].index, inplace=True)\n",
      "<ipython-input-40-9df018e460c4>:10: UserWarning: Boolean Series key will be reindexed to match DataFrame index.\n",
      "  emails_all_df.drop(emails_all_df[member_selector][emails_all_df.week_dt < start_date].index,inplace=True)\n",
      "<ipython-input-40-9df018e460c4>:11: UserWarning: Boolean Series key will be reindexed to match DataFrame index.\n",
      "  emails_all_df.drop(emails_all_df[member_selector][emails_all_df.week_dt > end_date].index, inplace=True)\n",
      "<ipython-input-40-9df018e460c4>:10: UserWarning: Boolean Series key will be reindexed to match DataFrame index.\n",
      "  emails_all_df.drop(emails_all_df[member_selector][emails_all_df.week_dt < start_date].index,inplace=True)\n",
      "<ipython-input-40-9df018e460c4>:11: UserWarning: Boolean Series key will be reindexed to match DataFrame index.\n",
      "  emails_all_df.drop(emails_all_df[member_selector][emails_all_df.week_dt > end_date].index, inplace=True)\n",
      "<ipython-input-40-9df018e460c4>:10: UserWarning: Boolean Series key will be reindexed to match DataFrame index.\n",
      "  emails_all_df.drop(emails_all_df[member_selector][emails_all_df.week_dt < start_date].index,inplace=True)\n",
      "<ipython-input-40-9df018e460c4>:11: UserWarning: Boolean Series key will be reindexed to match DataFrame index.\n",
      "  emails_all_df.drop(emails_all_df[member_selector][emails_all_df.week_dt > end_date].index, inplace=True)\n",
      "<ipython-input-40-9df018e460c4>:10: UserWarning: Boolean Series key will be reindexed to match DataFrame index.\n",
      "  emails_all_df.drop(emails_all_df[member_selector][emails_all_df.week_dt < start_date].index,inplace=True)\n",
      "<ipython-input-40-9df018e460c4>:11: UserWarning: Boolean Series key will be reindexed to match DataFrame index.\n",
      "  emails_all_df.drop(emails_all_df[member_selector][emails_all_df.week_dt > end_date].index, inplace=True)\n",
      "<ipython-input-40-9df018e460c4>:10: UserWarning: Boolean Series key will be reindexed to match DataFrame index.\n",
      "  emails_all_df.drop(emails_all_df[member_selector][emails_all_df.week_dt < start_date].index,inplace=True)\n",
      "<ipython-input-40-9df018e460c4>:11: UserWarning: Boolean Series key will be reindexed to match DataFrame index.\n",
      "  emails_all_df.drop(emails_all_df[member_selector][emails_all_df.week_dt > end_date].index, inplace=True)\n",
      "<ipython-input-40-9df018e460c4>:10: UserWarning: Boolean Series key will be reindexed to match DataFrame index.\n",
      "  emails_all_df.drop(emails_all_df[member_selector][emails_all_df.week_dt < start_date].index,inplace=True)\n",
      "<ipython-input-40-9df018e460c4>:11: UserWarning: Boolean Series key will be reindexed to match DataFrame index.\n",
      "  emails_all_df.drop(emails_all_df[member_selector][emails_all_df.week_dt > end_date].index, inplace=True)\n",
      "<ipython-input-40-9df018e460c4>:10: UserWarning: Boolean Series key will be reindexed to match DataFrame index.\n",
      "  emails_all_df.drop(emails_all_df[member_selector][emails_all_df.week_dt < start_date].index,inplace=True)\n",
      "<ipython-input-40-9df018e460c4>:11: UserWarning: Boolean Series key will be reindexed to match DataFrame index.\n",
      "  emails_all_df.drop(emails_all_df[member_selector][emails_all_df.week_dt > end_date].index, inplace=True)\n",
      "<ipython-input-40-9df018e460c4>:10: UserWarning: Boolean Series key will be reindexed to match DataFrame index.\n",
      "  emails_all_df.drop(emails_all_df[member_selector][emails_all_df.week_dt < start_date].index,inplace=True)\n",
      "<ipython-input-40-9df018e460c4>:11: UserWarning: Boolean Series key will be reindexed to match DataFrame index.\n",
      "  emails_all_df.drop(emails_all_df[member_selector][emails_all_df.week_dt > end_date].index, inplace=True)\n",
      "<ipython-input-40-9df018e460c4>:10: UserWarning: Boolean Series key will be reindexed to match DataFrame index.\n",
      "  emails_all_df.drop(emails_all_df[member_selector][emails_all_df.week_dt < start_date].index,inplace=True)\n",
      "<ipython-input-40-9df018e460c4>:11: UserWarning: Boolean Series key will be reindexed to match DataFrame index.\n",
      "  emails_all_df.drop(emails_all_df[member_selector][emails_all_df.week_dt > end_date].index, inplace=True)\n",
      "<ipython-input-40-9df018e460c4>:10: UserWarning: Boolean Series key will be reindexed to match DataFrame index.\n",
      "  emails_all_df.drop(emails_all_df[member_selector][emails_all_df.week_dt < start_date].index,inplace=True)\n",
      "<ipython-input-40-9df018e460c4>:11: UserWarning: Boolean Series key will be reindexed to match DataFrame index.\n",
      "  emails_all_df.drop(emails_all_df[member_selector][emails_all_df.week_dt > end_date].index, inplace=True)\n",
      "<ipython-input-40-9df018e460c4>:10: UserWarning: Boolean Series key will be reindexed to match DataFrame index.\n",
      "  emails_all_df.drop(emails_all_df[member_selector][emails_all_df.week_dt < start_date].index,inplace=True)\n",
      "<ipython-input-40-9df018e460c4>:11: UserWarning: Boolean Series key will be reindexed to match DataFrame index.\n",
      "  emails_all_df.drop(emails_all_df[member_selector][emails_all_df.week_dt > end_date].index, inplace=True)\n",
      "<ipython-input-40-9df018e460c4>:10: UserWarning: Boolean Series key will be reindexed to match DataFrame index.\n",
      "  emails_all_df.drop(emails_all_df[member_selector][emails_all_df.week_dt < start_date].index,inplace=True)\n",
      "<ipython-input-40-9df018e460c4>:11: UserWarning: Boolean Series key will be reindexed to match DataFrame index.\n",
      "  emails_all_df.drop(emails_all_df[member_selector][emails_all_df.week_dt > end_date].index, inplace=True)\n",
      "<ipython-input-40-9df018e460c4>:10: UserWarning: Boolean Series key will be reindexed to match DataFrame index.\n",
      "  emails_all_df.drop(emails_all_df[member_selector][emails_all_df.week_dt < start_date].index,inplace=True)\n",
      "<ipython-input-40-9df018e460c4>:11: UserWarning: Boolean Series key will be reindexed to match DataFrame index.\n",
      "  emails_all_df.drop(emails_all_df[member_selector][emails_all_df.week_dt > end_date].index, inplace=True)\n",
      "<ipython-input-40-9df018e460c4>:10: UserWarning: Boolean Series key will be reindexed to match DataFrame index.\n",
      "  emails_all_df.drop(emails_all_df[member_selector][emails_all_df.week_dt < start_date].index,inplace=True)\n",
      "<ipython-input-40-9df018e460c4>:11: UserWarning: Boolean Series key will be reindexed to match DataFrame index.\n",
      "  emails_all_df.drop(emails_all_df[member_selector][emails_all_df.week_dt > end_date].index, inplace=True)\n",
      "<ipython-input-40-9df018e460c4>:10: UserWarning: Boolean Series key will be reindexed to match DataFrame index.\n",
      "  emails_all_df.drop(emails_all_df[member_selector][emails_all_df.week_dt < start_date].index,inplace=True)\n",
      "<ipython-input-40-9df018e460c4>:11: UserWarning: Boolean Series key will be reindexed to match DataFrame index.\n",
      "  emails_all_df.drop(emails_all_df[member_selector][emails_all_df.week_dt > end_date].index, inplace=True)\n",
      "<ipython-input-40-9df018e460c4>:10: UserWarning: Boolean Series key will be reindexed to match DataFrame index.\n",
      "  emails_all_df.drop(emails_all_df[member_selector][emails_all_df.week_dt < start_date].index,inplace=True)\n",
      "<ipython-input-40-9df018e460c4>:11: UserWarning: Boolean Series key will be reindexed to match DataFrame index.\n",
      "  emails_all_df.drop(emails_all_df[member_selector][emails_all_df.week_dt > end_date].index, inplace=True)\n",
      "<ipython-input-40-9df018e460c4>:10: UserWarning: Boolean Series key will be reindexed to match DataFrame index.\n",
      "  emails_all_df.drop(emails_all_df[member_selector][emails_all_df.week_dt < start_date].index,inplace=True)\n",
      "<ipython-input-40-9df018e460c4>:11: UserWarning: Boolean Series key will be reindexed to match DataFrame index.\n",
      "  emails_all_df.drop(emails_all_df[member_selector][emails_all_df.week_dt > end_date].index, inplace=True)\n",
      "<ipython-input-40-9df018e460c4>:10: UserWarning: Boolean Series key will be reindexed to match DataFrame index.\n",
      "  emails_all_df.drop(emails_all_df[member_selector][emails_all_df.week_dt < start_date].index,inplace=True)\n",
      "<ipython-input-40-9df018e460c4>:11: UserWarning: Boolean Series key will be reindexed to match DataFrame index.\n",
      "  emails_all_df.drop(emails_all_df[member_selector][emails_all_df.week_dt > end_date].index, inplace=True)\n",
      "<ipython-input-40-9df018e460c4>:10: UserWarning: Boolean Series key will be reindexed to match DataFrame index.\n",
      "  emails_all_df.drop(emails_all_df[member_selector][emails_all_df.week_dt < start_date].index,inplace=True)\n",
      "<ipython-input-40-9df018e460c4>:11: UserWarning: Boolean Series key will be reindexed to match DataFrame index.\n",
      "  emails_all_df.drop(emails_all_df[member_selector][emails_all_df.week_dt > end_date].index, inplace=True)\n",
      "<ipython-input-40-9df018e460c4>:10: UserWarning: Boolean Series key will be reindexed to match DataFrame index.\n",
      "  emails_all_df.drop(emails_all_df[member_selector][emails_all_df.week_dt < start_date].index,inplace=True)\n",
      "<ipython-input-40-9df018e460c4>:11: UserWarning: Boolean Series key will be reindexed to match DataFrame index.\n",
      "  emails_all_df.drop(emails_all_df[member_selector][emails_all_df.week_dt > end_date].index, inplace=True)\n",
      "<ipython-input-40-9df018e460c4>:10: UserWarning: Boolean Series key will be reindexed to match DataFrame index.\n",
      "  emails_all_df.drop(emails_all_df[member_selector][emails_all_df.week_dt < start_date].index,inplace=True)\n",
      "<ipython-input-40-9df018e460c4>:11: UserWarning: Boolean Series key will be reindexed to match DataFrame index.\n",
      "  emails_all_df.drop(emails_all_df[member_selector][emails_all_df.week_dt > end_date].index, inplace=True)\n",
      "<ipython-input-40-9df018e460c4>:10: UserWarning: Boolean Series key will be reindexed to match DataFrame index.\n",
      "  emails_all_df.drop(emails_all_df[member_selector][emails_all_df.week_dt < start_date].index,inplace=True)\n",
      "<ipython-input-40-9df018e460c4>:11: UserWarning: Boolean Series key will be reindexed to match DataFrame index.\n",
      "  emails_all_df.drop(emails_all_df[member_selector][emails_all_df.week_dt > end_date].index, inplace=True)\n",
      "<ipython-input-40-9df018e460c4>:10: UserWarning: Boolean Series key will be reindexed to match DataFrame index.\n",
      "  emails_all_df.drop(emails_all_df[member_selector][emails_all_df.week_dt < start_date].index,inplace=True)\n",
      "<ipython-input-40-9df018e460c4>:11: UserWarning: Boolean Series key will be reindexed to match DataFrame index.\n",
      "  emails_all_df.drop(emails_all_df[member_selector][emails_all_df.week_dt > end_date].index, inplace=True)\n",
      "<ipython-input-40-9df018e460c4>:10: UserWarning: Boolean Series key will be reindexed to match DataFrame index.\n",
      "  emails_all_df.drop(emails_all_df[member_selector][emails_all_df.week_dt < start_date].index,inplace=True)\n",
      "<ipython-input-40-9df018e460c4>:11: UserWarning: Boolean Series key will be reindexed to match DataFrame index.\n",
      "  emails_all_df.drop(emails_all_df[member_selector][emails_all_df.week_dt > end_date].index, inplace=True)\n",
      "<ipython-input-40-9df018e460c4>:10: UserWarning: Boolean Series key will be reindexed to match DataFrame index.\n",
      "  emails_all_df.drop(emails_all_df[member_selector][emails_all_df.week_dt < start_date].index,inplace=True)\n",
      "<ipython-input-40-9df018e460c4>:11: UserWarning: Boolean Series key will be reindexed to match DataFrame index.\n",
      "  emails_all_df.drop(emails_all_df[member_selector][emails_all_df.week_dt > end_date].index, inplace=True)\n",
      "<ipython-input-40-9df018e460c4>:10: UserWarning: Boolean Series key will be reindexed to match DataFrame index.\n",
      "  emails_all_df.drop(emails_all_df[member_selector][emails_all_df.week_dt < start_date].index,inplace=True)\n",
      "<ipython-input-40-9df018e460c4>:11: UserWarning: Boolean Series key will be reindexed to match DataFrame index.\n",
      "  emails_all_df.drop(emails_all_df[member_selector][emails_all_df.week_dt > end_date].index, inplace=True)\n",
      "<ipython-input-40-9df018e460c4>:10: UserWarning: Boolean Series key will be reindexed to match DataFrame index.\n",
      "  emails_all_df.drop(emails_all_df[member_selector][emails_all_df.week_dt < start_date].index,inplace=True)\n",
      "<ipython-input-40-9df018e460c4>:11: UserWarning: Boolean Series key will be reindexed to match DataFrame index.\n",
      "  emails_all_df.drop(emails_all_df[member_selector][emails_all_df.week_dt > end_date].index, inplace=True)\n",
      "<ipython-input-40-9df018e460c4>:10: UserWarning: Boolean Series key will be reindexed to match DataFrame index.\n",
      "  emails_all_df.drop(emails_all_df[member_selector][emails_all_df.week_dt < start_date].index,inplace=True)\n",
      "<ipython-input-40-9df018e460c4>:11: UserWarning: Boolean Series key will be reindexed to match DataFrame index.\n",
      "  emails_all_df.drop(emails_all_df[member_selector][emails_all_df.week_dt > end_date].index, inplace=True)\n",
      "<ipython-input-40-9df018e460c4>:10: UserWarning: Boolean Series key will be reindexed to match DataFrame index.\n",
      "  emails_all_df.drop(emails_all_df[member_selector][emails_all_df.week_dt < start_date].index,inplace=True)\n",
      "<ipython-input-40-9df018e460c4>:11: UserWarning: Boolean Series key will be reindexed to match DataFrame index.\n",
      "  emails_all_df.drop(emails_all_df[member_selector][emails_all_df.week_dt > end_date].index, inplace=True)\n",
      "<ipython-input-40-9df018e460c4>:10: UserWarning: Boolean Series key will be reindexed to match DataFrame index.\n",
      "  emails_all_df.drop(emails_all_df[member_selector][emails_all_df.week_dt < start_date].index,inplace=True)\n",
      "<ipython-input-40-9df018e460c4>:11: UserWarning: Boolean Series key will be reindexed to match DataFrame index.\n",
      "  emails_all_df.drop(emails_all_df[member_selector][emails_all_df.week_dt > end_date].index, inplace=True)\n",
      "<ipython-input-40-9df018e460c4>:10: UserWarning: Boolean Series key will be reindexed to match DataFrame index.\n",
      "  emails_all_df.drop(emails_all_df[member_selector][emails_all_df.week_dt < start_date].index,inplace=True)\n",
      "<ipython-input-40-9df018e460c4>:11: UserWarning: Boolean Series key will be reindexed to match DataFrame index.\n",
      "  emails_all_df.drop(emails_all_df[member_selector][emails_all_df.week_dt > end_date].index, inplace=True)\n",
      "<ipython-input-40-9df018e460c4>:10: UserWarning: Boolean Series key will be reindexed to match DataFrame index.\n",
      "  emails_all_df.drop(emails_all_df[member_selector][emails_all_df.week_dt < start_date].index,inplace=True)\n",
      "<ipython-input-40-9df018e460c4>:11: UserWarning: Boolean Series key will be reindexed to match DataFrame index.\n",
      "  emails_all_df.drop(emails_all_df[member_selector][emails_all_df.week_dt > end_date].index, inplace=True)\n",
      "<ipython-input-40-9df018e460c4>:10: UserWarning: Boolean Series key will be reindexed to match DataFrame index.\n",
      "  emails_all_df.drop(emails_all_df[member_selector][emails_all_df.week_dt < start_date].index,inplace=True)\n",
      "<ipython-input-40-9df018e460c4>:11: UserWarning: Boolean Series key will be reindexed to match DataFrame index.\n",
      "  emails_all_df.drop(emails_all_df[member_selector][emails_all_df.week_dt > end_date].index, inplace=True)\n",
      "<ipython-input-40-9df018e460c4>:10: UserWarning: Boolean Series key will be reindexed to match DataFrame index.\n",
      "  emails_all_df.drop(emails_all_df[member_selector][emails_all_df.week_dt < start_date].index,inplace=True)\n",
      "<ipython-input-40-9df018e460c4>:11: UserWarning: Boolean Series key will be reindexed to match DataFrame index.\n",
      "  emails_all_df.drop(emails_all_df[member_selector][emails_all_df.week_dt > end_date].index, inplace=True)\n",
      "<ipython-input-40-9df018e460c4>:10: UserWarning: Boolean Series key will be reindexed to match DataFrame index.\n",
      "  emails_all_df.drop(emails_all_df[member_selector][emails_all_df.week_dt < start_date].index,inplace=True)\n",
      "<ipython-input-40-9df018e460c4>:11: UserWarning: Boolean Series key will be reindexed to match DataFrame index.\n",
      "  emails_all_df.drop(emails_all_df[member_selector][emails_all_df.week_dt > end_date].index, inplace=True)\n",
      "<ipython-input-40-9df018e460c4>:10: UserWarning: Boolean Series key will be reindexed to match DataFrame index.\n",
      "  emails_all_df.drop(emails_all_df[member_selector][emails_all_df.week_dt < start_date].index,inplace=True)\n",
      "<ipython-input-40-9df018e460c4>:11: UserWarning: Boolean Series key will be reindexed to match DataFrame index.\n",
      "  emails_all_df.drop(emails_all_df[member_selector][emails_all_df.week_dt > end_date].index, inplace=True)\n",
      "<ipython-input-40-9df018e460c4>:10: UserWarning: Boolean Series key will be reindexed to match DataFrame index.\n",
      "  emails_all_df.drop(emails_all_df[member_selector][emails_all_df.week_dt < start_date].index,inplace=True)\n",
      "<ipython-input-40-9df018e460c4>:11: UserWarning: Boolean Series key will be reindexed to match DataFrame index.\n",
      "  emails_all_df.drop(emails_all_df[member_selector][emails_all_df.week_dt > end_date].index, inplace=True)\n",
      "<ipython-input-40-9df018e460c4>:10: UserWarning: Boolean Series key will be reindexed to match DataFrame index.\n",
      "  emails_all_df.drop(emails_all_df[member_selector][emails_all_df.week_dt < start_date].index,inplace=True)\n",
      "<ipython-input-40-9df018e460c4>:11: UserWarning: Boolean Series key will be reindexed to match DataFrame index.\n",
      "  emails_all_df.drop(emails_all_df[member_selector][emails_all_df.week_dt > end_date].index, inplace=True)\n",
      "<ipython-input-40-9df018e460c4>:10: UserWarning: Boolean Series key will be reindexed to match DataFrame index.\n",
      "  emails_all_df.drop(emails_all_df[member_selector][emails_all_df.week_dt < start_date].index,inplace=True)\n",
      "<ipython-input-40-9df018e460c4>:11: UserWarning: Boolean Series key will be reindexed to match DataFrame index.\n",
      "  emails_all_df.drop(emails_all_df[member_selector][emails_all_df.week_dt > end_date].index, inplace=True)\n",
      "<ipython-input-40-9df018e460c4>:10: UserWarning: Boolean Series key will be reindexed to match DataFrame index.\n",
      "  emails_all_df.drop(emails_all_df[member_selector][emails_all_df.week_dt < start_date].index,inplace=True)\n",
      "<ipython-input-40-9df018e460c4>:11: UserWarning: Boolean Series key will be reindexed to match DataFrame index.\n",
      "  emails_all_df.drop(emails_all_df[member_selector][emails_all_df.week_dt > end_date].index, inplace=True)\n",
      "<ipython-input-40-9df018e460c4>:10: UserWarning: Boolean Series key will be reindexed to match DataFrame index.\n",
      "  emails_all_df.drop(emails_all_df[member_selector][emails_all_df.week_dt < start_date].index,inplace=True)\n",
      "<ipython-input-40-9df018e460c4>:11: UserWarning: Boolean Series key will be reindexed to match DataFrame index.\n",
      "  emails_all_df.drop(emails_all_df[member_selector][emails_all_df.week_dt > end_date].index, inplace=True)\n",
      "<ipython-input-40-9df018e460c4>:10: UserWarning: Boolean Series key will be reindexed to match DataFrame index.\n",
      "  emails_all_df.drop(emails_all_df[member_selector][emails_all_df.week_dt < start_date].index,inplace=True)\n",
      "<ipython-input-40-9df018e460c4>:11: UserWarning: Boolean Series key will be reindexed to match DataFrame index.\n",
      "  emails_all_df.drop(emails_all_df[member_selector][emails_all_df.week_dt > end_date].index, inplace=True)\n",
      "<ipython-input-40-9df018e460c4>:10: UserWarning: Boolean Series key will be reindexed to match DataFrame index.\n",
      "  emails_all_df.drop(emails_all_df[member_selector][emails_all_df.week_dt < start_date].index,inplace=True)\n",
      "<ipython-input-40-9df018e460c4>:11: UserWarning: Boolean Series key will be reindexed to match DataFrame index.\n",
      "  emails_all_df.drop(emails_all_df[member_selector][emails_all_df.week_dt > end_date].index, inplace=True)\n",
      "<ipython-input-40-9df018e460c4>:10: UserWarning: Boolean Series key will be reindexed to match DataFrame index.\n",
      "  emails_all_df.drop(emails_all_df[member_selector][emails_all_df.week_dt < start_date].index,inplace=True)\n",
      "<ipython-input-40-9df018e460c4>:11: UserWarning: Boolean Series key will be reindexed to match DataFrame index.\n",
      "  emails_all_df.drop(emails_all_df[member_selector][emails_all_df.week_dt > end_date].index, inplace=True)\n",
      "<ipython-input-40-9df018e460c4>:10: UserWarning: Boolean Series key will be reindexed to match DataFrame index.\n",
      "  emails_all_df.drop(emails_all_df[member_selector][emails_all_df.week_dt < start_date].index,inplace=True)\n",
      "<ipython-input-40-9df018e460c4>:11: UserWarning: Boolean Series key will be reindexed to match DataFrame index.\n",
      "  emails_all_df.drop(emails_all_df[member_selector][emails_all_df.week_dt > end_date].index, inplace=True)\n",
      "<ipython-input-40-9df018e460c4>:10: UserWarning: Boolean Series key will be reindexed to match DataFrame index.\n",
      "  emails_all_df.drop(emails_all_df[member_selector][emails_all_df.week_dt < start_date].index,inplace=True)\n",
      "<ipython-input-40-9df018e460c4>:11: UserWarning: Boolean Series key will be reindexed to match DataFrame index.\n",
      "  emails_all_df.drop(emails_all_df[member_selector][emails_all_df.week_dt > end_date].index, inplace=True)\n",
      "<ipython-input-40-9df018e460c4>:10: UserWarning: Boolean Series key will be reindexed to match DataFrame index.\n",
      "  emails_all_df.drop(emails_all_df[member_selector][emails_all_df.week_dt < start_date].index,inplace=True)\n",
      "<ipython-input-40-9df018e460c4>:11: UserWarning: Boolean Series key will be reindexed to match DataFrame index.\n",
      "  emails_all_df.drop(emails_all_df[member_selector][emails_all_df.week_dt > end_date].index, inplace=True)\n",
      "<ipython-input-40-9df018e460c4>:10: UserWarning: Boolean Series key will be reindexed to match DataFrame index.\n",
      "  emails_all_df.drop(emails_all_df[member_selector][emails_all_df.week_dt < start_date].index,inplace=True)\n",
      "<ipython-input-40-9df018e460c4>:11: UserWarning: Boolean Series key will be reindexed to match DataFrame index.\n",
      "  emails_all_df.drop(emails_all_df[member_selector][emails_all_df.week_dt > end_date].index, inplace=True)\n",
      "<ipython-input-40-9df018e460c4>:10: UserWarning: Boolean Series key will be reindexed to match DataFrame index.\n",
      "  emails_all_df.drop(emails_all_df[member_selector][emails_all_df.week_dt < start_date].index,inplace=True)\n",
      "<ipython-input-40-9df018e460c4>:11: UserWarning: Boolean Series key will be reindexed to match DataFrame index.\n",
      "  emails_all_df.drop(emails_all_df[member_selector][emails_all_df.week_dt > end_date].index, inplace=True)\n",
      "<ipython-input-40-9df018e460c4>:10: UserWarning: Boolean Series key will be reindexed to match DataFrame index.\n",
      "  emails_all_df.drop(emails_all_df[member_selector][emails_all_df.week_dt < start_date].index,inplace=True)\n",
      "<ipython-input-40-9df018e460c4>:11: UserWarning: Boolean Series key will be reindexed to match DataFrame index.\n",
      "  emails_all_df.drop(emails_all_df[member_selector][emails_all_df.week_dt > end_date].index, inplace=True)\n",
      "<ipython-input-40-9df018e460c4>:10: UserWarning: Boolean Series key will be reindexed to match DataFrame index.\n",
      "  emails_all_df.drop(emails_all_df[member_selector][emails_all_df.week_dt < start_date].index,inplace=True)\n",
      "<ipython-input-40-9df018e460c4>:11: UserWarning: Boolean Series key will be reindexed to match DataFrame index.\n",
      "  emails_all_df.drop(emails_all_df[member_selector][emails_all_df.week_dt > end_date].index, inplace=True)\n",
      "<ipython-input-40-9df018e460c4>:10: UserWarning: Boolean Series key will be reindexed to match DataFrame index.\n",
      "  emails_all_df.drop(emails_all_df[member_selector][emails_all_df.week_dt < start_date].index,inplace=True)\n",
      "<ipython-input-40-9df018e460c4>:11: UserWarning: Boolean Series key will be reindexed to match DataFrame index.\n",
      "  emails_all_df.drop(emails_all_df[member_selector][emails_all_df.week_dt > end_date].index, inplace=True)\n",
      "<ipython-input-40-9df018e460c4>:10: UserWarning: Boolean Series key will be reindexed to match DataFrame index.\n",
      "  emails_all_df.drop(emails_all_df[member_selector][emails_all_df.week_dt < start_date].index,inplace=True)\n",
      "<ipython-input-40-9df018e460c4>:11: UserWarning: Boolean Series key will be reindexed to match DataFrame index.\n",
      "  emails_all_df.drop(emails_all_df[member_selector][emails_all_df.week_dt > end_date].index, inplace=True)\n",
      "<ipython-input-40-9df018e460c4>:10: UserWarning: Boolean Series key will be reindexed to match DataFrame index.\n",
      "  emails_all_df.drop(emails_all_df[member_selector][emails_all_df.week_dt < start_date].index,inplace=True)\n",
      "<ipython-input-40-9df018e460c4>:11: UserWarning: Boolean Series key will be reindexed to match DataFrame index.\n",
      "  emails_all_df.drop(emails_all_df[member_selector][emails_all_df.week_dt > end_date].index, inplace=True)\n",
      "<ipython-input-40-9df018e460c4>:10: UserWarning: Boolean Series key will be reindexed to match DataFrame index.\n",
      "  emails_all_df.drop(emails_all_df[member_selector][emails_all_df.week_dt < start_date].index,inplace=True)\n",
      "<ipython-input-40-9df018e460c4>:11: UserWarning: Boolean Series key will be reindexed to match DataFrame index.\n",
      "  emails_all_df.drop(emails_all_df[member_selector][emails_all_df.week_dt > end_date].index, inplace=True)\n",
      "<ipython-input-40-9df018e460c4>:10: UserWarning: Boolean Series key will be reindexed to match DataFrame index.\n",
      "  emails_all_df.drop(emails_all_df[member_selector][emails_all_df.week_dt < start_date].index,inplace=True)\n",
      "<ipython-input-40-9df018e460c4>:11: UserWarning: Boolean Series key will be reindexed to match DataFrame index.\n",
      "  emails_all_df.drop(emails_all_df[member_selector][emails_all_df.week_dt > end_date].index, inplace=True)\n",
      "<ipython-input-40-9df018e460c4>:10: UserWarning: Boolean Series key will be reindexed to match DataFrame index.\n",
      "  emails_all_df.drop(emails_all_df[member_selector][emails_all_df.week_dt < start_date].index,inplace=True)\n",
      "<ipython-input-40-9df018e460c4>:11: UserWarning: Boolean Series key will be reindexed to match DataFrame index.\n",
      "  emails_all_df.drop(emails_all_df[member_selector][emails_all_df.week_dt > end_date].index, inplace=True)\n",
      "<ipython-input-40-9df018e460c4>:10: UserWarning: Boolean Series key will be reindexed to match DataFrame index.\n",
      "  emails_all_df.drop(emails_all_df[member_selector][emails_all_df.week_dt < start_date].index,inplace=True)\n",
      "<ipython-input-40-9df018e460c4>:11: UserWarning: Boolean Series key will be reindexed to match DataFrame index.\n",
      "  emails_all_df.drop(emails_all_df[member_selector][emails_all_df.week_dt > end_date].index, inplace=True)\n",
      "<ipython-input-40-9df018e460c4>:10: UserWarning: Boolean Series key will be reindexed to match DataFrame index.\n",
      "  emails_all_df.drop(emails_all_df[member_selector][emails_all_df.week_dt < start_date].index,inplace=True)\n",
      "<ipython-input-40-9df018e460c4>:11: UserWarning: Boolean Series key will be reindexed to match DataFrame index.\n",
      "  emails_all_df.drop(emails_all_df[member_selector][emails_all_df.week_dt > end_date].index, inplace=True)\n",
      "<ipython-input-40-9df018e460c4>:10: UserWarning: Boolean Series key will be reindexed to match DataFrame index.\n",
      "  emails_all_df.drop(emails_all_df[member_selector][emails_all_df.week_dt < start_date].index,inplace=True)\n",
      "<ipython-input-40-9df018e460c4>:11: UserWarning: Boolean Series key will be reindexed to match DataFrame index.\n",
      "  emails_all_df.drop(emails_all_df[member_selector][emails_all_df.week_dt > end_date].index, inplace=True)\n",
      "<ipython-input-40-9df018e460c4>:10: UserWarning: Boolean Series key will be reindexed to match DataFrame index.\n",
      "  emails_all_df.drop(emails_all_df[member_selector][emails_all_df.week_dt < start_date].index,inplace=True)\n",
      "<ipython-input-40-9df018e460c4>:11: UserWarning: Boolean Series key will be reindexed to match DataFrame index.\n",
      "  emails_all_df.drop(emails_all_df[member_selector][emails_all_df.week_dt > end_date].index, inplace=True)\n",
      "<ipython-input-40-9df018e460c4>:10: UserWarning: Boolean Series key will be reindexed to match DataFrame index.\n",
      "  emails_all_df.drop(emails_all_df[member_selector][emails_all_df.week_dt < start_date].index,inplace=True)\n",
      "<ipython-input-40-9df018e460c4>:11: UserWarning: Boolean Series key will be reindexed to match DataFrame index.\n",
      "  emails_all_df.drop(emails_all_df[member_selector][emails_all_df.week_dt > end_date].index, inplace=True)\n",
      "<ipython-input-40-9df018e460c4>:10: UserWarning: Boolean Series key will be reindexed to match DataFrame index.\n",
      "  emails_all_df.drop(emails_all_df[member_selector][emails_all_df.week_dt < start_date].index,inplace=True)\n",
      "<ipython-input-40-9df018e460c4>:11: UserWarning: Boolean Series key will be reindexed to match DataFrame index.\n",
      "  emails_all_df.drop(emails_all_df[member_selector][emails_all_df.week_dt > end_date].index, inplace=True)\n",
      "<ipython-input-40-9df018e460c4>:10: UserWarning: Boolean Series key will be reindexed to match DataFrame index.\n",
      "  emails_all_df.drop(emails_all_df[member_selector][emails_all_df.week_dt < start_date].index,inplace=True)\n",
      "<ipython-input-40-9df018e460c4>:11: UserWarning: Boolean Series key will be reindexed to match DataFrame index.\n",
      "  emails_all_df.drop(emails_all_df[member_selector][emails_all_df.week_dt > end_date].index, inplace=True)\n",
      "<ipython-input-40-9df018e460c4>:10: UserWarning: Boolean Series key will be reindexed to match DataFrame index.\n",
      "  emails_all_df.drop(emails_all_df[member_selector][emails_all_df.week_dt < start_date].index,inplace=True)\n",
      "<ipython-input-40-9df018e460c4>:11: UserWarning: Boolean Series key will be reindexed to match DataFrame index.\n",
      "  emails_all_df.drop(emails_all_df[member_selector][emails_all_df.week_dt > end_date].index, inplace=True)\n",
      "<ipython-input-40-9df018e460c4>:10: UserWarning: Boolean Series key will be reindexed to match DataFrame index.\n",
      "  emails_all_df.drop(emails_all_df[member_selector][emails_all_df.week_dt < start_date].index,inplace=True)\n",
      "<ipython-input-40-9df018e460c4>:11: UserWarning: Boolean Series key will be reindexed to match DataFrame index.\n",
      "  emails_all_df.drop(emails_all_df[member_selector][emails_all_df.week_dt > end_date].index, inplace=True)\n",
      "<ipython-input-40-9df018e460c4>:10: UserWarning: Boolean Series key will be reindexed to match DataFrame index.\n",
      "  emails_all_df.drop(emails_all_df[member_selector][emails_all_df.week_dt < start_date].index,inplace=True)\n",
      "<ipython-input-40-9df018e460c4>:11: UserWarning: Boolean Series key will be reindexed to match DataFrame index.\n",
      "  emails_all_df.drop(emails_all_df[member_selector][emails_all_df.week_dt > end_date].index, inplace=True)\n",
      "<ipython-input-40-9df018e460c4>:10: UserWarning: Boolean Series key will be reindexed to match DataFrame index.\n",
      "  emails_all_df.drop(emails_all_df[member_selector][emails_all_df.week_dt < start_date].index,inplace=True)\n",
      "<ipython-input-40-9df018e460c4>:11: UserWarning: Boolean Series key will be reindexed to match DataFrame index.\n",
      "  emails_all_df.drop(emails_all_df[member_selector][emails_all_df.week_dt > end_date].index, inplace=True)\n",
      "<ipython-input-40-9df018e460c4>:10: UserWarning: Boolean Series key will be reindexed to match DataFrame index.\n",
      "  emails_all_df.drop(emails_all_df[member_selector][emails_all_df.week_dt < start_date].index,inplace=True)\n",
      "<ipython-input-40-9df018e460c4>:11: UserWarning: Boolean Series key will be reindexed to match DataFrame index.\n",
      "  emails_all_df.drop(emails_all_df[member_selector][emails_all_df.week_dt > end_date].index, inplace=True)\n",
      "<ipython-input-40-9df018e460c4>:10: UserWarning: Boolean Series key will be reindexed to match DataFrame index.\n",
      "  emails_all_df.drop(emails_all_df[member_selector][emails_all_df.week_dt < start_date].index,inplace=True)\n",
      "<ipython-input-40-9df018e460c4>:11: UserWarning: Boolean Series key will be reindexed to match DataFrame index.\n",
      "  emails_all_df.drop(emails_all_df[member_selector][emails_all_df.week_dt > end_date].index, inplace=True)\n",
      "<ipython-input-40-9df018e460c4>:10: UserWarning: Boolean Series key will be reindexed to match DataFrame index.\n",
      "  emails_all_df.drop(emails_all_df[member_selector][emails_all_df.week_dt < start_date].index,inplace=True)\n",
      "<ipython-input-40-9df018e460c4>:11: UserWarning: Boolean Series key will be reindexed to match DataFrame index.\n",
      "  emails_all_df.drop(emails_all_df[member_selector][emails_all_df.week_dt > end_date].index, inplace=True)\n",
      "<ipython-input-40-9df018e460c4>:10: UserWarning: Boolean Series key will be reindexed to match DataFrame index.\n",
      "  emails_all_df.drop(emails_all_df[member_selector][emails_all_df.week_dt < start_date].index,inplace=True)\n",
      "<ipython-input-40-9df018e460c4>:11: UserWarning: Boolean Series key will be reindexed to match DataFrame index.\n",
      "  emails_all_df.drop(emails_all_df[member_selector][emails_all_df.week_dt > end_date].index, inplace=True)\n",
      "<ipython-input-40-9df018e460c4>:10: UserWarning: Boolean Series key will be reindexed to match DataFrame index.\n",
      "  emails_all_df.drop(emails_all_df[member_selector][emails_all_df.week_dt < start_date].index,inplace=True)\n",
      "<ipython-input-40-9df018e460c4>:11: UserWarning: Boolean Series key will be reindexed to match DataFrame index.\n",
      "  emails_all_df.drop(emails_all_df[member_selector][emails_all_df.week_dt > end_date].index, inplace=True)\n",
      "<ipython-input-40-9df018e460c4>:10: UserWarning: Boolean Series key will be reindexed to match DataFrame index.\n",
      "  emails_all_df.drop(emails_all_df[member_selector][emails_all_df.week_dt < start_date].index,inplace=True)\n",
      "<ipython-input-40-9df018e460c4>:11: UserWarning: Boolean Series key will be reindexed to match DataFrame index.\n",
      "  emails_all_df.drop(emails_all_df[member_selector][emails_all_df.week_dt > end_date].index, inplace=True)\n",
      "<ipython-input-40-9df018e460c4>:10: UserWarning: Boolean Series key will be reindexed to match DataFrame index.\n",
      "  emails_all_df.drop(emails_all_df[member_selector][emails_all_df.week_dt < start_date].index,inplace=True)\n",
      "<ipython-input-40-9df018e460c4>:11: UserWarning: Boolean Series key will be reindexed to match DataFrame index.\n",
      "  emails_all_df.drop(emails_all_df[member_selector][emails_all_df.week_dt > end_date].index, inplace=True)\n",
      "<ipython-input-40-9df018e460c4>:10: UserWarning: Boolean Series key will be reindexed to match DataFrame index.\n",
      "  emails_all_df.drop(emails_all_df[member_selector][emails_all_df.week_dt < start_date].index,inplace=True)\n",
      "<ipython-input-40-9df018e460c4>:11: UserWarning: Boolean Series key will be reindexed to match DataFrame index.\n",
      "  emails_all_df.drop(emails_all_df[member_selector][emails_all_df.week_dt > end_date].index, inplace=True)\n",
      "<ipython-input-40-9df018e460c4>:10: UserWarning: Boolean Series key will be reindexed to match DataFrame index.\n",
      "  emails_all_df.drop(emails_all_df[member_selector][emails_all_df.week_dt < start_date].index,inplace=True)\n",
      "<ipython-input-40-9df018e460c4>:11: UserWarning: Boolean Series key will be reindexed to match DataFrame index.\n",
      "  emails_all_df.drop(emails_all_df[member_selector][emails_all_df.week_dt > end_date].index, inplace=True)\n",
      "<ipython-input-40-9df018e460c4>:10: UserWarning: Boolean Series key will be reindexed to match DataFrame index.\n",
      "  emails_all_df.drop(emails_all_df[member_selector][emails_all_df.week_dt < start_date].index,inplace=True)\n",
      "<ipython-input-40-9df018e460c4>:11: UserWarning: Boolean Series key will be reindexed to match DataFrame index.\n",
      "  emails_all_df.drop(emails_all_df[member_selector][emails_all_df.week_dt > end_date].index, inplace=True)\n",
      "<ipython-input-40-9df018e460c4>:10: UserWarning: Boolean Series key will be reindexed to match DataFrame index.\n",
      "  emails_all_df.drop(emails_all_df[member_selector][emails_all_df.week_dt < start_date].index,inplace=True)\n",
      "<ipython-input-40-9df018e460c4>:11: UserWarning: Boolean Series key will be reindexed to match DataFrame index.\n",
      "  emails_all_df.drop(emails_all_df[member_selector][emails_all_df.week_dt > end_date].index, inplace=True)\n",
      "<ipython-input-40-9df018e460c4>:10: UserWarning: Boolean Series key will be reindexed to match DataFrame index.\n",
      "  emails_all_df.drop(emails_all_df[member_selector][emails_all_df.week_dt < start_date].index,inplace=True)\n",
      "<ipython-input-40-9df018e460c4>:11: UserWarning: Boolean Series key will be reindexed to match DataFrame index.\n",
      "  emails_all_df.drop(emails_all_df[member_selector][emails_all_df.week_dt > end_date].index, inplace=True)\n",
      "<ipython-input-40-9df018e460c4>:10: UserWarning: Boolean Series key will be reindexed to match DataFrame index.\n",
      "  emails_all_df.drop(emails_all_df[member_selector][emails_all_df.week_dt < start_date].index,inplace=True)\n",
      "<ipython-input-40-9df018e460c4>:11: UserWarning: Boolean Series key will be reindexed to match DataFrame index.\n",
      "  emails_all_df.drop(emails_all_df[member_selector][emails_all_df.week_dt > end_date].index, inplace=True)\n",
      "<ipython-input-40-9df018e460c4>:10: UserWarning: Boolean Series key will be reindexed to match DataFrame index.\n",
      "  emails_all_df.drop(emails_all_df[member_selector][emails_all_df.week_dt < start_date].index,inplace=True)\n",
      "<ipython-input-40-9df018e460c4>:11: UserWarning: Boolean Series key will be reindexed to match DataFrame index.\n",
      "  emails_all_df.drop(emails_all_df[member_selector][emails_all_df.week_dt > end_date].index, inplace=True)\n",
      "<ipython-input-40-9df018e460c4>:10: UserWarning: Boolean Series key will be reindexed to match DataFrame index.\n",
      "  emails_all_df.drop(emails_all_df[member_selector][emails_all_df.week_dt < start_date].index,inplace=True)\n",
      "<ipython-input-40-9df018e460c4>:11: UserWarning: Boolean Series key will be reindexed to match DataFrame index.\n",
      "  emails_all_df.drop(emails_all_df[member_selector][emails_all_df.week_dt > end_date].index, inplace=True)\n",
      "<ipython-input-40-9df018e460c4>:10: UserWarning: Boolean Series key will be reindexed to match DataFrame index.\n",
      "  emails_all_df.drop(emails_all_df[member_selector][emails_all_df.week_dt < start_date].index,inplace=True)\n",
      "<ipython-input-40-9df018e460c4>:11: UserWarning: Boolean Series key will be reindexed to match DataFrame index.\n",
      "  emails_all_df.drop(emails_all_df[member_selector][emails_all_df.week_dt > end_date].index, inplace=True)\n",
      "<ipython-input-40-9df018e460c4>:10: UserWarning: Boolean Series key will be reindexed to match DataFrame index.\n",
      "  emails_all_df.drop(emails_all_df[member_selector][emails_all_df.week_dt < start_date].index,inplace=True)\n",
      "<ipython-input-40-9df018e460c4>:11: UserWarning: Boolean Series key will be reindexed to match DataFrame index.\n",
      "  emails_all_df.drop(emails_all_df[member_selector][emails_all_df.week_dt > end_date].index, inplace=True)\n",
      "<ipython-input-40-9df018e460c4>:10: UserWarning: Boolean Series key will be reindexed to match DataFrame index.\n",
      "  emails_all_df.drop(emails_all_df[member_selector][emails_all_df.week_dt < start_date].index,inplace=True)\n",
      "<ipython-input-40-9df018e460c4>:11: UserWarning: Boolean Series key will be reindexed to match DataFrame index.\n",
      "  emails_all_df.drop(emails_all_df[member_selector][emails_all_df.week_dt > end_date].index, inplace=True)\n",
      "<ipython-input-40-9df018e460c4>:10: UserWarning: Boolean Series key will be reindexed to match DataFrame index.\n",
      "  emails_all_df.drop(emails_all_df[member_selector][emails_all_df.week_dt < start_date].index,inplace=True)\n",
      "<ipython-input-40-9df018e460c4>:11: UserWarning: Boolean Series key will be reindexed to match DataFrame index.\n",
      "  emails_all_df.drop(emails_all_df[member_selector][emails_all_df.week_dt > end_date].index, inplace=True)\n",
      "<ipython-input-40-9df018e460c4>:10: UserWarning: Boolean Series key will be reindexed to match DataFrame index.\n",
      "  emails_all_df.drop(emails_all_df[member_selector][emails_all_df.week_dt < start_date].index,inplace=True)\n",
      "<ipython-input-40-9df018e460c4>:11: UserWarning: Boolean Series key will be reindexed to match DataFrame index.\n",
      "  emails_all_df.drop(emails_all_df[member_selector][emails_all_df.week_dt > end_date].index, inplace=True)\n",
      "<ipython-input-40-9df018e460c4>:10: UserWarning: Boolean Series key will be reindexed to match DataFrame index.\n",
      "  emails_all_df.drop(emails_all_df[member_selector][emails_all_df.week_dt < start_date].index,inplace=True)\n",
      "<ipython-input-40-9df018e460c4>:11: UserWarning: Boolean Series key will be reindexed to match DataFrame index.\n",
      "  emails_all_df.drop(emails_all_df[member_selector][emails_all_df.week_dt > end_date].index, inplace=True)\n",
      "<ipython-input-40-9df018e460c4>:10: UserWarning: Boolean Series key will be reindexed to match DataFrame index.\n",
      "  emails_all_df.drop(emails_all_df[member_selector][emails_all_df.week_dt < start_date].index,inplace=True)\n",
      "<ipython-input-40-9df018e460c4>:11: UserWarning: Boolean Series key will be reindexed to match DataFrame index.\n",
      "  emails_all_df.drop(emails_all_df[member_selector][emails_all_df.week_dt > end_date].index, inplace=True)\n",
      "<ipython-input-40-9df018e460c4>:10: UserWarning: Boolean Series key will be reindexed to match DataFrame index.\n",
      "  emails_all_df.drop(emails_all_df[member_selector][emails_all_df.week_dt < start_date].index,inplace=True)\n",
      "<ipython-input-40-9df018e460c4>:11: UserWarning: Boolean Series key will be reindexed to match DataFrame index.\n",
      "  emails_all_df.drop(emails_all_df[member_selector][emails_all_df.week_dt > end_date].index, inplace=True)\n",
      "<ipython-input-40-9df018e460c4>:10: UserWarning: Boolean Series key will be reindexed to match DataFrame index.\n",
      "  emails_all_df.drop(emails_all_df[member_selector][emails_all_df.week_dt < start_date].index,inplace=True)\n",
      "<ipython-input-40-9df018e460c4>:11: UserWarning: Boolean Series key will be reindexed to match DataFrame index.\n",
      "  emails_all_df.drop(emails_all_df[member_selector][emails_all_df.week_dt > end_date].index, inplace=True)\n",
      "<ipython-input-40-9df018e460c4>:10: UserWarning: Boolean Series key will be reindexed to match DataFrame index.\n",
      "  emails_all_df.drop(emails_all_df[member_selector][emails_all_df.week_dt < start_date].index,inplace=True)\n",
      "<ipython-input-40-9df018e460c4>:11: UserWarning: Boolean Series key will be reindexed to match DataFrame index.\n",
      "  emails_all_df.drop(emails_all_df[member_selector][emails_all_df.week_dt > end_date].index, inplace=True)\n",
      "<ipython-input-40-9df018e460c4>:10: UserWarning: Boolean Series key will be reindexed to match DataFrame index.\n",
      "  emails_all_df.drop(emails_all_df[member_selector][emails_all_df.week_dt < start_date].index,inplace=True)\n",
      "<ipython-input-40-9df018e460c4>:11: UserWarning: Boolean Series key will be reindexed to match DataFrame index.\n",
      "  emails_all_df.drop(emails_all_df[member_selector][emails_all_df.week_dt > end_date].index, inplace=True)\n",
      "<ipython-input-40-9df018e460c4>:10: UserWarning: Boolean Series key will be reindexed to match DataFrame index.\n",
      "  emails_all_df.drop(emails_all_df[member_selector][emails_all_df.week_dt < start_date].index,inplace=True)\n",
      "<ipython-input-40-9df018e460c4>:11: UserWarning: Boolean Series key will be reindexed to match DataFrame index.\n",
      "  emails_all_df.drop(emails_all_df[member_selector][emails_all_df.week_dt > end_date].index, inplace=True)\n",
      "<ipython-input-40-9df018e460c4>:10: UserWarning: Boolean Series key will be reindexed to match DataFrame index.\n",
      "  emails_all_df.drop(emails_all_df[member_selector][emails_all_df.week_dt < start_date].index,inplace=True)\n",
      "<ipython-input-40-9df018e460c4>:11: UserWarning: Boolean Series key will be reindexed to match DataFrame index.\n",
      "  emails_all_df.drop(emails_all_df[member_selector][emails_all_df.week_dt > end_date].index, inplace=True)\n",
      "<ipython-input-40-9df018e460c4>:10: UserWarning: Boolean Series key will be reindexed to match DataFrame index.\n",
      "  emails_all_df.drop(emails_all_df[member_selector][emails_all_df.week_dt < start_date].index,inplace=True)\n",
      "<ipython-input-40-9df018e460c4>:11: UserWarning: Boolean Series key will be reindexed to match DataFrame index.\n",
      "  emails_all_df.drop(emails_all_df[member_selector][emails_all_df.week_dt > end_date].index, inplace=True)\n",
      "<ipython-input-40-9df018e460c4>:10: UserWarning: Boolean Series key will be reindexed to match DataFrame index.\n",
      "  emails_all_df.drop(emails_all_df[member_selector][emails_all_df.week_dt < start_date].index,inplace=True)\n",
      "<ipython-input-40-9df018e460c4>:11: UserWarning: Boolean Series key will be reindexed to match DataFrame index.\n",
      "  emails_all_df.drop(emails_all_df[member_selector][emails_all_df.week_dt > end_date].index, inplace=True)\n",
      "<ipython-input-40-9df018e460c4>:10: UserWarning: Boolean Series key will be reindexed to match DataFrame index.\n",
      "  emails_all_df.drop(emails_all_df[member_selector][emails_all_df.week_dt < start_date].index,inplace=True)\n",
      "<ipython-input-40-9df018e460c4>:11: UserWarning: Boolean Series key will be reindexed to match DataFrame index.\n",
      "  emails_all_df.drop(emails_all_df[member_selector][emails_all_df.week_dt > end_date].index, inplace=True)\n",
      "<ipython-input-40-9df018e460c4>:10: UserWarning: Boolean Series key will be reindexed to match DataFrame index.\n",
      "  emails_all_df.drop(emails_all_df[member_selector][emails_all_df.week_dt < start_date].index,inplace=True)\n",
      "<ipython-input-40-9df018e460c4>:11: UserWarning: Boolean Series key will be reindexed to match DataFrame index.\n",
      "  emails_all_df.drop(emails_all_df[member_selector][emails_all_df.week_dt > end_date].index, inplace=True)\n",
      "<ipython-input-40-9df018e460c4>:10: UserWarning: Boolean Series key will be reindexed to match DataFrame index.\n",
      "  emails_all_df.drop(emails_all_df[member_selector][emails_all_df.week_dt < start_date].index,inplace=True)\n",
      "<ipython-input-40-9df018e460c4>:11: UserWarning: Boolean Series key will be reindexed to match DataFrame index.\n",
      "  emails_all_df.drop(emails_all_df[member_selector][emails_all_df.week_dt > end_date].index, inplace=True)\n",
      "<ipython-input-40-9df018e460c4>:10: UserWarning: Boolean Series key will be reindexed to match DataFrame index.\n",
      "  emails_all_df.drop(emails_all_df[member_selector][emails_all_df.week_dt < start_date].index,inplace=True)\n",
      "<ipython-input-40-9df018e460c4>:11: UserWarning: Boolean Series key will be reindexed to match DataFrame index.\n",
      "  emails_all_df.drop(emails_all_df[member_selector][emails_all_df.week_dt > end_date].index, inplace=True)\n",
      "<ipython-input-40-9df018e460c4>:10: UserWarning: Boolean Series key will be reindexed to match DataFrame index.\n",
      "  emails_all_df.drop(emails_all_df[member_selector][emails_all_df.week_dt < start_date].index,inplace=True)\n",
      "<ipython-input-40-9df018e460c4>:11: UserWarning: Boolean Series key will be reindexed to match DataFrame index.\n",
      "  emails_all_df.drop(emails_all_df[member_selector][emails_all_df.week_dt > end_date].index, inplace=True)\n",
      "<ipython-input-40-9df018e460c4>:10: UserWarning: Boolean Series key will be reindexed to match DataFrame index.\n",
      "  emails_all_df.drop(emails_all_df[member_selector][emails_all_df.week_dt < start_date].index,inplace=True)\n",
      "<ipython-input-40-9df018e460c4>:11: UserWarning: Boolean Series key will be reindexed to match DataFrame index.\n",
      "  emails_all_df.drop(emails_all_df[member_selector][emails_all_df.week_dt > end_date].index, inplace=True)\n",
      "<ipython-input-40-9df018e460c4>:10: UserWarning: Boolean Series key will be reindexed to match DataFrame index.\n",
      "  emails_all_df.drop(emails_all_df[member_selector][emails_all_df.week_dt < start_date].index,inplace=True)\n",
      "<ipython-input-40-9df018e460c4>:11: UserWarning: Boolean Series key will be reindexed to match DataFrame index.\n",
      "  emails_all_df.drop(emails_all_df[member_selector][emails_all_df.week_dt > end_date].index, inplace=True)\n",
      "<ipython-input-40-9df018e460c4>:10: UserWarning: Boolean Series key will be reindexed to match DataFrame index.\n",
      "  emails_all_df.drop(emails_all_df[member_selector][emails_all_df.week_dt < start_date].index,inplace=True)\n",
      "<ipython-input-40-9df018e460c4>:11: UserWarning: Boolean Series key will be reindexed to match DataFrame index.\n",
      "  emails_all_df.drop(emails_all_df[member_selector][emails_all_df.week_dt > end_date].index, inplace=True)\n",
      "<ipython-input-40-9df018e460c4>:10: UserWarning: Boolean Series key will be reindexed to match DataFrame index.\n",
      "  emails_all_df.drop(emails_all_df[member_selector][emails_all_df.week_dt < start_date].index,inplace=True)\n",
      "<ipython-input-40-9df018e460c4>:11: UserWarning: Boolean Series key will be reindexed to match DataFrame index.\n",
      "  emails_all_df.drop(emails_all_df[member_selector][emails_all_df.week_dt > end_date].index, inplace=True)\n",
      "<ipython-input-40-9df018e460c4>:10: UserWarning: Boolean Series key will be reindexed to match DataFrame index.\n",
      "  emails_all_df.drop(emails_all_df[member_selector][emails_all_df.week_dt < start_date].index,inplace=True)\n",
      "<ipython-input-40-9df018e460c4>:11: UserWarning: Boolean Series key will be reindexed to match DataFrame index.\n",
      "  emails_all_df.drop(emails_all_df[member_selector][emails_all_df.week_dt > end_date].index, inplace=True)\n",
      "<ipython-input-40-9df018e460c4>:10: UserWarning: Boolean Series key will be reindexed to match DataFrame index.\n",
      "  emails_all_df.drop(emails_all_df[member_selector][emails_all_df.week_dt < start_date].index,inplace=True)\n",
      "<ipython-input-40-9df018e460c4>:11: UserWarning: Boolean Series key will be reindexed to match DataFrame index.\n",
      "  emails_all_df.drop(emails_all_df[member_selector][emails_all_df.week_dt > end_date].index, inplace=True)\n",
      "<ipython-input-40-9df018e460c4>:10: UserWarning: Boolean Series key will be reindexed to match DataFrame index.\n",
      "  emails_all_df.drop(emails_all_df[member_selector][emails_all_df.week_dt < start_date].index,inplace=True)\n",
      "<ipython-input-40-9df018e460c4>:11: UserWarning: Boolean Series key will be reindexed to match DataFrame index.\n",
      "  emails_all_df.drop(emails_all_df[member_selector][emails_all_df.week_dt > end_date].index, inplace=True)\n",
      "<ipython-input-40-9df018e460c4>:10: UserWarning: Boolean Series key will be reindexed to match DataFrame index.\n",
      "  emails_all_df.drop(emails_all_df[member_selector][emails_all_df.week_dt < start_date].index,inplace=True)\n",
      "<ipython-input-40-9df018e460c4>:11: UserWarning: Boolean Series key will be reindexed to match DataFrame index.\n",
      "  emails_all_df.drop(emails_all_df[member_selector][emails_all_df.week_dt > end_date].index, inplace=True)\n",
      "<ipython-input-40-9df018e460c4>:10: UserWarning: Boolean Series key will be reindexed to match DataFrame index.\n",
      "  emails_all_df.drop(emails_all_df[member_selector][emails_all_df.week_dt < start_date].index,inplace=True)\n",
      "<ipython-input-40-9df018e460c4>:11: UserWarning: Boolean Series key will be reindexed to match DataFrame index.\n",
      "  emails_all_df.drop(emails_all_df[member_selector][emails_all_df.week_dt > end_date].index, inplace=True)\n",
      "<ipython-input-40-9df018e460c4>:10: UserWarning: Boolean Series key will be reindexed to match DataFrame index.\n",
      "  emails_all_df.drop(emails_all_df[member_selector][emails_all_df.week_dt < start_date].index,inplace=True)\n",
      "<ipython-input-40-9df018e460c4>:11: UserWarning: Boolean Series key will be reindexed to match DataFrame index.\n",
      "  emails_all_df.drop(emails_all_df[member_selector][emails_all_df.week_dt > end_date].index, inplace=True)\n",
      "<ipython-input-40-9df018e460c4>:10: UserWarning: Boolean Series key will be reindexed to match DataFrame index.\n",
      "  emails_all_df.drop(emails_all_df[member_selector][emails_all_df.week_dt < start_date].index,inplace=True)\n",
      "<ipython-input-40-9df018e460c4>:11: UserWarning: Boolean Series key will be reindexed to match DataFrame index.\n",
      "  emails_all_df.drop(emails_all_df[member_selector][emails_all_df.week_dt > end_date].index, inplace=True)\n",
      "<ipython-input-40-9df018e460c4>:10: UserWarning: Boolean Series key will be reindexed to match DataFrame index.\n",
      "  emails_all_df.drop(emails_all_df[member_selector][emails_all_df.week_dt < start_date].index,inplace=True)\n",
      "<ipython-input-40-9df018e460c4>:11: UserWarning: Boolean Series key will be reindexed to match DataFrame index.\n",
      "  emails_all_df.drop(emails_all_df[member_selector][emails_all_df.week_dt > end_date].index, inplace=True)\n",
      "<ipython-input-40-9df018e460c4>:10: UserWarning: Boolean Series key will be reindexed to match DataFrame index.\n",
      "  emails_all_df.drop(emails_all_df[member_selector][emails_all_df.week_dt < start_date].index,inplace=True)\n",
      "<ipython-input-40-9df018e460c4>:11: UserWarning: Boolean Series key will be reindexed to match DataFrame index.\n",
      "  emails_all_df.drop(emails_all_df[member_selector][emails_all_df.week_dt > end_date].index, inplace=True)\n",
      "<ipython-input-40-9df018e460c4>:10: UserWarning: Boolean Series key will be reindexed to match DataFrame index.\n",
      "  emails_all_df.drop(emails_all_df[member_selector][emails_all_df.week_dt < start_date].index,inplace=True)\n",
      "<ipython-input-40-9df018e460c4>:11: UserWarning: Boolean Series key will be reindexed to match DataFrame index.\n",
      "  emails_all_df.drop(emails_all_df[member_selector][emails_all_df.week_dt > end_date].index, inplace=True)\n",
      "<ipython-input-40-9df018e460c4>:10: UserWarning: Boolean Series key will be reindexed to match DataFrame index.\n",
      "  emails_all_df.drop(emails_all_df[member_selector][emails_all_df.week_dt < start_date].index,inplace=True)\n",
      "<ipython-input-40-9df018e460c4>:11: UserWarning: Boolean Series key will be reindexed to match DataFrame index.\n",
      "  emails_all_df.drop(emails_all_df[member_selector][emails_all_df.week_dt > end_date].index, inplace=True)\n",
      "<ipython-input-40-9df018e460c4>:10: UserWarning: Boolean Series key will be reindexed to match DataFrame index.\n",
      "  emails_all_df.drop(emails_all_df[member_selector][emails_all_df.week_dt < start_date].index,inplace=True)\n",
      "<ipython-input-40-9df018e460c4>:11: UserWarning: Boolean Series key will be reindexed to match DataFrame index.\n",
      "  emails_all_df.drop(emails_all_df[member_selector][emails_all_df.week_dt > end_date].index, inplace=True)\n",
      "<ipython-input-40-9df018e460c4>:10: UserWarning: Boolean Series key will be reindexed to match DataFrame index.\n",
      "  emails_all_df.drop(emails_all_df[member_selector][emails_all_df.week_dt < start_date].index,inplace=True)\n",
      "<ipython-input-40-9df018e460c4>:11: UserWarning: Boolean Series key will be reindexed to match DataFrame index.\n",
      "  emails_all_df.drop(emails_all_df[member_selector][emails_all_df.week_dt > end_date].index, inplace=True)\n",
      "<ipython-input-40-9df018e460c4>:10: UserWarning: Boolean Series key will be reindexed to match DataFrame index.\n",
      "  emails_all_df.drop(emails_all_df[member_selector][emails_all_df.week_dt < start_date].index,inplace=True)\n",
      "<ipython-input-40-9df018e460c4>:11: UserWarning: Boolean Series key will be reindexed to match DataFrame index.\n",
      "  emails_all_df.drop(emails_all_df[member_selector][emails_all_df.week_dt > end_date].index, inplace=True)\n",
      "<ipython-input-40-9df018e460c4>:10: UserWarning: Boolean Series key will be reindexed to match DataFrame index.\n",
      "  emails_all_df.drop(emails_all_df[member_selector][emails_all_df.week_dt < start_date].index,inplace=True)\n",
      "<ipython-input-40-9df018e460c4>:11: UserWarning: Boolean Series key will be reindexed to match DataFrame index.\n",
      "  emails_all_df.drop(emails_all_df[member_selector][emails_all_df.week_dt > end_date].index, inplace=True)\n",
      "<ipython-input-40-9df018e460c4>:10: UserWarning: Boolean Series key will be reindexed to match DataFrame index.\n",
      "  emails_all_df.drop(emails_all_df[member_selector][emails_all_df.week_dt < start_date].index,inplace=True)\n",
      "<ipython-input-40-9df018e460c4>:11: UserWarning: Boolean Series key will be reindexed to match DataFrame index.\n",
      "  emails_all_df.drop(emails_all_df[member_selector][emails_all_df.week_dt > end_date].index, inplace=True)\n",
      "<ipython-input-40-9df018e460c4>:10: UserWarning: Boolean Series key will be reindexed to match DataFrame index.\n",
      "  emails_all_df.drop(emails_all_df[member_selector][emails_all_df.week_dt < start_date].index,inplace=True)\n",
      "<ipython-input-40-9df018e460c4>:11: UserWarning: Boolean Series key will be reindexed to match DataFrame index.\n",
      "  emails_all_df.drop(emails_all_df[member_selector][emails_all_df.week_dt > end_date].index, inplace=True)\n",
      "<ipython-input-40-9df018e460c4>:10: UserWarning: Boolean Series key will be reindexed to match DataFrame index.\n",
      "  emails_all_df.drop(emails_all_df[member_selector][emails_all_df.week_dt < start_date].index,inplace=True)\n",
      "<ipython-input-40-9df018e460c4>:11: UserWarning: Boolean Series key will be reindexed to match DataFrame index.\n",
      "  emails_all_df.drop(emails_all_df[member_selector][emails_all_df.week_dt > end_date].index, inplace=True)\n",
      "<ipython-input-40-9df018e460c4>:10: UserWarning: Boolean Series key will be reindexed to match DataFrame index.\n",
      "  emails_all_df.drop(emails_all_df[member_selector][emails_all_df.week_dt < start_date].index,inplace=True)\n",
      "<ipython-input-40-9df018e460c4>:11: UserWarning: Boolean Series key will be reindexed to match DataFrame index.\n",
      "  emails_all_df.drop(emails_all_df[member_selector][emails_all_df.week_dt > end_date].index, inplace=True)\n",
      "<ipython-input-40-9df018e460c4>:10: UserWarning: Boolean Series key will be reindexed to match DataFrame index.\n",
      "  emails_all_df.drop(emails_all_df[member_selector][emails_all_df.week_dt < start_date].index,inplace=True)\n",
      "<ipython-input-40-9df018e460c4>:11: UserWarning: Boolean Series key will be reindexed to match DataFrame index.\n",
      "  emails_all_df.drop(emails_all_df[member_selector][emails_all_df.week_dt > end_date].index, inplace=True)\n",
      "<ipython-input-40-9df018e460c4>:10: UserWarning: Boolean Series key will be reindexed to match DataFrame index.\n",
      "  emails_all_df.drop(emails_all_df[member_selector][emails_all_df.week_dt < start_date].index,inplace=True)\n",
      "<ipython-input-40-9df018e460c4>:11: UserWarning: Boolean Series key will be reindexed to match DataFrame index.\n",
      "  emails_all_df.drop(emails_all_df[member_selector][emails_all_df.week_dt > end_date].index, inplace=True)\n",
      "<ipython-input-40-9df018e460c4>:10: UserWarning: Boolean Series key will be reindexed to match DataFrame index.\n",
      "  emails_all_df.drop(emails_all_df[member_selector][emails_all_df.week_dt < start_date].index,inplace=True)\n",
      "<ipython-input-40-9df018e460c4>:11: UserWarning: Boolean Series key will be reindexed to match DataFrame index.\n",
      "  emails_all_df.drop(emails_all_df[member_selector][emails_all_df.week_dt > end_date].index, inplace=True)\n",
      "<ipython-input-40-9df018e460c4>:10: UserWarning: Boolean Series key will be reindexed to match DataFrame index.\n",
      "  emails_all_df.drop(emails_all_df[member_selector][emails_all_df.week_dt < start_date].index,inplace=True)\n",
      "<ipython-input-40-9df018e460c4>:11: UserWarning: Boolean Series key will be reindexed to match DataFrame index.\n",
      "  emails_all_df.drop(emails_all_df[member_selector][emails_all_df.week_dt > end_date].index, inplace=True)\n",
      "<ipython-input-40-9df018e460c4>:10: UserWarning: Boolean Series key will be reindexed to match DataFrame index.\n",
      "  emails_all_df.drop(emails_all_df[member_selector][emails_all_df.week_dt < start_date].index,inplace=True)\n",
      "<ipython-input-40-9df018e460c4>:11: UserWarning: Boolean Series key will be reindexed to match DataFrame index.\n",
      "  emails_all_df.drop(emails_all_df[member_selector][emails_all_df.week_dt > end_date].index, inplace=True)\n",
      "<ipython-input-40-9df018e460c4>:10: UserWarning: Boolean Series key will be reindexed to match DataFrame index.\n",
      "  emails_all_df.drop(emails_all_df[member_selector][emails_all_df.week_dt < start_date].index,inplace=True)\n",
      "<ipython-input-40-9df018e460c4>:11: UserWarning: Boolean Series key will be reindexed to match DataFrame index.\n",
      "  emails_all_df.drop(emails_all_df[member_selector][emails_all_df.week_dt > end_date].index, inplace=True)\n",
      "<ipython-input-40-9df018e460c4>:10: UserWarning: Boolean Series key will be reindexed to match DataFrame index.\n",
      "  emails_all_df.drop(emails_all_df[member_selector][emails_all_df.week_dt < start_date].index,inplace=True)\n",
      "<ipython-input-40-9df018e460c4>:11: UserWarning: Boolean Series key will be reindexed to match DataFrame index.\n",
      "  emails_all_df.drop(emails_all_df[member_selector][emails_all_df.week_dt > end_date].index, inplace=True)\n",
      "<ipython-input-40-9df018e460c4>:10: UserWarning: Boolean Series key will be reindexed to match DataFrame index.\n",
      "  emails_all_df.drop(emails_all_df[member_selector][emails_all_df.week_dt < start_date].index,inplace=True)\n",
      "<ipython-input-40-9df018e460c4>:11: UserWarning: Boolean Series key will be reindexed to match DataFrame index.\n",
      "  emails_all_df.drop(emails_all_df[member_selector][emails_all_df.week_dt > end_date].index, inplace=True)\n",
      "<ipython-input-40-9df018e460c4>:10: UserWarning: Boolean Series key will be reindexed to match DataFrame index.\n",
      "  emails_all_df.drop(emails_all_df[member_selector][emails_all_df.week_dt < start_date].index,inplace=True)\n",
      "<ipython-input-40-9df018e460c4>:11: UserWarning: Boolean Series key will be reindexed to match DataFrame index.\n",
      "  emails_all_df.drop(emails_all_df[member_selector][emails_all_df.week_dt > end_date].index, inplace=True)\n",
      "<ipython-input-40-9df018e460c4>:10: UserWarning: Boolean Series key will be reindexed to match DataFrame index.\n",
      "  emails_all_df.drop(emails_all_df[member_selector][emails_all_df.week_dt < start_date].index,inplace=True)\n",
      "<ipython-input-40-9df018e460c4>:11: UserWarning: Boolean Series key will be reindexed to match DataFrame index.\n",
      "  emails_all_df.drop(emails_all_df[member_selector][emails_all_df.week_dt > end_date].index, inplace=True)\n",
      "<ipython-input-40-9df018e460c4>:10: UserWarning: Boolean Series key will be reindexed to match DataFrame index.\n",
      "  emails_all_df.drop(emails_all_df[member_selector][emails_all_df.week_dt < start_date].index,inplace=True)\n",
      "<ipython-input-40-9df018e460c4>:11: UserWarning: Boolean Series key will be reindexed to match DataFrame index.\n",
      "  emails_all_df.drop(emails_all_df[member_selector][emails_all_df.week_dt > end_date].index, inplace=True)\n",
      "<ipython-input-40-9df018e460c4>:10: UserWarning: Boolean Series key will be reindexed to match DataFrame index.\n",
      "  emails_all_df.drop(emails_all_df[member_selector][emails_all_df.week_dt < start_date].index,inplace=True)\n",
      "<ipython-input-40-9df018e460c4>:11: UserWarning: Boolean Series key will be reindexed to match DataFrame index.\n",
      "  emails_all_df.drop(emails_all_df[member_selector][emails_all_df.week_dt > end_date].index, inplace=True)\n",
      "<ipython-input-40-9df018e460c4>:10: UserWarning: Boolean Series key will be reindexed to match DataFrame index.\n",
      "  emails_all_df.drop(emails_all_df[member_selector][emails_all_df.week_dt < start_date].index,inplace=True)\n",
      "<ipython-input-40-9df018e460c4>:11: UserWarning: Boolean Series key will be reindexed to match DataFrame index.\n",
      "  emails_all_df.drop(emails_all_df[member_selector][emails_all_df.week_dt > end_date].index, inplace=True)\n",
      "<ipython-input-40-9df018e460c4>:10: UserWarning: Boolean Series key will be reindexed to match DataFrame index.\n",
      "  emails_all_df.drop(emails_all_df[member_selector][emails_all_df.week_dt < start_date].index,inplace=True)\n",
      "<ipython-input-40-9df018e460c4>:11: UserWarning: Boolean Series key will be reindexed to match DataFrame index.\n",
      "  emails_all_df.drop(emails_all_df[member_selector][emails_all_df.week_dt > end_date].index, inplace=True)\n",
      "<ipython-input-40-9df018e460c4>:10: UserWarning: Boolean Series key will be reindexed to match DataFrame index.\n",
      "  emails_all_df.drop(emails_all_df[member_selector][emails_all_df.week_dt < start_date].index,inplace=True)\n",
      "<ipython-input-40-9df018e460c4>:11: UserWarning: Boolean Series key will be reindexed to match DataFrame index.\n",
      "  emails_all_df.drop(emails_all_df[member_selector][emails_all_df.week_dt > end_date].index, inplace=True)\n",
      "<ipython-input-40-9df018e460c4>:10: UserWarning: Boolean Series key will be reindexed to match DataFrame index.\n",
      "  emails_all_df.drop(emails_all_df[member_selector][emails_all_df.week_dt < start_date].index,inplace=True)\n",
      "<ipython-input-40-9df018e460c4>:11: UserWarning: Boolean Series key will be reindexed to match DataFrame index.\n",
      "  emails_all_df.drop(emails_all_df[member_selector][emails_all_df.week_dt > end_date].index, inplace=True)\n",
      "<ipython-input-40-9df018e460c4>:10: UserWarning: Boolean Series key will be reindexed to match DataFrame index.\n",
      "  emails_all_df.drop(emails_all_df[member_selector][emails_all_df.week_dt < start_date].index,inplace=True)\n",
      "<ipython-input-40-9df018e460c4>:11: UserWarning: Boolean Series key will be reindexed to match DataFrame index.\n",
      "  emails_all_df.drop(emails_all_df[member_selector][emails_all_df.week_dt > end_date].index, inplace=True)\n",
      "<ipython-input-40-9df018e460c4>:10: UserWarning: Boolean Series key will be reindexed to match DataFrame index.\n",
      "  emails_all_df.drop(emails_all_df[member_selector][emails_all_df.week_dt < start_date].index,inplace=True)\n",
      "<ipython-input-40-9df018e460c4>:11: UserWarning: Boolean Series key will be reindexed to match DataFrame index.\n",
      "  emails_all_df.drop(emails_all_df[member_selector][emails_all_df.week_dt > end_date].index, inplace=True)\n",
      "<ipython-input-40-9df018e460c4>:10: UserWarning: Boolean Series key will be reindexed to match DataFrame index.\n",
      "  emails_all_df.drop(emails_all_df[member_selector][emails_all_df.week_dt < start_date].index,inplace=True)\n",
      "<ipython-input-40-9df018e460c4>:11: UserWarning: Boolean Series key will be reindexed to match DataFrame index.\n",
      "  emails_all_df.drop(emails_all_df[member_selector][emails_all_df.week_dt > end_date].index, inplace=True)\n",
      "<ipython-input-40-9df018e460c4>:10: UserWarning: Boolean Series key will be reindexed to match DataFrame index.\n",
      "  emails_all_df.drop(emails_all_df[member_selector][emails_all_df.week_dt < start_date].index,inplace=True)\n",
      "<ipython-input-40-9df018e460c4>:11: UserWarning: Boolean Series key will be reindexed to match DataFrame index.\n",
      "  emails_all_df.drop(emails_all_df[member_selector][emails_all_df.week_dt > end_date].index, inplace=True)\n"
     ]
    }
   ],
   "source": [
    "#Now clean out all rows for each user where the row comes before that user's earliest nonzero emailsopen\n",
    "\n",
    "for _, row in cut_off_dates_df.iterrows():\n",
    "    member = row[\"user\"]\n",
    "    start_date = row[\"min\"]\n",
    "    end_date = row[\"max\"]\n",
    "\n",
    "    member_selector = emails_all_df[\"user\"] == member\n",
    "\n",
    "    emails_all_df.drop(emails_all_df[member_selector][emails_all_df.week_dt < start_date].index,inplace=True)\n",
    "    emails_all_df.drop(emails_all_df[member_selector][emails_all_df.week_dt > end_date].index, inplace=True)"
   ],
   "metadata": {
    "collapsed": false,
    "pycharm": {
     "name": "#%%\n"
    }
   }
  },
  {
   "cell_type": "code",
   "execution_count": 41,
   "outputs": [
    {
     "data": {
      "text/plain": "     week_dt  user  emailsOpened\n0 2015-03-30   1.0           0.0\n1 2015-03-30   3.0           0.0\n2 2015-03-30   5.0           0.0\n3 2015-03-30   6.0           0.0\n4 2015-03-30   9.0           0.0",
      "text/html": "<div>\n<style scoped>\n    .dataframe tbody tr th:only-of-type {\n        vertical-align: middle;\n    }\n\n    .dataframe tbody tr th {\n        vertical-align: top;\n    }\n\n    .dataframe thead th {\n        text-align: right;\n    }\n</style>\n<table border=\"1\" class=\"dataframe\">\n  <thead>\n    <tr style=\"text-align: right;\">\n      <th></th>\n      <th>week_dt</th>\n      <th>user</th>\n      <th>emailsOpened</th>\n    </tr>\n  </thead>\n  <tbody>\n    <tr>\n      <th>0</th>\n      <td>2015-03-30</td>\n      <td>1.0</td>\n      <td>0.0</td>\n    </tr>\n    <tr>\n      <th>1</th>\n      <td>2015-03-30</td>\n      <td>3.0</td>\n      <td>0.0</td>\n    </tr>\n    <tr>\n      <th>2</th>\n      <td>2015-03-30</td>\n      <td>5.0</td>\n      <td>0.0</td>\n    </tr>\n    <tr>\n      <th>3</th>\n      <td>2015-03-30</td>\n      <td>6.0</td>\n      <td>0.0</td>\n    </tr>\n    <tr>\n      <th>4</th>\n      <td>2015-03-30</td>\n      <td>9.0</td>\n      <td>0.0</td>\n    </tr>\n  </tbody>\n</table>\n</div>"
     },
     "execution_count": 41,
     "metadata": {},
     "output_type": "execute_result"
    }
   ],
   "source": [
    "emails_all_df.head()"
   ],
   "metadata": {
    "collapsed": false,
    "pycharm": {
     "name": "#%%\n"
    }
   }
  },
  {
   "cell_type": "code",
   "execution_count": 42,
   "outputs": [
    {
     "data": {
      "text/plain": "         week_dt   user  emailsOpened\n93242 2017-09-18  991.0           0.0\n93243 2017-09-18  992.0           0.0\n93244 2017-09-18  993.0           3.0\n93245 2017-09-18  995.0           3.0\n93246 2017-09-18  998.0           0.0",
      "text/html": "<div>\n<style scoped>\n    .dataframe tbody tr th:only-of-type {\n        vertical-align: middle;\n    }\n\n    .dataframe tbody tr th {\n        vertical-align: top;\n    }\n\n    .dataframe thead th {\n        text-align: right;\n    }\n</style>\n<table border=\"1\" class=\"dataframe\">\n  <thead>\n    <tr style=\"text-align: right;\">\n      <th></th>\n      <th>week_dt</th>\n      <th>user</th>\n      <th>emailsOpened</th>\n    </tr>\n  </thead>\n  <tbody>\n    <tr>\n      <th>93242</th>\n      <td>2017-09-18</td>\n      <td>991.0</td>\n      <td>0.0</td>\n    </tr>\n    <tr>\n      <th>93243</th>\n      <td>2017-09-18</td>\n      <td>992.0</td>\n      <td>0.0</td>\n    </tr>\n    <tr>\n      <th>93244</th>\n      <td>2017-09-18</td>\n      <td>993.0</td>\n      <td>3.0</td>\n    </tr>\n    <tr>\n      <th>93245</th>\n      <td>2017-09-18</td>\n      <td>995.0</td>\n      <td>3.0</td>\n    </tr>\n    <tr>\n      <th>93246</th>\n      <td>2017-09-18</td>\n      <td>998.0</td>\n      <td>0.0</td>\n    </tr>\n  </tbody>\n</table>\n</div>"
     },
     "execution_count": 42,
     "metadata": {},
     "output_type": "execute_result"
    }
   ],
   "source": [
    "emails_all_df.tail()\n"
   ],
   "metadata": {
    "collapsed": false,
    "pycharm": {
     "name": "#%%\n"
    }
   }
  },
  {
   "cell_type": "code",
   "execution_count": 43,
   "outputs": [
    {
     "data": {
      "text/plain": "(93247, 3)"
     },
     "execution_count": 43,
     "metadata": {},
     "output_type": "execute_result"
    }
   ],
   "source": [
    "emails_all_df.shape\n"
   ],
   "metadata": {
    "collapsed": false,
    "pycharm": {
     "name": "#%%\n"
    }
   }
  },
  {
   "cell_type": "markdown",
   "source": [
    "Author wants to relate donations to the number of emails opened per week.\n",
    "\n",
    "Current donations are recorded in `donations_df`  on a non-weekly basis.\n",
    "\n",
    "So to relate the two will first aggregate donations to a weekly number\n"
   ],
   "metadata": {
    "collapsed": false,
    "pycharm": {
     "name": "#%% md\n"
    }
   }
  },
  {
   "cell_type": "code",
   "execution_count": 44,
   "outputs": [],
   "source": [
    "donations_df[\"timestamp_dt\"] = pd.to_datetime(donations_df[\"timestamp\"])\n"
   ],
   "metadata": {
    "collapsed": false,
    "pycharm": {
     "name": "#%%\n"
    }
   }
  },
  {
   "cell_type": "code",
   "execution_count": 45,
   "outputs": [
    {
     "data": {
      "text/plain": "                     amount            timestamp  user\ntimestamp_dt                                          \n2017-11-12 11:13:44    25.0  2017-11-12 11:13:44   0.0\n2015-08-25 19:01:45    50.0  2015-08-25 19:01:45   0.0\n2015-03-26 12:03:47    25.0  2015-03-26 12:03:47   0.0\n2016-07-06 12:24:55    50.0  2016-07-06 12:24:55   0.0\n2016-05-11 18:13:04    50.0  2016-05-11 18:13:04   1.0",
      "text/html": "<div>\n<style scoped>\n    .dataframe tbody tr th:only-of-type {\n        vertical-align: middle;\n    }\n\n    .dataframe tbody tr th {\n        vertical-align: top;\n    }\n\n    .dataframe thead th {\n        text-align: right;\n    }\n</style>\n<table border=\"1\" class=\"dataframe\">\n  <thead>\n    <tr style=\"text-align: right;\">\n      <th></th>\n      <th>amount</th>\n      <th>timestamp</th>\n      <th>user</th>\n    </tr>\n    <tr>\n      <th>timestamp_dt</th>\n      <th></th>\n      <th></th>\n      <th></th>\n    </tr>\n  </thead>\n  <tbody>\n    <tr>\n      <th>2017-11-12 11:13:44</th>\n      <td>25.0</td>\n      <td>2017-11-12 11:13:44</td>\n      <td>0.0</td>\n    </tr>\n    <tr>\n      <th>2015-08-25 19:01:45</th>\n      <td>50.0</td>\n      <td>2015-08-25 19:01:45</td>\n      <td>0.0</td>\n    </tr>\n    <tr>\n      <th>2015-03-26 12:03:47</th>\n      <td>25.0</td>\n      <td>2015-03-26 12:03:47</td>\n      <td>0.0</td>\n    </tr>\n    <tr>\n      <th>2016-07-06 12:24:55</th>\n      <td>50.0</td>\n      <td>2016-07-06 12:24:55</td>\n      <td>0.0</td>\n    </tr>\n    <tr>\n      <th>2016-05-11 18:13:04</th>\n      <td>50.0</td>\n      <td>2016-05-11 18:13:04</td>\n      <td>1.0</td>\n    </tr>\n  </tbody>\n</table>\n</div>"
     },
     "execution_count": 45,
     "metadata": {},
     "output_type": "execute_result"
    }
   ],
   "source": [
    "donations_df.set_index(\"timestamp_dt\",inplace=True)\n",
    "donations_df.head()"
   ],
   "metadata": {
    "collapsed": false,
    "pycharm": {
     "name": "#%%\n"
    }
   }
  },
  {
   "cell_type": "code",
   "execution_count": 46,
   "outputs": [],
   "source": [
    "agg_donations = donations_df.groupby(\"user\").apply(lambda df: df[\"amount\"].resample(\"W-MON\").sum().dropna())\n"
   ],
   "metadata": {
    "collapsed": false,
    "pycharm": {
     "name": "#%%\n"
    }
   }
  },
  {
   "cell_type": "code",
   "execution_count": 47,
   "outputs": [],
   "source": [
    "#I think this is needed maybe a bug in her code\n",
    "agg_donations = agg_donations.reset_index()\n"
   ],
   "metadata": {
    "collapsed": false,
    "pycharm": {
     "name": "#%%\n"
    }
   }
  },
  {
   "cell_type": "code",
   "execution_count": 48,
   "outputs": [
    {
     "data": {
      "text/plain": "   user timestamp_dt  amount\n0   0.0   2015-03-30    25.0\n1   0.0   2015-04-06     0.0\n2   0.0   2015-04-13     0.0\n3   0.0   2015-04-20     0.0\n4   0.0   2015-04-27     0.0",
      "text/html": "<div>\n<style scoped>\n    .dataframe tbody tr th:only-of-type {\n        vertical-align: middle;\n    }\n\n    .dataframe tbody tr th {\n        vertical-align: top;\n    }\n\n    .dataframe thead th {\n        text-align: right;\n    }\n</style>\n<table border=\"1\" class=\"dataframe\">\n  <thead>\n    <tr style=\"text-align: right;\">\n      <th></th>\n      <th>user</th>\n      <th>timestamp_dt</th>\n      <th>amount</th>\n    </tr>\n  </thead>\n  <tbody>\n    <tr>\n      <th>0</th>\n      <td>0.0</td>\n      <td>2015-03-30</td>\n      <td>25.0</td>\n    </tr>\n    <tr>\n      <th>1</th>\n      <td>0.0</td>\n      <td>2015-04-06</td>\n      <td>0.0</td>\n    </tr>\n    <tr>\n      <th>2</th>\n      <td>0.0</td>\n      <td>2015-04-13</td>\n      <td>0.0</td>\n    </tr>\n    <tr>\n      <th>3</th>\n      <td>0.0</td>\n      <td>2015-04-20</td>\n      <td>0.0</td>\n    </tr>\n    <tr>\n      <th>4</th>\n      <td>0.0</td>\n      <td>2015-04-27</td>\n      <td>0.0</td>\n    </tr>\n  </tbody>\n</table>\n</div>"
     },
     "execution_count": 48,
     "metadata": {},
     "output_type": "execute_result"
    }
   ],
   "source": [
    "agg_donations.head()\n"
   ],
   "metadata": {
    "collapsed": false,
    "pycharm": {
     "name": "#%%\n"
    }
   }
  },
  {
   "cell_type": "markdown",
   "source": [
    "Now will join `agg_donations` to `email_all_df` by date"
   ],
   "metadata": {
    "collapsed": false,
    "pycharm": {
     "name": "#%% md\n"
    }
   }
  },
  {
   "cell_type": "code",
   "execution_count": 49,
   "outputs": [],
   "source": [
    "merged_df = pd.DataFrame()\n"
   ],
   "metadata": {
    "collapsed": false,
    "pycharm": {
     "name": "#%%\n"
    }
   }
  },
  {
   "cell_type": "code",
   "execution_count": 50,
   "outputs": [],
   "source": [
    "for user, user_emails in emails_all_df.groupby(\"user\"):\n",
    "    #print(user,user_email)\n",
    "    user_donations = agg_donations[agg_donations[\"user\"] == user]\n",
    "\n",
    "    user_donations.set_index(\"timestamp_dt\", inplace=True)\n",
    "    user_emails.set_index(\"week_dt\", inplace=True)\n",
    "\n",
    "    user_emails = emails_all_df[emails_all_df[\"user\"] == user]\n",
    "    user_emails = user_emails.sort_values(\"week_dt\").set_index(\"week_dt\")\n",
    "\n",
    "    df = pd.merge(user_emails, user_donations, how=\"left\", left_index=True, right_index=True)\n",
    "    df.fillna(0, inplace=True)\n",
    "    df[\"user\"] = df.user_x\n",
    "\n",
    "    if merged_df.empty:\n",
    "        merged_df = df.reset_index()[[\"user\",\"week_dt\",\"emailsOpened\",\"amount\"]]\n",
    "    else:\n",
    "        merged_df = merged_df.append(df.reset_index()[[\"user\",\"week_dt\",\"emailsOpened\",\"amount\"]])\n",
    "\n"
   ],
   "metadata": {
    "collapsed": false,
    "pycharm": {
     "name": "#%%\n"
    }
   }
  },
  {
   "cell_type": "code",
   "execution_count": 51,
   "outputs": [
    {
     "data": {
      "text/plain": "   user    week_dt  emailsOpened  amount\n0   1.0 2015-02-09           0.0     0.0\n1   1.0 2015-02-16           0.0     0.0\n2   1.0 2015-02-23           0.0     0.0\n3   1.0 2015-03-02           0.0     0.0\n4   1.0 2015-03-09           0.0     0.0",
      "text/html": "<div>\n<style scoped>\n    .dataframe tbody tr th:only-of-type {\n        vertical-align: middle;\n    }\n\n    .dataframe tbody tr th {\n        vertical-align: top;\n    }\n\n    .dataframe thead th {\n        text-align: right;\n    }\n</style>\n<table border=\"1\" class=\"dataframe\">\n  <thead>\n    <tr style=\"text-align: right;\">\n      <th></th>\n      <th>user</th>\n      <th>week_dt</th>\n      <th>emailsOpened</th>\n      <th>amount</th>\n    </tr>\n  </thead>\n  <tbody>\n    <tr>\n      <th>0</th>\n      <td>1.0</td>\n      <td>2015-02-09</td>\n      <td>0.0</td>\n      <td>0.0</td>\n    </tr>\n    <tr>\n      <th>1</th>\n      <td>1.0</td>\n      <td>2015-02-16</td>\n      <td>0.0</td>\n      <td>0.0</td>\n    </tr>\n    <tr>\n      <th>2</th>\n      <td>1.0</td>\n      <td>2015-02-23</td>\n      <td>0.0</td>\n      <td>0.0</td>\n    </tr>\n    <tr>\n      <th>3</th>\n      <td>1.0</td>\n      <td>2015-03-02</td>\n      <td>0.0</td>\n      <td>0.0</td>\n    </tr>\n    <tr>\n      <th>4</th>\n      <td>1.0</td>\n      <td>2015-03-09</td>\n      <td>0.0</td>\n      <td>0.0</td>\n    </tr>\n  </tbody>\n</table>\n</div>"
     },
     "execution_count": 51,
     "metadata": {},
     "output_type": "execute_result"
    }
   ],
   "source": [
    "merged_df.head()"
   ],
   "metadata": {
    "collapsed": false,
    "pycharm": {
     "name": "#%%\n"
    }
   }
  },
  {
   "cell_type": "markdown",
   "source": [
    "Now we want to try to predict the donation amount as a function of the emails opened.\n",
    "\n",
    "In order to do that we need to shift the donation amounts ahead 1 week so that our predictions don't suffer from _lookahead (see book for meaning)_\n"
   ],
   "metadata": {
    "collapsed": false,
    "pycharm": {
     "name": "#%% md\n"
    }
   }
  },
  {
   "cell_type": "code",
   "execution_count": 52,
   "outputs": [
    {
     "data": {
      "text/plain": "      user    week_dt  emailsOpened  amount\n152  998.0 2018-01-08           3.0    50.0",
      "text/html": "<div>\n<style scoped>\n    .dataframe tbody tr th:only-of-type {\n        vertical-align: middle;\n    }\n\n    .dataframe tbody tr th {\n        vertical-align: top;\n    }\n\n    .dataframe thead th {\n        text-align: right;\n    }\n</style>\n<table border=\"1\" class=\"dataframe\">\n  <thead>\n    <tr style=\"text-align: right;\">\n      <th></th>\n      <th>user</th>\n      <th>week_dt</th>\n      <th>emailsOpened</th>\n      <th>amount</th>\n    </tr>\n  </thead>\n  <tbody>\n    <tr>\n      <th>152</th>\n      <td>998.0</td>\n      <td>2018-01-08</td>\n      <td>3.0</td>\n      <td>50.0</td>\n    </tr>\n  </tbody>\n</table>\n</div>"
     },
     "execution_count": 52,
     "metadata": {},
     "output_type": "execute_result"
    }
   ],
   "source": [
    "single_user_df = merged_df[merged_df[\"user\"] == 998]\n",
    "single_user_df[single_user_df[\"amount\"]>0].head()\n"
   ],
   "metadata": {
    "collapsed": false,
    "pycharm": {
     "name": "#%%\n"
    }
   }
  },
  {
   "cell_type": "code",
   "execution_count": 53,
   "outputs": [
    {
     "name": "stderr",
     "output_type": "stream",
     "text": [
      "<ipython-input-53-2b9b7cc04e39>:1: SettingWithCopyWarning: \n",
      "A value is trying to be set on a copy of a slice from a DataFrame.\n",
      "Try using .loc[row_indexer,col_indexer] = value instead\n",
      "\n",
      "See the caveats in the documentation: https://pandas.pydata.org/pandas-docs/stable/user_guide/indexing.html#returning-a-view-versus-a-copy\n",
      "  single_user_df[\"target_amount\"] = single_user_df[\"amount\"].shift(1)\n"
     ]
    },
    {
     "data": {
      "text/plain": "      user    week_dt  emailsOpened  amount  target_amount\n0    998.0 2015-02-09           0.0     0.0            0.0\n1    998.0 2015-02-16           0.0     0.0            0.0\n2    998.0 2015-02-23           0.0     0.0            0.0\n3    998.0 2015-03-02           0.0     0.0            0.0\n4    998.0 2015-03-09           0.0     0.0            0.0\n..     ...        ...           ...     ...            ...\n168  998.0 2018-04-30           3.0     0.0            0.0\n169  998.0 2018-05-07           3.0     0.0            0.0\n170  998.0 2018-05-14           3.0     0.0            0.0\n171  998.0 2018-05-21           3.0     0.0            0.0\n172  998.0 2018-05-28           3.0     0.0            0.0\n\n[173 rows x 5 columns]",
      "text/html": "<div>\n<style scoped>\n    .dataframe tbody tr th:only-of-type {\n        vertical-align: middle;\n    }\n\n    .dataframe tbody tr th {\n        vertical-align: top;\n    }\n\n    .dataframe thead th {\n        text-align: right;\n    }\n</style>\n<table border=\"1\" class=\"dataframe\">\n  <thead>\n    <tr style=\"text-align: right;\">\n      <th></th>\n      <th>user</th>\n      <th>week_dt</th>\n      <th>emailsOpened</th>\n      <th>amount</th>\n      <th>target_amount</th>\n    </tr>\n  </thead>\n  <tbody>\n    <tr>\n      <th>0</th>\n      <td>998.0</td>\n      <td>2015-02-09</td>\n      <td>0.0</td>\n      <td>0.0</td>\n      <td>0.0</td>\n    </tr>\n    <tr>\n      <th>1</th>\n      <td>998.0</td>\n      <td>2015-02-16</td>\n      <td>0.0</td>\n      <td>0.0</td>\n      <td>0.0</td>\n    </tr>\n    <tr>\n      <th>2</th>\n      <td>998.0</td>\n      <td>2015-02-23</td>\n      <td>0.0</td>\n      <td>0.0</td>\n      <td>0.0</td>\n    </tr>\n    <tr>\n      <th>3</th>\n      <td>998.0</td>\n      <td>2015-03-02</td>\n      <td>0.0</td>\n      <td>0.0</td>\n      <td>0.0</td>\n    </tr>\n    <tr>\n      <th>4</th>\n      <td>998.0</td>\n      <td>2015-03-09</td>\n      <td>0.0</td>\n      <td>0.0</td>\n      <td>0.0</td>\n    </tr>\n    <tr>\n      <th>...</th>\n      <td>...</td>\n      <td>...</td>\n      <td>...</td>\n      <td>...</td>\n      <td>...</td>\n    </tr>\n    <tr>\n      <th>168</th>\n      <td>998.0</td>\n      <td>2018-04-30</td>\n      <td>3.0</td>\n      <td>0.0</td>\n      <td>0.0</td>\n    </tr>\n    <tr>\n      <th>169</th>\n      <td>998.0</td>\n      <td>2018-05-07</td>\n      <td>3.0</td>\n      <td>0.0</td>\n      <td>0.0</td>\n    </tr>\n    <tr>\n      <th>170</th>\n      <td>998.0</td>\n      <td>2018-05-14</td>\n      <td>3.0</td>\n      <td>0.0</td>\n      <td>0.0</td>\n    </tr>\n    <tr>\n      <th>171</th>\n      <td>998.0</td>\n      <td>2018-05-21</td>\n      <td>3.0</td>\n      <td>0.0</td>\n      <td>0.0</td>\n    </tr>\n    <tr>\n      <th>172</th>\n      <td>998.0</td>\n      <td>2018-05-28</td>\n      <td>3.0</td>\n      <td>0.0</td>\n      <td>0.0</td>\n    </tr>\n  </tbody>\n</table>\n<p>173 rows × 5 columns</p>\n</div>"
     },
     "execution_count": 53,
     "metadata": {},
     "output_type": "execute_result"
    }
   ],
   "source": [
    "single_user_df[\"target_amount\"] = single_user_df[\"amount\"].shift(1)\n",
    "single_user_df = single_user_df.fillna(0)\n",
    "single_user_df"
   ],
   "metadata": {
    "collapsed": false,
    "pycharm": {
     "name": "#%%\n"
    }
   }
  },
  {
   "cell_type": "code",
   "execution_count": 54,
   "outputs": [
    {
     "data": {
      "text/plain": "      user    week_dt  emailsOpened  amount  target_amount\n130  998.0 2017-08-07           0.0     0.0            0.0\n131  998.0 2017-08-14           0.0     0.0            0.0\n132  998.0 2017-08-21           0.0     0.0            0.0\n133  998.0 2017-08-28           0.0     0.0            0.0\n134  998.0 2017-09-04           0.0     0.0            0.0\n135  998.0 2017-09-11           0.0     0.0            0.0\n136  998.0 2017-09-18           0.0     0.0            0.0\n137  998.0 2017-09-25           0.0     0.0            0.0\n138  998.0 2017-10-02           0.0     0.0            0.0\n139  998.0 2017-10-09           0.0     0.0            0.0\n140  998.0 2017-10-16           0.0     0.0            0.0\n141  998.0 2017-10-23           0.0     0.0            0.0\n142  998.0 2017-10-30           0.0     0.0            0.0\n143  998.0 2017-11-06           0.0     0.0            0.0\n144  998.0 2017-11-13           0.0     0.0            0.0\n145  998.0 2017-11-20           0.0     0.0            0.0\n146  998.0 2017-11-27           0.0     0.0            0.0\n147  998.0 2017-12-04           1.0     0.0            0.0\n148  998.0 2017-12-11           3.0     0.0            0.0\n149  998.0 2017-12-18           3.0     0.0            0.0\n150  998.0 2017-12-25           0.0     0.0            0.0\n151  998.0 2018-01-01           3.0     0.0            0.0\n152  998.0 2018-01-08           3.0    50.0            0.0\n153  998.0 2018-01-15           2.0     0.0           50.0\n154  998.0 2018-01-22           3.0     0.0            0.0\n155  998.0 2018-01-29           2.0     0.0            0.0\n156  998.0 2018-02-05           3.0     0.0            0.0\n157  998.0 2018-02-12           3.0     0.0            0.0\n158  998.0 2018-02-19           3.0     0.0            0.0\n159  998.0 2018-02-26           2.0     0.0            0.0",
      "text/html": "<div>\n<style scoped>\n    .dataframe tbody tr th:only-of-type {\n        vertical-align: middle;\n    }\n\n    .dataframe tbody tr th {\n        vertical-align: top;\n    }\n\n    .dataframe thead th {\n        text-align: right;\n    }\n</style>\n<table border=\"1\" class=\"dataframe\">\n  <thead>\n    <tr style=\"text-align: right;\">\n      <th></th>\n      <th>user</th>\n      <th>week_dt</th>\n      <th>emailsOpened</th>\n      <th>amount</th>\n      <th>target_amount</th>\n    </tr>\n  </thead>\n  <tbody>\n    <tr>\n      <th>130</th>\n      <td>998.0</td>\n      <td>2017-08-07</td>\n      <td>0.0</td>\n      <td>0.0</td>\n      <td>0.0</td>\n    </tr>\n    <tr>\n      <th>131</th>\n      <td>998.0</td>\n      <td>2017-08-14</td>\n      <td>0.0</td>\n      <td>0.0</td>\n      <td>0.0</td>\n    </tr>\n    <tr>\n      <th>132</th>\n      <td>998.0</td>\n      <td>2017-08-21</td>\n      <td>0.0</td>\n      <td>0.0</td>\n      <td>0.0</td>\n    </tr>\n    <tr>\n      <th>133</th>\n      <td>998.0</td>\n      <td>2017-08-28</td>\n      <td>0.0</td>\n      <td>0.0</td>\n      <td>0.0</td>\n    </tr>\n    <tr>\n      <th>134</th>\n      <td>998.0</td>\n      <td>2017-09-04</td>\n      <td>0.0</td>\n      <td>0.0</td>\n      <td>0.0</td>\n    </tr>\n    <tr>\n      <th>135</th>\n      <td>998.0</td>\n      <td>2017-09-11</td>\n      <td>0.0</td>\n      <td>0.0</td>\n      <td>0.0</td>\n    </tr>\n    <tr>\n      <th>136</th>\n      <td>998.0</td>\n      <td>2017-09-18</td>\n      <td>0.0</td>\n      <td>0.0</td>\n      <td>0.0</td>\n    </tr>\n    <tr>\n      <th>137</th>\n      <td>998.0</td>\n      <td>2017-09-25</td>\n      <td>0.0</td>\n      <td>0.0</td>\n      <td>0.0</td>\n    </tr>\n    <tr>\n      <th>138</th>\n      <td>998.0</td>\n      <td>2017-10-02</td>\n      <td>0.0</td>\n      <td>0.0</td>\n      <td>0.0</td>\n    </tr>\n    <tr>\n      <th>139</th>\n      <td>998.0</td>\n      <td>2017-10-09</td>\n      <td>0.0</td>\n      <td>0.0</td>\n      <td>0.0</td>\n    </tr>\n    <tr>\n      <th>140</th>\n      <td>998.0</td>\n      <td>2017-10-16</td>\n      <td>0.0</td>\n      <td>0.0</td>\n      <td>0.0</td>\n    </tr>\n    <tr>\n      <th>141</th>\n      <td>998.0</td>\n      <td>2017-10-23</td>\n      <td>0.0</td>\n      <td>0.0</td>\n      <td>0.0</td>\n    </tr>\n    <tr>\n      <th>142</th>\n      <td>998.0</td>\n      <td>2017-10-30</td>\n      <td>0.0</td>\n      <td>0.0</td>\n      <td>0.0</td>\n    </tr>\n    <tr>\n      <th>143</th>\n      <td>998.0</td>\n      <td>2017-11-06</td>\n      <td>0.0</td>\n      <td>0.0</td>\n      <td>0.0</td>\n    </tr>\n    <tr>\n      <th>144</th>\n      <td>998.0</td>\n      <td>2017-11-13</td>\n      <td>0.0</td>\n      <td>0.0</td>\n      <td>0.0</td>\n    </tr>\n    <tr>\n      <th>145</th>\n      <td>998.0</td>\n      <td>2017-11-20</td>\n      <td>0.0</td>\n      <td>0.0</td>\n      <td>0.0</td>\n    </tr>\n    <tr>\n      <th>146</th>\n      <td>998.0</td>\n      <td>2017-11-27</td>\n      <td>0.0</td>\n      <td>0.0</td>\n      <td>0.0</td>\n    </tr>\n    <tr>\n      <th>147</th>\n      <td>998.0</td>\n      <td>2017-12-04</td>\n      <td>1.0</td>\n      <td>0.0</td>\n      <td>0.0</td>\n    </tr>\n    <tr>\n      <th>148</th>\n      <td>998.0</td>\n      <td>2017-12-11</td>\n      <td>3.0</td>\n      <td>0.0</td>\n      <td>0.0</td>\n    </tr>\n    <tr>\n      <th>149</th>\n      <td>998.0</td>\n      <td>2017-12-18</td>\n      <td>3.0</td>\n      <td>0.0</td>\n      <td>0.0</td>\n    </tr>\n    <tr>\n      <th>150</th>\n      <td>998.0</td>\n      <td>2017-12-25</td>\n      <td>0.0</td>\n      <td>0.0</td>\n      <td>0.0</td>\n    </tr>\n    <tr>\n      <th>151</th>\n      <td>998.0</td>\n      <td>2018-01-01</td>\n      <td>3.0</td>\n      <td>0.0</td>\n      <td>0.0</td>\n    </tr>\n    <tr>\n      <th>152</th>\n      <td>998.0</td>\n      <td>2018-01-08</td>\n      <td>3.0</td>\n      <td>50.0</td>\n      <td>0.0</td>\n    </tr>\n    <tr>\n      <th>153</th>\n      <td>998.0</td>\n      <td>2018-01-15</td>\n      <td>2.0</td>\n      <td>0.0</td>\n      <td>50.0</td>\n    </tr>\n    <tr>\n      <th>154</th>\n      <td>998.0</td>\n      <td>2018-01-22</td>\n      <td>3.0</td>\n      <td>0.0</td>\n      <td>0.0</td>\n    </tr>\n    <tr>\n      <th>155</th>\n      <td>998.0</td>\n      <td>2018-01-29</td>\n      <td>2.0</td>\n      <td>0.0</td>\n      <td>0.0</td>\n    </tr>\n    <tr>\n      <th>156</th>\n      <td>998.0</td>\n      <td>2018-02-05</td>\n      <td>3.0</td>\n      <td>0.0</td>\n      <td>0.0</td>\n    </tr>\n    <tr>\n      <th>157</th>\n      <td>998.0</td>\n      <td>2018-02-12</td>\n      <td>3.0</td>\n      <td>0.0</td>\n      <td>0.0</td>\n    </tr>\n    <tr>\n      <th>158</th>\n      <td>998.0</td>\n      <td>2018-02-19</td>\n      <td>3.0</td>\n      <td>0.0</td>\n      <td>0.0</td>\n    </tr>\n    <tr>\n      <th>159</th>\n      <td>998.0</td>\n      <td>2018-02-26</td>\n      <td>2.0</td>\n      <td>0.0</td>\n      <td>0.0</td>\n    </tr>\n  </tbody>\n</table>\n</div>"
     },
     "execution_count": 54,
     "metadata": {},
     "output_type": "execute_result"
    }
   ],
   "source": [
    "# proving to myself the shift worked\n",
    "selector = (single_user_df[\"target_amount\"]>0) | (single_user_df[\"amount\"]>0)\n",
    "\n",
    "single_user_df.iloc[130:160]\n"
   ],
   "metadata": {
    "collapsed": false,
    "pycharm": {
     "name": "#%%\n"
    }
   }
  },
  {
   "cell_type": "code",
   "execution_count": 55,
   "outputs": [
    {
     "data": {
      "text/plain": "     user userStats  yearJoined\n998   998    bronze        2017",
      "text/html": "<div>\n<style scoped>\n    .dataframe tbody tr th:only-of-type {\n        vertical-align: middle;\n    }\n\n    .dataframe tbody tr th {\n        vertical-align: top;\n    }\n\n    .dataframe thead th {\n        text-align: right;\n    }\n</style>\n<table border=\"1\" class=\"dataframe\">\n  <thead>\n    <tr style=\"text-align: right;\">\n      <th></th>\n      <th>user</th>\n      <th>userStats</th>\n      <th>yearJoined</th>\n    </tr>\n  </thead>\n  <tbody>\n    <tr>\n      <th>998</th>\n      <td>998</td>\n      <td>bronze</td>\n      <td>2017</td>\n    </tr>\n  </tbody>\n</table>\n</div>"
     },
     "execution_count": 55,
     "metadata": {},
     "output_type": "execute_result"
    }
   ],
   "source": [
    "YearJoined_df[YearJoined_df[\"user\"] == 998]"
   ],
   "metadata": {
    "collapsed": false,
    "pycharm": {
     "name": "#%%\n"
    }
   }
  },
  {
   "cell_type": "code",
   "execution_count": 55,
   "outputs": [],
   "source": [],
   "metadata": {
    "collapsed": false,
    "pycharm": {
     "name": "#%%\n"
    }
   }
  },
  {
   "cell_type": "markdown",
   "source": [
    "# Cleaning Your Data\n",
    "Going to work with BLS unemployment data\n",
    "\n",
    "I need to create two data frames using BLS data:\n",
    "\n",
    "1. Random months have missing data\n",
    "1. A data frame that contains only contains the months in which the 10 highest unemployment rates are found"
   ],
   "metadata": {
    "collapsed": false
   }
  },
  {
   "cell_type": "code",
   "execution_count": 56,
   "outputs": [],
   "source": [
    "# constants used to control execution in subsequent cells\n",
    "PERCENT_MISSING_ITEMS = 30\n",
    "PERCENT_CHANCE_TO_REMOVE = 75\n",
    "NUMBER_OF_MAX_UNEMPLOYMENT_MONTHS_TO_REMOVE = 25"
   ],
   "metadata": {
    "collapsed": false,
    "pycharm": {
     "name": "#%%\n"
    }
   }
  },
  {
   "cell_type": "code",
   "execution_count": 57,
   "outputs": [
    {
     "data": {
      "text/plain": "   Year  Jan  Feb  Mar  Apr  May  Jun  Jul  Aug  Sep  Oct  Nov  Dec\n0  1990  5.4  5.3  5.2  5.4  5.4  5.2  5.5  5.7  5.9  5.9  6.2  6.3\n1  1991  6.4  6.6  6.8  6.7  6.9  6.9  6.8  6.9  6.9  7.0  7.0  7.3\n2  1992  7.3  7.4  7.4  7.4  7.6  7.8  7.7  7.6  7.6  7.3  7.4  7.4\n3  1993  7.3  7.1  7.0  7.1  7.1  7.0  6.9  6.8  6.7  6.8  6.6  6.5\n4  1994  6.6  6.6  6.5  6.4  6.1  6.1  6.1  6.0  5.9  5.8  5.6  5.5",
      "text/html": "<div>\n<style scoped>\n    .dataframe tbody tr th:only-of-type {\n        vertical-align: middle;\n    }\n\n    .dataframe tbody tr th {\n        vertical-align: top;\n    }\n\n    .dataframe thead th {\n        text-align: right;\n    }\n</style>\n<table border=\"1\" class=\"dataframe\">\n  <thead>\n    <tr style=\"text-align: right;\">\n      <th></th>\n      <th>Year</th>\n      <th>Jan</th>\n      <th>Feb</th>\n      <th>Mar</th>\n      <th>Apr</th>\n      <th>May</th>\n      <th>Jun</th>\n      <th>Jul</th>\n      <th>Aug</th>\n      <th>Sep</th>\n      <th>Oct</th>\n      <th>Nov</th>\n      <th>Dec</th>\n    </tr>\n  </thead>\n  <tbody>\n    <tr>\n      <th>0</th>\n      <td>1990</td>\n      <td>5.4</td>\n      <td>5.3</td>\n      <td>5.2</td>\n      <td>5.4</td>\n      <td>5.4</td>\n      <td>5.2</td>\n      <td>5.5</td>\n      <td>5.7</td>\n      <td>5.9</td>\n      <td>5.9</td>\n      <td>6.2</td>\n      <td>6.3</td>\n    </tr>\n    <tr>\n      <th>1</th>\n      <td>1991</td>\n      <td>6.4</td>\n      <td>6.6</td>\n      <td>6.8</td>\n      <td>6.7</td>\n      <td>6.9</td>\n      <td>6.9</td>\n      <td>6.8</td>\n      <td>6.9</td>\n      <td>6.9</td>\n      <td>7.0</td>\n      <td>7.0</td>\n      <td>7.3</td>\n    </tr>\n    <tr>\n      <th>2</th>\n      <td>1992</td>\n      <td>7.3</td>\n      <td>7.4</td>\n      <td>7.4</td>\n      <td>7.4</td>\n      <td>7.6</td>\n      <td>7.8</td>\n      <td>7.7</td>\n      <td>7.6</td>\n      <td>7.6</td>\n      <td>7.3</td>\n      <td>7.4</td>\n      <td>7.4</td>\n    </tr>\n    <tr>\n      <th>3</th>\n      <td>1993</td>\n      <td>7.3</td>\n      <td>7.1</td>\n      <td>7.0</td>\n      <td>7.1</td>\n      <td>7.1</td>\n      <td>7.0</td>\n      <td>6.9</td>\n      <td>6.8</td>\n      <td>6.7</td>\n      <td>6.8</td>\n      <td>6.6</td>\n      <td>6.5</td>\n    </tr>\n    <tr>\n      <th>4</th>\n      <td>1994</td>\n      <td>6.6</td>\n      <td>6.6</td>\n      <td>6.5</td>\n      <td>6.4</td>\n      <td>6.1</td>\n      <td>6.1</td>\n      <td>6.1</td>\n      <td>6.0</td>\n      <td>5.9</td>\n      <td>5.8</td>\n      <td>5.6</td>\n      <td>5.5</td>\n    </tr>\n  </tbody>\n</table>\n</div>"
     },
     "execution_count": 57,
     "metadata": {},
     "output_type": "execute_result"
    }
   ],
   "source": [
    "bls_unemployment_df = pd.read_csv(\"/Users/magreen/Dropbox/PERSONAL/Documents/Practical_Time_Series_Analysis/Data/BLS_Unemployment/SeriesReport-20211216122642_df8ed4_Sheet1.csv\")\n",
    "bls_unemployment_df.head()\n"
   ],
   "metadata": {
    "collapsed": false,
    "pycharm": {
     "name": "#%%\n"
    }
   }
  },
  {
   "cell_type": "code",
   "execution_count": 58,
   "outputs": [
    {
     "name": "stdout",
     "output_type": "stream",
     "text": [
      "<class 'pandas.core.frame.DataFrame'>\n",
      "RangeIndex: 32 entries, 0 to 31\n",
      "Data columns (total 13 columns):\n",
      " #   Column  Non-Null Count  Dtype  \n",
      "---  ------  --------------  -----  \n",
      " 0   Year    32 non-null     int64  \n",
      " 1   Jan     32 non-null     float64\n",
      " 2   Feb     32 non-null     float64\n",
      " 3   Mar     32 non-null     float64\n",
      " 4   Apr     32 non-null     float64\n",
      " 5   May     32 non-null     float64\n",
      " 6   Jun     32 non-null     float64\n",
      " 7   Jul     32 non-null     float64\n",
      " 8   Aug     32 non-null     float64\n",
      " 9   Sep     32 non-null     float64\n",
      " 10  Oct     32 non-null     float64\n",
      " 11  Nov     32 non-null     float64\n",
      " 12  Dec     31 non-null     float64\n",
      "dtypes: float64(12), int64(1)\n",
      "memory usage: 3.4 KB\n"
     ]
    }
   ],
   "source": [
    "bls_unemployment_df.info()"
   ],
   "metadata": {
    "collapsed": false,
    "pycharm": {
     "name": "#%%\n"
    }
   }
  },
  {
   "cell_type": "code",
   "execution_count": 59,
   "outputs": [],
   "source": [
    "List_Of_Month_Names = list(bls_unemployment_df.columns[1:])\n",
    "List_Of_Years = list(bls_unemployment_df[\"Year\"])\n"
   ],
   "metadata": {
    "collapsed": false,
    "pycharm": {
     "name": "#%%\n"
    }
   }
  },
  {
   "cell_type": "code",
   "execution_count": 60,
   "outputs": [
    {
     "name": "stdout",
     "output_type": "stream",
     "text": [
      "Number of items to remove =  10\n"
     ]
    }
   ],
   "source": [
    "Number_Of_Items_To_Remove = math.ceil((PERCENT_MISSING_ITEMS/100.0) * bls_unemployment_df.shape[0])\n",
    "print(\"Number of items to remove = \", Number_Of_Items_To_Remove)"
   ],
   "metadata": {
    "collapsed": false,
    "pycharm": {
     "name": "#%%\n"
    }
   }
  },
  {
   "cell_type": "code",
   "execution_count": 61,
   "outputs": [],
   "source": [
    "bls_unemployment_rand_removed_df = bls_unemployment_df.copy()\n"
   ],
   "metadata": {
    "collapsed": false,
    "pycharm": {
     "name": "#%%\n"
    }
   }
  },
  {
   "cell_type": "markdown",
   "source": [
    "Just confirming that I picked a subset of `bls_unemployment_df`\n"
   ],
   "metadata": {
    "collapsed": false,
    "pycharm": {
     "name": "#%% md\n"
    }
   }
  },
  {
   "cell_type": "code",
   "execution_count": 62,
   "outputs": [
    {
     "data": {
      "text/plain": "(32, 13)"
     },
     "execution_count": 62,
     "metadata": {},
     "output_type": "execute_result"
    }
   ],
   "source": [
    "bls_unemployment_df.shape"
   ],
   "metadata": {
    "collapsed": false,
    "pycharm": {
     "name": "#%%\n"
    }
   }
  },
  {
   "cell_type": "code",
   "execution_count": 63,
   "outputs": [],
   "source": [
    "indices_to_clear = random.sample(list(bls_unemployment_rand_removed_df.index),Number_Of_Items_To_Remove)\n"
   ],
   "metadata": {
    "collapsed": false,
    "pycharm": {
     "name": "#%%\n"
    }
   }
  },
  {
   "cell_type": "code",
   "execution_count": 64,
   "outputs": [],
   "source": [
    "#clear them out\n",
    "bls_unemployment_rand_removed_df.loc[indices_to_clear,List_Of_Month_Names] = None\n"
   ],
   "metadata": {
    "collapsed": false,
    "pycharm": {
     "name": "#%%\n"
    }
   }
  },
  {
   "cell_type": "code",
   "execution_count": 65,
   "outputs": [
    {
     "data": {
      "text/plain": "    Year  Jan  Feb  Mar   Apr   May   Jun   Jul  Aug  Sep  Oct  Nov  Dec\n30  2020  3.5  3.5  4.4  14.8  13.3  11.1  10.2  8.4  7.8  6.9  6.7  6.7\n3   1993  7.3  7.1  7.0   7.1   7.1   7.0   6.9  6.8  6.7  6.8  6.6  6.5\n31  2021  6.3  6.2  6.0   6.1   5.8   5.9   5.4  5.2  4.8  4.6  4.2  NaN\n4   1994  6.6  6.6  6.5   6.4   6.1   6.1   6.1  6.0  5.9  5.8  5.6  5.5\n20  2010  9.8  9.8  9.9   9.9   9.6   9.4   9.4  9.5  9.5  9.4  9.8  9.3\n12  2002  5.7  5.7  5.7   5.9   5.8   5.8   5.8  5.7  5.7  5.7  5.9  6.0\n9   1999  4.3  4.4  4.2   4.3   4.2   4.3   4.3  4.2  4.2  4.1  4.1  4.0\n13  2003  5.8  5.9  5.9   6.0   6.1   6.3   6.2  6.1  6.1  6.0  5.8  5.7\n8   1998  4.6  4.6  4.7   4.3   4.4   4.5   4.5  4.5  4.6  4.5  4.4  4.4\n6   1996  5.6  5.5  5.5   5.6   5.6   5.3   5.5  5.1  5.2  5.2  5.4  5.4",
      "text/html": "<div>\n<style scoped>\n    .dataframe tbody tr th:only-of-type {\n        vertical-align: middle;\n    }\n\n    .dataframe tbody tr th {\n        vertical-align: top;\n    }\n\n    .dataframe thead th {\n        text-align: right;\n    }\n</style>\n<table border=\"1\" class=\"dataframe\">\n  <thead>\n    <tr style=\"text-align: right;\">\n      <th></th>\n      <th>Year</th>\n      <th>Jan</th>\n      <th>Feb</th>\n      <th>Mar</th>\n      <th>Apr</th>\n      <th>May</th>\n      <th>Jun</th>\n      <th>Jul</th>\n      <th>Aug</th>\n      <th>Sep</th>\n      <th>Oct</th>\n      <th>Nov</th>\n      <th>Dec</th>\n    </tr>\n  </thead>\n  <tbody>\n    <tr>\n      <th>30</th>\n      <td>2020</td>\n      <td>3.5</td>\n      <td>3.5</td>\n      <td>4.4</td>\n      <td>14.8</td>\n      <td>13.3</td>\n      <td>11.1</td>\n      <td>10.2</td>\n      <td>8.4</td>\n      <td>7.8</td>\n      <td>6.9</td>\n      <td>6.7</td>\n      <td>6.7</td>\n    </tr>\n    <tr>\n      <th>3</th>\n      <td>1993</td>\n      <td>7.3</td>\n      <td>7.1</td>\n      <td>7.0</td>\n      <td>7.1</td>\n      <td>7.1</td>\n      <td>7.0</td>\n      <td>6.9</td>\n      <td>6.8</td>\n      <td>6.7</td>\n      <td>6.8</td>\n      <td>6.6</td>\n      <td>6.5</td>\n    </tr>\n    <tr>\n      <th>31</th>\n      <td>2021</td>\n      <td>6.3</td>\n      <td>6.2</td>\n      <td>6.0</td>\n      <td>6.1</td>\n      <td>5.8</td>\n      <td>5.9</td>\n      <td>5.4</td>\n      <td>5.2</td>\n      <td>4.8</td>\n      <td>4.6</td>\n      <td>4.2</td>\n      <td>NaN</td>\n    </tr>\n    <tr>\n      <th>4</th>\n      <td>1994</td>\n      <td>6.6</td>\n      <td>6.6</td>\n      <td>6.5</td>\n      <td>6.4</td>\n      <td>6.1</td>\n      <td>6.1</td>\n      <td>6.1</td>\n      <td>6.0</td>\n      <td>5.9</td>\n      <td>5.8</td>\n      <td>5.6</td>\n      <td>5.5</td>\n    </tr>\n    <tr>\n      <th>20</th>\n      <td>2010</td>\n      <td>9.8</td>\n      <td>9.8</td>\n      <td>9.9</td>\n      <td>9.9</td>\n      <td>9.6</td>\n      <td>9.4</td>\n      <td>9.4</td>\n      <td>9.5</td>\n      <td>9.5</td>\n      <td>9.4</td>\n      <td>9.8</td>\n      <td>9.3</td>\n    </tr>\n    <tr>\n      <th>12</th>\n      <td>2002</td>\n      <td>5.7</td>\n      <td>5.7</td>\n      <td>5.7</td>\n      <td>5.9</td>\n      <td>5.8</td>\n      <td>5.8</td>\n      <td>5.8</td>\n      <td>5.7</td>\n      <td>5.7</td>\n      <td>5.7</td>\n      <td>5.9</td>\n      <td>6.0</td>\n    </tr>\n    <tr>\n      <th>9</th>\n      <td>1999</td>\n      <td>4.3</td>\n      <td>4.4</td>\n      <td>4.2</td>\n      <td>4.3</td>\n      <td>4.2</td>\n      <td>4.3</td>\n      <td>4.3</td>\n      <td>4.2</td>\n      <td>4.2</td>\n      <td>4.1</td>\n      <td>4.1</td>\n      <td>4.0</td>\n    </tr>\n    <tr>\n      <th>13</th>\n      <td>2003</td>\n      <td>5.8</td>\n      <td>5.9</td>\n      <td>5.9</td>\n      <td>6.0</td>\n      <td>6.1</td>\n      <td>6.3</td>\n      <td>6.2</td>\n      <td>6.1</td>\n      <td>6.1</td>\n      <td>6.0</td>\n      <td>5.8</td>\n      <td>5.7</td>\n    </tr>\n    <tr>\n      <th>8</th>\n      <td>1998</td>\n      <td>4.6</td>\n      <td>4.6</td>\n      <td>4.7</td>\n      <td>4.3</td>\n      <td>4.4</td>\n      <td>4.5</td>\n      <td>4.5</td>\n      <td>4.5</td>\n      <td>4.6</td>\n      <td>4.5</td>\n      <td>4.4</td>\n      <td>4.4</td>\n    </tr>\n    <tr>\n      <th>6</th>\n      <td>1996</td>\n      <td>5.6</td>\n      <td>5.5</td>\n      <td>5.5</td>\n      <td>5.6</td>\n      <td>5.6</td>\n      <td>5.3</td>\n      <td>5.5</td>\n      <td>5.1</td>\n      <td>5.2</td>\n      <td>5.2</td>\n      <td>5.4</td>\n      <td>5.4</td>\n    </tr>\n  </tbody>\n</table>\n</div>"
     },
     "execution_count": 65,
     "metadata": {},
     "output_type": "execute_result"
    }
   ],
   "source": [
    "bls_unemployment_df.iloc[indices_to_clear]\n"
   ],
   "metadata": {
    "collapsed": false,
    "pycharm": {
     "name": "#%%\n"
    }
   }
  },
  {
   "cell_type": "markdown",
   "source": [
    "confirming they are cleared out now\n"
   ],
   "metadata": {
    "collapsed": false,
    "pycharm": {
     "name": "#%% md\n"
    }
   }
  },
  {
   "cell_type": "code",
   "execution_count": 66,
   "outputs": [
    {
     "data": {
      "text/plain": "    Year  Jan  Feb  Mar  Apr  May  Jun  Jul  Aug  Sep  Oct  Nov  Dec\n30  2020  NaN  NaN  NaN  NaN  NaN  NaN  NaN  NaN  NaN  NaN  NaN  NaN\n3   1993  NaN  NaN  NaN  NaN  NaN  NaN  NaN  NaN  NaN  NaN  NaN  NaN\n31  2021  NaN  NaN  NaN  NaN  NaN  NaN  NaN  NaN  NaN  NaN  NaN  NaN\n4   1994  NaN  NaN  NaN  NaN  NaN  NaN  NaN  NaN  NaN  NaN  NaN  NaN\n20  2010  NaN  NaN  NaN  NaN  NaN  NaN  NaN  NaN  NaN  NaN  NaN  NaN\n12  2002  NaN  NaN  NaN  NaN  NaN  NaN  NaN  NaN  NaN  NaN  NaN  NaN\n9   1999  NaN  NaN  NaN  NaN  NaN  NaN  NaN  NaN  NaN  NaN  NaN  NaN\n13  2003  NaN  NaN  NaN  NaN  NaN  NaN  NaN  NaN  NaN  NaN  NaN  NaN\n8   1998  NaN  NaN  NaN  NaN  NaN  NaN  NaN  NaN  NaN  NaN  NaN  NaN\n6   1996  NaN  NaN  NaN  NaN  NaN  NaN  NaN  NaN  NaN  NaN  NaN  NaN",
      "text/html": "<div>\n<style scoped>\n    .dataframe tbody tr th:only-of-type {\n        vertical-align: middle;\n    }\n\n    .dataframe tbody tr th {\n        vertical-align: top;\n    }\n\n    .dataframe thead th {\n        text-align: right;\n    }\n</style>\n<table border=\"1\" class=\"dataframe\">\n  <thead>\n    <tr style=\"text-align: right;\">\n      <th></th>\n      <th>Year</th>\n      <th>Jan</th>\n      <th>Feb</th>\n      <th>Mar</th>\n      <th>Apr</th>\n      <th>May</th>\n      <th>Jun</th>\n      <th>Jul</th>\n      <th>Aug</th>\n      <th>Sep</th>\n      <th>Oct</th>\n      <th>Nov</th>\n      <th>Dec</th>\n    </tr>\n  </thead>\n  <tbody>\n    <tr>\n      <th>30</th>\n      <td>2020</td>\n      <td>NaN</td>\n      <td>NaN</td>\n      <td>NaN</td>\n      <td>NaN</td>\n      <td>NaN</td>\n      <td>NaN</td>\n      <td>NaN</td>\n      <td>NaN</td>\n      <td>NaN</td>\n      <td>NaN</td>\n      <td>NaN</td>\n      <td>NaN</td>\n    </tr>\n    <tr>\n      <th>3</th>\n      <td>1993</td>\n      <td>NaN</td>\n      <td>NaN</td>\n      <td>NaN</td>\n      <td>NaN</td>\n      <td>NaN</td>\n      <td>NaN</td>\n      <td>NaN</td>\n      <td>NaN</td>\n      <td>NaN</td>\n      <td>NaN</td>\n      <td>NaN</td>\n      <td>NaN</td>\n    </tr>\n    <tr>\n      <th>31</th>\n      <td>2021</td>\n      <td>NaN</td>\n      <td>NaN</td>\n      <td>NaN</td>\n      <td>NaN</td>\n      <td>NaN</td>\n      <td>NaN</td>\n      <td>NaN</td>\n      <td>NaN</td>\n      <td>NaN</td>\n      <td>NaN</td>\n      <td>NaN</td>\n      <td>NaN</td>\n    </tr>\n    <tr>\n      <th>4</th>\n      <td>1994</td>\n      <td>NaN</td>\n      <td>NaN</td>\n      <td>NaN</td>\n      <td>NaN</td>\n      <td>NaN</td>\n      <td>NaN</td>\n      <td>NaN</td>\n      <td>NaN</td>\n      <td>NaN</td>\n      <td>NaN</td>\n      <td>NaN</td>\n      <td>NaN</td>\n    </tr>\n    <tr>\n      <th>20</th>\n      <td>2010</td>\n      <td>NaN</td>\n      <td>NaN</td>\n      <td>NaN</td>\n      <td>NaN</td>\n      <td>NaN</td>\n      <td>NaN</td>\n      <td>NaN</td>\n      <td>NaN</td>\n      <td>NaN</td>\n      <td>NaN</td>\n      <td>NaN</td>\n      <td>NaN</td>\n    </tr>\n    <tr>\n      <th>12</th>\n      <td>2002</td>\n      <td>NaN</td>\n      <td>NaN</td>\n      <td>NaN</td>\n      <td>NaN</td>\n      <td>NaN</td>\n      <td>NaN</td>\n      <td>NaN</td>\n      <td>NaN</td>\n      <td>NaN</td>\n      <td>NaN</td>\n      <td>NaN</td>\n      <td>NaN</td>\n    </tr>\n    <tr>\n      <th>9</th>\n      <td>1999</td>\n      <td>NaN</td>\n      <td>NaN</td>\n      <td>NaN</td>\n      <td>NaN</td>\n      <td>NaN</td>\n      <td>NaN</td>\n      <td>NaN</td>\n      <td>NaN</td>\n      <td>NaN</td>\n      <td>NaN</td>\n      <td>NaN</td>\n      <td>NaN</td>\n    </tr>\n    <tr>\n      <th>13</th>\n      <td>2003</td>\n      <td>NaN</td>\n      <td>NaN</td>\n      <td>NaN</td>\n      <td>NaN</td>\n      <td>NaN</td>\n      <td>NaN</td>\n      <td>NaN</td>\n      <td>NaN</td>\n      <td>NaN</td>\n      <td>NaN</td>\n      <td>NaN</td>\n      <td>NaN</td>\n    </tr>\n    <tr>\n      <th>8</th>\n      <td>1998</td>\n      <td>NaN</td>\n      <td>NaN</td>\n      <td>NaN</td>\n      <td>NaN</td>\n      <td>NaN</td>\n      <td>NaN</td>\n      <td>NaN</td>\n      <td>NaN</td>\n      <td>NaN</td>\n      <td>NaN</td>\n      <td>NaN</td>\n      <td>NaN</td>\n    </tr>\n    <tr>\n      <th>6</th>\n      <td>1996</td>\n      <td>NaN</td>\n      <td>NaN</td>\n      <td>NaN</td>\n      <td>NaN</td>\n      <td>NaN</td>\n      <td>NaN</td>\n      <td>NaN</td>\n      <td>NaN</td>\n      <td>NaN</td>\n      <td>NaN</td>\n      <td>NaN</td>\n      <td>NaN</td>\n    </tr>\n  </tbody>\n</table>\n</div>"
     },
     "execution_count": 66,
     "metadata": {},
     "output_type": "execute_result"
    }
   ],
   "source": [
    "bls_unemployment_rand_removed_df.iloc[indices_to_clear]"
   ],
   "metadata": {
    "collapsed": false,
    "pycharm": {
     "name": "#%%\n"
    }
   }
  },
  {
   "cell_type": "code",
   "execution_count": 67,
   "outputs": [
    {
     "data": {
      "text/plain": "   Year  Jan  Feb  Mar  Apr  May  Jun  Jul  Aug  Sep  Oct  Nov  Dec\n0  1990  5.4  5.3  5.2  5.4  5.4  5.2  5.5  5.7  5.9  5.9  6.2  6.3\n1  1991  6.4  6.6  6.8  6.7  6.9  6.9  6.8  6.9  6.9  7.0  7.0  7.3\n2  1992  7.3  7.4  7.4  7.4  7.6  7.8  7.7  7.6  7.6  7.3  7.4  7.4\n3  1993  NaN  NaN  NaN  NaN  NaN  NaN  NaN  NaN  NaN  NaN  NaN  NaN\n4  1994  NaN  NaN  NaN  NaN  NaN  NaN  NaN  NaN  NaN  NaN  NaN  NaN",
      "text/html": "<div>\n<style scoped>\n    .dataframe tbody tr th:only-of-type {\n        vertical-align: middle;\n    }\n\n    .dataframe tbody tr th {\n        vertical-align: top;\n    }\n\n    .dataframe thead th {\n        text-align: right;\n    }\n</style>\n<table border=\"1\" class=\"dataframe\">\n  <thead>\n    <tr style=\"text-align: right;\">\n      <th></th>\n      <th>Year</th>\n      <th>Jan</th>\n      <th>Feb</th>\n      <th>Mar</th>\n      <th>Apr</th>\n      <th>May</th>\n      <th>Jun</th>\n      <th>Jul</th>\n      <th>Aug</th>\n      <th>Sep</th>\n      <th>Oct</th>\n      <th>Nov</th>\n      <th>Dec</th>\n    </tr>\n  </thead>\n  <tbody>\n    <tr>\n      <th>0</th>\n      <td>1990</td>\n      <td>5.4</td>\n      <td>5.3</td>\n      <td>5.2</td>\n      <td>5.4</td>\n      <td>5.4</td>\n      <td>5.2</td>\n      <td>5.5</td>\n      <td>5.7</td>\n      <td>5.9</td>\n      <td>5.9</td>\n      <td>6.2</td>\n      <td>6.3</td>\n    </tr>\n    <tr>\n      <th>1</th>\n      <td>1991</td>\n      <td>6.4</td>\n      <td>6.6</td>\n      <td>6.8</td>\n      <td>6.7</td>\n      <td>6.9</td>\n      <td>6.9</td>\n      <td>6.8</td>\n      <td>6.9</td>\n      <td>6.9</td>\n      <td>7.0</td>\n      <td>7.0</td>\n      <td>7.3</td>\n    </tr>\n    <tr>\n      <th>2</th>\n      <td>1992</td>\n      <td>7.3</td>\n      <td>7.4</td>\n      <td>7.4</td>\n      <td>7.4</td>\n      <td>7.6</td>\n      <td>7.8</td>\n      <td>7.7</td>\n      <td>7.6</td>\n      <td>7.6</td>\n      <td>7.3</td>\n      <td>7.4</td>\n      <td>7.4</td>\n    </tr>\n    <tr>\n      <th>3</th>\n      <td>1993</td>\n      <td>NaN</td>\n      <td>NaN</td>\n      <td>NaN</td>\n      <td>NaN</td>\n      <td>NaN</td>\n      <td>NaN</td>\n      <td>NaN</td>\n      <td>NaN</td>\n      <td>NaN</td>\n      <td>NaN</td>\n      <td>NaN</td>\n      <td>NaN</td>\n    </tr>\n    <tr>\n      <th>4</th>\n      <td>1994</td>\n      <td>NaN</td>\n      <td>NaN</td>\n      <td>NaN</td>\n      <td>NaN</td>\n      <td>NaN</td>\n      <td>NaN</td>\n      <td>NaN</td>\n      <td>NaN</td>\n      <td>NaN</td>\n      <td>NaN</td>\n      <td>NaN</td>\n      <td>NaN</td>\n    </tr>\n  </tbody>\n</table>\n</div>"
     },
     "execution_count": 67,
     "metadata": {},
     "output_type": "execute_result"
    }
   ],
   "source": [
    "#not everything is gone\n",
    "bls_unemployment_rand_removed_df.head()\n"
   ],
   "metadata": {
    "collapsed": false,
    "pycharm": {
     "name": "#%%\n"
    }
   }
  },
  {
   "cell_type": "markdown",
   "source": [
    "Now going to create a DF that will just have the top `NUMBER_OF_MAX_UNEMPLOYMENT_MONTHS_TO_REMOVE` largest months\n"
   ],
   "metadata": {
    "collapsed": false,
    "pycharm": {
     "name": "#%% md\n"
    }
   }
  },
  {
   "cell_type": "code",
   "execution_count": 68,
   "outputs": [],
   "source": [
    "bls_unemployment_tops_df = bls_unemployment_df.copy()\n"
   ],
   "metadata": {
    "collapsed": false,
    "pycharm": {
     "name": "#%%\n"
    }
   }
  },
  {
   "cell_type": "code",
   "execution_count": 69,
   "outputs": [
    {
     "data": {
      "text/plain": "   Year  Jan  Feb  Mar  Apr  May  Jun  Jul  Aug  Sep  Oct  Nov  Dec\n0  1990  5.4  5.3  5.2  5.4  5.4  5.2  5.5  5.7  5.9  5.9  6.2  6.3\n1  1991  6.4  6.6  6.8  6.7  6.9  6.9  6.8  6.9  6.9  7.0  7.0  7.3\n2  1992  7.3  7.4  7.4  7.4  7.6  7.8  7.7  7.6  7.6  7.3  7.4  7.4\n3  1993  7.3  7.1  7.0  7.1  7.1  7.0  6.9  6.8  6.7  6.8  6.6  6.5\n4  1994  6.6  6.6  6.5  6.4  6.1  6.1  6.1  6.0  5.9  5.8  5.6  5.5",
      "text/html": "<div>\n<style scoped>\n    .dataframe tbody tr th:only-of-type {\n        vertical-align: middle;\n    }\n\n    .dataframe tbody tr th {\n        vertical-align: top;\n    }\n\n    .dataframe thead th {\n        text-align: right;\n    }\n</style>\n<table border=\"1\" class=\"dataframe\">\n  <thead>\n    <tr style=\"text-align: right;\">\n      <th></th>\n      <th>Year</th>\n      <th>Jan</th>\n      <th>Feb</th>\n      <th>Mar</th>\n      <th>Apr</th>\n      <th>May</th>\n      <th>Jun</th>\n      <th>Jul</th>\n      <th>Aug</th>\n      <th>Sep</th>\n      <th>Oct</th>\n      <th>Nov</th>\n      <th>Dec</th>\n    </tr>\n  </thead>\n  <tbody>\n    <tr>\n      <th>0</th>\n      <td>1990</td>\n      <td>5.4</td>\n      <td>5.3</td>\n      <td>5.2</td>\n      <td>5.4</td>\n      <td>5.4</td>\n      <td>5.2</td>\n      <td>5.5</td>\n      <td>5.7</td>\n      <td>5.9</td>\n      <td>5.9</td>\n      <td>6.2</td>\n      <td>6.3</td>\n    </tr>\n    <tr>\n      <th>1</th>\n      <td>1991</td>\n      <td>6.4</td>\n      <td>6.6</td>\n      <td>6.8</td>\n      <td>6.7</td>\n      <td>6.9</td>\n      <td>6.9</td>\n      <td>6.8</td>\n      <td>6.9</td>\n      <td>6.9</td>\n      <td>7.0</td>\n      <td>7.0</td>\n      <td>7.3</td>\n    </tr>\n    <tr>\n      <th>2</th>\n      <td>1992</td>\n      <td>7.3</td>\n      <td>7.4</td>\n      <td>7.4</td>\n      <td>7.4</td>\n      <td>7.6</td>\n      <td>7.8</td>\n      <td>7.7</td>\n      <td>7.6</td>\n      <td>7.6</td>\n      <td>7.3</td>\n      <td>7.4</td>\n      <td>7.4</td>\n    </tr>\n    <tr>\n      <th>3</th>\n      <td>1993</td>\n      <td>7.3</td>\n      <td>7.1</td>\n      <td>7.0</td>\n      <td>7.1</td>\n      <td>7.1</td>\n      <td>7.0</td>\n      <td>6.9</td>\n      <td>6.8</td>\n      <td>6.7</td>\n      <td>6.8</td>\n      <td>6.6</td>\n      <td>6.5</td>\n    </tr>\n    <tr>\n      <th>4</th>\n      <td>1994</td>\n      <td>6.6</td>\n      <td>6.6</td>\n      <td>6.5</td>\n      <td>6.4</td>\n      <td>6.1</td>\n      <td>6.1</td>\n      <td>6.1</td>\n      <td>6.0</td>\n      <td>5.9</td>\n      <td>5.8</td>\n      <td>5.6</td>\n      <td>5.5</td>\n    </tr>\n  </tbody>\n</table>\n</div>"
     },
     "execution_count": 69,
     "metadata": {},
     "output_type": "execute_result"
    }
   ],
   "source": [
    "bls_unemployment_tops_df.head()\n"
   ],
   "metadata": {
    "collapsed": false,
    "pycharm": {
     "name": "#%%\n"
    }
   }
  },
  {
   "cell_type": "code",
   "execution_count": 70,
   "outputs": [
    {
     "data": {
      "text/plain": "2021"
     },
     "execution_count": 70,
     "metadata": {},
     "output_type": "execute_result"
    }
   ],
   "source": [
    "bls_unemployment_tops_df[\"Year\"].max()"
   ],
   "metadata": {
    "collapsed": false,
    "pycharm": {
     "name": "#%%\n"
    }
   }
  },
  {
   "cell_type": "code",
   "execution_count": 71,
   "outputs": [
    {
     "data": {
      "text/plain": "1990"
     },
     "execution_count": 71,
     "metadata": {},
     "output_type": "execute_result"
    }
   ],
   "source": [
    "bls_unemployment_tops_df[\"Year\"].min()\n"
   ],
   "metadata": {
    "collapsed": false,
    "pycharm": {
     "name": "#%%\n"
    }
   }
  },
  {
   "cell_type": "code",
   "execution_count": 72,
   "outputs": [
    {
     "data": {
      "text/plain": "    Year  Jan  Feb  Mar   Apr   May   Jun   Jul  Aug  Sep   Oct  Nov  Dec\n0   1990  5.4  5.3  5.2   5.4   5.4   5.2   5.5  5.7  5.9   5.9  6.2  6.3\n1   1991  6.4  6.6  6.8   6.7   6.9   6.9   6.8  6.9  6.9   7.0  7.0  7.3\n2   1992  7.3  7.4  7.4   7.4   7.6   7.8   7.7  7.6  7.6   7.3  7.4  7.4\n3   1993  7.3  7.1  7.0   7.1   7.1   7.0   6.9  6.8  6.7   6.8  6.6  6.5\n4   1994  6.6  6.6  6.5   6.4   6.1   6.1   6.1  6.0  5.9   5.8  5.6  5.5\n5   1995  5.6  5.4  5.4   5.8   5.6   5.6   5.7  5.7  5.6   5.5  5.6  5.6\n6   1996  5.6  5.5  5.5   5.6   5.6   5.3   5.5  5.1  5.2   5.2  5.4  5.4\n7   1997  5.3  5.2  5.2   5.1   4.9   5.0   4.9  4.8  4.9   4.7  4.6  4.7\n8   1998  4.6  4.6  4.7   4.3   4.4   4.5   4.5  4.5  4.6   4.5  4.4  4.4\n9   1999  4.3  4.4  4.2   4.3   4.2   4.3   4.3  4.2  4.2   4.1  4.1  4.0\n10  2000  4.0  4.1  4.0   3.8   4.0   4.0   4.0  4.1  3.9   3.9  3.9  3.9\n11  2001  4.2  4.2  4.3   4.4   4.3   4.5   4.6  4.9  5.0   5.3  5.5  5.7\n12  2002  5.7  5.7  5.7   5.9   5.8   5.8   5.8  5.7  5.7   5.7  5.9  6.0\n13  2003  5.8  5.9  5.9   6.0   6.1   6.3   6.2  6.1  6.1   6.0  5.8  5.7\n14  2004  5.7  5.6  5.8   5.6   5.6   5.6   5.5  5.4  5.4   5.5  5.4  5.4\n15  2005  5.3  5.4  5.2   5.2   5.1   5.0   5.0  4.9  5.0   5.0  5.0  4.9\n16  2006  4.7  4.8  4.7   4.7   4.6   4.6   4.7  4.7  4.5   4.4  4.5  4.4\n17  2007  4.6  4.5  4.4   4.5   4.4   4.6   4.7  4.6  4.7   4.7  4.7  5.0\n18  2008  5.0  4.9  5.1   5.0   5.4   5.6   5.8  6.1  6.1   6.5  6.8  7.3\n19  2009  7.8  8.3  8.7   9.0   9.4   9.5   9.5  9.6  9.8  10.0  9.9  9.9\n20  2010  9.8  9.8  9.9   9.9   9.6   9.4   9.4  9.5  9.5   9.4  9.8  9.3\n21  2011  9.1  9.0  9.0   9.1   9.0   9.1   9.0  9.0  9.0   8.8  8.6  8.5\n22  2012  8.3  8.3  8.2   8.2   8.2   8.2   8.2  8.1  7.8   7.8  7.7  7.9\n23  2013  8.0  7.7  7.5   7.6   7.5   7.5   7.3  7.2  7.2   7.2  6.9  6.7\n24  2014  6.6  6.7  6.7   6.2   6.3   6.1   6.2  6.1  5.9   5.7  5.8  5.6\n25  2015  5.7  5.5  5.4   5.4   5.6   5.3   5.2  5.1  5.0   5.0  5.1  5.0\n26  2016  4.8  4.9  5.0   5.1   4.8   4.9   4.8  4.9  5.0   4.9  4.7  4.7\n27  2017  4.7  4.6  4.4   4.5   4.4   4.3   4.3  4.4  4.2   4.1  4.2  4.1\n28  2018  4.0  4.1  4.0   4.0   3.8   4.0   3.8  3.8  3.7   3.8  3.8  3.9\n29  2019  4.0  3.8  3.8   3.7   3.7   3.6   3.6  3.7  3.5   3.6  3.6  3.6\n30  2020  3.5  3.5  4.4  14.8  13.3  11.1  10.2  8.4  7.8   6.9  6.7  6.7\n31  2021  6.3  6.2  6.0   6.1   5.8   5.9   5.4  5.2  4.8   4.6  4.2  NaN",
      "text/html": "<div>\n<style scoped>\n    .dataframe tbody tr th:only-of-type {\n        vertical-align: middle;\n    }\n\n    .dataframe tbody tr th {\n        vertical-align: top;\n    }\n\n    .dataframe thead th {\n        text-align: right;\n    }\n</style>\n<table border=\"1\" class=\"dataframe\">\n  <thead>\n    <tr style=\"text-align: right;\">\n      <th></th>\n      <th>Year</th>\n      <th>Jan</th>\n      <th>Feb</th>\n      <th>Mar</th>\n      <th>Apr</th>\n      <th>May</th>\n      <th>Jun</th>\n      <th>Jul</th>\n      <th>Aug</th>\n      <th>Sep</th>\n      <th>Oct</th>\n      <th>Nov</th>\n      <th>Dec</th>\n    </tr>\n  </thead>\n  <tbody>\n    <tr>\n      <th>0</th>\n      <td>1990</td>\n      <td>5.4</td>\n      <td>5.3</td>\n      <td>5.2</td>\n      <td>5.4</td>\n      <td>5.4</td>\n      <td>5.2</td>\n      <td>5.5</td>\n      <td>5.7</td>\n      <td>5.9</td>\n      <td>5.9</td>\n      <td>6.2</td>\n      <td>6.3</td>\n    </tr>\n    <tr>\n      <th>1</th>\n      <td>1991</td>\n      <td>6.4</td>\n      <td>6.6</td>\n      <td>6.8</td>\n      <td>6.7</td>\n      <td>6.9</td>\n      <td>6.9</td>\n      <td>6.8</td>\n      <td>6.9</td>\n      <td>6.9</td>\n      <td>7.0</td>\n      <td>7.0</td>\n      <td>7.3</td>\n    </tr>\n    <tr>\n      <th>2</th>\n      <td>1992</td>\n      <td>7.3</td>\n      <td>7.4</td>\n      <td>7.4</td>\n      <td>7.4</td>\n      <td>7.6</td>\n      <td>7.8</td>\n      <td>7.7</td>\n      <td>7.6</td>\n      <td>7.6</td>\n      <td>7.3</td>\n      <td>7.4</td>\n      <td>7.4</td>\n    </tr>\n    <tr>\n      <th>3</th>\n      <td>1993</td>\n      <td>7.3</td>\n      <td>7.1</td>\n      <td>7.0</td>\n      <td>7.1</td>\n      <td>7.1</td>\n      <td>7.0</td>\n      <td>6.9</td>\n      <td>6.8</td>\n      <td>6.7</td>\n      <td>6.8</td>\n      <td>6.6</td>\n      <td>6.5</td>\n    </tr>\n    <tr>\n      <th>4</th>\n      <td>1994</td>\n      <td>6.6</td>\n      <td>6.6</td>\n      <td>6.5</td>\n      <td>6.4</td>\n      <td>6.1</td>\n      <td>6.1</td>\n      <td>6.1</td>\n      <td>6.0</td>\n      <td>5.9</td>\n      <td>5.8</td>\n      <td>5.6</td>\n      <td>5.5</td>\n    </tr>\n    <tr>\n      <th>5</th>\n      <td>1995</td>\n      <td>5.6</td>\n      <td>5.4</td>\n      <td>5.4</td>\n      <td>5.8</td>\n      <td>5.6</td>\n      <td>5.6</td>\n      <td>5.7</td>\n      <td>5.7</td>\n      <td>5.6</td>\n      <td>5.5</td>\n      <td>5.6</td>\n      <td>5.6</td>\n    </tr>\n    <tr>\n      <th>6</th>\n      <td>1996</td>\n      <td>5.6</td>\n      <td>5.5</td>\n      <td>5.5</td>\n      <td>5.6</td>\n      <td>5.6</td>\n      <td>5.3</td>\n      <td>5.5</td>\n      <td>5.1</td>\n      <td>5.2</td>\n      <td>5.2</td>\n      <td>5.4</td>\n      <td>5.4</td>\n    </tr>\n    <tr>\n      <th>7</th>\n      <td>1997</td>\n      <td>5.3</td>\n      <td>5.2</td>\n      <td>5.2</td>\n      <td>5.1</td>\n      <td>4.9</td>\n      <td>5.0</td>\n      <td>4.9</td>\n      <td>4.8</td>\n      <td>4.9</td>\n      <td>4.7</td>\n      <td>4.6</td>\n      <td>4.7</td>\n    </tr>\n    <tr>\n      <th>8</th>\n      <td>1998</td>\n      <td>4.6</td>\n      <td>4.6</td>\n      <td>4.7</td>\n      <td>4.3</td>\n      <td>4.4</td>\n      <td>4.5</td>\n      <td>4.5</td>\n      <td>4.5</td>\n      <td>4.6</td>\n      <td>4.5</td>\n      <td>4.4</td>\n      <td>4.4</td>\n    </tr>\n    <tr>\n      <th>9</th>\n      <td>1999</td>\n      <td>4.3</td>\n      <td>4.4</td>\n      <td>4.2</td>\n      <td>4.3</td>\n      <td>4.2</td>\n      <td>4.3</td>\n      <td>4.3</td>\n      <td>4.2</td>\n      <td>4.2</td>\n      <td>4.1</td>\n      <td>4.1</td>\n      <td>4.0</td>\n    </tr>\n    <tr>\n      <th>10</th>\n      <td>2000</td>\n      <td>4.0</td>\n      <td>4.1</td>\n      <td>4.0</td>\n      <td>3.8</td>\n      <td>4.0</td>\n      <td>4.0</td>\n      <td>4.0</td>\n      <td>4.1</td>\n      <td>3.9</td>\n      <td>3.9</td>\n      <td>3.9</td>\n      <td>3.9</td>\n    </tr>\n    <tr>\n      <th>11</th>\n      <td>2001</td>\n      <td>4.2</td>\n      <td>4.2</td>\n      <td>4.3</td>\n      <td>4.4</td>\n      <td>4.3</td>\n      <td>4.5</td>\n      <td>4.6</td>\n      <td>4.9</td>\n      <td>5.0</td>\n      <td>5.3</td>\n      <td>5.5</td>\n      <td>5.7</td>\n    </tr>\n    <tr>\n      <th>12</th>\n      <td>2002</td>\n      <td>5.7</td>\n      <td>5.7</td>\n      <td>5.7</td>\n      <td>5.9</td>\n      <td>5.8</td>\n      <td>5.8</td>\n      <td>5.8</td>\n      <td>5.7</td>\n      <td>5.7</td>\n      <td>5.7</td>\n      <td>5.9</td>\n      <td>6.0</td>\n    </tr>\n    <tr>\n      <th>13</th>\n      <td>2003</td>\n      <td>5.8</td>\n      <td>5.9</td>\n      <td>5.9</td>\n      <td>6.0</td>\n      <td>6.1</td>\n      <td>6.3</td>\n      <td>6.2</td>\n      <td>6.1</td>\n      <td>6.1</td>\n      <td>6.0</td>\n      <td>5.8</td>\n      <td>5.7</td>\n    </tr>\n    <tr>\n      <th>14</th>\n      <td>2004</td>\n      <td>5.7</td>\n      <td>5.6</td>\n      <td>5.8</td>\n      <td>5.6</td>\n      <td>5.6</td>\n      <td>5.6</td>\n      <td>5.5</td>\n      <td>5.4</td>\n      <td>5.4</td>\n      <td>5.5</td>\n      <td>5.4</td>\n      <td>5.4</td>\n    </tr>\n    <tr>\n      <th>15</th>\n      <td>2005</td>\n      <td>5.3</td>\n      <td>5.4</td>\n      <td>5.2</td>\n      <td>5.2</td>\n      <td>5.1</td>\n      <td>5.0</td>\n      <td>5.0</td>\n      <td>4.9</td>\n      <td>5.0</td>\n      <td>5.0</td>\n      <td>5.0</td>\n      <td>4.9</td>\n    </tr>\n    <tr>\n      <th>16</th>\n      <td>2006</td>\n      <td>4.7</td>\n      <td>4.8</td>\n      <td>4.7</td>\n      <td>4.7</td>\n      <td>4.6</td>\n      <td>4.6</td>\n      <td>4.7</td>\n      <td>4.7</td>\n      <td>4.5</td>\n      <td>4.4</td>\n      <td>4.5</td>\n      <td>4.4</td>\n    </tr>\n    <tr>\n      <th>17</th>\n      <td>2007</td>\n      <td>4.6</td>\n      <td>4.5</td>\n      <td>4.4</td>\n      <td>4.5</td>\n      <td>4.4</td>\n      <td>4.6</td>\n      <td>4.7</td>\n      <td>4.6</td>\n      <td>4.7</td>\n      <td>4.7</td>\n      <td>4.7</td>\n      <td>5.0</td>\n    </tr>\n    <tr>\n      <th>18</th>\n      <td>2008</td>\n      <td>5.0</td>\n      <td>4.9</td>\n      <td>5.1</td>\n      <td>5.0</td>\n      <td>5.4</td>\n      <td>5.6</td>\n      <td>5.8</td>\n      <td>6.1</td>\n      <td>6.1</td>\n      <td>6.5</td>\n      <td>6.8</td>\n      <td>7.3</td>\n    </tr>\n    <tr>\n      <th>19</th>\n      <td>2009</td>\n      <td>7.8</td>\n      <td>8.3</td>\n      <td>8.7</td>\n      <td>9.0</td>\n      <td>9.4</td>\n      <td>9.5</td>\n      <td>9.5</td>\n      <td>9.6</td>\n      <td>9.8</td>\n      <td>10.0</td>\n      <td>9.9</td>\n      <td>9.9</td>\n    </tr>\n    <tr>\n      <th>20</th>\n      <td>2010</td>\n      <td>9.8</td>\n      <td>9.8</td>\n      <td>9.9</td>\n      <td>9.9</td>\n      <td>9.6</td>\n      <td>9.4</td>\n      <td>9.4</td>\n      <td>9.5</td>\n      <td>9.5</td>\n      <td>9.4</td>\n      <td>9.8</td>\n      <td>9.3</td>\n    </tr>\n    <tr>\n      <th>21</th>\n      <td>2011</td>\n      <td>9.1</td>\n      <td>9.0</td>\n      <td>9.0</td>\n      <td>9.1</td>\n      <td>9.0</td>\n      <td>9.1</td>\n      <td>9.0</td>\n      <td>9.0</td>\n      <td>9.0</td>\n      <td>8.8</td>\n      <td>8.6</td>\n      <td>8.5</td>\n    </tr>\n    <tr>\n      <th>22</th>\n      <td>2012</td>\n      <td>8.3</td>\n      <td>8.3</td>\n      <td>8.2</td>\n      <td>8.2</td>\n      <td>8.2</td>\n      <td>8.2</td>\n      <td>8.2</td>\n      <td>8.1</td>\n      <td>7.8</td>\n      <td>7.8</td>\n      <td>7.7</td>\n      <td>7.9</td>\n    </tr>\n    <tr>\n      <th>23</th>\n      <td>2013</td>\n      <td>8.0</td>\n      <td>7.7</td>\n      <td>7.5</td>\n      <td>7.6</td>\n      <td>7.5</td>\n      <td>7.5</td>\n      <td>7.3</td>\n      <td>7.2</td>\n      <td>7.2</td>\n      <td>7.2</td>\n      <td>6.9</td>\n      <td>6.7</td>\n    </tr>\n    <tr>\n      <th>24</th>\n      <td>2014</td>\n      <td>6.6</td>\n      <td>6.7</td>\n      <td>6.7</td>\n      <td>6.2</td>\n      <td>6.3</td>\n      <td>6.1</td>\n      <td>6.2</td>\n      <td>6.1</td>\n      <td>5.9</td>\n      <td>5.7</td>\n      <td>5.8</td>\n      <td>5.6</td>\n    </tr>\n    <tr>\n      <th>25</th>\n      <td>2015</td>\n      <td>5.7</td>\n      <td>5.5</td>\n      <td>5.4</td>\n      <td>5.4</td>\n      <td>5.6</td>\n      <td>5.3</td>\n      <td>5.2</td>\n      <td>5.1</td>\n      <td>5.0</td>\n      <td>5.0</td>\n      <td>5.1</td>\n      <td>5.0</td>\n    </tr>\n    <tr>\n      <th>26</th>\n      <td>2016</td>\n      <td>4.8</td>\n      <td>4.9</td>\n      <td>5.0</td>\n      <td>5.1</td>\n      <td>4.8</td>\n      <td>4.9</td>\n      <td>4.8</td>\n      <td>4.9</td>\n      <td>5.0</td>\n      <td>4.9</td>\n      <td>4.7</td>\n      <td>4.7</td>\n    </tr>\n    <tr>\n      <th>27</th>\n      <td>2017</td>\n      <td>4.7</td>\n      <td>4.6</td>\n      <td>4.4</td>\n      <td>4.5</td>\n      <td>4.4</td>\n      <td>4.3</td>\n      <td>4.3</td>\n      <td>4.4</td>\n      <td>4.2</td>\n      <td>4.1</td>\n      <td>4.2</td>\n      <td>4.1</td>\n    </tr>\n    <tr>\n      <th>28</th>\n      <td>2018</td>\n      <td>4.0</td>\n      <td>4.1</td>\n      <td>4.0</td>\n      <td>4.0</td>\n      <td>3.8</td>\n      <td>4.0</td>\n      <td>3.8</td>\n      <td>3.8</td>\n      <td>3.7</td>\n      <td>3.8</td>\n      <td>3.8</td>\n      <td>3.9</td>\n    </tr>\n    <tr>\n      <th>29</th>\n      <td>2019</td>\n      <td>4.0</td>\n      <td>3.8</td>\n      <td>3.8</td>\n      <td>3.7</td>\n      <td>3.7</td>\n      <td>3.6</td>\n      <td>3.6</td>\n      <td>3.7</td>\n      <td>3.5</td>\n      <td>3.6</td>\n      <td>3.6</td>\n      <td>3.6</td>\n    </tr>\n    <tr>\n      <th>30</th>\n      <td>2020</td>\n      <td>3.5</td>\n      <td>3.5</td>\n      <td>4.4</td>\n      <td>14.8</td>\n      <td>13.3</td>\n      <td>11.1</td>\n      <td>10.2</td>\n      <td>8.4</td>\n      <td>7.8</td>\n      <td>6.9</td>\n      <td>6.7</td>\n      <td>6.7</td>\n    </tr>\n    <tr>\n      <th>31</th>\n      <td>2021</td>\n      <td>6.3</td>\n      <td>6.2</td>\n      <td>6.0</td>\n      <td>6.1</td>\n      <td>5.8</td>\n      <td>5.9</td>\n      <td>5.4</td>\n      <td>5.2</td>\n      <td>4.8</td>\n      <td>4.6</td>\n      <td>4.2</td>\n      <td>NaN</td>\n    </tr>\n  </tbody>\n</table>\n</div>"
     },
     "execution_count": 72,
     "metadata": {},
     "output_type": "execute_result"
    }
   ],
   "source": [
    "bls_unemployment_tops_df[ (bls_unemployment_tops_df[\"Year\"]>=bls_unemployment_tops_df[\"Year\"].min()) | (bls_unemployment_tops_df[\"Year\"]<=bls_unemployment_tops_df[\"Year\"].max())]\n"
   ],
   "metadata": {
    "collapsed": false,
    "pycharm": {
     "name": "#%%\n"
    }
   }
  },
  {
   "cell_type": "code",
   "execution_count": 73,
   "outputs": [
    {
     "data": {
      "text/plain": "Year    2021.0\nJan        9.8\nFeb        9.8\nMar        9.9\nApr       14.8\nMay       13.3\nJun       11.1\nJul       10.2\nAug        9.6\nSep        9.8\nOct       10.0\nNov        9.9\nDec        9.9\ndtype: float64"
     },
     "execution_count": 73,
     "metadata": {},
     "output_type": "execute_result"
    }
   ],
   "source": [
    "bls_unemployment_tops_df.iloc[:,:].max()"
   ],
   "metadata": {
    "collapsed": false,
    "pycharm": {
     "name": "#%%\n"
    }
   }
  },
  {
   "cell_type": "code",
   "execution_count": 74,
   "outputs": [],
   "source": [
    "my_month_year_unemp_dict = {}"
   ],
   "metadata": {
    "collapsed": false,
    "pycharm": {
     "name": "#%%\n"
    }
   }
  },
  {
   "cell_type": "code",
   "execution_count": 75,
   "outputs": [
    {
     "name": "stdout",
     "output_type": "stream",
     "text": [
      "{}\n"
     ]
    }
   ],
   "source": [
    "#now that I'm using a full IDE I prolly won't need to do so much printing out in my notebook (I hope).\n",
    "print(my_month_year_unemp_dict)"
   ],
   "metadata": {
    "collapsed": false,
    "pycharm": {
     "name": "#%%\n"
    }
   }
  },
  {
   "cell_type": "code",
   "execution_count": 76,
   "outputs": [
    {
     "name": "stdout",
     "output_type": "stream",
     "text": [
      "{'Dec_2010.0': 9.3, 'May_2009.0': 9.4, 'Jun_2010.0': 9.4, 'Jul_2010.0': 9.4, 'Oct_2010.0': 9.4, 'Jun_2009.0': 9.5, 'Jul_2009.0': 9.5, 'Aug_2010.0': 9.5, 'Sep_2010.0': 9.5, 'Aug_2009.0': 9.6, 'May_2010.0': 9.6, 'Sep_2009.0': 9.8, 'Jan_2010.0': 9.8, 'Feb_2010.0': 9.8, 'Nov_2010.0': 9.8, 'Nov_2009.0': 9.9, 'Dec_2009.0': 9.9, 'Mar_2010.0': 9.9, 'Apr_2010.0': 9.9, 'Oct_2009.0': 10.0, 'Jul_2020.0': 10.2, 'Jun_2020.0': 11.1, 'May_2020.0': 13.3, 'Apr_2020.0': 14.8, 'Dec_2021.0': nan}\n"
     ]
    }
   ],
   "source": [
    "#Unroll the DF into a dictionary of unemp numbers and (Year,Month) tuples\n",
    "for myrow in bls_unemployment_tops_df.iterrows():\n",
    "    temp_row = myrow[1]\n",
    "    temp_row_year = temp_row[\"Year\"]\n",
    "\n",
    "    for mymonth in List_Of_Month_Names:\n",
    "        my_month_year_unemp_dict[mymonth+\"_\"+str(temp_row_year)] = temp_row[mymonth]\n",
    "\n",
    "\n",
    "\n",
    "#Sort the dictionary by the values (the unemp numbers)\n",
    "my_month_year_unemp_sorted_list = sorted(my_month_year_unemp_dict.items(), key=lambda x:x[1])\n",
    "my_month_year_unemp_top10_dict = dict(my_month_year_unemp_sorted_list[-1*NUMBER_OF_MAX_UNEMPLOYMENT_MONTHS_TO_REMOVE:])\n",
    "#Pick the largest 10\n",
    "print(my_month_year_unemp_top10_dict)\n",
    "\n",
    "\n",
    "\n"
   ],
   "metadata": {
    "collapsed": false,
    "pycharm": {
     "name": "#%%\n"
    }
   }
  },
  {
   "cell_type": "code",
   "execution_count": 77,
   "outputs": [
    {
     "name": "stdout",
     "output_type": "stream",
     "text": [
      "[('Dec', 2010.0), ('May', 2009.0), ('Jun', 2010.0), ('Jul', 2010.0), ('Oct', 2010.0), ('Jun', 2009.0), ('Jul', 2009.0), ('Aug', 2010.0), ('Sep', 2010.0), ('Aug', 2009.0), ('May', 2010.0), ('Sep', 2009.0), ('Jan', 2010.0), ('Feb', 2010.0), ('Nov', 2010.0), ('Nov', 2009.0), ('Dec', 2009.0), ('Mar', 2010.0), ('Apr', 2010.0), ('Oct', 2009.0), ('Jul', 2020.0), ('Jun', 2020.0), ('May', 2020.0), ('Apr', 2020.0), ('Dec', 2021.0)]\n"
     ]
    }
   ],
   "source": [
    "list_of_month_year_to_keep = []\n",
    "\n",
    "for monthyear in my_month_year_unemp_top10_dict:\n",
    "    temp_month, temp_year = monthyear.split(\"_\")\n",
    "    temp_year = float(temp_year)\n",
    "    list_of_month_year_to_keep.append((temp_month,temp_year))\n",
    "\n",
    "print(list_of_month_year_to_keep)"
   ],
   "metadata": {
    "collapsed": false,
    "pycharm": {
     "name": "#%%\n"
    }
   }
  },
  {
   "cell_type": "code",
   "execution_count": 78,
   "outputs": [],
   "source": [
    "#create a new DF containing years 1990-2021 and months Jan-Dec\n",
    "#fill in the values from DF\n",
    "#the unassigned values make them NaN\n",
    "for mymonth in List_Of_Month_Names:\n",
    "    #print(\"type mymonth \",type(mymonth))\n",
    "    #print(\"mymonth in \")\n",
    "    for myyear in List_Of_Years:\n",
    "        temp_year = float(myyear)\n",
    "\n",
    "        #if you want to keep only the top NUMBER_OF_MAX_UNEMPLOYMENT_MONTHS_TO_REMOVE\n",
    "        #if not( (mymonth,temp_year) in list_of_month_year_to_keep):\n",
    "\n",
    "        #if you want to remove the top NUMBER_OF_MAX_UNEMPLOYMENT_MONTHS_TO_REMOVE\n",
    "        if  (mymonth,temp_year) in list_of_month_year_to_keep:\n",
    "\n",
    "\n",
    "            selector = (bls_unemployment_tops_df[\"Year\"] == temp_year)\n",
    "            bls_unemployment_tops_df.loc[selector,mymonth] = None\n"
   ],
   "metadata": {
    "collapsed": false,
    "pycharm": {
     "name": "#%%\n"
    }
   }
  },
  {
   "cell_type": "code",
   "execution_count": 79,
   "outputs": [
    {
     "data": {
      "text/plain": "    Year  Jan  Feb  Mar  Apr  May  Jun  Jul  Aug  Sep  Oct  Nov  Dec\n0   1990  5.4  5.3  5.2  5.4  5.4  5.2  5.5  5.7  5.9  5.9  6.2  6.3\n1   1991  6.4  6.6  6.8  6.7  6.9  6.9  6.8  6.9  6.9  7.0  7.0  7.3\n2   1992  7.3  7.4  7.4  7.4  7.6  7.8  7.7  7.6  7.6  7.3  7.4  7.4\n3   1993  7.3  7.1  7.0  7.1  7.1  7.0  6.9  6.8  6.7  6.8  6.6  6.5\n4   1994  6.6  6.6  6.5  6.4  6.1  6.1  6.1  6.0  5.9  5.8  5.6  5.5\n5   1995  5.6  5.4  5.4  5.8  5.6  5.6  5.7  5.7  5.6  5.5  5.6  5.6\n6   1996  5.6  5.5  5.5  5.6  5.6  5.3  5.5  5.1  5.2  5.2  5.4  5.4\n7   1997  5.3  5.2  5.2  5.1  4.9  5.0  4.9  4.8  4.9  4.7  4.6  4.7\n8   1998  4.6  4.6  4.7  4.3  4.4  4.5  4.5  4.5  4.6  4.5  4.4  4.4\n9   1999  4.3  4.4  4.2  4.3  4.2  4.3  4.3  4.2  4.2  4.1  4.1  4.0\n10  2000  4.0  4.1  4.0  3.8  4.0  4.0  4.0  4.1  3.9  3.9  3.9  3.9\n11  2001  4.2  4.2  4.3  4.4  4.3  4.5  4.6  4.9  5.0  5.3  5.5  5.7\n12  2002  5.7  5.7  5.7  5.9  5.8  5.8  5.8  5.7  5.7  5.7  5.9  6.0\n13  2003  5.8  5.9  5.9  6.0  6.1  6.3  6.2  6.1  6.1  6.0  5.8  5.7\n14  2004  5.7  5.6  5.8  5.6  5.6  5.6  5.5  5.4  5.4  5.5  5.4  5.4\n15  2005  5.3  5.4  5.2  5.2  5.1  5.0  5.0  4.9  5.0  5.0  5.0  4.9\n16  2006  4.7  4.8  4.7  4.7  4.6  4.6  4.7  4.7  4.5  4.4  4.5  4.4\n17  2007  4.6  4.5  4.4  4.5  4.4  4.6  4.7  4.6  4.7  4.7  4.7  5.0\n18  2008  5.0  4.9  5.1  5.0  5.4  5.6  5.8  6.1  6.1  6.5  6.8  7.3\n19  2009  7.8  8.3  8.7  9.0  NaN  NaN  NaN  NaN  NaN  NaN  NaN  NaN\n20  2010  NaN  NaN  NaN  NaN  NaN  NaN  NaN  NaN  NaN  NaN  NaN  NaN\n21  2011  9.1  9.0  9.0  9.1  9.0  9.1  9.0  9.0  9.0  8.8  8.6  8.5\n22  2012  8.3  8.3  8.2  8.2  8.2  8.2  8.2  8.1  7.8  7.8  7.7  7.9\n23  2013  8.0  7.7  7.5  7.6  7.5  7.5  7.3  7.2  7.2  7.2  6.9  6.7\n24  2014  6.6  6.7  6.7  6.2  6.3  6.1  6.2  6.1  5.9  5.7  5.8  5.6\n25  2015  5.7  5.5  5.4  5.4  5.6  5.3  5.2  5.1  5.0  5.0  5.1  5.0\n26  2016  4.8  4.9  5.0  5.1  4.8  4.9  4.8  4.9  5.0  4.9  4.7  4.7\n27  2017  4.7  4.6  4.4  4.5  4.4  4.3  4.3  4.4  4.2  4.1  4.2  4.1\n28  2018  4.0  4.1  4.0  4.0  3.8  4.0  3.8  3.8  3.7  3.8  3.8  3.9\n29  2019  4.0  3.8  3.8  3.7  3.7  3.6  3.6  3.7  3.5  3.6  3.6  3.6\n30  2020  3.5  3.5  4.4  NaN  NaN  NaN  NaN  8.4  7.8  6.9  6.7  6.7\n31  2021  6.3  6.2  6.0  6.1  5.8  5.9  5.4  5.2  4.8  4.6  4.2  NaN",
      "text/html": "<div>\n<style scoped>\n    .dataframe tbody tr th:only-of-type {\n        vertical-align: middle;\n    }\n\n    .dataframe tbody tr th {\n        vertical-align: top;\n    }\n\n    .dataframe thead th {\n        text-align: right;\n    }\n</style>\n<table border=\"1\" class=\"dataframe\">\n  <thead>\n    <tr style=\"text-align: right;\">\n      <th></th>\n      <th>Year</th>\n      <th>Jan</th>\n      <th>Feb</th>\n      <th>Mar</th>\n      <th>Apr</th>\n      <th>May</th>\n      <th>Jun</th>\n      <th>Jul</th>\n      <th>Aug</th>\n      <th>Sep</th>\n      <th>Oct</th>\n      <th>Nov</th>\n      <th>Dec</th>\n    </tr>\n  </thead>\n  <tbody>\n    <tr>\n      <th>0</th>\n      <td>1990</td>\n      <td>5.4</td>\n      <td>5.3</td>\n      <td>5.2</td>\n      <td>5.4</td>\n      <td>5.4</td>\n      <td>5.2</td>\n      <td>5.5</td>\n      <td>5.7</td>\n      <td>5.9</td>\n      <td>5.9</td>\n      <td>6.2</td>\n      <td>6.3</td>\n    </tr>\n    <tr>\n      <th>1</th>\n      <td>1991</td>\n      <td>6.4</td>\n      <td>6.6</td>\n      <td>6.8</td>\n      <td>6.7</td>\n      <td>6.9</td>\n      <td>6.9</td>\n      <td>6.8</td>\n      <td>6.9</td>\n      <td>6.9</td>\n      <td>7.0</td>\n      <td>7.0</td>\n      <td>7.3</td>\n    </tr>\n    <tr>\n      <th>2</th>\n      <td>1992</td>\n      <td>7.3</td>\n      <td>7.4</td>\n      <td>7.4</td>\n      <td>7.4</td>\n      <td>7.6</td>\n      <td>7.8</td>\n      <td>7.7</td>\n      <td>7.6</td>\n      <td>7.6</td>\n      <td>7.3</td>\n      <td>7.4</td>\n      <td>7.4</td>\n    </tr>\n    <tr>\n      <th>3</th>\n      <td>1993</td>\n      <td>7.3</td>\n      <td>7.1</td>\n      <td>7.0</td>\n      <td>7.1</td>\n      <td>7.1</td>\n      <td>7.0</td>\n      <td>6.9</td>\n      <td>6.8</td>\n      <td>6.7</td>\n      <td>6.8</td>\n      <td>6.6</td>\n      <td>6.5</td>\n    </tr>\n    <tr>\n      <th>4</th>\n      <td>1994</td>\n      <td>6.6</td>\n      <td>6.6</td>\n      <td>6.5</td>\n      <td>6.4</td>\n      <td>6.1</td>\n      <td>6.1</td>\n      <td>6.1</td>\n      <td>6.0</td>\n      <td>5.9</td>\n      <td>5.8</td>\n      <td>5.6</td>\n      <td>5.5</td>\n    </tr>\n    <tr>\n      <th>5</th>\n      <td>1995</td>\n      <td>5.6</td>\n      <td>5.4</td>\n      <td>5.4</td>\n      <td>5.8</td>\n      <td>5.6</td>\n      <td>5.6</td>\n      <td>5.7</td>\n      <td>5.7</td>\n      <td>5.6</td>\n      <td>5.5</td>\n      <td>5.6</td>\n      <td>5.6</td>\n    </tr>\n    <tr>\n      <th>6</th>\n      <td>1996</td>\n      <td>5.6</td>\n      <td>5.5</td>\n      <td>5.5</td>\n      <td>5.6</td>\n      <td>5.6</td>\n      <td>5.3</td>\n      <td>5.5</td>\n      <td>5.1</td>\n      <td>5.2</td>\n      <td>5.2</td>\n      <td>5.4</td>\n      <td>5.4</td>\n    </tr>\n    <tr>\n      <th>7</th>\n      <td>1997</td>\n      <td>5.3</td>\n      <td>5.2</td>\n      <td>5.2</td>\n      <td>5.1</td>\n      <td>4.9</td>\n      <td>5.0</td>\n      <td>4.9</td>\n      <td>4.8</td>\n      <td>4.9</td>\n      <td>4.7</td>\n      <td>4.6</td>\n      <td>4.7</td>\n    </tr>\n    <tr>\n      <th>8</th>\n      <td>1998</td>\n      <td>4.6</td>\n      <td>4.6</td>\n      <td>4.7</td>\n      <td>4.3</td>\n      <td>4.4</td>\n      <td>4.5</td>\n      <td>4.5</td>\n      <td>4.5</td>\n      <td>4.6</td>\n      <td>4.5</td>\n      <td>4.4</td>\n      <td>4.4</td>\n    </tr>\n    <tr>\n      <th>9</th>\n      <td>1999</td>\n      <td>4.3</td>\n      <td>4.4</td>\n      <td>4.2</td>\n      <td>4.3</td>\n      <td>4.2</td>\n      <td>4.3</td>\n      <td>4.3</td>\n      <td>4.2</td>\n      <td>4.2</td>\n      <td>4.1</td>\n      <td>4.1</td>\n      <td>4.0</td>\n    </tr>\n    <tr>\n      <th>10</th>\n      <td>2000</td>\n      <td>4.0</td>\n      <td>4.1</td>\n      <td>4.0</td>\n      <td>3.8</td>\n      <td>4.0</td>\n      <td>4.0</td>\n      <td>4.0</td>\n      <td>4.1</td>\n      <td>3.9</td>\n      <td>3.9</td>\n      <td>3.9</td>\n      <td>3.9</td>\n    </tr>\n    <tr>\n      <th>11</th>\n      <td>2001</td>\n      <td>4.2</td>\n      <td>4.2</td>\n      <td>4.3</td>\n      <td>4.4</td>\n      <td>4.3</td>\n      <td>4.5</td>\n      <td>4.6</td>\n      <td>4.9</td>\n      <td>5.0</td>\n      <td>5.3</td>\n      <td>5.5</td>\n      <td>5.7</td>\n    </tr>\n    <tr>\n      <th>12</th>\n      <td>2002</td>\n      <td>5.7</td>\n      <td>5.7</td>\n      <td>5.7</td>\n      <td>5.9</td>\n      <td>5.8</td>\n      <td>5.8</td>\n      <td>5.8</td>\n      <td>5.7</td>\n      <td>5.7</td>\n      <td>5.7</td>\n      <td>5.9</td>\n      <td>6.0</td>\n    </tr>\n    <tr>\n      <th>13</th>\n      <td>2003</td>\n      <td>5.8</td>\n      <td>5.9</td>\n      <td>5.9</td>\n      <td>6.0</td>\n      <td>6.1</td>\n      <td>6.3</td>\n      <td>6.2</td>\n      <td>6.1</td>\n      <td>6.1</td>\n      <td>6.0</td>\n      <td>5.8</td>\n      <td>5.7</td>\n    </tr>\n    <tr>\n      <th>14</th>\n      <td>2004</td>\n      <td>5.7</td>\n      <td>5.6</td>\n      <td>5.8</td>\n      <td>5.6</td>\n      <td>5.6</td>\n      <td>5.6</td>\n      <td>5.5</td>\n      <td>5.4</td>\n      <td>5.4</td>\n      <td>5.5</td>\n      <td>5.4</td>\n      <td>5.4</td>\n    </tr>\n    <tr>\n      <th>15</th>\n      <td>2005</td>\n      <td>5.3</td>\n      <td>5.4</td>\n      <td>5.2</td>\n      <td>5.2</td>\n      <td>5.1</td>\n      <td>5.0</td>\n      <td>5.0</td>\n      <td>4.9</td>\n      <td>5.0</td>\n      <td>5.0</td>\n      <td>5.0</td>\n      <td>4.9</td>\n    </tr>\n    <tr>\n      <th>16</th>\n      <td>2006</td>\n      <td>4.7</td>\n      <td>4.8</td>\n      <td>4.7</td>\n      <td>4.7</td>\n      <td>4.6</td>\n      <td>4.6</td>\n      <td>4.7</td>\n      <td>4.7</td>\n      <td>4.5</td>\n      <td>4.4</td>\n      <td>4.5</td>\n      <td>4.4</td>\n    </tr>\n    <tr>\n      <th>17</th>\n      <td>2007</td>\n      <td>4.6</td>\n      <td>4.5</td>\n      <td>4.4</td>\n      <td>4.5</td>\n      <td>4.4</td>\n      <td>4.6</td>\n      <td>4.7</td>\n      <td>4.6</td>\n      <td>4.7</td>\n      <td>4.7</td>\n      <td>4.7</td>\n      <td>5.0</td>\n    </tr>\n    <tr>\n      <th>18</th>\n      <td>2008</td>\n      <td>5.0</td>\n      <td>4.9</td>\n      <td>5.1</td>\n      <td>5.0</td>\n      <td>5.4</td>\n      <td>5.6</td>\n      <td>5.8</td>\n      <td>6.1</td>\n      <td>6.1</td>\n      <td>6.5</td>\n      <td>6.8</td>\n      <td>7.3</td>\n    </tr>\n    <tr>\n      <th>19</th>\n      <td>2009</td>\n      <td>7.8</td>\n      <td>8.3</td>\n      <td>8.7</td>\n      <td>9.0</td>\n      <td>NaN</td>\n      <td>NaN</td>\n      <td>NaN</td>\n      <td>NaN</td>\n      <td>NaN</td>\n      <td>NaN</td>\n      <td>NaN</td>\n      <td>NaN</td>\n    </tr>\n    <tr>\n      <th>20</th>\n      <td>2010</td>\n      <td>NaN</td>\n      <td>NaN</td>\n      <td>NaN</td>\n      <td>NaN</td>\n      <td>NaN</td>\n      <td>NaN</td>\n      <td>NaN</td>\n      <td>NaN</td>\n      <td>NaN</td>\n      <td>NaN</td>\n      <td>NaN</td>\n      <td>NaN</td>\n    </tr>\n    <tr>\n      <th>21</th>\n      <td>2011</td>\n      <td>9.1</td>\n      <td>9.0</td>\n      <td>9.0</td>\n      <td>9.1</td>\n      <td>9.0</td>\n      <td>9.1</td>\n      <td>9.0</td>\n      <td>9.0</td>\n      <td>9.0</td>\n      <td>8.8</td>\n      <td>8.6</td>\n      <td>8.5</td>\n    </tr>\n    <tr>\n      <th>22</th>\n      <td>2012</td>\n      <td>8.3</td>\n      <td>8.3</td>\n      <td>8.2</td>\n      <td>8.2</td>\n      <td>8.2</td>\n      <td>8.2</td>\n      <td>8.2</td>\n      <td>8.1</td>\n      <td>7.8</td>\n      <td>7.8</td>\n      <td>7.7</td>\n      <td>7.9</td>\n    </tr>\n    <tr>\n      <th>23</th>\n      <td>2013</td>\n      <td>8.0</td>\n      <td>7.7</td>\n      <td>7.5</td>\n      <td>7.6</td>\n      <td>7.5</td>\n      <td>7.5</td>\n      <td>7.3</td>\n      <td>7.2</td>\n      <td>7.2</td>\n      <td>7.2</td>\n      <td>6.9</td>\n      <td>6.7</td>\n    </tr>\n    <tr>\n      <th>24</th>\n      <td>2014</td>\n      <td>6.6</td>\n      <td>6.7</td>\n      <td>6.7</td>\n      <td>6.2</td>\n      <td>6.3</td>\n      <td>6.1</td>\n      <td>6.2</td>\n      <td>6.1</td>\n      <td>5.9</td>\n      <td>5.7</td>\n      <td>5.8</td>\n      <td>5.6</td>\n    </tr>\n    <tr>\n      <th>25</th>\n      <td>2015</td>\n      <td>5.7</td>\n      <td>5.5</td>\n      <td>5.4</td>\n      <td>5.4</td>\n      <td>5.6</td>\n      <td>5.3</td>\n      <td>5.2</td>\n      <td>5.1</td>\n      <td>5.0</td>\n      <td>5.0</td>\n      <td>5.1</td>\n      <td>5.0</td>\n    </tr>\n    <tr>\n      <th>26</th>\n      <td>2016</td>\n      <td>4.8</td>\n      <td>4.9</td>\n      <td>5.0</td>\n      <td>5.1</td>\n      <td>4.8</td>\n      <td>4.9</td>\n      <td>4.8</td>\n      <td>4.9</td>\n      <td>5.0</td>\n      <td>4.9</td>\n      <td>4.7</td>\n      <td>4.7</td>\n    </tr>\n    <tr>\n      <th>27</th>\n      <td>2017</td>\n      <td>4.7</td>\n      <td>4.6</td>\n      <td>4.4</td>\n      <td>4.5</td>\n      <td>4.4</td>\n      <td>4.3</td>\n      <td>4.3</td>\n      <td>4.4</td>\n      <td>4.2</td>\n      <td>4.1</td>\n      <td>4.2</td>\n      <td>4.1</td>\n    </tr>\n    <tr>\n      <th>28</th>\n      <td>2018</td>\n      <td>4.0</td>\n      <td>4.1</td>\n      <td>4.0</td>\n      <td>4.0</td>\n      <td>3.8</td>\n      <td>4.0</td>\n      <td>3.8</td>\n      <td>3.8</td>\n      <td>3.7</td>\n      <td>3.8</td>\n      <td>3.8</td>\n      <td>3.9</td>\n    </tr>\n    <tr>\n      <th>29</th>\n      <td>2019</td>\n      <td>4.0</td>\n      <td>3.8</td>\n      <td>3.8</td>\n      <td>3.7</td>\n      <td>3.7</td>\n      <td>3.6</td>\n      <td>3.6</td>\n      <td>3.7</td>\n      <td>3.5</td>\n      <td>3.6</td>\n      <td>3.6</td>\n      <td>3.6</td>\n    </tr>\n    <tr>\n      <th>30</th>\n      <td>2020</td>\n      <td>3.5</td>\n      <td>3.5</td>\n      <td>4.4</td>\n      <td>NaN</td>\n      <td>NaN</td>\n      <td>NaN</td>\n      <td>NaN</td>\n      <td>8.4</td>\n      <td>7.8</td>\n      <td>6.9</td>\n      <td>6.7</td>\n      <td>6.7</td>\n    </tr>\n    <tr>\n      <th>31</th>\n      <td>2021</td>\n      <td>6.3</td>\n      <td>6.2</td>\n      <td>6.0</td>\n      <td>6.1</td>\n      <td>5.8</td>\n      <td>5.9</td>\n      <td>5.4</td>\n      <td>5.2</td>\n      <td>4.8</td>\n      <td>4.6</td>\n      <td>4.2</td>\n      <td>NaN</td>\n    </tr>\n  </tbody>\n</table>\n</div>"
     },
     "execution_count": 79,
     "metadata": {},
     "output_type": "execute_result"
    }
   ],
   "source": [
    "bls_unemployment_tops_df"
   ],
   "metadata": {
    "collapsed": false,
    "pycharm": {
     "name": "#%%\n"
    }
   }
  },
  {
   "cell_type": "markdown",
   "source": [
    "That's a lot of data points removed. Maybe I should do the opposite?\n",
    "\n",
    "Yes better to remove the top 10. Rename `NUMBER_OF_MAX_UNEMPLOYMENT_MONTHS_TO_KEEP` to `NUMBER_OF_MAX_UNEMPLOYMENT_MONTHS_TONUMBER_OF_MAX_UNEMPLOYMENT_MONTHS_TO_REMOVE` More data there needed to do the interpolation/inputation\n",
    "\n",
    "According to the book:\n",
    "\n",
    "* _Inputation_: Replacing missing data points based on observations made about the entire data set\n",
    "* _Interploation_: Replacing missing data points with estimates based on the values of neighboring (in time) data points\n",
    "* _Deletion Affected Time Periods_: Remove all data for time periods in which there is missing data\n",
    "\n",
    "\n",
    "**Interpolation Based on _forward fill_**\n",
    "\n",
    "Where _forward fill_ is replacing a missing data point with the value of it's immediately preceding neight"
   ],
   "metadata": {
    "collapsed": false,
    "pycharm": {
     "name": "#%% md\n"
    }
   }
  },
  {
   "cell_type": "code",
   "execution_count": 80,
   "outputs": [
    {
     "data": {
      "text/plain": "    Year  Jan  Feb  Mar  Apr  May  Jun  Jul  Aug  Sep  Oct  Nov  Dec\n0   1990  5.4  5.3  5.2  5.4  5.4  5.2  5.5  5.7  5.9  5.9  6.2  6.3\n1   1991  6.4  6.6  6.8  6.7  6.9  6.9  6.8  6.9  6.9  7.0  7.0  7.3\n2   1992  7.3  7.4  7.4  7.4  7.6  7.8  7.7  7.6  7.6  7.3  7.4  7.4\n3   1993  7.3  7.1  7.0  7.1  7.1  7.0  6.9  6.8  6.7  6.8  6.6  6.5\n4   1994  6.6  6.6  6.5  6.4  6.1  6.1  6.1  6.0  5.9  5.8  5.6  5.5\n5   1995  5.6  5.4  5.4  5.8  5.6  5.6  5.7  5.7  5.6  5.5  5.6  5.6\n6   1996  5.6  5.5  5.5  5.6  5.6  5.3  5.5  5.1  5.2  5.2  5.4  5.4\n7   1997  5.3  5.2  5.2  5.1  4.9  5.0  4.9  4.8  4.9  4.7  4.6  4.7\n8   1998  4.6  4.6  4.7  4.3  4.4  4.5  4.5  4.5  4.6  4.5  4.4  4.4\n9   1999  4.3  4.4  4.2  4.3  4.2  4.3  4.3  4.2  4.2  4.1  4.1  4.0\n10  2000  4.0  4.1  4.0  3.8  4.0  4.0  4.0  4.1  3.9  3.9  3.9  3.9\n11  2001  4.2  4.2  4.3  4.4  4.3  4.5  4.6  4.9  5.0  5.3  5.5  5.7\n12  2002  5.7  5.7  5.7  5.9  5.8  5.8  5.8  5.7  5.7  5.7  5.9  6.0\n13  2003  5.8  5.9  5.9  6.0  6.1  6.3  6.2  6.1  6.1  6.0  5.8  5.7\n14  2004  5.7  5.6  5.8  5.6  5.6  5.6  5.5  5.4  5.4  5.5  5.4  5.4\n15  2005  5.3  5.4  5.2  5.2  5.1  5.0  5.0  4.9  5.0  5.0  5.0  4.9\n16  2006  4.7  4.8  4.7  4.7  4.6  4.6  4.7  4.7  4.5  4.4  4.5  4.4\n17  2007  4.6  4.5  4.4  4.5  4.4  4.6  4.7  4.6  4.7  4.7  4.7  5.0\n18  2008  5.0  4.9  5.1  5.0  5.4  5.6  5.8  6.1  6.1  6.5  6.8  7.3\n19  2009  7.8  8.3  8.7  9.0  NaN  NaN  NaN  NaN  NaN  NaN  NaN  NaN\n20  2010  NaN  NaN  NaN  NaN  NaN  NaN  NaN  NaN  NaN  NaN  NaN  NaN\n21  2011  9.1  9.0  9.0  9.1  9.0  9.1  9.0  9.0  9.0  8.8  8.6  8.5\n22  2012  8.3  8.3  8.2  8.2  8.2  8.2  8.2  8.1  7.8  7.8  7.7  7.9\n23  2013  8.0  7.7  7.5  7.6  7.5  7.5  7.3  7.2  7.2  7.2  6.9  6.7\n24  2014  6.6  6.7  6.7  6.2  6.3  6.1  6.2  6.1  5.9  5.7  5.8  5.6\n25  2015  5.7  5.5  5.4  5.4  5.6  5.3  5.2  5.1  5.0  5.0  5.1  5.0\n26  2016  4.8  4.9  5.0  5.1  4.8  4.9  4.8  4.9  5.0  4.9  4.7  4.7\n27  2017  4.7  4.6  4.4  4.5  4.4  4.3  4.3  4.4  4.2  4.1  4.2  4.1\n28  2018  4.0  4.1  4.0  4.0  3.8  4.0  3.8  3.8  3.7  3.8  3.8  3.9\n29  2019  4.0  3.8  3.8  3.7  3.7  3.6  3.6  3.7  3.5  3.6  3.6  3.6\n30  2020  3.5  3.5  4.4  NaN  NaN  NaN  NaN  8.4  7.8  6.9  6.7  6.7\n31  2021  6.3  6.2  6.0  6.1  5.8  5.9  5.4  5.2  4.8  4.6  4.2  NaN",
      "text/html": "<div>\n<style scoped>\n    .dataframe tbody tr th:only-of-type {\n        vertical-align: middle;\n    }\n\n    .dataframe tbody tr th {\n        vertical-align: top;\n    }\n\n    .dataframe thead th {\n        text-align: right;\n    }\n</style>\n<table border=\"1\" class=\"dataframe\">\n  <thead>\n    <tr style=\"text-align: right;\">\n      <th></th>\n      <th>Year</th>\n      <th>Jan</th>\n      <th>Feb</th>\n      <th>Mar</th>\n      <th>Apr</th>\n      <th>May</th>\n      <th>Jun</th>\n      <th>Jul</th>\n      <th>Aug</th>\n      <th>Sep</th>\n      <th>Oct</th>\n      <th>Nov</th>\n      <th>Dec</th>\n    </tr>\n  </thead>\n  <tbody>\n    <tr>\n      <th>0</th>\n      <td>1990</td>\n      <td>5.4</td>\n      <td>5.3</td>\n      <td>5.2</td>\n      <td>5.4</td>\n      <td>5.4</td>\n      <td>5.2</td>\n      <td>5.5</td>\n      <td>5.7</td>\n      <td>5.9</td>\n      <td>5.9</td>\n      <td>6.2</td>\n      <td>6.3</td>\n    </tr>\n    <tr>\n      <th>1</th>\n      <td>1991</td>\n      <td>6.4</td>\n      <td>6.6</td>\n      <td>6.8</td>\n      <td>6.7</td>\n      <td>6.9</td>\n      <td>6.9</td>\n      <td>6.8</td>\n      <td>6.9</td>\n      <td>6.9</td>\n      <td>7.0</td>\n      <td>7.0</td>\n      <td>7.3</td>\n    </tr>\n    <tr>\n      <th>2</th>\n      <td>1992</td>\n      <td>7.3</td>\n      <td>7.4</td>\n      <td>7.4</td>\n      <td>7.4</td>\n      <td>7.6</td>\n      <td>7.8</td>\n      <td>7.7</td>\n      <td>7.6</td>\n      <td>7.6</td>\n      <td>7.3</td>\n      <td>7.4</td>\n      <td>7.4</td>\n    </tr>\n    <tr>\n      <th>3</th>\n      <td>1993</td>\n      <td>7.3</td>\n      <td>7.1</td>\n      <td>7.0</td>\n      <td>7.1</td>\n      <td>7.1</td>\n      <td>7.0</td>\n      <td>6.9</td>\n      <td>6.8</td>\n      <td>6.7</td>\n      <td>6.8</td>\n      <td>6.6</td>\n      <td>6.5</td>\n    </tr>\n    <tr>\n      <th>4</th>\n      <td>1994</td>\n      <td>6.6</td>\n      <td>6.6</td>\n      <td>6.5</td>\n      <td>6.4</td>\n      <td>6.1</td>\n      <td>6.1</td>\n      <td>6.1</td>\n      <td>6.0</td>\n      <td>5.9</td>\n      <td>5.8</td>\n      <td>5.6</td>\n      <td>5.5</td>\n    </tr>\n    <tr>\n      <th>5</th>\n      <td>1995</td>\n      <td>5.6</td>\n      <td>5.4</td>\n      <td>5.4</td>\n      <td>5.8</td>\n      <td>5.6</td>\n      <td>5.6</td>\n      <td>5.7</td>\n      <td>5.7</td>\n      <td>5.6</td>\n      <td>5.5</td>\n      <td>5.6</td>\n      <td>5.6</td>\n    </tr>\n    <tr>\n      <th>6</th>\n      <td>1996</td>\n      <td>5.6</td>\n      <td>5.5</td>\n      <td>5.5</td>\n      <td>5.6</td>\n      <td>5.6</td>\n      <td>5.3</td>\n      <td>5.5</td>\n      <td>5.1</td>\n      <td>5.2</td>\n      <td>5.2</td>\n      <td>5.4</td>\n      <td>5.4</td>\n    </tr>\n    <tr>\n      <th>7</th>\n      <td>1997</td>\n      <td>5.3</td>\n      <td>5.2</td>\n      <td>5.2</td>\n      <td>5.1</td>\n      <td>4.9</td>\n      <td>5.0</td>\n      <td>4.9</td>\n      <td>4.8</td>\n      <td>4.9</td>\n      <td>4.7</td>\n      <td>4.6</td>\n      <td>4.7</td>\n    </tr>\n    <tr>\n      <th>8</th>\n      <td>1998</td>\n      <td>4.6</td>\n      <td>4.6</td>\n      <td>4.7</td>\n      <td>4.3</td>\n      <td>4.4</td>\n      <td>4.5</td>\n      <td>4.5</td>\n      <td>4.5</td>\n      <td>4.6</td>\n      <td>4.5</td>\n      <td>4.4</td>\n      <td>4.4</td>\n    </tr>\n    <tr>\n      <th>9</th>\n      <td>1999</td>\n      <td>4.3</td>\n      <td>4.4</td>\n      <td>4.2</td>\n      <td>4.3</td>\n      <td>4.2</td>\n      <td>4.3</td>\n      <td>4.3</td>\n      <td>4.2</td>\n      <td>4.2</td>\n      <td>4.1</td>\n      <td>4.1</td>\n      <td>4.0</td>\n    </tr>\n    <tr>\n      <th>10</th>\n      <td>2000</td>\n      <td>4.0</td>\n      <td>4.1</td>\n      <td>4.0</td>\n      <td>3.8</td>\n      <td>4.0</td>\n      <td>4.0</td>\n      <td>4.0</td>\n      <td>4.1</td>\n      <td>3.9</td>\n      <td>3.9</td>\n      <td>3.9</td>\n      <td>3.9</td>\n    </tr>\n    <tr>\n      <th>11</th>\n      <td>2001</td>\n      <td>4.2</td>\n      <td>4.2</td>\n      <td>4.3</td>\n      <td>4.4</td>\n      <td>4.3</td>\n      <td>4.5</td>\n      <td>4.6</td>\n      <td>4.9</td>\n      <td>5.0</td>\n      <td>5.3</td>\n      <td>5.5</td>\n      <td>5.7</td>\n    </tr>\n    <tr>\n      <th>12</th>\n      <td>2002</td>\n      <td>5.7</td>\n      <td>5.7</td>\n      <td>5.7</td>\n      <td>5.9</td>\n      <td>5.8</td>\n      <td>5.8</td>\n      <td>5.8</td>\n      <td>5.7</td>\n      <td>5.7</td>\n      <td>5.7</td>\n      <td>5.9</td>\n      <td>6.0</td>\n    </tr>\n    <tr>\n      <th>13</th>\n      <td>2003</td>\n      <td>5.8</td>\n      <td>5.9</td>\n      <td>5.9</td>\n      <td>6.0</td>\n      <td>6.1</td>\n      <td>6.3</td>\n      <td>6.2</td>\n      <td>6.1</td>\n      <td>6.1</td>\n      <td>6.0</td>\n      <td>5.8</td>\n      <td>5.7</td>\n    </tr>\n    <tr>\n      <th>14</th>\n      <td>2004</td>\n      <td>5.7</td>\n      <td>5.6</td>\n      <td>5.8</td>\n      <td>5.6</td>\n      <td>5.6</td>\n      <td>5.6</td>\n      <td>5.5</td>\n      <td>5.4</td>\n      <td>5.4</td>\n      <td>5.5</td>\n      <td>5.4</td>\n      <td>5.4</td>\n    </tr>\n    <tr>\n      <th>15</th>\n      <td>2005</td>\n      <td>5.3</td>\n      <td>5.4</td>\n      <td>5.2</td>\n      <td>5.2</td>\n      <td>5.1</td>\n      <td>5.0</td>\n      <td>5.0</td>\n      <td>4.9</td>\n      <td>5.0</td>\n      <td>5.0</td>\n      <td>5.0</td>\n      <td>4.9</td>\n    </tr>\n    <tr>\n      <th>16</th>\n      <td>2006</td>\n      <td>4.7</td>\n      <td>4.8</td>\n      <td>4.7</td>\n      <td>4.7</td>\n      <td>4.6</td>\n      <td>4.6</td>\n      <td>4.7</td>\n      <td>4.7</td>\n      <td>4.5</td>\n      <td>4.4</td>\n      <td>4.5</td>\n      <td>4.4</td>\n    </tr>\n    <tr>\n      <th>17</th>\n      <td>2007</td>\n      <td>4.6</td>\n      <td>4.5</td>\n      <td>4.4</td>\n      <td>4.5</td>\n      <td>4.4</td>\n      <td>4.6</td>\n      <td>4.7</td>\n      <td>4.6</td>\n      <td>4.7</td>\n      <td>4.7</td>\n      <td>4.7</td>\n      <td>5.0</td>\n    </tr>\n    <tr>\n      <th>18</th>\n      <td>2008</td>\n      <td>5.0</td>\n      <td>4.9</td>\n      <td>5.1</td>\n      <td>5.0</td>\n      <td>5.4</td>\n      <td>5.6</td>\n      <td>5.8</td>\n      <td>6.1</td>\n      <td>6.1</td>\n      <td>6.5</td>\n      <td>6.8</td>\n      <td>7.3</td>\n    </tr>\n    <tr>\n      <th>19</th>\n      <td>2009</td>\n      <td>7.8</td>\n      <td>8.3</td>\n      <td>8.7</td>\n      <td>9.0</td>\n      <td>NaN</td>\n      <td>NaN</td>\n      <td>NaN</td>\n      <td>NaN</td>\n      <td>NaN</td>\n      <td>NaN</td>\n      <td>NaN</td>\n      <td>NaN</td>\n    </tr>\n    <tr>\n      <th>20</th>\n      <td>2010</td>\n      <td>NaN</td>\n      <td>NaN</td>\n      <td>NaN</td>\n      <td>NaN</td>\n      <td>NaN</td>\n      <td>NaN</td>\n      <td>NaN</td>\n      <td>NaN</td>\n      <td>NaN</td>\n      <td>NaN</td>\n      <td>NaN</td>\n      <td>NaN</td>\n    </tr>\n    <tr>\n      <th>21</th>\n      <td>2011</td>\n      <td>9.1</td>\n      <td>9.0</td>\n      <td>9.0</td>\n      <td>9.1</td>\n      <td>9.0</td>\n      <td>9.1</td>\n      <td>9.0</td>\n      <td>9.0</td>\n      <td>9.0</td>\n      <td>8.8</td>\n      <td>8.6</td>\n      <td>8.5</td>\n    </tr>\n    <tr>\n      <th>22</th>\n      <td>2012</td>\n      <td>8.3</td>\n      <td>8.3</td>\n      <td>8.2</td>\n      <td>8.2</td>\n      <td>8.2</td>\n      <td>8.2</td>\n      <td>8.2</td>\n      <td>8.1</td>\n      <td>7.8</td>\n      <td>7.8</td>\n      <td>7.7</td>\n      <td>7.9</td>\n    </tr>\n    <tr>\n      <th>23</th>\n      <td>2013</td>\n      <td>8.0</td>\n      <td>7.7</td>\n      <td>7.5</td>\n      <td>7.6</td>\n      <td>7.5</td>\n      <td>7.5</td>\n      <td>7.3</td>\n      <td>7.2</td>\n      <td>7.2</td>\n      <td>7.2</td>\n      <td>6.9</td>\n      <td>6.7</td>\n    </tr>\n    <tr>\n      <th>24</th>\n      <td>2014</td>\n      <td>6.6</td>\n      <td>6.7</td>\n      <td>6.7</td>\n      <td>6.2</td>\n      <td>6.3</td>\n      <td>6.1</td>\n      <td>6.2</td>\n      <td>6.1</td>\n      <td>5.9</td>\n      <td>5.7</td>\n      <td>5.8</td>\n      <td>5.6</td>\n    </tr>\n    <tr>\n      <th>25</th>\n      <td>2015</td>\n      <td>5.7</td>\n      <td>5.5</td>\n      <td>5.4</td>\n      <td>5.4</td>\n      <td>5.6</td>\n      <td>5.3</td>\n      <td>5.2</td>\n      <td>5.1</td>\n      <td>5.0</td>\n      <td>5.0</td>\n      <td>5.1</td>\n      <td>5.0</td>\n    </tr>\n    <tr>\n      <th>26</th>\n      <td>2016</td>\n      <td>4.8</td>\n      <td>4.9</td>\n      <td>5.0</td>\n      <td>5.1</td>\n      <td>4.8</td>\n      <td>4.9</td>\n      <td>4.8</td>\n      <td>4.9</td>\n      <td>5.0</td>\n      <td>4.9</td>\n      <td>4.7</td>\n      <td>4.7</td>\n    </tr>\n    <tr>\n      <th>27</th>\n      <td>2017</td>\n      <td>4.7</td>\n      <td>4.6</td>\n      <td>4.4</td>\n      <td>4.5</td>\n      <td>4.4</td>\n      <td>4.3</td>\n      <td>4.3</td>\n      <td>4.4</td>\n      <td>4.2</td>\n      <td>4.1</td>\n      <td>4.2</td>\n      <td>4.1</td>\n    </tr>\n    <tr>\n      <th>28</th>\n      <td>2018</td>\n      <td>4.0</td>\n      <td>4.1</td>\n      <td>4.0</td>\n      <td>4.0</td>\n      <td>3.8</td>\n      <td>4.0</td>\n      <td>3.8</td>\n      <td>3.8</td>\n      <td>3.7</td>\n      <td>3.8</td>\n      <td>3.8</td>\n      <td>3.9</td>\n    </tr>\n    <tr>\n      <th>29</th>\n      <td>2019</td>\n      <td>4.0</td>\n      <td>3.8</td>\n      <td>3.8</td>\n      <td>3.7</td>\n      <td>3.7</td>\n      <td>3.6</td>\n      <td>3.6</td>\n      <td>3.7</td>\n      <td>3.5</td>\n      <td>3.6</td>\n      <td>3.6</td>\n      <td>3.6</td>\n    </tr>\n    <tr>\n      <th>30</th>\n      <td>2020</td>\n      <td>3.5</td>\n      <td>3.5</td>\n      <td>4.4</td>\n      <td>NaN</td>\n      <td>NaN</td>\n      <td>NaN</td>\n      <td>NaN</td>\n      <td>8.4</td>\n      <td>7.8</td>\n      <td>6.9</td>\n      <td>6.7</td>\n      <td>6.7</td>\n    </tr>\n    <tr>\n      <th>31</th>\n      <td>2021</td>\n      <td>6.3</td>\n      <td>6.2</td>\n      <td>6.0</td>\n      <td>6.1</td>\n      <td>5.8</td>\n      <td>5.9</td>\n      <td>5.4</td>\n      <td>5.2</td>\n      <td>4.8</td>\n      <td>4.6</td>\n      <td>4.2</td>\n      <td>NaN</td>\n    </tr>\n  </tbody>\n</table>\n</div>"
     },
     "execution_count": 80,
     "metadata": {},
     "output_type": "execute_result"
    }
   ],
   "source": [
    "#copy the original. will do the forward fill as described in the book in this new dataframe\n",
    "bls_unemployment_tops_fwdfilled_df = bls_unemployment_tops_df.copy()\n",
    "bls_unemployment_tops_fwdfilled_df"
   ],
   "metadata": {
    "collapsed": false,
    "pycharm": {
     "name": "#%%\n"
    }
   }
  },
  {
   "cell_type": "markdown",
   "source": [
    "**Doing the forward fill**\n",
    "\n",
    "I want to select entries in the dataframe by name.\n",
    "\n",
    "SO I will need to set the index to the column \"Year\"\n",
    "\n",
    "Once I'm done I'll just run `reset_index(drop=True)` to get it back\n"
   ],
   "metadata": {
    "collapsed": false,
    "pycharm": {
     "name": "#%% md\n"
    }
   }
  },
  {
   "cell_type": "code",
   "execution_count": 81,
   "outputs": [
    {
     "data": {
      "text/plain": "      Year  Jan  Feb  Mar  Apr  May  Jun  Jul  Aug  Sep  Oct  Nov  Dec\nYear                                                                  \n1990  1990  5.4  5.3  5.2  5.4  5.4  5.2  5.5  5.7  5.9  5.9  6.2  6.3\n1991  1991  6.4  6.6  6.8  6.7  6.9  6.9  6.8  6.9  6.9  7.0  7.0  7.3\n1992  1992  7.3  7.4  7.4  7.4  7.6  7.8  7.7  7.6  7.6  7.3  7.4  7.4",
      "text/html": "<div>\n<style scoped>\n    .dataframe tbody tr th:only-of-type {\n        vertical-align: middle;\n    }\n\n    .dataframe tbody tr th {\n        vertical-align: top;\n    }\n\n    .dataframe thead th {\n        text-align: right;\n    }\n</style>\n<table border=\"1\" class=\"dataframe\">\n  <thead>\n    <tr style=\"text-align: right;\">\n      <th></th>\n      <th>Year</th>\n      <th>Jan</th>\n      <th>Feb</th>\n      <th>Mar</th>\n      <th>Apr</th>\n      <th>May</th>\n      <th>Jun</th>\n      <th>Jul</th>\n      <th>Aug</th>\n      <th>Sep</th>\n      <th>Oct</th>\n      <th>Nov</th>\n      <th>Dec</th>\n    </tr>\n    <tr>\n      <th>Year</th>\n      <th></th>\n      <th></th>\n      <th></th>\n      <th></th>\n      <th></th>\n      <th></th>\n      <th></th>\n      <th></th>\n      <th></th>\n      <th></th>\n      <th></th>\n      <th></th>\n      <th></th>\n    </tr>\n  </thead>\n  <tbody>\n    <tr>\n      <th>1990</th>\n      <td>1990</td>\n      <td>5.4</td>\n      <td>5.3</td>\n      <td>5.2</td>\n      <td>5.4</td>\n      <td>5.4</td>\n      <td>5.2</td>\n      <td>5.5</td>\n      <td>5.7</td>\n      <td>5.9</td>\n      <td>5.9</td>\n      <td>6.2</td>\n      <td>6.3</td>\n    </tr>\n    <tr>\n      <th>1991</th>\n      <td>1991</td>\n      <td>6.4</td>\n      <td>6.6</td>\n      <td>6.8</td>\n      <td>6.7</td>\n      <td>6.9</td>\n      <td>6.9</td>\n      <td>6.8</td>\n      <td>6.9</td>\n      <td>6.9</td>\n      <td>7.0</td>\n      <td>7.0</td>\n      <td>7.3</td>\n    </tr>\n    <tr>\n      <th>1992</th>\n      <td>1992</td>\n      <td>7.3</td>\n      <td>7.4</td>\n      <td>7.4</td>\n      <td>7.4</td>\n      <td>7.6</td>\n      <td>7.8</td>\n      <td>7.7</td>\n      <td>7.6</td>\n      <td>7.6</td>\n      <td>7.3</td>\n      <td>7.4</td>\n      <td>7.4</td>\n    </tr>\n  </tbody>\n</table>\n</div>"
     },
     "execution_count": 81,
     "metadata": {},
     "output_type": "execute_result"
    }
   ],
   "source": [
    "bls_unemployment_tops_fwdfilled_df = bls_unemployment_tops_fwdfilled_df.set_index(\"Year\",drop=False)\n",
    "bls_unemployment_tops_fwdfilled_df.head(3)\n"
   ],
   "metadata": {
    "collapsed": false,
    "pycharm": {
     "name": "#%%\n"
    }
   }
  },
  {
   "cell_type": "code",
   "execution_count": 83,
   "outputs": [
    {
     "data": {
      "text/plain": "5.2"
     },
     "execution_count": 83,
     "metadata": {},
     "output_type": "execute_result"
    }
   ],
   "source": [
    "\n",
    "bls_unemployment_tops_fwdfilled_df.loc[1990,\"Mar\"]"
   ],
   "metadata": {
    "collapsed": false,
    "pycharm": {
     "name": "#%%\n"
    }
   }
  },
  {
   "cell_type": "code",
   "execution_count": 84,
   "outputs": [],
   "source": [
    "##########################\n",
    "#\n",
    "# new forward fill routine\n",
    "#\n",
    "# Not super robust. Shortcomings:\n",
    "#\n",
    "##########################\n",
    "\n",
    "for year_idx in range(len(List_Of_Years)):\n",
    "    for month_idx in range(len(List_Of_Month_Names)):\n",
    "\n",
    "        #if the entry is nan\n",
    "        if math.isnan( bls_unemployment_tops_fwdfilled_df.loc[List_Of_Years[year_idx], List_Of_Month_Names[month_idx]] ):\n",
    "\n",
    "            if (List_Of_Month_Names[month_idx] == List_Of_Month_Names[0])  and (List_Of_Years[year_idx] == min(List_Of_Years)):\n",
    "                # the Oldest entry in the table is None. So make it equal to the next value in time\n",
    "                #replace Nan with value of the next month of the same year as in this case there is no previous month data\n",
    "                bls_unemployment_tops_fwdfilled_df.loc[List_Of_Years[year_idx], List_Of_Month_Names[month_idx]] = bls_unemployment_tops_fwdfilled_df.loc[List_Of_Years[year_idx],List_Of_Month_Names[1]]\n",
    "\n",
    "            elif List_Of_Month_Names[month_idx]  == List_Of_Month_Names[-1]:\n",
    "                #The Youngest entry in the table or just an entry in Dec is None. Make it equal to the immediately preceding value (preceding month)\n",
    "                bls_unemployment_tops_fwdfilled_df.loc[ List_Of_Years[year_idx], List_Of_Month_Names[month_idx] ] = bls_unemployment_tops_fwdfilled_df.loc[List_Of_Years[year_idx],List_Of_Month_Names[-2]]\n",
    "\n",
    "            elif List_Of_Month_Names[month_idx]  == List_Of_Month_Names[0]:\n",
    "                #Jan of  List_Of_Years[year_idx] is Nan, Pick Dec of previous year to replace\n",
    "                temp_year_idx = year_idx - 1\n",
    "\n",
    "                #ok i don't trust this will always work so looking for errors. will remove once debugged\n",
    "                if temp_year_idx < 0:\n",
    "                    print(\"error for year \",List_Of_Years[year_idx],\" month \",List_Of_Month_Names[month_idx],\"temp_year_idx is negative\")\n",
    "\n",
    "                bls_unemployment_tops_fwdfilled_df.loc[List_Of_Years[year_idx],List_Of_Month_Names[month_idx]]  = bls_unemployment_tops_fwdfilled_df.loc[List_Of_Years[temp_year_idx],List_Of_Month_Names[-1]]\n",
    "\n",
    "            else:\n",
    "                #replace if with the previous month of the same year\n",
    "                temp_month_idx = month_idx - 1\n",
    "\n",
    "                #ok i don't trust this will always work so looking for errors. will remove once debugged\n",
    "                if temp_month_idx < 0:\n",
    "                    print(\"error for year \",List_Of_Years[year_idx],\" month \",List_Of_Month_Names[month_idx],\"temp_month_idx is negative\")\n",
    "\n",
    "                bls_unemployment_tops_fwdfilled_df.loc[List_Of_Years[year_idx],List_Of_Month_Names[month_idx] ]  = bls_unemployment_tops_fwdfilled_df.loc[List_Of_Years[year_idx],List_Of_Month_Names[temp_month_idx]]\n",
    "\n",
    "\n",
    "\n",
    "\n",
    "\n",
    "\n",
    "\n"
   ],
   "metadata": {
    "collapsed": false,
    "pycharm": {
     "name": "#%%\n"
    }
   }
  },
  {
   "cell_type": "markdown",
   "source": [
    "printing it out to confirm the `NaN` values got interpolated away\n",
    "\n"
   ],
   "metadata": {
    "collapsed": false,
    "pycharm": {
     "name": "#%% md\n"
    }
   }
  },
  {
   "cell_type": "code",
   "execution_count": 85,
   "outputs": [
    {
     "data": {
      "text/plain": "    Year  Jan  Feb  Mar  Apr  May  Jun  Jul  Aug  Sep  Oct  Nov  Dec\n0   1990  5.4  5.3  5.2  5.4  5.4  5.2  5.5  5.7  5.9  5.9  6.2  6.3\n1   1991  6.4  6.6  6.8  6.7  6.9  6.9  6.8  6.9  6.9  7.0  7.0  7.3\n2   1992  7.3  7.4  7.4  7.4  7.6  7.8  7.7  7.6  7.6  7.3  7.4  7.4\n3   1993  7.3  7.1  7.0  7.1  7.1  7.0  6.9  6.8  6.7  6.8  6.6  6.5\n4   1994  6.6  6.6  6.5  6.4  6.1  6.1  6.1  6.0  5.9  5.8  5.6  5.5\n5   1995  5.6  5.4  5.4  5.8  5.6  5.6  5.7  5.7  5.6  5.5  5.6  5.6\n6   1996  5.6  5.5  5.5  5.6  5.6  5.3  5.5  5.1  5.2  5.2  5.4  5.4\n7   1997  5.3  5.2  5.2  5.1  4.9  5.0  4.9  4.8  4.9  4.7  4.6  4.7\n8   1998  4.6  4.6  4.7  4.3  4.4  4.5  4.5  4.5  4.6  4.5  4.4  4.4\n9   1999  4.3  4.4  4.2  4.3  4.2  4.3  4.3  4.2  4.2  4.1  4.1  4.0\n10  2000  4.0  4.1  4.0  3.8  4.0  4.0  4.0  4.1  3.9  3.9  3.9  3.9\n11  2001  4.2  4.2  4.3  4.4  4.3  4.5  4.6  4.9  5.0  5.3  5.5  5.7\n12  2002  5.7  5.7  5.7  5.9  5.8  5.8  5.8  5.7  5.7  5.7  5.9  6.0\n13  2003  5.8  5.9  5.9  6.0  6.1  6.3  6.2  6.1  6.1  6.0  5.8  5.7\n14  2004  5.7  5.6  5.8  5.6  5.6  5.6  5.5  5.4  5.4  5.5  5.4  5.4\n15  2005  5.3  5.4  5.2  5.2  5.1  5.0  5.0  4.9  5.0  5.0  5.0  4.9\n16  2006  4.7  4.8  4.7  4.7  4.6  4.6  4.7  4.7  4.5  4.4  4.5  4.4\n17  2007  4.6  4.5  4.4  4.5  4.4  4.6  4.7  4.6  4.7  4.7  4.7  5.0\n18  2008  5.0  4.9  5.1  5.0  5.4  5.6  5.8  6.1  6.1  6.5  6.8  7.3\n19  2009  7.8  8.3  8.7  9.0  9.0  9.0  9.0  9.0  9.0  9.0  9.0  9.0\n20  2010  9.0  9.0  9.0  9.0  9.0  9.0  9.0  9.0  9.0  9.0  9.0  9.0\n21  2011  9.1  9.0  9.0  9.1  9.0  9.1  9.0  9.0  9.0  8.8  8.6  8.5\n22  2012  8.3  8.3  8.2  8.2  8.2  8.2  8.2  8.1  7.8  7.8  7.7  7.9\n23  2013  8.0  7.7  7.5  7.6  7.5  7.5  7.3  7.2  7.2  7.2  6.9  6.7\n24  2014  6.6  6.7  6.7  6.2  6.3  6.1  6.2  6.1  5.9  5.7  5.8  5.6\n25  2015  5.7  5.5  5.4  5.4  5.6  5.3  5.2  5.1  5.0  5.0  5.1  5.0\n26  2016  4.8  4.9  5.0  5.1  4.8  4.9  4.8  4.9  5.0  4.9  4.7  4.7\n27  2017  4.7  4.6  4.4  4.5  4.4  4.3  4.3  4.4  4.2  4.1  4.2  4.1\n28  2018  4.0  4.1  4.0  4.0  3.8  4.0  3.8  3.8  3.7  3.8  3.8  3.9\n29  2019  4.0  3.8  3.8  3.7  3.7  3.6  3.6  3.7  3.5  3.6  3.6  3.6\n30  2020  3.5  3.5  4.4  4.4  4.4  4.4  4.4  8.4  7.8  6.9  6.7  6.7\n31  2021  6.3  6.2  6.0  6.1  5.8  5.9  5.4  5.2  4.8  4.6  4.2  4.2",
      "text/html": "<div>\n<style scoped>\n    .dataframe tbody tr th:only-of-type {\n        vertical-align: middle;\n    }\n\n    .dataframe tbody tr th {\n        vertical-align: top;\n    }\n\n    .dataframe thead th {\n        text-align: right;\n    }\n</style>\n<table border=\"1\" class=\"dataframe\">\n  <thead>\n    <tr style=\"text-align: right;\">\n      <th></th>\n      <th>Year</th>\n      <th>Jan</th>\n      <th>Feb</th>\n      <th>Mar</th>\n      <th>Apr</th>\n      <th>May</th>\n      <th>Jun</th>\n      <th>Jul</th>\n      <th>Aug</th>\n      <th>Sep</th>\n      <th>Oct</th>\n      <th>Nov</th>\n      <th>Dec</th>\n    </tr>\n  </thead>\n  <tbody>\n    <tr>\n      <th>0</th>\n      <td>1990</td>\n      <td>5.4</td>\n      <td>5.3</td>\n      <td>5.2</td>\n      <td>5.4</td>\n      <td>5.4</td>\n      <td>5.2</td>\n      <td>5.5</td>\n      <td>5.7</td>\n      <td>5.9</td>\n      <td>5.9</td>\n      <td>6.2</td>\n      <td>6.3</td>\n    </tr>\n    <tr>\n      <th>1</th>\n      <td>1991</td>\n      <td>6.4</td>\n      <td>6.6</td>\n      <td>6.8</td>\n      <td>6.7</td>\n      <td>6.9</td>\n      <td>6.9</td>\n      <td>6.8</td>\n      <td>6.9</td>\n      <td>6.9</td>\n      <td>7.0</td>\n      <td>7.0</td>\n      <td>7.3</td>\n    </tr>\n    <tr>\n      <th>2</th>\n      <td>1992</td>\n      <td>7.3</td>\n      <td>7.4</td>\n      <td>7.4</td>\n      <td>7.4</td>\n      <td>7.6</td>\n      <td>7.8</td>\n      <td>7.7</td>\n      <td>7.6</td>\n      <td>7.6</td>\n      <td>7.3</td>\n      <td>7.4</td>\n      <td>7.4</td>\n    </tr>\n    <tr>\n      <th>3</th>\n      <td>1993</td>\n      <td>7.3</td>\n      <td>7.1</td>\n      <td>7.0</td>\n      <td>7.1</td>\n      <td>7.1</td>\n      <td>7.0</td>\n      <td>6.9</td>\n      <td>6.8</td>\n      <td>6.7</td>\n      <td>6.8</td>\n      <td>6.6</td>\n      <td>6.5</td>\n    </tr>\n    <tr>\n      <th>4</th>\n      <td>1994</td>\n      <td>6.6</td>\n      <td>6.6</td>\n      <td>6.5</td>\n      <td>6.4</td>\n      <td>6.1</td>\n      <td>6.1</td>\n      <td>6.1</td>\n      <td>6.0</td>\n      <td>5.9</td>\n      <td>5.8</td>\n      <td>5.6</td>\n      <td>5.5</td>\n    </tr>\n    <tr>\n      <th>5</th>\n      <td>1995</td>\n      <td>5.6</td>\n      <td>5.4</td>\n      <td>5.4</td>\n      <td>5.8</td>\n      <td>5.6</td>\n      <td>5.6</td>\n      <td>5.7</td>\n      <td>5.7</td>\n      <td>5.6</td>\n      <td>5.5</td>\n      <td>5.6</td>\n      <td>5.6</td>\n    </tr>\n    <tr>\n      <th>6</th>\n      <td>1996</td>\n      <td>5.6</td>\n      <td>5.5</td>\n      <td>5.5</td>\n      <td>5.6</td>\n      <td>5.6</td>\n      <td>5.3</td>\n      <td>5.5</td>\n      <td>5.1</td>\n      <td>5.2</td>\n      <td>5.2</td>\n      <td>5.4</td>\n      <td>5.4</td>\n    </tr>\n    <tr>\n      <th>7</th>\n      <td>1997</td>\n      <td>5.3</td>\n      <td>5.2</td>\n      <td>5.2</td>\n      <td>5.1</td>\n      <td>4.9</td>\n      <td>5.0</td>\n      <td>4.9</td>\n      <td>4.8</td>\n      <td>4.9</td>\n      <td>4.7</td>\n      <td>4.6</td>\n      <td>4.7</td>\n    </tr>\n    <tr>\n      <th>8</th>\n      <td>1998</td>\n      <td>4.6</td>\n      <td>4.6</td>\n      <td>4.7</td>\n      <td>4.3</td>\n      <td>4.4</td>\n      <td>4.5</td>\n      <td>4.5</td>\n      <td>4.5</td>\n      <td>4.6</td>\n      <td>4.5</td>\n      <td>4.4</td>\n      <td>4.4</td>\n    </tr>\n    <tr>\n      <th>9</th>\n      <td>1999</td>\n      <td>4.3</td>\n      <td>4.4</td>\n      <td>4.2</td>\n      <td>4.3</td>\n      <td>4.2</td>\n      <td>4.3</td>\n      <td>4.3</td>\n      <td>4.2</td>\n      <td>4.2</td>\n      <td>4.1</td>\n      <td>4.1</td>\n      <td>4.0</td>\n    </tr>\n    <tr>\n      <th>10</th>\n      <td>2000</td>\n      <td>4.0</td>\n      <td>4.1</td>\n      <td>4.0</td>\n      <td>3.8</td>\n      <td>4.0</td>\n      <td>4.0</td>\n      <td>4.0</td>\n      <td>4.1</td>\n      <td>3.9</td>\n      <td>3.9</td>\n      <td>3.9</td>\n      <td>3.9</td>\n    </tr>\n    <tr>\n      <th>11</th>\n      <td>2001</td>\n      <td>4.2</td>\n      <td>4.2</td>\n      <td>4.3</td>\n      <td>4.4</td>\n      <td>4.3</td>\n      <td>4.5</td>\n      <td>4.6</td>\n      <td>4.9</td>\n      <td>5.0</td>\n      <td>5.3</td>\n      <td>5.5</td>\n      <td>5.7</td>\n    </tr>\n    <tr>\n      <th>12</th>\n      <td>2002</td>\n      <td>5.7</td>\n      <td>5.7</td>\n      <td>5.7</td>\n      <td>5.9</td>\n      <td>5.8</td>\n      <td>5.8</td>\n      <td>5.8</td>\n      <td>5.7</td>\n      <td>5.7</td>\n      <td>5.7</td>\n      <td>5.9</td>\n      <td>6.0</td>\n    </tr>\n    <tr>\n      <th>13</th>\n      <td>2003</td>\n      <td>5.8</td>\n      <td>5.9</td>\n      <td>5.9</td>\n      <td>6.0</td>\n      <td>6.1</td>\n      <td>6.3</td>\n      <td>6.2</td>\n      <td>6.1</td>\n      <td>6.1</td>\n      <td>6.0</td>\n      <td>5.8</td>\n      <td>5.7</td>\n    </tr>\n    <tr>\n      <th>14</th>\n      <td>2004</td>\n      <td>5.7</td>\n      <td>5.6</td>\n      <td>5.8</td>\n      <td>5.6</td>\n      <td>5.6</td>\n      <td>5.6</td>\n      <td>5.5</td>\n      <td>5.4</td>\n      <td>5.4</td>\n      <td>5.5</td>\n      <td>5.4</td>\n      <td>5.4</td>\n    </tr>\n    <tr>\n      <th>15</th>\n      <td>2005</td>\n      <td>5.3</td>\n      <td>5.4</td>\n      <td>5.2</td>\n      <td>5.2</td>\n      <td>5.1</td>\n      <td>5.0</td>\n      <td>5.0</td>\n      <td>4.9</td>\n      <td>5.0</td>\n      <td>5.0</td>\n      <td>5.0</td>\n      <td>4.9</td>\n    </tr>\n    <tr>\n      <th>16</th>\n      <td>2006</td>\n      <td>4.7</td>\n      <td>4.8</td>\n      <td>4.7</td>\n      <td>4.7</td>\n      <td>4.6</td>\n      <td>4.6</td>\n      <td>4.7</td>\n      <td>4.7</td>\n      <td>4.5</td>\n      <td>4.4</td>\n      <td>4.5</td>\n      <td>4.4</td>\n    </tr>\n    <tr>\n      <th>17</th>\n      <td>2007</td>\n      <td>4.6</td>\n      <td>4.5</td>\n      <td>4.4</td>\n      <td>4.5</td>\n      <td>4.4</td>\n      <td>4.6</td>\n      <td>4.7</td>\n      <td>4.6</td>\n      <td>4.7</td>\n      <td>4.7</td>\n      <td>4.7</td>\n      <td>5.0</td>\n    </tr>\n    <tr>\n      <th>18</th>\n      <td>2008</td>\n      <td>5.0</td>\n      <td>4.9</td>\n      <td>5.1</td>\n      <td>5.0</td>\n      <td>5.4</td>\n      <td>5.6</td>\n      <td>5.8</td>\n      <td>6.1</td>\n      <td>6.1</td>\n      <td>6.5</td>\n      <td>6.8</td>\n      <td>7.3</td>\n    </tr>\n    <tr>\n      <th>19</th>\n      <td>2009</td>\n      <td>7.8</td>\n      <td>8.3</td>\n      <td>8.7</td>\n      <td>9.0</td>\n      <td>9.0</td>\n      <td>9.0</td>\n      <td>9.0</td>\n      <td>9.0</td>\n      <td>9.0</td>\n      <td>9.0</td>\n      <td>9.0</td>\n      <td>9.0</td>\n    </tr>\n    <tr>\n      <th>20</th>\n      <td>2010</td>\n      <td>9.0</td>\n      <td>9.0</td>\n      <td>9.0</td>\n      <td>9.0</td>\n      <td>9.0</td>\n      <td>9.0</td>\n      <td>9.0</td>\n      <td>9.0</td>\n      <td>9.0</td>\n      <td>9.0</td>\n      <td>9.0</td>\n      <td>9.0</td>\n    </tr>\n    <tr>\n      <th>21</th>\n      <td>2011</td>\n      <td>9.1</td>\n      <td>9.0</td>\n      <td>9.0</td>\n      <td>9.1</td>\n      <td>9.0</td>\n      <td>9.1</td>\n      <td>9.0</td>\n      <td>9.0</td>\n      <td>9.0</td>\n      <td>8.8</td>\n      <td>8.6</td>\n      <td>8.5</td>\n    </tr>\n    <tr>\n      <th>22</th>\n      <td>2012</td>\n      <td>8.3</td>\n      <td>8.3</td>\n      <td>8.2</td>\n      <td>8.2</td>\n      <td>8.2</td>\n      <td>8.2</td>\n      <td>8.2</td>\n      <td>8.1</td>\n      <td>7.8</td>\n      <td>7.8</td>\n      <td>7.7</td>\n      <td>7.9</td>\n    </tr>\n    <tr>\n      <th>23</th>\n      <td>2013</td>\n      <td>8.0</td>\n      <td>7.7</td>\n      <td>7.5</td>\n      <td>7.6</td>\n      <td>7.5</td>\n      <td>7.5</td>\n      <td>7.3</td>\n      <td>7.2</td>\n      <td>7.2</td>\n      <td>7.2</td>\n      <td>6.9</td>\n      <td>6.7</td>\n    </tr>\n    <tr>\n      <th>24</th>\n      <td>2014</td>\n      <td>6.6</td>\n      <td>6.7</td>\n      <td>6.7</td>\n      <td>6.2</td>\n      <td>6.3</td>\n      <td>6.1</td>\n      <td>6.2</td>\n      <td>6.1</td>\n      <td>5.9</td>\n      <td>5.7</td>\n      <td>5.8</td>\n      <td>5.6</td>\n    </tr>\n    <tr>\n      <th>25</th>\n      <td>2015</td>\n      <td>5.7</td>\n      <td>5.5</td>\n      <td>5.4</td>\n      <td>5.4</td>\n      <td>5.6</td>\n      <td>5.3</td>\n      <td>5.2</td>\n      <td>5.1</td>\n      <td>5.0</td>\n      <td>5.0</td>\n      <td>5.1</td>\n      <td>5.0</td>\n    </tr>\n    <tr>\n      <th>26</th>\n      <td>2016</td>\n      <td>4.8</td>\n      <td>4.9</td>\n      <td>5.0</td>\n      <td>5.1</td>\n      <td>4.8</td>\n      <td>4.9</td>\n      <td>4.8</td>\n      <td>4.9</td>\n      <td>5.0</td>\n      <td>4.9</td>\n      <td>4.7</td>\n      <td>4.7</td>\n    </tr>\n    <tr>\n      <th>27</th>\n      <td>2017</td>\n      <td>4.7</td>\n      <td>4.6</td>\n      <td>4.4</td>\n      <td>4.5</td>\n      <td>4.4</td>\n      <td>4.3</td>\n      <td>4.3</td>\n      <td>4.4</td>\n      <td>4.2</td>\n      <td>4.1</td>\n      <td>4.2</td>\n      <td>4.1</td>\n    </tr>\n    <tr>\n      <th>28</th>\n      <td>2018</td>\n      <td>4.0</td>\n      <td>4.1</td>\n      <td>4.0</td>\n      <td>4.0</td>\n      <td>3.8</td>\n      <td>4.0</td>\n      <td>3.8</td>\n      <td>3.8</td>\n      <td>3.7</td>\n      <td>3.8</td>\n      <td>3.8</td>\n      <td>3.9</td>\n    </tr>\n    <tr>\n      <th>29</th>\n      <td>2019</td>\n      <td>4.0</td>\n      <td>3.8</td>\n      <td>3.8</td>\n      <td>3.7</td>\n      <td>3.7</td>\n      <td>3.6</td>\n      <td>3.6</td>\n      <td>3.7</td>\n      <td>3.5</td>\n      <td>3.6</td>\n      <td>3.6</td>\n      <td>3.6</td>\n    </tr>\n    <tr>\n      <th>30</th>\n      <td>2020</td>\n      <td>3.5</td>\n      <td>3.5</td>\n      <td>4.4</td>\n      <td>4.4</td>\n      <td>4.4</td>\n      <td>4.4</td>\n      <td>4.4</td>\n      <td>8.4</td>\n      <td>7.8</td>\n      <td>6.9</td>\n      <td>6.7</td>\n      <td>6.7</td>\n    </tr>\n    <tr>\n      <th>31</th>\n      <td>2021</td>\n      <td>6.3</td>\n      <td>6.2</td>\n      <td>6.0</td>\n      <td>6.1</td>\n      <td>5.8</td>\n      <td>5.9</td>\n      <td>5.4</td>\n      <td>5.2</td>\n      <td>4.8</td>\n      <td>4.6</td>\n      <td>4.2</td>\n      <td>4.2</td>\n    </tr>\n  </tbody>\n</table>\n</div>"
     },
     "execution_count": 85,
     "metadata": {},
     "output_type": "execute_result"
    }
   ],
   "source": [
    "bls_unemployment_tops_fwdfilled_df = bls_unemployment_tops_fwdfilled_df.reset_index(drop=True)\n",
    "bls_unemployment_tops_fwdfilled_df\n"
   ],
   "metadata": {
    "collapsed": false,
    "pycharm": {
     "name": "#%%\n"
    }
   }
  },
  {
   "cell_type": "code",
   "execution_count": 86,
   "outputs": [],
   "source": [
    "def return_month_number(month_name):\n",
    "    \"\"\"funciton takes a value from List_Of_Month_Names and converts it to the ordinal value of that value interpreting the value as the month name\"\"\"\n",
    "    for lomn_idx, lomn_val in enumerate(List_Of_Month_Names):\n",
    "        if month_name == lomn_val:\n",
    "            return (lomn_idx + 1)\n",
    "\n",
    "    print(\"Error: Could not find \",month_name,\" in List_Of_Month_Names = \",List_Of_Month_Names)\n"
   ],
   "metadata": {
    "collapsed": false,
    "pycharm": {
     "name": "#%%\n"
    }
   }
  },
  {
   "cell_type": "markdown",
   "source": [
    "Going to plot the two dataframes (the non-fwd-filled and fwd-filled)."
   ],
   "metadata": {
    "collapsed": false
   }
  },
  {
   "cell_type": "code",
   "execution_count": 87,
   "outputs": [],
   "source": [
    "\n",
    "#Unroll the DF into a dictionary of unemp numbers and (Year,Month) tuples\n",
    "# TODO: Make this a function: It's used in a lot of places\n",
    "bls_unemployment_tops_fwdfilled_unrolled_dict = {}\n",
    "\n",
    "bls_unemployment_unrolled_dict = {}\n",
    "\n",
    "for myrow in bls_unemployment_tops_fwdfilled_df.iterrows():\n",
    "    #do this so i can select columns by name (prob other ways to do it)\n",
    "    temp_row = myrow[1]\n",
    "\n",
    "    temp_row_year = temp_row[\"Year\"]\n",
    "\n",
    "    for mymonth in List_Of_Month_Names:\n",
    "        month_number = return_month_number(mymonth)\n",
    "        #always assuming the date of the report is the 1st. I think it's the first Friday of every month.\n",
    "        #TODO: convert date to always be the first friday of that (month,year) tuple\n",
    "        bls_unemployment_tops_fwdfilled_unrolled_dict[datetime.date(year=int(temp_row_year),month=month_number,day=1)] = temp_row[mymonth]\n",
    "\n",
    "\n",
    "\n",
    "#Sort the dictionary by the values (the unemp numbers)\n",
    "bls_unemployment_tops_fwdfilled_unrolled_list = sorted(bls_unemployment_tops_fwdfilled_unrolled_dict.items(), key=lambda x:x[0])\n",
    "bls_unemployment_tops_fwdfilled_unrolled_dict = dict(bls_unemployment_tops_fwdfilled_unrolled_list)\n",
    "\n",
    "\n",
    "\n",
    "for myrow in bls_unemployment_df.iterrows():\n",
    "    #do this so i can select columns by name (prob other ways to do it)\n",
    "    temp_row = myrow[1]\n",
    "\n",
    "    temp_row_year = temp_row[\"Year\"]\n",
    "\n",
    "    for mymonth in List_Of_Month_Names:\n",
    "        month_number = return_month_number(mymonth)\n",
    "        #always assuming the date of the report is the 1st. I think it's the first Friday of every month.\n",
    "        #TODO: convert date to always be the first friday of that (month,year) tuple\n",
    "        #if not(math.isnan(temp_row[mymonth])):\n",
    "        bls_unemployment_unrolled_dict[datetime.date(year=int(temp_row_year),month=month_number,day=1)] = temp_row[mymonth]\n",
    "\n",
    "#Sort the dictionary by the values (the unemp numbers)\n",
    "bls_unemployment_unrolled_list = sorted(bls_unemployment_unrolled_dict.items(), key=lambda x:x[0])\n",
    "bls_unemployment_unrolled_dict = dict(bls_unemployment_unrolled_list)\n"
   ],
   "metadata": {
    "collapsed": false,
    "pycharm": {
     "name": "#%%\n"
    }
   }
  },
  {
   "cell_type": "code",
   "execution_count": 88,
   "outputs": [
    {
     "data": {
      "text/plain": "<Figure size 1440x720 with 1 Axes>",
      "image/png": "[encoded data removed]"
     },
     "metadata": {
      "needs_background": "light"
     },
     "output_type": "display_data"
    }
   ],
   "source": [
    "\n",
    "plt.figure(figsize=(20,10))\n",
    "plt.plot( list(bls_unemployment_tops_fwdfilled_unrolled_dict.keys()),\n",
    "         list(bls_unemployment_tops_fwdfilled_unrolled_dict.values()))\n",
    "plt.plot( list(bls_unemployment_unrolled_dict.keys()),\n",
    "         list(bls_unemployment_unrolled_dict.values()))\n",
    "plt.legend([\"fwd-filled\",\"orig\"]);\n",
    "#plt.show()\n",
    "\n"
   ],
   "metadata": {
    "collapsed": false,
    "pycharm": {
     "name": "#%%\n"
    }
   }
  },
  {
   "cell_type": "markdown",
   "source": [
    "Plot above just compares the original time series (with the top `NUMBER_OF_MAX_UNEMPLOYMENT_MONTHS_TO_REMOVE` values dropped) to this same time series with the dropped values replaced with fwd-filled values. They are pretty close\n",
    "\n",
    "Here's what we get when we plot them against each other\n"
   ],
   "metadata": {
    "collapsed": false,
    "pycharm": {
     "name": "#%% md\n"
    }
   }
  },
  {
   "cell_type": "code",
   "execution_count": 89,
   "outputs": [
    {
     "data": {
      "text/plain": "<Figure size 1440x720 with 1 Axes>",
      "image/png": "[encoded data removed]"
     },
     "metadata": {
      "needs_background": "light"
     },
     "output_type": "display_data"
    }
   ],
   "source": [
    "plt.figure(figsize=(20,10))\n",
    "plt.scatter(list(bls_unemployment_unrolled_dict.values()),list(bls_unemployment_tops_fwdfilled_unrolled_dict.values()),alpha=0.6 )\n",
    "plt.xlabel(\"Orig Unemployment Values\")\n",
    "plt.ylabel(\"Correspodingly Forward-filled Unemployment Values\");"
   ],
   "metadata": {
    "collapsed": false,
    "pycharm": {
     "name": "#%%\n"
    }
   }
  },
  {
   "cell_type": "code",
   "execution_count": 90,
   "outputs": [
    {
     "ename": "SyntaxError",
     "evalue": "invalid syntax (<ipython-input-90-0f2b8d1aeee7>, line 1)",
     "output_type": "error",
     "traceback": [
      "\u001B[0;36m  File \u001B[0;32m\"<ipython-input-90-0f2b8d1aeee7>\"\u001B[0;36m, line \u001B[0;32m1\u001B[0m\n\u001B[0;31m    They coincide pretty well, there is no systematic bias introduced by doing the fwd-fill\u001B[0m\n\u001B[0m         ^\u001B[0m\n\u001B[0;31mSyntaxError\u001B[0m\u001B[0;31m:\u001B[0m invalid syntax\n"
     ]
    }
   ],
   "source": [
    "They coincide pretty well, there is no systematic bias introduced by doing the fwd-fill\n",
    "\n",
    "\n"
   ],
   "metadata": {
    "collapsed": false,
    "pycharm": {
     "name": "#%%\n"
    }
   }
  },
  {
   "cell_type": "code",
   "execution_count": null,
   "outputs": [],
   "source": [],
   "metadata": {
    "collapsed": false,
    "pycharm": {
     "name": "#%%\n"
    }
   }
  }
 ],
 "metadata": {
  "kernelspec": {
   "display_name": "Python 3",
   "language": "python",
   "name": "python3"
  },
  "language_info": {
   "codemirror_mode": {
    "name": "ipython",
    "version": 2
   },
   "file_extension": ".py",
   "mimetype": "text/x-python",
   "name": "python",
   "nbconvert_exporter": "python",
   "pygments_lexer": "ipython2",
   "version": "2.7.6"
  }
 },
 "nbformat": 4,
 "nbformat_minor": 0
}